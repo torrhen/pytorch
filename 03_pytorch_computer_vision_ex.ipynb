{
  "nbformat": 4,
  "nbformat_minor": 0,
  "metadata": {
    "colab": {
      "provenance": [],
      "include_colab_link": true
    },
    "kernelspec": {
      "name": "python3",
      "display_name": "Python 3"
    },
    "language_info": {
      "name": "python"
    },
    "gpuClass": "standard",
    "accelerator": "GPU"
  },
  "cells": [
    {
      "cell_type": "markdown",
      "metadata": {
        "id": "view-in-github",
        "colab_type": "text"
      },
      "source": [
        "<a href=\"https://colab.research.google.com/github/torrhen/pytorch/blob/main/03_pytorch_computer_vision_ex.ipynb\" target=\"_parent\"><img src=\"https://colab.research.google.com/assets/colab-badge.svg\" alt=\"Open In Colab\"/></a>"
      ]
    },
    {
      "cell_type": "markdown",
      "source": [
        "# 03. PyTorch Computer Vision Exercises\n",
        "\n",
        "The following is a collection of exercises based on computer vision fundamentals in PyTorch.\n",
        "\n",
        "They're a bunch of fun.\n",
        "\n",
        "You're going to get to write plenty of code!\n",
        "\n",
        "## Resources\n",
        "\n",
        "1. These exercises are based on [notebook 03 of the Learn PyTorch for Deep Learning course](https://www.learnpytorch.io/03_pytorch_computer_vision/). \n",
        "2. See a live [walkthrough of the solutions (errors and all) on YouTube](https://youtu.be/_PibmqpEyhA). \n",
        "  * **Note:** Going through these exercises took me just over 3 hours of solid coding, so you should expect around the same.\n",
        "3. See [other solutions on the course GitHub](https://github.com/mrdbourke/pytorch-deep-learning/tree/main/extras/solutions)."
      ],
      "metadata": {
        "id": "Vex99np2wFVt"
      }
    },
    {
      "cell_type": "code",
      "source": [
        "# Check for GPU\n",
        "!nvidia-smi"
      ],
      "metadata": {
        "colab": {
          "base_uri": "https://localhost:8080/"
        },
        "id": "GaeYzOTLwWh2",
        "outputId": "d536b722-886a-4337-ab0f-7cc64fc2f1ee"
      },
      "execution_count": 1,
      "outputs": [
        {
          "output_type": "stream",
          "name": "stdout",
          "text": [
            "Thu Dec  8 15:35:56 2022       \n",
            "+-----------------------------------------------------------------------------+\n",
            "| NVIDIA-SMI 460.32.03    Driver Version: 460.32.03    CUDA Version: 11.2     |\n",
            "|-------------------------------+----------------------+----------------------+\n",
            "| GPU  Name        Persistence-M| Bus-Id        Disp.A | Volatile Uncorr. ECC |\n",
            "| Fan  Temp  Perf  Pwr:Usage/Cap|         Memory-Usage | GPU-Util  Compute M. |\n",
            "|                               |                      |               MIG M. |\n",
            "|===============================+======================+======================|\n",
            "|   0  Tesla T4            Off  | 00000000:00:04.0 Off |                    0 |\n",
            "| N/A   49C    P0    28W /  70W |      0MiB / 15109MiB |      0%      Default |\n",
            "|                               |                      |                  N/A |\n",
            "+-------------------------------+----------------------+----------------------+\n",
            "                                                                               \n",
            "+-----------------------------------------------------------------------------+\n",
            "| Processes:                                                                  |\n",
            "|  GPU   GI   CI        PID   Type   Process name                  GPU Memory |\n",
            "|        ID   ID                                                   Usage      |\n",
            "|=============================================================================|\n",
            "|  No running processes found                                                 |\n",
            "+-----------------------------------------------------------------------------+\n"
          ]
        }
      ]
    },
    {
      "cell_type": "code",
      "source": [
        "# Import torch\n",
        "import torch\n",
        "\n",
        "# Exercises require PyTorch > 1.10.0\n",
        "print(torch.__version__)\n",
        "\n",
        "# TODO: Setup device agnostic code\n",
        "device = 'cuda' if torch.cuda.is_available() else 'cpu'"
      ],
      "metadata": {
        "colab": {
          "base_uri": "https://localhost:8080/"
        },
        "id": "DNwZLMbCzJLk",
        "outputId": "3ea19806-22a3-456a-8093-2ebdb10abff9"
      },
      "execution_count": 2,
      "outputs": [
        {
          "output_type": "stream",
          "name": "stdout",
          "text": [
            "1.13.0+cu116\n"
          ]
        }
      ]
    },
    {
      "cell_type": "markdown",
      "source": [
        "## 5. Load the [`torchvision.datasets.MNIST()`](https://pytorch.org/vision/stable/generated/torchvision.datasets.MNIST.html#torchvision.datasets.MNIST) train and test datasets."
      ],
      "metadata": {
        "id": "lvf-3pODxXYI"
      }
    },
    {
      "cell_type": "code",
      "source": [
        "from torchvision.datasets import MNIST\n",
        "from torchvision.transforms import ToTensor\n",
        "\n",
        "# download MNIST training and test data\n",
        "train_data = MNIST(root='data', train=True, download=True, transform=ToTensor(), target_transform=None)\n",
        "test_data = MNIST(root='data', train=False, download=True, transform=ToTensor(), target_transform=None)"
      ],
      "metadata": {
        "id": "SHjeuN81bHza"
      },
      "execution_count": 3,
      "outputs": []
    },
    {
      "cell_type": "markdown",
      "source": [
        "## 6. Visualize at least 5 different samples of the MNIST training dataset."
      ],
      "metadata": {
        "id": "qxZW-uAbxe_F"
      }
    },
    {
      "cell_type": "code",
      "source": [
        "import random\n",
        "import matplotlib.pyplot as plt\n",
        "\n",
        "torch.manual_seed(42)\n",
        "N_SAMPLES = 5\n",
        "# select 5 random indexes from the training data\n",
        "random_idx = random.sample(range(len(train_data)), k=N_SAMPLES)\n",
        "\n",
        "fig = plt.figure(figsize=(15, 3))\n",
        "# plot the image and label from the training data at each random index from the list above\n",
        "for i, rand_idx in enumerate(random_idx):\n",
        "  image, label = train_data[rand_idx][0].squeeze(dim=0), train_data[rand_idx][1]\n",
        "  fig.add_subplot(1, 5, i+1)\n",
        "  plt.imshow(image, cmap='gray')\n",
        "  plt.title(f\"Class: {label}\")\n",
        "  plt.axis(False)\n",
        "\n"
      ],
      "metadata": {
        "id": "QVFsYi1PbItE",
        "colab": {
          "base_uri": "https://localhost:8080/",
          "height": 191
        },
        "outputId": "a015c176-d10e-471c-a52f-3587834dd72c"
      },
      "execution_count": 4,
      "outputs": [
        {
          "output_type": "display_data",
          "data": {
            "text/plain": [
              "<Figure size 1080x216 with 5 Axes>"
            ],
            "image/png": "[encoded data removed]"
          },
          "metadata": {
            "needs_background": "light"
          }
        }
      ]
    },
    {
      "cell_type": "markdown",
      "source": [
        "## 7. Turn the MNIST train and test datasets into dataloaders using `torch.utils.data.DataLoader`, set the `batch_size=32`."
      ],
      "metadata": {
        "id": "JAPDzW0wxhi3"
      }
    },
    {
      "cell_type": "code",
      "source": [
        "from torch.utils.data import DataLoader\n",
        "\n",
        "torch.manual_seed(42)\n",
        "# load training and test data into data loaders, shuffle and divide into batches\n",
        "BATCH_SIZE = 32\n",
        "train_loader = DataLoader(dataset=train_data, shuffle=True, batch_size=BATCH_SIZE)\n",
        "test_loader = DataLoader(dataset=test_data, shuffle=False, batch_size=BATCH_SIZE)\n",
        "\n",
        "print(f\"{len(train_loader)} batches for a total of {len(train_data)} samples in the training data.\")\n",
        "print(f\"{len(test_loader)} batches for a total of {len(test_data)} samples in the test data.\")"
      ],
      "metadata": {
        "id": "ALA6MPcFbJXQ",
        "colab": {
          "base_uri": "https://localhost:8080/"
        },
        "outputId": "2c650829-94bd-4224-a08d-9564fe20f763"
      },
      "execution_count": 5,
      "outputs": [
        {
          "output_type": "stream",
          "name": "stdout",
          "text": [
            "1875 batches for a total of 60000 samples in the training data.\n",
            "313 batches for a total of 10000 samples in the test data.\n"
          ]
        }
      ]
    },
    {
      "cell_type": "markdown",
      "source": [
        "## 8. Recreate `model_2` used in notebook 03 (the same model from the [CNN Explainer website](https://poloclub.github.io/cnn-explainer/), also known as TinyVGG) capable of fitting on the MNIST dataset."
      ],
      "metadata": {
        "id": "bCCVfXk5xjYS"
      }
    },
    {
      "cell_type": "code",
      "source": [
        "from torch import nn\n",
        "\n",
        "class TinyVGG(nn.Module):\n",
        "  def __init__(self):\n",
        "    super().__init__()\n",
        "    self.block1 = nn.Sequential(\n",
        "            nn.Conv2d(in_channels=1, out_channels=10, kernel_size=3, stride=1, padding=1),\n",
        "            nn.ReLU(),\n",
        "            nn.Conv2d(in_channels=10, out_channels=10, kernel_size=3, stride=1, padding=1),\n",
        "            nn.ReLU(),\n",
        "            nn.MaxPool2d(kernel_size=2, stride=2)\n",
        "    )\n",
        "    self.block2 = nn.Sequential(\n",
        "            nn.Conv2d(in_channels=10, out_channels=10, kernel_size=3, stride=1, padding=1),\n",
        "            nn.ReLU(),\n",
        "            nn.Conv2d(in_channels=10, out_channels=10, kernel_size=3, stride=1, padding=1),\n",
        "            nn.ReLU(),\n",
        "            nn.MaxPool2d(kernel_size=2, stride=2)\n",
        "    )\n",
        "    self.fc = nn.Sequential(\n",
        "            nn.Flatten(),\n",
        "            nn.Linear(in_features=10*7*7, out_features=10)\n",
        "    )\n",
        "\n",
        "  def forward(self, x):\n",
        "    return self.fc(self.block2(self.block1(x)))"
      ],
      "metadata": {
        "id": "5IKNF22XbKYS"
      },
      "execution_count": 6,
      "outputs": []
    },
    {
      "cell_type": "code",
      "source": [
        "model2 = TinyVGG().to(device)"
      ],
      "metadata": {
        "id": "o69Pt3cLJeY7"
      },
      "execution_count": 7,
      "outputs": []
    },
    {
      "cell_type": "code",
      "source": [
        "!pip install torchinfo\n",
        "\n",
        "from torchinfo import summary\n",
        "\n",
        "summary(model2, (1, 1, 28, 28))"
      ],
      "metadata": {
        "colab": {
          "base_uri": "https://localhost:8080/"
        },
        "id": "Qpv_w1QALCVc",
        "outputId": "f382304f-5eba-4b9c-e132-c299984b12a9"
      },
      "execution_count": 8,
      "outputs": [
        {
          "output_type": "stream",
          "name": "stdout",
          "text": [
            "Looking in indexes: https://pypi.org/simple, https://us-python.pkg.dev/colab-wheels/public/simple/\n",
            "Requirement already satisfied: torchinfo in /usr/local/lib/python3.8/dist-packages (1.7.1)\n"
          ]
        },
        {
          "output_type": "execute_result",
          "data": {
            "text/plain": [
              "==========================================================================================\n",
              "Layer (type:depth-idx)                   Output Shape              Param #\n",
              "==========================================================================================\n",
              "TinyVGG                                  [1, 10]                   --\n",
              "├─Sequential: 1-1                        [1, 10, 14, 14]           --\n",
              "│    └─Conv2d: 2-1                       [1, 10, 28, 28]           100\n",
              "│    └─ReLU: 2-2                         [1, 10, 28, 28]           --\n",
              "│    └─Conv2d: 2-3                       [1, 10, 28, 28]           910\n",
              "│    └─ReLU: 2-4                         [1, 10, 28, 28]           --\n",
              "│    └─MaxPool2d: 2-5                    [1, 10, 14, 14]           --\n",
              "├─Sequential: 1-2                        [1, 10, 7, 7]             --\n",
              "│    └─Conv2d: 2-6                       [1, 10, 14, 14]           910\n",
              "│    └─ReLU: 2-7                         [1, 10, 14, 14]           --\n",
              "│    └─Conv2d: 2-8                       [1, 10, 14, 14]           910\n",
              "│    └─ReLU: 2-9                         [1, 10, 14, 14]           --\n",
              "│    └─MaxPool2d: 2-10                   [1, 10, 7, 7]             --\n",
              "├─Sequential: 1-3                        [1, 10]                   --\n",
              "│    └─Flatten: 2-11                     [1, 490]                  --\n",
              "│    └─Linear: 2-12                      [1, 10]                   4,910\n",
              "==========================================================================================\n",
              "Total params: 7,740\n",
              "Trainable params: 7,740\n",
              "Non-trainable params: 0\n",
              "Total mult-adds (M): 1.15\n",
              "==========================================================================================\n",
              "Input size (MB): 0.00\n",
              "Forward/backward pass size (MB): 0.16\n",
              "Params size (MB): 0.03\n",
              "Estimated Total Size (MB): 0.19\n",
              "=========================================================================================="
            ]
          },
          "metadata": {},
          "execution_count": 8
        }
      ]
    },
    {
      "cell_type": "markdown",
      "source": [
        "## 9. Train the model you built in exercise 8. for 5 epochs on CPU and GPU and see how long it takes on each."
      ],
      "metadata": {
        "id": "sf_3zUr7xlhy"
      }
    },
    {
      "cell_type": "code",
      "source": [
        "# set up loss function\n",
        "loss_fn = nn.CrossEntropyLoss()\n",
        "\n",
        "# set up accuracy metric\n",
        "!pip install torchmetrics\n",
        "from torchmetrics import Accuracy\n",
        "accuracy_fn = Accuracy(task='multiclass', num_classes=10).to(device)\n",
        "\n",
        "# set up optimizer\n",
        "optimizer = torch.optim.Adam(params=model2.parameters(), lr=0.0001)"
      ],
      "metadata": {
        "colab": {
          "base_uri": "https://localhost:8080/"
        },
        "id": "7a3w_eB9Ni9X",
        "outputId": "116c91c3-6863-4af9-e3da-3aae9c7cf452"
      },
      "execution_count": 9,
      "outputs": [
        {
          "output_type": "stream",
          "name": "stdout",
          "text": [
            "Looking in indexes: https://pypi.org/simple, https://us-python.pkg.dev/colab-wheels/public/simple/\n",
            "Requirement already satisfied: torchmetrics in /usr/local/lib/python3.8/dist-packages (0.11.0)\n",
            "Requirement already satisfied: typing-extensions in /usr/local/lib/python3.8/dist-packages (from torchmetrics) (4.4.0)\n",
            "Requirement already satisfied: torch>=1.8.1 in /usr/local/lib/python3.8/dist-packages (from torchmetrics) (1.13.0+cu116)\n",
            "Requirement already satisfied: packaging in /usr/local/lib/python3.8/dist-packages (from torchmetrics) (21.3)\n",
            "Requirement already satisfied: numpy>=1.17.2 in /usr/local/lib/python3.8/dist-packages (from torchmetrics) (1.21.6)\n",
            "Requirement already satisfied: pyparsing!=3.0.5,>=2.0.2 in /usr/local/lib/python3.8/dist-packages (from packaging->torchmetrics) (3.0.9)\n"
          ]
        }
      ]
    },
    {
      "cell_type": "code",
      "source": [
        "def train_step(model: nn.Module, dataloader: DataLoader, loss_func: nn.Module, optimizer: torch.optim.Optimizer, device: torch.device = device):\n",
        "\n",
        "  train_loss = 0.0\n",
        "  train_acc = 0.0\n",
        "\n",
        "  model.train()\n",
        "\n",
        "  for batch, (X, y) in enumerate(dataloader):\n",
        "    X, y = X.to(device), y.to(device)\n",
        "\n",
        "    # forward pass\n",
        "    logits = model(X)\n",
        "\n",
        "    # calculate loss\n",
        "    loss = loss_func(logits, y)\n",
        "    train_loss += loss\n",
        "\n",
        "    # calculate accuracy\n",
        "    labels = torch.argmax(torch.softmax(logits, dim=1), dim=1)\n",
        "    acc = accuracy_fn(labels, y)\n",
        "    train_acc += acc\n",
        "\n",
        "    # zero grad\n",
        "    optimizer.zero_grad()\n",
        "\n",
        "    # back propagation\n",
        "    loss.backward()\n",
        "\n",
        "    # gradient descent\n",
        "    optimizer.step()\n",
        "\n",
        "  train_loss /= len(dataloader)\n",
        "  train_acc /= len(dataloader)\n",
        "\n",
        "  return train_loss, train_acc\n",
        "    "
      ],
      "metadata": {
        "id": "jSo6vVWFbNLD"
      },
      "execution_count": 10,
      "outputs": []
    },
    {
      "cell_type": "code",
      "source": [
        "def test_step(model: nn.Module, dataloader: DataLoader, loss_func: torch.nn, device: torch.device = device):\n",
        "  test_loss = 0.0\n",
        "  test_acc = 0.0\n",
        "\n",
        "  model.eval()\n",
        "  with torch.inference_mode():\n",
        "    for batch, (X, y) in enumerate(dataloader):\n",
        "      X, y = X.to(device), y.to(device)\n",
        "\n",
        "      # prediction\n",
        "      logits = model(X)\n",
        "\n",
        "      # calculate and store loss\n",
        "      loss = loss_func(logits, y)\n",
        "      test_loss += loss\n",
        "\n",
        "      # calculate and store accuracy\n",
        "      labels = torch.argmax(torch.softmax(logits, dim=1), dim=1)\n",
        "      acc = accuracy_fn(labels, y)\n",
        "      test_acc += acc\n",
        "\n",
        "    test_loss /= len(dataloader)\n",
        "    test_acc /= len(dataloader)\n",
        "\n",
        "  return test_loss, test_acc"
      ],
      "metadata": {
        "id": "XtkvicqXPX3C"
      },
      "execution_count": 11,
      "outputs": []
    },
    {
      "cell_type": "code",
      "source": [
        "N_EPOCHS = 5\n",
        "\n",
        "def train(model: nn.Module, train_loader: DataLoader, test_loader: DataLoader, loss_func: nn.Module, optimizer: torch.optim.Optimizer, device: torch.device = device):\n",
        "  results = {\n",
        "      'train_loss':[],\n",
        "      'train_acc':[],\n",
        "      'test_loss':[],\n",
        "      'test_acc':[]\n",
        "  }\n",
        "\n",
        "  for epoch in range(N_EPOCHS):\n",
        "    train_loss, train_acc = train_step(model, train_loader, loss_func, optimizer, device)\n",
        "    test_loss, test_acc = test_step(model, test_loader, loss_func, device)\n",
        "\n",
        "    results['train_loss'].append(train_loss)\n",
        "    results['train_acc'].append(train_acc)\n",
        "    results['test_loss'].append(test_loss)\n",
        "    results['test_acc'].append(test_acc)\n",
        "\n",
        "    print(f\"Epoch: {epoch+1} | Train Loss: {train_loss:.5f} | Train Acc: {train_acc:.2f}% | Test Loss: {test_loss:.5f} | Test Acc: {test_acc:.2f}%\")\n"
      ],
      "metadata": {
        "id": "BwHrARm_Q2jn"
      },
      "execution_count": 12,
      "outputs": []
    },
    {
      "cell_type": "code",
      "source": [
        "model2_results = train(model2, train_loader, test_loader, loss_fn, optimizer, device)"
      ],
      "metadata": {
        "colab": {
          "base_uri": "https://localhost:8080/"
        },
        "id": "KBVKU1yvSejX",
        "outputId": "3d289278-ab9a-433c-d95c-4893a8d02682"
      },
      "execution_count": 13,
      "outputs": [
        {
          "output_type": "stream",
          "name": "stdout",
          "text": [
            "Epoch: 1 | Train Loss: 0.66619 | Train Acc: 0.78% | Test Loss: 0.28301 | Test Acc: 0.92%\n",
            "Epoch: 2 | Train Loss: 0.23677 | Train Acc: 0.93% | Test Loss: 0.17478 | Test Acc: 0.95%\n",
            "Epoch: 3 | Train Loss: 0.16729 | Train Acc: 0.95% | Test Loss: 0.12884 | Test Acc: 0.96%\n",
            "Epoch: 4 | Train Loss: 0.13208 | Train Acc: 0.96% | Test Loss: 0.10455 | Test Acc: 0.97%\n",
            "Epoch: 5 | Train Loss: 0.11260 | Train Acc: 0.97% | Test Loss: 0.10353 | Test Acc: 0.97%\n"
          ]
        }
      ]
    },
    {
      "cell_type": "markdown",
      "source": [
        "## 10. Make predictions using your trained model and visualize at least 5 of them comparing the prediciton to the target label."
      ],
      "metadata": {
        "id": "w1CsHhPpxp1w"
      }
    },
    {
      "cell_type": "code",
      "source": [
        "def make_predictions(model: torch.nn.Module, data: list, device: torch.device = device):\n",
        "  # store the probabilities of labels for each sample in the list\n",
        "  probabilities = []\n",
        "\n",
        "  model.eval()\n",
        "  with torch.inference_mode():\n",
        "    for sample in data:\n",
        "      # add a single batch dimension to the data and allocate the chosen device\n",
        "      sample = torch.unsqueeze(sample, dim=0).to(device)\n",
        "      # pred logits\n",
        "      preds = model(sample)\n",
        "      # calculate probability distribution over classes\n",
        "      probs = torch.softmax(preds.squeeze(), dim=0)\n",
        "      # store the distribution\n",
        "      probabilities.append(probs.cpu())\n",
        "\n",
        "  return torch.stack(probabilities) # stack all distributions into single tensor\n"
      ],
      "metadata": {
        "id": "ay3fRhmSc1PI"
      },
      "execution_count": 14,
      "outputs": []
    },
    {
      "cell_type": "code",
      "source": [
        "test_samples = []\n",
        "test_labels = []\n",
        "# select 5 random image-labels pairs from the test data\n",
        "for sample, label in random.sample(list(test_data), k=N_SAMPLES):\n",
        "  test_samples.append(sample)\n",
        "  test_labels.append(label)"
      ],
      "metadata": {
        "id": "oXIsUYcthFR3"
      },
      "execution_count": 15,
      "outputs": []
    },
    {
      "cell_type": "code",
      "source": [
        "# calculate probabilites for all 5 random samples\n",
        "pred_probabilities = make_predictions(model2, test_samples, device)\n",
        "print(pred_probabilities)"
      ],
      "metadata": {
        "id": "ev7NJhgxhaWm",
        "colab": {
          "base_uri": "https://localhost:8080/"
        },
        "outputId": "0206600d-3d6a-4671-f28a-d88dd07fd2d4"
      },
      "execution_count": 16,
      "outputs": [
        {
          "output_type": "stream",
          "name": "stdout",
          "text": [
            "tensor([[6.5804e-09, 6.1747e-07, 1.7235e-07, 4.1471e-06, 9.9685e-01, 1.4136e-06,\n",
            "         8.6060e-09, 1.8199e-05, 1.6849e-05, 3.1039e-03],\n",
            "        [9.8051e-01, 3.5870e-07, 2.7891e-04, 1.6267e-04, 3.2012e-06, 1.8092e-03,\n",
            "         1.0902e-04, 1.0853e-04, 1.5436e-03, 1.5470e-02],\n",
            "        [7.7517e-05, 2.7062e-02, 7.9329e-01, 1.7934e-01, 5.9451e-10, 3.7402e-06,\n",
            "         3.7809e-06, 1.4932e-06, 2.1715e-04, 3.2648e-10],\n",
            "        [3.6831e-04, 2.0537e-02, 9.7705e-01, 2.0416e-03, 5.8542e-07, 1.3695e-06,\n",
            "         1.6131e-06, 3.6596e-08, 2.1139e-06, 1.4175e-10],\n",
            "        [2.8509e-12, 1.2376e-03, 3.5628e-04, 1.6278e-04, 2.9701e-08, 2.5482e-07,\n",
            "         3.5117e-15, 9.9809e-01, 2.3909e-06, 1.4698e-04]])\n"
          ]
        }
      ]
    },
    {
      "cell_type": "code",
      "source": [
        "# create a list of indexes with the highest probability from each distribution\n",
        "pred_classes = pred_probabilities.argmax(dim=1)\n",
        "print(pred_classes)"
      ],
      "metadata": {
        "id": "k_dcSKjZhq-B",
        "colab": {
          "base_uri": "https://localhost:8080/"
        },
        "outputId": "4002ac69-fe1f-4ce9-861d-38d17d74cf9a"
      },
      "execution_count": 17,
      "outputs": [
        {
          "output_type": "stream",
          "name": "stdout",
          "text": [
            "tensor([4, 0, 2, 2, 7])\n"
          ]
        }
      ]
    },
    {
      "cell_type": "code",
      "source": [
        "torch.manual_seed(42)\n",
        "\n",
        "N_SAMPLES = 5\n",
        "\n",
        "# set up figure\n",
        "nrows = 1\n",
        "ncols = 5\n",
        "plt.figure(figsize=(20, 3))\n",
        "\n",
        "for i, sample in enumerate(test_samples):\n",
        "  # add subplot\n",
        "  plt.subplot(nrows, ncols, i+1)\n",
        "  # display test sample image\n",
        "  plt.imshow(sample.squeeze(), cmap='gray')\n",
        "\n",
        "  # convert class labels to strings\n",
        "  pred_label_str = test_data.classes[pred_classes[i]]\n",
        "  true_label_str = test_data.classes[test_labels[i]]\n",
        "\n",
        "  subplot_title = f\"Pred label: {pred_label_str} | True label: {true_label_str}\"\n",
        "\n",
        "  if pred_label_str == true_label_str:\n",
        "    plt.title(subplot_title, fontsize=10, c='g')\n",
        "  else:\n",
        "    plt.title(subplot_title, fontsize=10, c='r')\n",
        "  plt.axis(False)"
      ],
      "metadata": {
        "id": "_YGgZvSobNxu",
        "colab": {
          "base_uri": "https://localhost:8080/",
          "height": 159
        },
        "outputId": "023e3d77-9b10-4144-b157-7bbbcca26022"
      },
      "execution_count": 18,
      "outputs": [
        {
          "output_type": "display_data",
          "data": {
            "text/plain": [
              "<Figure size 1440x216 with 5 Axes>"
            ],
            "image/png": "[encoded data removed]"
          },
          "metadata": {
            "needs_background": "light"
          }
        }
      ]
    },
    {
      "cell_type": "markdown",
      "source": [
        "## 11. Plot a confusion matrix comparing your model's predictions to the truth labels."
      ],
      "metadata": {
        "id": "qQwzqlBWxrpG"
      }
    },
    {
      "cell_type": "code",
      "source": [
        "# create predictions using the entire test data using model 2\n",
        "predictions = [] # store predictions\n",
        "\n",
        "model2.eval()\n",
        "with torch.inference_mode():\n",
        "  for X, y in test_loader:\n",
        "    # allocate to device\n",
        "    X, y = X.to(device), y.to(device)\n",
        "    # calculate logits\n",
        "    y_logits = model2(X)\n",
        "    # calculate int labels\n",
        "    y_labels = torch.argmax(torch.softmax(y_logits, dim=1), dim=1)\n",
        "\n",
        "    predictions.append(y_labels.cpu())\n",
        "    \n",
        "# create tensor using list of predictions\n",
        "y_predictions = torch.cat(predictions)"
      ],
      "metadata": {
        "id": "1HWDtSw6TNkZ"
      },
      "execution_count": 19,
      "outputs": []
    },
    {
      "cell_type": "code",
      "source": [
        "# import torchmetrics and mlxtend\n",
        "try:\n",
        "  import torchmetrics, mlxtend\n",
        "  print(f\"mlxtend version: {mlxtend.__version__}\")\n",
        "  # check version is 19 or higher\n",
        "  assert int(mlxtend.__version__.split('.')[1]) >= 19\n",
        "except:\n",
        "  !pip install torchmetrics -U mlxtend # rutime restart required\n",
        "  import torchmetrics, mlxtend\n",
        "  print(f\"mlxtend version: {mlxtend.__version__}\")\n"
      ],
      "metadata": {
        "id": "vSrXiT_AbQ6e",
        "colab": {
          "base_uri": "https://localhost:8080/"
        },
        "outputId": "5943308a-3b8f-4462-9179-778c6315dc59"
      },
      "execution_count": 20,
      "outputs": [
        {
          "output_type": "stream",
          "name": "stdout",
          "text": [
            "mlxtend version: 0.21.0\n"
          ]
        }
      ]
    },
    {
      "cell_type": "code",
      "source": [
        "from torchmetrics import ConfusionMatrix\n",
        "from mlxtend.plotting import plot_confusion_matrix\n",
        "\n",
        "# set up confusion matrix\n",
        "confusion_matrix = ConfusionMatrix(num_classes=len(test_data.classes), task='multiclass')\n",
        "\n",
        "# create confusion matrix tensor\n",
        "confusion_matrix_tensor = confusion_matrix(preds=y_predictions, target=test_data.targets)\n",
        "\n",
        "# plot confusion matrix\n",
        "plot_confusion_matrix(confusion_matrix_tensor.numpy(), class_names=test_data.classes, figsize=(9,9))"
      ],
      "metadata": {
        "colab": {
          "base_uri": "https://localhost:8080/",
          "height": 616
        },
        "id": "CMOsMvCVRKwW",
        "outputId": "696486d2-cd81-45b7-eaed-577df2e332a0"
      },
      "execution_count": 21,
      "outputs": [
        {
          "output_type": "execute_result",
          "data": {
            "text/plain": [
              "(<Figure size 648x648 with 1 Axes>,\n",
              " <matplotlib.axes._subplots.AxesSubplot at 0x7f8628e3a0a0>)"
            ]
          },
          "metadata": {},
          "execution_count": 21
        },
        {
          "output_type": "display_data",
          "data": {
            "text/plain": [
              "<Figure size 648x648 with 1 Axes>"
            ],
            "image/png": "[encoded data removed]"
          },
          "metadata": {
            "needs_background": "light"
          }
        }
      ]
    },
    {
      "cell_type": "markdown",
      "source": [
        "The confusionmatrix shows the model has good performance and generalizes well to the unseen test data.\n",
        "\n",
        "The high numbers in the diagonal of the matrix show that the model correctly predicts the true label for the majority of images.\n",
        "\n",
        "The model could be improved, as it still struggles to differentiate between 4s and 9s, 5s and 3s as well as 7s and 9s."
      ],
      "metadata": {
        "id": "d_ljo2HGYp9H"
      }
    },
    {
      "cell_type": "markdown",
      "source": [
        "## 12. Create a random tensor of shape `[1, 3, 64, 64]` and pass it through a `nn.Conv2d()` layer with various hyperparameter settings (these can be any settings you choose), what do you notice if the `kernel_size` parameter goes up and down?"
      ],
      "metadata": {
        "id": "lj6bDhoWxt2y"
      }
    },
    {
      "cell_type": "code",
      "source": [
        "import torch\n",
        "\n",
        "X = torch.randn(1, 3, 64, 64)\n",
        "print(f\"Original shape: {X.shape}\")\n",
        "\n",
        "# convolution layers using increasing sized kernels\n",
        "conv_kernel_3 = nn.Conv2d(in_channels=3, out_channels=3, kernel_size=3, stride=1, padding=1)\n",
        "conv_kernel_5 = nn.Conv2d(in_channels=3, out_channels=3, kernel_size=5, stride=1, padding=1)\n",
        "conv_kernel_7 = nn.Conv2d(in_channels=3, out_channels=3, kernel_size=7, stride=1, padding=1)\n",
        "\n",
        "print(f\"3x3 kernel output shape: {conv_kernel_3(X).shape}\")\n",
        "print(f\"5x5 kernel output shape: {conv_kernel_5(X).shape}\")\n",
        "print(f\"7x7 kernel output shape: {conv_kernel_7(X).shape}\")"
      ],
      "metadata": {
        "id": "leCTsqtSbR5P",
        "colab": {
          "base_uri": "https://localhost:8080/"
        },
        "outputId": "18243891-48a4-4de7-8945-7caa8254649e"
      },
      "execution_count": 22,
      "outputs": [
        {
          "output_type": "stream",
          "name": "stdout",
          "text": [
            "Original shape: torch.Size([1, 3, 64, 64])\n",
            "3x3 kernel output shape: torch.Size([1, 3, 64, 64])\n",
            "5x5 kernel output shape: torch.Size([1, 3, 62, 62])\n",
            "7x7 kernel output shape: torch.Size([1, 3, 60, 60])\n"
          ]
        }
      ]
    },
    {
      "cell_type": "markdown",
      "source": [
        "As the kernel size increases, the output of the convolution becomes smaller. As the kernel size decreasess"
      ],
      "metadata": {
        "id": "W7qjFQpoaD0E"
      }
    },
    {
      "cell_type": "markdown",
      "source": [
        "## 13. Use a model similar to the trained `model_2` from notebook 03 to make predictions on the test [`torchvision.datasets.FashionMNIST`](https://pytorch.org/vision/main/generated/torchvision.datasets.FashionMNIST.html) dataset. \n",
        "* Then plot some predictions where the model was wrong alongside what the label of the image should've been. \n",
        "* After visualing these predictions do you think it's more of a modelling error or a data error? \n",
        "* As in, could the model do better or are the labels of the data too close to each other (e.g. a \"Shirt\" label is too close to \"T-shirt/top\")?"
      ],
      "metadata": {
        "id": "VHS20cNTxwSi"
      }
    },
    {
      "cell_type": "code",
      "source": [],
      "metadata": {
        "id": "78a8LjtdbSZj"
      },
      "execution_count": 22,
      "outputs": []
    }
  ]
}