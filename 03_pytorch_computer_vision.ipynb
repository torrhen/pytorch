{
  "nbformat": 4,
  "nbformat_minor": 0,
  "metadata": {
    "colab": {
      "provenance": [],
      "authorship_tag": "ABX9TyM7pF1p9mKzIsNsKV25dl2m",
      "include_colab_link": true
    },
    "kernelspec": {
      "name": "python3",
      "display_name": "Python 3"
    },
    "language_info": {
      "name": "python"
    },
    "gpuClass": "standard",
    "accelerator": "GPU"
  },
  "cells": [
    {
      "cell_type": "markdown",
      "metadata": {
        "id": "view-in-github",
        "colab_type": "text"
      },
      "source": [
        "<a href=\"https://colab.research.google.com/github/torrhen/pytorch/blob/main/03_pytorch_computer_vision.ipynb\" target=\"_parent\"><img src=\"https://colab.research.google.com/assets/colab-badge.svg\" alt=\"Open In Colab\"/></a>"
      ]
    },
    {
      "cell_type": "code",
      "execution_count": 1,
      "metadata": {
        "colab": {
          "base_uri": "https://localhost:8080/"
        },
        "id": "lV1bLVzwIxPH",
        "outputId": "58632f80-7c5e-47a2-da15-84dc47160695"
      },
      "outputs": [
        {
          "output_type": "stream",
          "name": "stdout",
          "text": [
            "pytorch version: 1.12.1+cu113\n"
          ]
        }
      ],
      "source": [
        "# import pytorch\n",
        "import torch\n",
        "from torch import nn\n",
        "print(f\"pytorch version: {torch.__version__}\")"
      ]
    },
    {
      "cell_type": "code",
      "source": [
        "# first model is trained on the cpu\n",
        "device = 'cuda' if torch.cuda.is_available() else 'cpu'"
      ],
      "metadata": {
        "id": "sGf6oou-Xy16"
      },
      "execution_count": 2,
      "outputs": []
    },
    {
      "cell_type": "code",
      "source": [
        "# import torchvision\n",
        "import torchvision\n",
        "from torchvision import datasets\n",
        "from torchvision.transforms import ToTensor\n",
        "print(f\"torchvision version: {torchvision.__version__}\") "
      ],
      "metadata": {
        "colab": {
          "base_uri": "https://localhost:8080/"
        },
        "id": "gEmi6mNQJHAl",
        "outputId": "f3451c34-2033-4afd-fdf1-3439b42b264b"
      },
      "execution_count": 3,
      "outputs": [
        {
          "output_type": "stream",
          "name": "stdout",
          "text": [
            "torchvision version: 0.13.1+cu113\n"
          ]
        }
      ]
    },
    {
      "cell_type": "code",
      "source": [
        "# install torchmetrics from evaluating models\n",
        "!pip install torchmetrics\n",
        "from torchmetrics import Accuracy"
      ],
      "metadata": {
        "colab": {
          "base_uri": "https://localhost:8080/"
        },
        "id": "voYiaPcAFL-D",
        "outputId": "8cc34c1a-bee8-4625-ae3f-f0b16150e5a8"
      },
      "execution_count": 4,
      "outputs": [
        {
          "output_type": "stream",
          "name": "stdout",
          "text": [
            "Looking in indexes: https://pypi.org/simple, https://us-python.pkg.dev/colab-wheels/public/simple/\n",
            "Requirement already satisfied: torchmetrics in /usr/local/lib/python3.7/dist-packages (0.10.3)\n",
            "Requirement already satisfied: packaging in /usr/local/lib/python3.7/dist-packages (from torchmetrics) (21.3)\n",
            "Requirement already satisfied: numpy>=1.17.2 in /usr/local/lib/python3.7/dist-packages (from torchmetrics) (1.21.6)\n",
            "Requirement already satisfied: torch>=1.3.1 in /usr/local/lib/python3.7/dist-packages (from torchmetrics) (1.12.1+cu113)\n",
            "Requirement already satisfied: typing-extensions in /usr/local/lib/python3.7/dist-packages (from torchmetrics) (4.1.1)\n",
            "Requirement already satisfied: pyparsing!=3.0.5,>=2.0.2 in /usr/local/lib/python3.7/dist-packages (from packaging->torchmetrics) (3.0.9)\n"
          ]
        }
      ]
    },
    {
      "cell_type": "code",
      "source": [
        "# import matplotlib\n",
        "import matplotlib.pyplot as plt"
      ],
      "metadata": {
        "id": "WQMFAuUDJkXN"
      },
      "execution_count": 5,
      "outputs": []
    },
    {
      "cell_type": "code",
      "source": [
        "# import fashion MNIST training data\n",
        "train_data = datasets.FashionMNIST(root='data', train=True, download=True, transform=ToTensor(), target_transform=None)\n",
        "test_data = datasets.FashionMNIST(root='data', train=False, download=True, transform=ToTensor(), target_transform=None)"
      ],
      "metadata": {
        "id": "JXnA7iN0J_uY"
      },
      "execution_count": 6,
      "outputs": []
    },
    {
      "cell_type": "code",
      "source": [
        "# dataset information\n",
        "print(f\"Number of training instances: {len(train_data.data)}\")\n",
        "print(f\"Number of training targets: {len(train_data.targets)}\")\n",
        "print(f\"Number of test instances: {len(test_data.data)}\")\n",
        "print(f\"Number of test targets: {len(test_data.targets)}\")\n",
        "print(f\"Number of classes: {len(train_data.classes)}\")\n",
        "print(train_data.classes)"
      ],
      "metadata": {
        "colab": {
          "base_uri": "https://localhost:8080/"
        },
        "id": "cVZX-XRCK0mI",
        "outputId": "8f371d1d-eacb-4b38-8929-ae05d711c1a4"
      },
      "execution_count": 7,
      "outputs": [
        {
          "output_type": "stream",
          "name": "stdout",
          "text": [
            "Number of training instances: 60000\n",
            "Number of training targets: 60000\n",
            "Number of test instances: 10000\n",
            "Number of test targets: 10000\n",
            "Number of classes: 10\n",
            "['T-shirt/top', 'Trouser', 'Pullover', 'Dress', 'Coat', 'Sandal', 'Shirt', 'Sneaker', 'Bag', 'Ankle boot']\n"
          ]
        }
      ]
    },
    {
      "cell_type": "code",
      "source": [
        "# display 12 random images from the training set\n",
        "torch.manual_seed(42)\n",
        "fig = plt.figure(figsize=(9, 9))\n",
        "rows, cols = 4, 4\n",
        "for i in range(1, rows * cols + 1):\n",
        "  # create a random scalar tensor index\n",
        "  random_idx = torch.randint(0, len(train_data), size=[1]).item() # item() to convert integer tensor to scalar\n",
        "  image, label = train_data[random_idx] # choose random data pair from data set\n",
        "  fig.add_subplot(rows, cols, i) # subplots are non-zero indexed\n",
        "  plt.imshow(image.squeeze(), cmap='gray')\n",
        "  plt.title(train_data.classes[label])\n",
        "  plt.axis(False)"
      ],
      "metadata": {
        "colab": {
          "base_uri": "https://localhost:8080/",
          "height": 536
        },
        "id": "ZwtcowcBPq6E",
        "outputId": "9809cf5a-e505-436e-d6af-cfffc4613251"
      },
      "execution_count": 8,
      "outputs": [
        {
          "output_type": "display_data",
          "data": {
            "text/plain": [
              "<Figure size 648x648 with 16 Axes>"
            ],
            "image/png": "[encoded data removed]"
          },
          "metadata": {
            "needs_background": "light"
          }
        }
      ]
    },
    {
      "cell_type": "code",
      "source": [
        "from torch.utils.data import DataLoader\n",
        "\n",
        "BATCH_SIZE = 32\n",
        "\n",
        "# divide the data sets into batches stored in data loaders\n",
        "train_loader = DataLoader(train_data, shuffle=True, batch_size=BATCH_SIZE)\n",
        "test_loader = DataLoader(test_data, shuffle=False, batch_size=BATCH_SIZE)\n",
        "\n",
        "print(f\"Number of batches for training data: {len(train_loader)}\") # 32 * 1875 = 60000\n",
        "print(f\"Number of batches for test data: {len(test_loader)}\")\n"
      ],
      "metadata": {
        "colab": {
          "base_uri": "https://localhost:8080/"
        },
        "id": "RmkFdJsqUVWk",
        "outputId": "784f2f56-5079-4966-d251-edfee7115c0e"
      },
      "execution_count": 9,
      "outputs": [
        {
          "output_type": "stream",
          "name": "stdout",
          "text": [
            "Number of batches for training data: 1875\n",
            "Number of batches for test data: 313\n"
          ]
        }
      ]
    },
    {
      "cell_type": "code",
      "source": [
        "# get next training batch from data loader\n",
        "train_image_batch, train_label_batch = next(iter(train_loader))\n",
        "print(f\"training image batch size: {train_image_batch.shape}\")\n",
        "print(f\"training label batch size: {train_label_batch.shape}\")"
      ],
      "metadata": {
        "colab": {
          "base_uri": "https://localhost:8080/"
        },
        "id": "pZECsZotVCYP",
        "outputId": "b09f2d9e-4857-4da9-f53c-c6d1742285eb"
      },
      "execution_count": 10,
      "outputs": [
        {
          "output_type": "stream",
          "name": "stdout",
          "text": [
            "training image batch size: torch.Size([32, 1, 28, 28])\n",
            "training label batch size: torch.Size([32])\n"
          ]
        }
      ]
    },
    {
      "cell_type": "code",
      "source": [
        "# display 12 random images from the first training set batch of the data loader\n",
        "torch.manual_seed(42)\n",
        "fig = plt.figure(figsize=(9, 9))\n",
        "rows, cols = 4, 4\n",
        "for i in range(1, rows * cols + 1):\n",
        "  # create a random scalar tensor index\n",
        "  random_idx = torch.randint(0, len(train_image_batch), size=[1]).item()\n",
        "  image, label = train_image_batch[random_idx], train_label_batch[random_idx]\n",
        "  fig.add_subplot(rows, cols, i)\n",
        "  plt.imshow(image.squeeze(), cmap='gray')\n",
        "  plt.title(train_data.classes[label])\n",
        "  plt.axis(False)"
      ],
      "metadata": {
        "colab": {
          "base_uri": "https://localhost:8080/",
          "height": 536
        },
        "id": "wUEw3e2MVrVp",
        "outputId": "c6dca892-93d7-4438-a94c-e0694a4f1df9"
      },
      "execution_count": 11,
      "outputs": [
        {
          "output_type": "display_data",
          "data": {
            "text/plain": [
              "<Figure size 648x648 with 16 Axes>"
            ],
            "image/png": "[encoded data removed]"
          },
          "metadata": {
            "needs_background": "light"
          }
        }
      ]
    },
    {
      "cell_type": "code",
      "source": [
        "# simple linear model\n",
        "class SimpleLinearModel(nn.Module):\n",
        "  def __init__(self):\n",
        "    super().__init__()\n",
        "    self.layer1 = nn.Flatten()\n",
        "    self.layer2 = nn.Linear(in_features=784, out_features=10)\n",
        "    self.layer3 = nn.Linear(in_features=10, out_features=10)\n",
        "\n",
        "  def forward(self, x):\n",
        "    return self.layer3(self.layer2(self.layer1(x)))\n",
        "\n",
        "# instantiate model\n",
        "torch.manual_seed(42)\n",
        "model_1 = SimpleLinearModel().to(device)"
      ],
      "metadata": {
        "id": "28PUXu8oXCvn"
      },
      "execution_count": 12,
      "outputs": []
    },
    {
      "cell_type": "code",
      "source": [
        "# set up loss\n",
        "loss_func = nn.CrossEntropyLoss()\n",
        "# set up optimizer\n",
        "optimizer = torch.optim.SGD(params=model_1.parameters(), lr=0.1)\n",
        "# setup accuracy metric\n",
        "accuracy_func = Accuracy().to(device)"
      ],
      "metadata": {
        "id": "n8g_0t0dY2YB"
      },
      "execution_count": 13,
      "outputs": []
    },
    {
      "cell_type": "code",
      "source": [
        "torch.manual_seed(42)\n",
        "\n",
        "epochs = 5\n",
        "\n",
        "# loop epoch\n",
        "for epoch in range(epochs):\n",
        "  train_loss = 0\n",
        "  train_acc = 0\n",
        "  # loop each batch in the train data loader\n",
        "  for batch, (X, y) in enumerate(train_loader):\n",
        "    X, y = X.to(device), y.to(device)\n",
        "\n",
        "    model_1.train()\n",
        "    # forward pass\n",
        "    train_logits = model_1(X)\n",
        "    train_labels = torch.argmax(torch.softmax(train_logits, dim=1), dim=1)\n",
        "    \n",
        "    # calculate loss\n",
        "    loss = loss_func(train_logits, y)\n",
        "    train_loss += loss\n",
        "    train_acc += accuracy_func(train_labels, y)\n",
        "\n",
        "    # zero grad\n",
        "    optimizer.zero_grad()\n",
        "\n",
        "    # back propagation\n",
        "    loss.backward()\n",
        "\n",
        "    # gradient descent\n",
        "    optimizer.step()\n",
        "  \n",
        "  # calculate the average batch training loss for epoch\n",
        "  train_loss /= len(train_loader)\n",
        "  train_acc /= len(train_loader)\n",
        "\n",
        "  # testing loop\n",
        "  test_loss = 0\n",
        "  test_acc = 0\n",
        "\n",
        "  model_1.eval()\n",
        "  with torch.inference_mode():\n",
        "    for batch, (X, y) in enumerate(test_loader):\n",
        "      X, y = X.to(device), y.to(device)\n",
        "      \n",
        "      test_logits = model_1(X)\n",
        "      test_labels = torch.argmax(torch.softmax(test_logits, dim=1), dim=1)\n",
        "      \n",
        "      batch_test_loss = loss_func(test_logits, y)\n",
        "      test_loss += batch_test_loss\n",
        "      \n",
        "      test_acc += accuracy_func(test_labels, y)\n",
        "\n",
        "    # calculations on test metrics must happen within inference_mode()\n",
        "    test_loss /= len(test_loader)\n",
        "    test_acc /= len(test_loader)\n",
        "\n",
        "  print(f\"epoch: {epoch} | train loss: {train_loss:.5f} | train accuracy: {train_acc:.2f}% | test loss: {test_loss:.5f} | test accuracy {test_acc:.2f}%\")\n"
      ],
      "metadata": {
        "colab": {
          "base_uri": "https://localhost:8080/"
        },
        "id": "pnxPiMPDt_Vh",
        "outputId": "252fe697-ca06-4033-8584-a5394d31cb14"
      },
      "execution_count": 14,
      "outputs": [
        {
          "output_type": "stream",
          "name": "stdout",
          "text": [
            "epoch: 0 | train loss: 0.59039 | train accuracy: 0.79% | test loss: 0.50954 | test accuracy 0.82%\n",
            "epoch: 1 | train loss: 0.47633 | train accuracy: 0.83% | test loss: 0.47989 | test accuracy 0.83%\n",
            "epoch: 2 | train loss: 0.45503 | train accuracy: 0.84% | test loss: 0.47664 | test accuracy 0.83%\n",
            "epoch: 3 | train loss: 0.44251 | train accuracy: 0.84% | test loss: 0.46306 | test accuracy 0.84%\n",
            "epoch: 4 | train loss: 0.43582 | train accuracy: 0.85% | test loss: 0.46869 | test accuracy 0.83%\n"
          ]
        }
      ]
    },
    {
      "cell_type": "code",
      "source": [
        "# create model evaulate function for reuse\n",
        "def evaluate_model(model: torch.nn.Module, dataloader: torch.utils.data.DataLoader, loss_fn: torch.nn.Module, acc_fn, device: torch.device = device):\n",
        "  # dataset metrics\n",
        "  test_loss = 0\n",
        "  test_acc = 0\n",
        "  \n",
        "  model.eval()\n",
        "  with torch.inference_mode():\n",
        "    # loop each batch of the test data\n",
        "    for batch, (X, y) in enumerate(dataloader):\n",
        "      X, y = X.to(device), y.to(device)\n",
        "\n",
        "      # calculate batch outputs\n",
        "      test_logits = model(X) \n",
        "      test_labels = torch.argmax(torch.softmax(test_logits, dim=1), dim=1)\n",
        "      # calculate batch loss\n",
        "      batch_test_loss = loss_fn(test_logits, y)\n",
        "      # accumulate loss for dataset\n",
        "      test_loss += batch_test_loss\n",
        "      # accumulate accuacy for dataset\n",
        "      test_acc += acc_fn(test_labels, y)\n",
        "\n",
        "    # average batch results across entire dataset\n",
        "    test_loss /= len(dataloader)\n",
        "    test_acc /= len(dataloader)\n",
        "\n",
        "    # return dictionary of results\n",
        "    return {'model name':model.__class__.__name__, 'model_loss':test_loss.item(), 'model_accuracy':test_acc.item() * 100}"
      ],
      "metadata": {
        "id": "dIWyg-660VBE"
      },
      "execution_count": 15,
      "outputs": []
    },
    {
      "cell_type": "code",
      "source": [
        "model_1_results = evaluate_model(model_1, test_loader, loss_func, accuracy_func)\n",
        "print(model_1_results)"
      ],
      "metadata": {
        "id": "Gq7mgYcb3dAx",
        "colab": {
          "base_uri": "https://localhost:8080/"
        },
        "outputId": "bbabafe5-6c62-496f-c062-21f4c570fe0d"
      },
      "execution_count": 16,
      "outputs": [
        {
          "output_type": "stream",
          "name": "stdout",
          "text": [
            "{'model name': 'SimpleLinearModel', 'model_loss': 0.46869388222694397, 'model_accuracy': 83.26677083969116}\n"
          ]
        }
      ]
    },
    {
      "cell_type": "code",
      "source": [
        "# simple non-linear model\n",
        "class SimpleNonLinearModel(nn.Module):\n",
        "  def __init__(self):\n",
        "    super().__init__()\n",
        "    self.layer1 = nn.Flatten()\n",
        "    self.layer2 = nn.Linear(in_features=784, out_features=10)\n",
        "    self.layer3 = nn.Linear(in_features=10, out_features=10)\n",
        "    self.relu = nn.ReLU()\n",
        "\n",
        "  def forward(self, x: torch.Tensor) -> torch.Tensor:\n",
        "    return self.relu(self.layer3(self.relu(self.layer2(self.layer1(x)))))\n",
        "\n",
        "# instantiate model\n",
        "torch.manual_seed(42)\n",
        "model_2 = SimpleNonLinearModel().to(device)"
      ],
      "metadata": {
        "id": "LRx37W097Qty"
      },
      "execution_count": 17,
      "outputs": []
    },
    {
      "cell_type": "code",
      "source": [
        "# setup loss function\n",
        "loss_func = nn.CrossEntropyLoss()\n",
        "# setup optimizer\n",
        "optimizer = torch.optim.SGD(params=model_2.parameters(), lr=0.1)\n",
        "# setup accuracy metric\n",
        "accuracy_func = Accuracy().to(device)"
      ],
      "metadata": {
        "id": "bWfh_phP9w2s"
      },
      "execution_count": 18,
      "outputs": []
    },
    {
      "cell_type": "code",
      "source": [
        "# create training step function for reuse\n",
        "def train_step(model: torch.nn.Module, dataloader: torch.utils.data.DataLoader, loss_fn: torch.nn.Module, acc_fn, device: torch.device = device):\n",
        "  train_loss, train_accuracy = 0, 0\n",
        "  # loop batches\n",
        "  for batch, (X, y) in enumerate(dataloader):\n",
        "    # allocate batch to device\n",
        "    X = X.to(device)\n",
        "    y = y.to(device)\n",
        "\n",
        "    model.train()\n",
        "    # forward pass\n",
        "    logits = model(X)\n",
        "    # softmax for multi-class classification\n",
        "    labels = torch.argmax(torch.softmax(logits, dim=1), dim=1)\n",
        "\n",
        "    # calculate and store loss\n",
        "    loss = loss_fn(logits, y)\n",
        "    train_loss += loss\n",
        "\n",
        "    # calculate and store accuracy\n",
        "    train_accuracy += acc_fn(labels, y)\n",
        "\n",
        "    # zero grad\n",
        "    optimizer.zero_grad()\n",
        "\n",
        "    # back propagation\n",
        "    loss.backward()\n",
        "\n",
        "    # gradient descent\n",
        "    optimizer.step()\n",
        "\n",
        "  # average loss and accuracy for entire dataset\n",
        "  train_loss /= len(dataloader)\n",
        "  train_accuracy /= len(dataloader)\n",
        "\n",
        "  print(f\"train loss: {train_loss:.5f} | train_accuracy: {train_accuracy:.2f}%\")\n",
        "\n",
        "# create testing step function for reuse\n",
        "def test_step(model: torch.nn.Module, dataloader: torch.utils.data.DataLoader, loss_fn: torch.nn.Module, acc_fn, device: torch.device = device):\n",
        "  test_loss, test_accuracy = 0, 0\n",
        "\n",
        "  model.eval()\n",
        "  with torch.inference_mode():\n",
        "    for batch, (X, y) in enumerate(dataloader):\n",
        "      # allocate data to device\n",
        "      X, y = X.to(device), y.to(device)\n",
        "\n",
        "      # forward pass\n",
        "      logits = model(X)\n",
        "      labels = torch.argmax(torch.softmax(logits, dim=1), dim=1)\n",
        "\n",
        "      # calculate and store loss\n",
        "      loss = loss_fn(logits, y)\n",
        "      test_loss += loss\n",
        "      # calculate and store accuracy\n",
        "      test_accuracy += acc_fn(labels, y)\n",
        "\n",
        "    test_loss /= len(dataloader)\n",
        "    test_accuracy /= len(dataloader)\n",
        "\n",
        "    print(f\"test loss: {test_loss:.5f} | test accuracy: {test_accuracy:.2f}%\")\n"
      ],
      "metadata": {
        "id": "ThFCZCac-Suq"
      },
      "execution_count": 19,
      "outputs": []
    },
    {
      "cell_type": "code",
      "source": [
        "epochs = 3\n",
        "# train and test model using train and test function\n",
        "for epoch in range(epochs):\n",
        "  print(f\"epoch: {epoch}\")\n",
        "\n",
        "  train_step(model_2, train_loader, loss_func, accuracy_func, device)\n",
        "  test_step(model_2, test_loader, loss_func, accuracy_func, device)"
      ],
      "metadata": {
        "id": "w1xHucSLMIDV",
        "colab": {
          "base_uri": "https://localhost:8080/"
        },
        "outputId": "67d804bd-bf88-4a32-c3cb-2a9d058427cc"
      },
      "execution_count": 20,
      "outputs": [
        {
          "output_type": "stream",
          "name": "stdout",
          "text": [
            "epoch: 0\n",
            "train loss: 1.05878 | train_accuracy: 0.62%\n",
            "test loss: 0.99506 | test accuracy: 0.64%\n",
            "epoch: 1\n",
            "train loss: 0.91331 | train_accuracy: 0.66%\n",
            "test loss: 0.90508 | test accuracy: 0.67%\n",
            "epoch: 2\n",
            "train loss: 0.87982 | train_accuracy: 0.67%\n",
            "test loss: 0.89476 | test accuracy: 0.66%\n"
          ]
        }
      ]
    },
    {
      "cell_type": "code",
      "source": [
        "model_2_results = evaluate_model(model_2, test_loader, loss_func, accuracy_func, device)\n",
        "print(model_2_results)"
      ],
      "metadata": {
        "id": "Rk7y1ayVPeQg",
        "colab": {
          "base_uri": "https://localhost:8080/"
        },
        "outputId": "870591d6-9656-42fd-ba49-26b6e67a06ca"
      },
      "execution_count": 21,
      "outputs": [
        {
          "output_type": "stream",
          "name": "stdout",
          "text": [
            "{'model name': 'SimpleNonLinearModel', 'model_loss': 0.8947636485099792, 'model_accuracy': 66.46365523338318}\n"
          ]
        }
      ]
    },
    {
      "cell_type": "code",
      "source": [
        "# custom convolutional network based on TinyVGG\n",
        "class ConvolutionalNeuralNetwork(nn.Module):\n",
        "  def __init__(self):\n",
        "    super().__init__()\n",
        "    self.block1 = nn.Sequential(\n",
        "        nn.Conv2d(in_channels=1, out_channels=10, kernel_size=3, stride=1, padding=1),\n",
        "        nn.ReLU(),\n",
        "        nn.Conv2d(in_channels=10, out_channels=10, kernel_size=3, stride=1, padding=1),\n",
        "        nn.ReLU(),\n",
        "        nn.MaxPool2d(kernel_size=2, stride=2)\n",
        "    )\n",
        "    self.block2 = nn.Sequential(\n",
        "        nn.Conv2d(in_channels=10, out_channels=10, kernel_size=3, padding=1),\n",
        "        nn.ReLU(),\n",
        "        nn.Conv2d(in_channels=10, out_channels=10, kernel_size=3, padding=1),\n",
        "        nn.ReLU(),\n",
        "        nn.MaxPool2d(kernel_size=2) # default stride is the same as the kernel size\n",
        "    )\n",
        "    self.fc = nn.Sequential(\n",
        "        nn.Flatten(),\n",
        "        nn.Linear(in_features=10*7*7, out_features=10)\n",
        "    )\n",
        "\n",
        "  def forward(self, x):\n",
        "    return self.fc(self.block2(self.block1(x)))\n",
        "\n",
        "# instantiate model\n",
        "torch.manual_seed(42)\n",
        "model_3 = ConvolutionalNeuralNetwork().to(device)"
      ],
      "metadata": {
        "id": "0dPY8uPrQiSq"
      },
      "execution_count": 22,
      "outputs": []
    },
    {
      "cell_type": "code",
      "source": [
        "# experiment with convolution layer\n",
        "torch.manual_seed(42)\n",
        "\n",
        "# [batch, channels, width, height]\n",
        "x = torch.randn((3, 64 ,64)).unsqueeze(dim=0) # add single batch dimension\n",
        "print(x.shape) # [1, 3, 64, 64]\n",
        "\n",
        "conv_layer = nn.Conv2d(in_channels=3, out_channels=10, kernel_size=3, stride=1, padding=0)\n",
        "print(conv_layer(x).shape) # [1, 10, 62, 62]\n",
        "\n",
        "# new output shape = ({[n - k + 2p] / s} + 1, {[n - k + 2p] / s} + 1)"
      ],
      "metadata": {
        "id": "LfGdky-1q3n1",
        "colab": {
          "base_uri": "https://localhost:8080/"
        },
        "outputId": "5ee259f3-0fbf-4e4d-8afd-5b08756928cf"
      },
      "execution_count": 23,
      "outputs": [
        {
          "output_type": "stream",
          "name": "stdout",
          "text": [
            "torch.Size([1, 3, 64, 64])\n",
            "torch.Size([1, 10, 62, 62])\n"
          ]
        }
      ]
    },
    {
      "cell_type": "code",
      "source": [
        "# experiment with max pooling layer\n",
        "torch.manual_seed(42)\n",
        "\n",
        "x = torch.randn((3, 64, 64)).unsqueeze(dim=0)\n",
        "print(x.shape) # [1, 3, 64, 64]\n",
        "\n",
        "max_pool = nn.MaxPool2d(kernel_size=2) # stride is same as kernel size by default\n",
        "print(max_pool(x).shape) # [1, 3, 32, 32]\n",
        "\n",
        "x = torch.randn((1, 2, 2)).unsqueeze(dim=0)\n",
        "print(x)\n",
        "print(x.shape)\n",
        "\n",
        "y = max_pool(x)\n",
        "print(y) # select the highest value in the 2x2 kernel\n",
        "print(y.shape) # [1, 1, 1, 1]"
      ],
      "metadata": {
        "id": "dpfYuEOMsCA2",
        "colab": {
          "base_uri": "https://localhost:8080/"
        },
        "outputId": "36c3e60c-dc8f-48a9-d7e6-37d4422fac7e"
      },
      "execution_count": 24,
      "outputs": [
        {
          "output_type": "stream",
          "name": "stdout",
          "text": [
            "torch.Size([1, 3, 64, 64])\n",
            "torch.Size([1, 3, 32, 32])\n",
            "tensor([[[[ 0.7264, -0.4500],\n",
            "          [ 0.4298,  0.3540]]]])\n",
            "torch.Size([1, 1, 2, 2])\n",
            "tensor([[[[0.7264]]]])\n",
            "torch.Size([1, 1, 1, 1])\n"
          ]
        }
      ]
    },
    {
      "cell_type": "code",
      "source": [
        "# experiment with average pooling\n",
        "torch.manual_seed(42)\n",
        "\n",
        "x = torch.randn((1, 2, 2)).unsqueeze(dim=0)\n",
        "print(x)\n",
        "print(x.shape) # [1, 1, 2, 2]\n",
        "\n",
        "avg_pool = nn.AvgPool2d(kernel_size=2) # stride is the same as kernel size by default\n",
        "\n",
        "y = avg_pool(x)\n",
        "print(y) # select the average of all values within the kernel space\n",
        "print(y) # [1, 1, 1, 1]"
      ],
      "metadata": {
        "id": "ixBI4lf2tKYq",
        "colab": {
          "base_uri": "https://localhost:8080/"
        },
        "outputId": "3f39f0b1-1a64-4584-acec-d9b3c48d57bb"
      },
      "execution_count": 25,
      "outputs": [
        {
          "output_type": "stream",
          "name": "stdout",
          "text": [
            "tensor([[[[0.3367, 0.1288],\n",
            "          [0.2345, 0.2303]]]])\n",
            "torch.Size([1, 1, 2, 2])\n",
            "tensor([[[[0.2326]]]])\n",
            "tensor([[[[0.2326]]]])\n"
          ]
        }
      ]
    },
    {
      "cell_type": "code",
      "source": [
        "# set up loss function\n",
        "loss_func = nn.CrossEntropyLoss()\n",
        "# set up optimizer\n",
        "optimizer = torch.optim.SGD(params=model_3.parameters(), lr=0.1)\n",
        "# set up accuracy metric\n",
        "accuracy = Accuracy().to(device)"
      ],
      "metadata": {
        "id": "1GBNtsDtuBBu"
      },
      "execution_count": 26,
      "outputs": []
    },
    {
      "cell_type": "code",
      "source": [
        "# train and test loop\n",
        "epochs = 3\n",
        "\n",
        "for epoch in range(epochs):\n",
        "  print(f\"epoch: {epoch}\")\n",
        "  train_step(model_3, train_loader, loss_func, accuracy_func, device)\n",
        "  test_step(model_3, test_loader, loss_func, accuracy_func, device)"
      ],
      "metadata": {
        "id": "5wTRFO60uSop",
        "colab": {
          "base_uri": "https://localhost:8080/"
        },
        "outputId": "766cb959-723e-4af9-c8a3-b74dbb028301"
      },
      "execution_count": 27,
      "outputs": [
        {
          "output_type": "stream",
          "name": "stdout",
          "text": [
            "epoch: 0\n",
            "train loss: 0.58129 | train_accuracy: 0.79%\n",
            "test loss: 0.44110 | test accuracy: 0.84%\n",
            "epoch: 1\n",
            "train loss: 0.35197 | train_accuracy: 0.87%\n",
            "test loss: 0.35055 | test accuracy: 0.88%\n",
            "epoch: 2\n",
            "train loss: 0.31590 | train_accuracy: 0.89%\n",
            "test loss: 0.32734 | test accuracy: 0.88%\n"
          ]
        }
      ]
    },
    {
      "cell_type": "code",
      "source": [
        "# evaluate model 3 results\n",
        "model_3_results = evaluate_model(model_3, test_loader, loss_func, accuracy_func, device)\n",
        "print(model_3_results)"
      ],
      "metadata": {
        "id": "1LOvGEHJIioH",
        "colab": {
          "base_uri": "https://localhost:8080/"
        },
        "outputId": "d5496b0e-0a5d-43bc-8603-be662e237961"
      },
      "execution_count": 28,
      "outputs": [
        {
          "output_type": "stream",
          "name": "stdout",
          "text": [
            "{'model name': 'ConvolutionalNeuralNetwork', 'model_loss': 0.3273375630378723, 'model_accuracy': 88.09903860092163}\n"
          ]
        }
      ]
    },
    {
      "cell_type": "code",
      "source": [
        "# combine results of all three models\n",
        "import pandas as pd\n",
        "# create combined data frame\n",
        "results = pd.DataFrame([model_1_results, model_2_results, model_3_results])\n",
        "print(results)"
      ],
      "metadata": {
        "id": "LSrIQ8FUIJwk",
        "colab": {
          "base_uri": "https://localhost:8080/"
        },
        "outputId": "8351e325-7877-48ee-a3e3-455115130cd1"
      },
      "execution_count": 29,
      "outputs": [
        {
          "output_type": "stream",
          "name": "stdout",
          "text": [
            "                   model name  model_loss  model_accuracy\n",
            "0           SimpleLinearModel    0.468694       83.266771\n",
            "1        SimpleNonLinearModel    0.894764       66.463655\n",
            "2  ConvolutionalNeuralNetwork    0.327338       88.099039\n"
          ]
        }
      ]
    }
  ]
}