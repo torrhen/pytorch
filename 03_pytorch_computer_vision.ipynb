{
  "nbformat": 4,
  "nbformat_minor": 0,
  "metadata": {
    "colab": {
      "provenance": [],
      "authorship_tag": "ABX9TyPZOyISE/K4GsGPbLXcZemi",
      "include_colab_link": true
    },
    "kernelspec": {
      "name": "python3",
      "display_name": "Python 3"
    },
    "language_info": {
      "name": "python"
    },
    "gpuClass": "standard",
    "accelerator": "GPU",
    "widgets": {
      "application/vnd.jupyter.widget-state+json": {
        "e0a96545e127429cbe9ae92bafca9342": {
          "model_module": "@jupyter-widgets/controls",
          "model_name": "HBoxModel",
          "model_module_version": "1.5.0",
          "state": {
            "_dom_classes": [],
            "_model_module": "@jupyter-widgets/controls",
            "_model_module_version": "1.5.0",
            "_model_name": "HBoxModel",
            "_view_count": null,
            "_view_module": "@jupyter-widgets/controls",
            "_view_module_version": "1.5.0",
            "_view_name": "HBoxView",
            "box_style": "",
            "children": [
              "IPY_MODEL_36bd8252b8914f279e28efdb6070ff41",
              "IPY_MODEL_89e855b704644594b11e177998c4c74d",
              "IPY_MODEL_589b07ba5c8e4567b84887db16a69206"
            ],
            "layout": "IPY_MODEL_7f188ad94b47499b8010c585d5aa8cc9"
          }
        },
        "36bd8252b8914f279e28efdb6070ff41": {
          "model_module": "@jupyter-widgets/controls",
          "model_name": "HTMLModel",
          "model_module_version": "1.5.0",
          "state": {
            "_dom_classes": [],
            "_model_module": "@jupyter-widgets/controls",
            "_model_module_version": "1.5.0",
            "_model_name": "HTMLModel",
            "_view_count": null,
            "_view_module": "@jupyter-widgets/controls",
            "_view_module_version": "1.5.0",
            "_view_name": "HTMLView",
            "description": "",
            "description_tooltip": null,
            "layout": "IPY_MODEL_45a16b5a56dd4131970cca65a6e89090",
            "placeholder": "​",
            "style": "IPY_MODEL_f42987516ee34ef7b629e74eb3974840",
            "value": "predictions: 100%"
          }
        },
        "89e855b704644594b11e177998c4c74d": {
          "model_module": "@jupyter-widgets/controls",
          "model_name": "FloatProgressModel",
          "model_module_version": "1.5.0",
          "state": {
            "_dom_classes": [],
            "_model_module": "@jupyter-widgets/controls",
            "_model_module_version": "1.5.0",
            "_model_name": "FloatProgressModel",
            "_view_count": null,
            "_view_module": "@jupyter-widgets/controls",
            "_view_module_version": "1.5.0",
            "_view_name": "ProgressView",
            "bar_style": "success",
            "description": "",
            "description_tooltip": null,
            "layout": "IPY_MODEL_68e7cb4f9ee043adb88ef3f18d4cc1b2",
            "max": 313,
            "min": 0,
            "orientation": "horizontal",
            "style": "IPY_MODEL_5474807d9e684b22b555b5a43720872e",
            "value": 313
          }
        },
        "589b07ba5c8e4567b84887db16a69206": {
          "model_module": "@jupyter-widgets/controls",
          "model_name": "HTMLModel",
          "model_module_version": "1.5.0",
          "state": {
            "_dom_classes": [],
            "_model_module": "@jupyter-widgets/controls",
            "_model_module_version": "1.5.0",
            "_model_name": "HTMLModel",
            "_view_count": null,
            "_view_module": "@jupyter-widgets/controls",
            "_view_module_version": "1.5.0",
            "_view_name": "HTMLView",
            "description": "",
            "description_tooltip": null,
            "layout": "IPY_MODEL_492f7a14114a410ba745bea1bd2b3b1c",
            "placeholder": "​",
            "style": "IPY_MODEL_66184697f4d44ba4b411575555126894",
            "value": " 313/313 [00:01&lt;00:00, 272.62it/s]"
          }
        },
        "7f188ad94b47499b8010c585d5aa8cc9": {
          "model_module": "@jupyter-widgets/base",
          "model_name": "LayoutModel",
          "model_module_version": "1.2.0",
          "state": {
            "_model_module": "@jupyter-widgets/base",
            "_model_module_version": "1.2.0",
            "_model_name": "LayoutModel",
            "_view_count": null,
            "_view_module": "@jupyter-widgets/base",
            "_view_module_version": "1.2.0",
            "_view_name": "LayoutView",
            "align_content": null,
            "align_items": null,
            "align_self": null,
            "border": null,
            "bottom": null,
            "display": null,
            "flex": null,
            "flex_flow": null,
            "grid_area": null,
            "grid_auto_columns": null,
            "grid_auto_flow": null,
            "grid_auto_rows": null,
            "grid_column": null,
            "grid_gap": null,
            "grid_row": null,
            "grid_template_areas": null,
            "grid_template_columns": null,
            "grid_template_rows": null,
            "height": null,
            "justify_content": null,
            "justify_items": null,
            "left": null,
            "margin": null,
            "max_height": null,
            "max_width": null,
            "min_height": null,
            "min_width": null,
            "object_fit": null,
            "object_position": null,
            "order": null,
            "overflow": null,
            "overflow_x": null,
            "overflow_y": null,
            "padding": null,
            "right": null,
            "top": null,
            "visibility": null,
            "width": null
          }
        },
        "45a16b5a56dd4131970cca65a6e89090": {
          "model_module": "@jupyter-widgets/base",
          "model_name": "LayoutModel",
          "model_module_version": "1.2.0",
          "state": {
            "_model_module": "@jupyter-widgets/base",
            "_model_module_version": "1.2.0",
            "_model_name": "LayoutModel",
            "_view_count": null,
            "_view_module": "@jupyter-widgets/base",
            "_view_module_version": "1.2.0",
            "_view_name": "LayoutView",
            "align_content": null,
            "align_items": null,
            "align_self": null,
            "border": null,
            "bottom": null,
            "display": null,
            "flex": null,
            "flex_flow": null,
            "grid_area": null,
            "grid_auto_columns": null,
            "grid_auto_flow": null,
            "grid_auto_rows": null,
            "grid_column": null,
            "grid_gap": null,
            "grid_row": null,
            "grid_template_areas": null,
            "grid_template_columns": null,
            "grid_template_rows": null,
            "height": null,
            "justify_content": null,
            "justify_items": null,
            "left": null,
            "margin": null,
            "max_height": null,
            "max_width": null,
            "min_height": null,
            "min_width": null,
            "object_fit": null,
            "object_position": null,
            "order": null,
            "overflow": null,
            "overflow_x": null,
            "overflow_y": null,
            "padding": null,
            "right": null,
            "top": null,
            "visibility": null,
            "width": null
          }
        },
        "f42987516ee34ef7b629e74eb3974840": {
          "model_module": "@jupyter-widgets/controls",
          "model_name": "DescriptionStyleModel",
          "model_module_version": "1.5.0",
          "state": {
            "_model_module": "@jupyter-widgets/controls",
            "_model_module_version": "1.5.0",
            "_model_name": "DescriptionStyleModel",
            "_view_count": null,
            "_view_module": "@jupyter-widgets/base",
            "_view_module_version": "1.2.0",
            "_view_name": "StyleView",
            "description_width": ""
          }
        },
        "68e7cb4f9ee043adb88ef3f18d4cc1b2": {
          "model_module": "@jupyter-widgets/base",
          "model_name": "LayoutModel",
          "model_module_version": "1.2.0",
          "state": {
            "_model_module": "@jupyter-widgets/base",
            "_model_module_version": "1.2.0",
            "_model_name": "LayoutModel",
            "_view_count": null,
            "_view_module": "@jupyter-widgets/base",
            "_view_module_version": "1.2.0",
            "_view_name": "LayoutView",
            "align_content": null,
            "align_items": null,
            "align_self": null,
            "border": null,
            "bottom": null,
            "display": null,
            "flex": null,
            "flex_flow": null,
            "grid_area": null,
            "grid_auto_columns": null,
            "grid_auto_flow": null,
            "grid_auto_rows": null,
            "grid_column": null,
            "grid_gap": null,
            "grid_row": null,
            "grid_template_areas": null,
            "grid_template_columns": null,
            "grid_template_rows": null,
            "height": null,
            "justify_content": null,
            "justify_items": null,
            "left": null,
            "margin": null,
            "max_height": null,
            "max_width": null,
            "min_height": null,
            "min_width": null,
            "object_fit": null,
            "object_position": null,
            "order": null,
            "overflow": null,
            "overflow_x": null,
            "overflow_y": null,
            "padding": null,
            "right": null,
            "top": null,
            "visibility": null,
            "width": null
          }
        },
        "5474807d9e684b22b555b5a43720872e": {
          "model_module": "@jupyter-widgets/controls",
          "model_name": "ProgressStyleModel",
          "model_module_version": "1.5.0",
          "state": {
            "_model_module": "@jupyter-widgets/controls",
            "_model_module_version": "1.5.0",
            "_model_name": "ProgressStyleModel",
            "_view_count": null,
            "_view_module": "@jupyter-widgets/base",
            "_view_module_version": "1.2.0",
            "_view_name": "StyleView",
            "bar_color": null,
            "description_width": ""
          }
        },
        "492f7a14114a410ba745bea1bd2b3b1c": {
          "model_module": "@jupyter-widgets/base",
          "model_name": "LayoutModel",
          "model_module_version": "1.2.0",
          "state": {
            "_model_module": "@jupyter-widgets/base",
            "_model_module_version": "1.2.0",
            "_model_name": "LayoutModel",
            "_view_count": null,
            "_view_module": "@jupyter-widgets/base",
            "_view_module_version": "1.2.0",
            "_view_name": "LayoutView",
            "align_content": null,
            "align_items": null,
            "align_self": null,
            "border": null,
            "bottom": null,
            "display": null,
            "flex": null,
            "flex_flow": null,
            "grid_area": null,
            "grid_auto_columns": null,
            "grid_auto_flow": null,
            "grid_auto_rows": null,
            "grid_column": null,
            "grid_gap": null,
            "grid_row": null,
            "grid_template_areas": null,
            "grid_template_columns": null,
            "grid_template_rows": null,
            "height": null,
            "justify_content": null,
            "justify_items": null,
            "left": null,
            "margin": null,
            "max_height": null,
            "max_width": null,
            "min_height": null,
            "min_width": null,
            "object_fit": null,
            "object_position": null,
            "order": null,
            "overflow": null,
            "overflow_x": null,
            "overflow_y": null,
            "padding": null,
            "right": null,
            "top": null,
            "visibility": null,
            "width": null
          }
        },
        "66184697f4d44ba4b411575555126894": {
          "model_module": "@jupyter-widgets/controls",
          "model_name": "DescriptionStyleModel",
          "model_module_version": "1.5.0",
          "state": {
            "_model_module": "@jupyter-widgets/controls",
            "_model_module_version": "1.5.0",
            "_model_name": "DescriptionStyleModel",
            "_view_count": null,
            "_view_module": "@jupyter-widgets/base",
            "_view_module_version": "1.2.0",
            "_view_name": "StyleView",
            "description_width": ""
          }
        }
      }
    }
  },
  "cells": [
    {
      "cell_type": "markdown",
      "metadata": {
        "id": "view-in-github",
        "colab_type": "text"
      },
      "source": [
        "<a href=\"https://colab.research.google.com/github/torrhen/pytorch/blob/main/03_pytorch_computer_vision.ipynb\" target=\"_parent\"><img src=\"https://colab.research.google.com/assets/colab-badge.svg\" alt=\"Open In Colab\"/></a>"
      ]
    },
    {
      "cell_type": "code",
      "execution_count": 1,
      "metadata": {
        "colab": {
          "base_uri": "https://localhost:8080/"
        },
        "id": "lV1bLVzwIxPH",
        "outputId": "619ed79a-1cd1-40e0-c2bf-bbdd76b7c9d9"
      },
      "outputs": [
        {
          "output_type": "stream",
          "name": "stdout",
          "text": [
            "pytorch version: 1.12.1+cu113\n"
          ]
        }
      ],
      "source": [
        "# import pytorch\n",
        "import torch\n",
        "from torch import nn\n",
        "print(f\"pytorch version: {torch.__version__}\")"
      ]
    },
    {
      "cell_type": "code",
      "source": [
        "# first model is trained on the cpu\n",
        "device = 'cuda' if torch.cuda.is_available() else 'cpu'"
      ],
      "metadata": {
        "id": "sGf6oou-Xy16"
      },
      "execution_count": 2,
      "outputs": []
    },
    {
      "cell_type": "code",
      "source": [
        "# import torchvision\n",
        "import torchvision\n",
        "from torchvision import datasets\n",
        "from torchvision.transforms import ToTensor\n",
        "print(f\"torchvision version: {torchvision.__version__}\") "
      ],
      "metadata": {
        "colab": {
          "base_uri": "https://localhost:8080/"
        },
        "id": "gEmi6mNQJHAl",
        "outputId": "26f9a36e-fe49-4e1a-dce4-ca1020b23190"
      },
      "execution_count": 3,
      "outputs": [
        {
          "output_type": "stream",
          "name": "stdout",
          "text": [
            "torchvision version: 0.13.1+cu113\n"
          ]
        }
      ]
    },
    {
      "cell_type": "code",
      "source": [
        "# install torchmetrics from evaluating models\n",
        "!pip install torchmetrics\n",
        "from torchmetrics import Accuracy"
      ],
      "metadata": {
        "colab": {
          "base_uri": "https://localhost:8080/"
        },
        "id": "voYiaPcAFL-D",
        "outputId": "fc1a38d1-f443-4acd-c284-14b670f0c36a"
      },
      "execution_count": 4,
      "outputs": [
        {
          "output_type": "stream",
          "name": "stdout",
          "text": [
            "Looking in indexes: https://pypi.org/simple, https://us-python.pkg.dev/colab-wheels/public/simple/\n",
            "Requirement already satisfied: torchmetrics in /usr/local/lib/python3.7/dist-packages (0.10.3)\n",
            "Requirement already satisfied: numpy>=1.17.2 in /usr/local/lib/python3.7/dist-packages (from torchmetrics) (1.21.6)\n",
            "Requirement already satisfied: torch>=1.3.1 in /usr/local/lib/python3.7/dist-packages (from torchmetrics) (1.12.1+cu113)\n",
            "Requirement already satisfied: typing-extensions in /usr/local/lib/python3.7/dist-packages (from torchmetrics) (4.1.1)\n",
            "Requirement already satisfied: packaging in /usr/local/lib/python3.7/dist-packages (from torchmetrics) (21.3)\n",
            "Requirement already satisfied: pyparsing!=3.0.5,>=2.0.2 in /usr/local/lib/python3.7/dist-packages (from packaging->torchmetrics) (3.0.9)\n"
          ]
        }
      ]
    },
    {
      "cell_type": "code",
      "source": [
        "# import matplotlib\n",
        "import matplotlib.pyplot as plt"
      ],
      "metadata": {
        "id": "WQMFAuUDJkXN"
      },
      "execution_count": 5,
      "outputs": []
    },
    {
      "cell_type": "code",
      "source": [
        "# import fashion MNIST training data\n",
        "train_data = datasets.FashionMNIST(root='data', train=True, download=True, transform=ToTensor(), target_transform=None)\n",
        "test_data = datasets.FashionMNIST(root='data', train=False, download=True, transform=ToTensor(), target_transform=None)"
      ],
      "metadata": {
        "id": "JXnA7iN0J_uY"
      },
      "execution_count": 6,
      "outputs": []
    },
    {
      "cell_type": "code",
      "source": [
        "# dataset information\n",
        "print(f\"Number of training instances: {len(train_data.data)}\")\n",
        "print(f\"Number of training targets: {len(train_data.targets)}\")\n",
        "print(f\"Number of test instances: {len(test_data.data)}\")\n",
        "print(f\"Number of test targets: {len(test_data.targets)}\")\n",
        "print(f\"Number of classes: {len(train_data.classes)}\")\n",
        "print(train_data.classes)"
      ],
      "metadata": {
        "colab": {
          "base_uri": "https://localhost:8080/"
        },
        "id": "cVZX-XRCK0mI",
        "outputId": "0f0d52cf-6fc5-447c-9e07-a2fdbed603ff"
      },
      "execution_count": 7,
      "outputs": [
        {
          "output_type": "stream",
          "name": "stdout",
          "text": [
            "Number of training instances: 60000\n",
            "Number of training targets: 60000\n",
            "Number of test instances: 10000\n",
            "Number of test targets: 10000\n",
            "Number of classes: 10\n",
            "['T-shirt/top', 'Trouser', 'Pullover', 'Dress', 'Coat', 'Sandal', 'Shirt', 'Sneaker', 'Bag', 'Ankle boot']\n"
          ]
        }
      ]
    },
    {
      "cell_type": "code",
      "source": [
        "# display 12 random images from the training set\n",
        "torch.manual_seed(42)\n",
        "fig = plt.figure(figsize=(9, 9))\n",
        "rows, cols = 4, 4\n",
        "for i in range(1, rows * cols + 1):\n",
        "  # create a random scalar tensor index\n",
        "  random_idx = torch.randint(0, len(train_data), size=[1]).item() # item() to convert integer tensor to scalar\n",
        "  image, label = train_data[random_idx] # choose random data pair from data set\n",
        "  fig.add_subplot(rows, cols, i) # subplots are non-zero indexed\n",
        "  plt.imshow(image.squeeze(), cmap='gray')\n",
        "  plt.title(train_data.classes[label])\n",
        "  plt.axis(False)"
      ],
      "metadata": {
        "colab": {
          "base_uri": "https://localhost:8080/",
          "height": 536
        },
        "id": "ZwtcowcBPq6E",
        "outputId": "f295af50-2c99-4b94-d00d-ddab360aa5e8"
      },
      "execution_count": 8,
      "outputs": [
        {
          "output_type": "display_data",
          "data": {
            "text/plain": [
              "<Figure size 648x648 with 16 Axes>"
            ],
            "image/png": "[encoded data removed]"
          },
          "metadata": {
            "needs_background": "light"
          }
        }
      ]
    },
    {
      "cell_type": "code",
      "source": [
        "from torch.utils.data import DataLoader\n",
        "\n",
        "BATCH_SIZE = 32\n",
        "\n",
        "# divide the data sets into batches stored in data loaders\n",
        "train_loader = DataLoader(train_data, shuffle=True, batch_size=BATCH_SIZE)\n",
        "test_loader = DataLoader(test_data, shuffle=False, batch_size=BATCH_SIZE)\n",
        "\n",
        "print(f\"Number of batches for training data: {len(train_loader)}\") # 32 * 1875 = 60000\n",
        "print(f\"Number of batches for test data: {len(test_loader)}\")\n"
      ],
      "metadata": {
        "colab": {
          "base_uri": "https://localhost:8080/"
        },
        "id": "RmkFdJsqUVWk",
        "outputId": "33fc74a4-a4c1-4583-a53d-d606ea470e26"
      },
      "execution_count": 9,
      "outputs": [
        {
          "output_type": "stream",
          "name": "stdout",
          "text": [
            "Number of batches for training data: 1875\n",
            "Number of batches for test data: 313\n"
          ]
        }
      ]
    },
    {
      "cell_type": "code",
      "source": [
        "# get next training batch from data loader\n",
        "train_image_batch, train_label_batch = next(iter(train_loader))\n",
        "print(f\"training image batch size: {train_image_batch.shape}\")\n",
        "print(f\"training label batch size: {train_label_batch.shape}\")"
      ],
      "metadata": {
        "colab": {
          "base_uri": "https://localhost:8080/"
        },
        "id": "pZECsZotVCYP",
        "outputId": "a31cecbe-e1fe-4514-9ac0-0ed7a6108330"
      },
      "execution_count": 10,
      "outputs": [
        {
          "output_type": "stream",
          "name": "stdout",
          "text": [
            "training image batch size: torch.Size([32, 1, 28, 28])\n",
            "training label batch size: torch.Size([32])\n"
          ]
        }
      ]
    },
    {
      "cell_type": "code",
      "source": [
        "# display 12 random images from the first training set batch of the data loader\n",
        "torch.manual_seed(42)\n",
        "fig = plt.figure(figsize=(9, 9))\n",
        "rows, cols = 4, 4\n",
        "for i in range(1, rows * cols + 1):\n",
        "  # create a random scalar tensor index\n",
        "  random_idx = torch.randint(0, len(train_image_batch), size=[1]).item()\n",
        "  image, label = train_image_batch[random_idx], train_label_batch[random_idx]\n",
        "  fig.add_subplot(rows, cols, i)\n",
        "  plt.imshow(image.squeeze(), cmap='gray')\n",
        "  plt.title(train_data.classes[label])\n",
        "  plt.axis(False)"
      ],
      "metadata": {
        "colab": {
          "base_uri": "https://localhost:8080/",
          "height": 536
        },
        "id": "wUEw3e2MVrVp",
        "outputId": "5b5593e1-a183-4d1f-9051-601b597cb645"
      },
      "execution_count": 11,
      "outputs": [
        {
          "output_type": "display_data",
          "data": {
            "text/plain": [
              "<Figure size 648x648 with 16 Axes>"
            ],
            "image/png": "[encoded data removed]"
          },
          "metadata": {
            "needs_background": "light"
          }
        }
      ]
    },
    {
      "cell_type": "code",
      "source": [
        "# simple linear model\n",
        "class SimpleLinearModel(nn.Module):\n",
        "  def __init__(self):\n",
        "    super().__init__()\n",
        "    self.layer1 = nn.Flatten()\n",
        "    self.layer2 = nn.Linear(in_features=784, out_features=10)\n",
        "    self.layer3 = nn.Linear(in_features=10, out_features=10)\n",
        "\n",
        "  def forward(self, x):\n",
        "    return self.layer3(self.layer2(self.layer1(x)))\n",
        "\n",
        "# instantiate model\n",
        "torch.manual_seed(42)\n",
        "model_1 = SimpleLinearModel().to(device)"
      ],
      "metadata": {
        "id": "28PUXu8oXCvn"
      },
      "execution_count": 12,
      "outputs": []
    },
    {
      "cell_type": "code",
      "source": [
        "# set up loss\n",
        "loss_func = nn.CrossEntropyLoss()\n",
        "# set up optimizer\n",
        "optimizer = torch.optim.SGD(params=model_1.parameters(), lr=0.1)\n",
        "# setup accuracy metric\n",
        "accuracy_func = Accuracy().to(device)"
      ],
      "metadata": {
        "id": "n8g_0t0dY2YB"
      },
      "execution_count": 13,
      "outputs": []
    },
    {
      "cell_type": "code",
      "source": [
        "torch.manual_seed(42)\n",
        "\n",
        "epochs = 5\n",
        "\n",
        "# loop epoch\n",
        "for epoch in range(epochs):\n",
        "  train_loss = 0\n",
        "  train_acc = 0\n",
        "  # loop each batch in the train data loader\n",
        "  for batch, (X, y) in enumerate(train_loader):\n",
        "    X, y = X.to(device), y.to(device)\n",
        "\n",
        "    model_1.train()\n",
        "    # forward pass\n",
        "    train_logits = model_1(X)\n",
        "    train_labels = torch.argmax(torch.softmax(train_logits, dim=1), dim=1)\n",
        "    \n",
        "    # calculate loss\n",
        "    loss = loss_func(train_logits, y)\n",
        "    train_loss += loss\n",
        "    train_acc += accuracy_func(train_labels, y)\n",
        "\n",
        "    # zero grad\n",
        "    optimizer.zero_grad()\n",
        "\n",
        "    # back propagation\n",
        "    loss.backward()\n",
        "\n",
        "    # gradient descent\n",
        "    optimizer.step()\n",
        "  \n",
        "  # calculate the average batch training loss for epoch\n",
        "  train_loss /= len(train_loader)\n",
        "  train_acc /= len(train_loader)\n",
        "\n",
        "  # testing loop\n",
        "  test_loss = 0\n",
        "  test_acc = 0\n",
        "\n",
        "  model_1.eval()\n",
        "  with torch.inference_mode():\n",
        "    for batch, (X, y) in enumerate(test_loader):\n",
        "      X, y = X.to(device), y.to(device)\n",
        "      \n",
        "      test_logits = model_1(X)\n",
        "      test_labels = torch.argmax(torch.softmax(test_logits, dim=1), dim=1)\n",
        "      \n",
        "      batch_test_loss = loss_func(test_logits, y)\n",
        "      test_loss += batch_test_loss\n",
        "      \n",
        "      test_acc += accuracy_func(test_labels, y)\n",
        "\n",
        "    # calculations on test metrics must happen within inference_mode()\n",
        "    test_loss /= len(test_loader)\n",
        "    test_acc /= len(test_loader)\n",
        "\n",
        "  print(f\"epoch: {epoch} | train loss: {train_loss:.5f} | train accuracy: {train_acc:.2f}% | test loss: {test_loss:.5f} | test accuracy {test_acc:.2f}%\")\n"
      ],
      "metadata": {
        "colab": {
          "base_uri": "https://localhost:8080/"
        },
        "id": "pnxPiMPDt_Vh",
        "outputId": "5c254ec2-4e04-4bad-9612-daf6fd22b268"
      },
      "execution_count": 14,
      "outputs": [
        {
          "output_type": "stream",
          "name": "stdout",
          "text": [
            "epoch: 0 | train loss: 0.59039 | train accuracy: 0.79% | test loss: 0.50954 | test accuracy 0.82%\n",
            "epoch: 1 | train loss: 0.47633 | train accuracy: 0.83% | test loss: 0.47989 | test accuracy 0.83%\n",
            "epoch: 2 | train loss: 0.45503 | train accuracy: 0.84% | test loss: 0.47664 | test accuracy 0.83%\n",
            "epoch: 3 | train loss: 0.44251 | train accuracy: 0.84% | test loss: 0.46306 | test accuracy 0.84%\n",
            "epoch: 4 | train loss: 0.43582 | train accuracy: 0.85% | test loss: 0.46869 | test accuracy 0.83%\n"
          ]
        }
      ]
    },
    {
      "cell_type": "code",
      "source": [
        "# create model evaulate function for reuse\n",
        "def evaluate_model(model: torch.nn.Module, dataloader: torch.utils.data.DataLoader, loss_fn: torch.nn.Module, acc_fn, device: torch.device = device):\n",
        "  # dataset metrics\n",
        "  test_loss = 0\n",
        "  test_acc = 0\n",
        "  \n",
        "  model.eval()\n",
        "  with torch.inference_mode():\n",
        "    # loop each batch of the test data\n",
        "    for batch, (X, y) in enumerate(dataloader):\n",
        "      X, y = X.to(device), y.to(device)\n",
        "\n",
        "      # calculate batch outputs\n",
        "      test_logits = model(X) \n",
        "      test_labels = torch.argmax(torch.softmax(test_logits, dim=1), dim=1)\n",
        "      # calculate batch loss\n",
        "      batch_test_loss = loss_fn(test_logits, y)\n",
        "      # accumulate loss for dataset\n",
        "      test_loss += batch_test_loss\n",
        "      # accumulate accuacy for dataset\n",
        "      test_acc += acc_fn(test_labels, y)\n",
        "\n",
        "    # average batch results across entire dataset\n",
        "    test_loss /= len(dataloader)\n",
        "    test_acc /= len(dataloader)\n",
        "\n",
        "    # return dictionary of results\n",
        "    return {'model name':model.__class__.__name__, 'model_loss':test_loss.item(), 'model_accuracy':test_acc.item() * 100}"
      ],
      "metadata": {
        "id": "dIWyg-660VBE"
      },
      "execution_count": 15,
      "outputs": []
    },
    {
      "cell_type": "code",
      "source": [
        "model_1_results = evaluate_model(model_1, test_loader, loss_func, accuracy_func)\n",
        "print(model_1_results)"
      ],
      "metadata": {
        "id": "Gq7mgYcb3dAx",
        "colab": {
          "base_uri": "https://localhost:8080/"
        },
        "outputId": "7e4812cc-c3c9-4956-e418-515538603b81"
      },
      "execution_count": 16,
      "outputs": [
        {
          "output_type": "stream",
          "name": "stdout",
          "text": [
            "{'model name': 'SimpleLinearModel', 'model_loss': 0.46869388222694397, 'model_accuracy': 83.26677083969116}\n"
          ]
        }
      ]
    },
    {
      "cell_type": "code",
      "source": [
        "# simple non-linear model\n",
        "class SimpleNonLinearModel(nn.Module):\n",
        "  def __init__(self):\n",
        "    super().__init__()\n",
        "    self.layer1 = nn.Flatten()\n",
        "    self.layer2 = nn.Linear(in_features=784, out_features=10)\n",
        "    self.layer3 = nn.Linear(in_features=10, out_features=10)\n",
        "    self.relu = nn.ReLU()\n",
        "\n",
        "  def forward(self, x: torch.Tensor) -> torch.Tensor:\n",
        "    return self.relu(self.layer3(self.relu(self.layer2(self.layer1(x)))))\n",
        "\n",
        "# instantiate model\n",
        "torch.manual_seed(42)\n",
        "model_2 = SimpleNonLinearModel().to(device)"
      ],
      "metadata": {
        "id": "LRx37W097Qty"
      },
      "execution_count": 17,
      "outputs": []
    },
    {
      "cell_type": "code",
      "source": [
        "# setup loss function\n",
        "loss_func = nn.CrossEntropyLoss()\n",
        "# setup optimizer\n",
        "optimizer = torch.optim.SGD(params=model_2.parameters(), lr=0.1)\n",
        "# setup accuracy metric\n",
        "accuracy_func = Accuracy().to(device)"
      ],
      "metadata": {
        "id": "bWfh_phP9w2s"
      },
      "execution_count": 18,
      "outputs": []
    },
    {
      "cell_type": "code",
      "source": [
        "# create training step function for reuse\n",
        "def train_step(model: torch.nn.Module, dataloader: torch.utils.data.DataLoader, loss_fn: torch.nn.Module, acc_fn, device: torch.device = device):\n",
        "  train_loss, train_accuracy = 0, 0\n",
        "  # loop batches\n",
        "  for batch, (X, y) in enumerate(dataloader):\n",
        "    # allocate batch to device\n",
        "    X = X.to(device)\n",
        "    y = y.to(device)\n",
        "\n",
        "    model.train()\n",
        "    # forward pass\n",
        "    logits = model(X)\n",
        "    # softmax for multi-class classification\n",
        "    labels = torch.argmax(torch.softmax(logits, dim=1), dim=1)\n",
        "\n",
        "    # calculate and store loss\n",
        "    loss = loss_fn(logits, y)\n",
        "    train_loss += loss\n",
        "\n",
        "    # calculate and store accuracy\n",
        "    train_accuracy += acc_fn(labels, y)\n",
        "\n",
        "    # zero grad\n",
        "    optimizer.zero_grad()\n",
        "\n",
        "    # back propagation\n",
        "    loss.backward()\n",
        "\n",
        "    # gradient descent\n",
        "    optimizer.step()\n",
        "\n",
        "  # average loss and accuracy for entire dataset\n",
        "  train_loss /= len(dataloader)\n",
        "  train_accuracy /= len(dataloader)\n",
        "\n",
        "  print(f\"train loss: {train_loss:.5f} | train_accuracy: {train_accuracy:.2f}%\")\n",
        "\n",
        "# create testing step function for reuse\n",
        "def test_step(model: torch.nn.Module, dataloader: torch.utils.data.DataLoader, loss_fn: torch.nn.Module, acc_fn, device: torch.device = device):\n",
        "  test_loss, test_accuracy = 0, 0\n",
        "\n",
        "  model.eval()\n",
        "  with torch.inference_mode():\n",
        "    for batch, (X, y) in enumerate(dataloader):\n",
        "      # allocate data to device\n",
        "      X, y = X.to(device), y.to(device)\n",
        "\n",
        "      # forward pass\n",
        "      logits = model(X)\n",
        "      labels = torch.argmax(torch.softmax(logits, dim=1), dim=1)\n",
        "\n",
        "      # calculate and store loss\n",
        "      loss = loss_fn(logits, y)\n",
        "      test_loss += loss\n",
        "      # calculate and store accuracy\n",
        "      test_accuracy += acc_fn(labels, y)\n",
        "\n",
        "    test_loss /= len(dataloader)\n",
        "    test_accuracy /= len(dataloader)\n",
        "\n",
        "    print(f\"test loss: {test_loss:.5f} | test accuracy: {test_accuracy:.2f}%\")\n"
      ],
      "metadata": {
        "id": "ThFCZCac-Suq"
      },
      "execution_count": 19,
      "outputs": []
    },
    {
      "cell_type": "code",
      "source": [
        "epochs = 3\n",
        "# train and test model using train and test function\n",
        "for epoch in range(epochs):\n",
        "  print(f\"epoch: {epoch}\")\n",
        "\n",
        "  train_step(model_2, train_loader, loss_func, accuracy_func, device)\n",
        "  test_step(model_2, test_loader, loss_func, accuracy_func, device)"
      ],
      "metadata": {
        "id": "w1xHucSLMIDV",
        "colab": {
          "base_uri": "https://localhost:8080/"
        },
        "outputId": "dc8a032f-60ac-49a8-c7ac-9b3411eba027"
      },
      "execution_count": 20,
      "outputs": [
        {
          "output_type": "stream",
          "name": "stdout",
          "text": [
            "epoch: 0\n",
            "train loss: 1.05878 | train_accuracy: 0.62%\n",
            "test loss: 0.99506 | test accuracy: 0.64%\n",
            "epoch: 1\n",
            "train loss: 0.91331 | train_accuracy: 0.66%\n",
            "test loss: 0.90508 | test accuracy: 0.67%\n",
            "epoch: 2\n",
            "train loss: 0.87982 | train_accuracy: 0.67%\n",
            "test loss: 0.89476 | test accuracy: 0.66%\n"
          ]
        }
      ]
    },
    {
      "cell_type": "code",
      "source": [
        "model_2_results = evaluate_model(model_2, test_loader, loss_func, accuracy_func, device)\n",
        "print(model_2_results)"
      ],
      "metadata": {
        "id": "Rk7y1ayVPeQg",
        "colab": {
          "base_uri": "https://localhost:8080/"
        },
        "outputId": "314cf569-cb08-4c91-87bd-c889d06677cc"
      },
      "execution_count": 21,
      "outputs": [
        {
          "output_type": "stream",
          "name": "stdout",
          "text": [
            "{'model name': 'SimpleNonLinearModel', 'model_loss': 0.8947636485099792, 'model_accuracy': 66.46365523338318}\n"
          ]
        }
      ]
    },
    {
      "cell_type": "code",
      "source": [
        "# custom convolutional network based on TinyVGG\n",
        "class ConvolutionalNeuralNetwork(nn.Module):\n",
        "  def __init__(self):\n",
        "    super().__init__()\n",
        "    self.block1 = nn.Sequential(\n",
        "        nn.Conv2d(in_channels=1, out_channels=10, kernel_size=3, stride=1, padding=1),\n",
        "        nn.ReLU(),\n",
        "        nn.Conv2d(in_channels=10, out_channels=10, kernel_size=3, stride=1, padding=1),\n",
        "        nn.ReLU(),\n",
        "        nn.MaxPool2d(kernel_size=2, stride=2)\n",
        "    )\n",
        "    self.block2 = nn.Sequential(\n",
        "        nn.Conv2d(in_channels=10, out_channels=10, kernel_size=3, padding=1),\n",
        "        nn.ReLU(),\n",
        "        nn.Conv2d(in_channels=10, out_channels=10, kernel_size=3, padding=1),\n",
        "        nn.ReLU(),\n",
        "        nn.MaxPool2d(kernel_size=2) # default stride is the same as the kernel size\n",
        "    )\n",
        "    self.fc = nn.Sequential(\n",
        "        nn.Flatten(),\n",
        "        nn.Linear(in_features=10*7*7, out_features=10)\n",
        "    )\n",
        "\n",
        "  def forward(self, x):\n",
        "    return self.fc(self.block2(self.block1(x)))\n",
        "\n",
        "# instantiate model\n",
        "torch.manual_seed(42)\n",
        "model_3 = ConvolutionalNeuralNetwork().to(device)"
      ],
      "metadata": {
        "id": "0dPY8uPrQiSq"
      },
      "execution_count": 22,
      "outputs": []
    },
    {
      "cell_type": "code",
      "source": [
        "# experiment with convolution layer\n",
        "torch.manual_seed(42)\n",
        "\n",
        "# [batch, channels, width, height]\n",
        "x = torch.randn((3, 64 ,64)).unsqueeze(dim=0) # add single batch dimension\n",
        "print(x.shape) # [1, 3, 64, 64]\n",
        "\n",
        "conv_layer = nn.Conv2d(in_channels=3, out_channels=10, kernel_size=3, stride=1, padding=0)\n",
        "print(conv_layer(x).shape) # [1, 10, 62, 62]\n",
        "\n",
        "# new output shape = ({[n - k + 2p] / s} + 1, {[n - k + 2p] / s} + 1)"
      ],
      "metadata": {
        "id": "LfGdky-1q3n1",
        "colab": {
          "base_uri": "https://localhost:8080/"
        },
        "outputId": "fb116c50-7a16-442f-cb59-1d72fca55dc5"
      },
      "execution_count": 23,
      "outputs": [
        {
          "output_type": "stream",
          "name": "stdout",
          "text": [
            "torch.Size([1, 3, 64, 64])\n",
            "torch.Size([1, 10, 62, 62])\n"
          ]
        }
      ]
    },
    {
      "cell_type": "code",
      "source": [
        "# experiment with max pooling layer\n",
        "torch.manual_seed(42)\n",
        "\n",
        "x = torch.randn((3, 64, 64)).unsqueeze(dim=0)\n",
        "print(x.shape) # [1, 3, 64, 64]\n",
        "\n",
        "max_pool = nn.MaxPool2d(kernel_size=2) # stride is same as kernel size by default\n",
        "print(max_pool(x).shape) # [1, 3, 32, 32]\n",
        "\n",
        "x = torch.randn((1, 2, 2)).unsqueeze(dim=0)\n",
        "print(x)\n",
        "print(x.shape)\n",
        "\n",
        "y = max_pool(x)\n",
        "print(y) # select the highest value in the 2x2 kernel\n",
        "print(y.shape) # [1, 1, 1, 1]"
      ],
      "metadata": {
        "id": "dpfYuEOMsCA2",
        "colab": {
          "base_uri": "https://localhost:8080/"
        },
        "outputId": "2d9f6702-994d-4100-a173-6ba2711c9a00"
      },
      "execution_count": 24,
      "outputs": [
        {
          "output_type": "stream",
          "name": "stdout",
          "text": [
            "torch.Size([1, 3, 64, 64])\n",
            "torch.Size([1, 3, 32, 32])\n",
            "tensor([[[[ 0.7264, -0.4500],\n",
            "          [ 0.4298,  0.3540]]]])\n",
            "torch.Size([1, 1, 2, 2])\n",
            "tensor([[[[0.7264]]]])\n",
            "torch.Size([1, 1, 1, 1])\n"
          ]
        }
      ]
    },
    {
      "cell_type": "code",
      "source": [
        "# experiment with average pooling\n",
        "torch.manual_seed(42)\n",
        "\n",
        "x = torch.randn((1, 2, 2)).unsqueeze(dim=0)\n",
        "print(x)\n",
        "print(x.shape) # [1, 1, 2, 2]\n",
        "\n",
        "avg_pool = nn.AvgPool2d(kernel_size=2) # stride is the same as kernel size by default\n",
        "\n",
        "y = avg_pool(x)\n",
        "print(y) # select the average of all values within the kernel space\n",
        "print(y) # [1, 1, 1, 1]"
      ],
      "metadata": {
        "id": "ixBI4lf2tKYq",
        "colab": {
          "base_uri": "https://localhost:8080/"
        },
        "outputId": "2a006b9e-0a0e-48f3-bab4-0e39937cdaa5"
      },
      "execution_count": 25,
      "outputs": [
        {
          "output_type": "stream",
          "name": "stdout",
          "text": [
            "tensor([[[[0.3367, 0.1288],\n",
            "          [0.2345, 0.2303]]]])\n",
            "torch.Size([1, 1, 2, 2])\n",
            "tensor([[[[0.2326]]]])\n",
            "tensor([[[[0.2326]]]])\n"
          ]
        }
      ]
    },
    {
      "cell_type": "code",
      "source": [
        "# set up loss function\n",
        "loss_func = nn.CrossEntropyLoss()\n",
        "# set up optimizer\n",
        "optimizer = torch.optim.SGD(params=model_3.parameters(), lr=0.1)\n",
        "# set up accuracy metric\n",
        "accuracy = Accuracy().to(device)"
      ],
      "metadata": {
        "id": "1GBNtsDtuBBu"
      },
      "execution_count": 26,
      "outputs": []
    },
    {
      "cell_type": "code",
      "source": [
        "# train and test loop\n",
        "epochs = 3\n",
        "\n",
        "for epoch in range(epochs):\n",
        "  print(f\"epoch: {epoch}\")\n",
        "  train_step(model_3, train_loader, loss_func, accuracy_func, device)\n",
        "  test_step(model_3, test_loader, loss_func, accuracy_func, device)"
      ],
      "metadata": {
        "id": "5wTRFO60uSop",
        "colab": {
          "base_uri": "https://localhost:8080/"
        },
        "outputId": "49303a09-3bb3-49b3-a668-6e3b6bdabb83"
      },
      "execution_count": 27,
      "outputs": [
        {
          "output_type": "stream",
          "name": "stdout",
          "text": [
            "epoch: 0\n",
            "train loss: 0.58227 | train_accuracy: 0.79%\n",
            "test loss: 0.43141 | test accuracy: 0.84%\n",
            "epoch: 1\n",
            "train loss: 0.35265 | train_accuracy: 0.87%\n",
            "test loss: 0.34488 | test accuracy: 0.88%\n",
            "epoch: 2\n",
            "train loss: 0.31474 | train_accuracy: 0.89%\n",
            "test loss: 0.33231 | test accuracy: 0.88%\n"
          ]
        }
      ]
    },
    {
      "cell_type": "code",
      "source": [
        "# evaluate model 3 results\n",
        "model_3_results = evaluate_model(model_3, test_loader, loss_func, accuracy_func, device)\n",
        "print(model_3_results)"
      ],
      "metadata": {
        "id": "1LOvGEHJIioH",
        "colab": {
          "base_uri": "https://localhost:8080/"
        },
        "outputId": "5497e937-7468-4607-96f8-ae51e3c70742"
      },
      "execution_count": 28,
      "outputs": [
        {
          "output_type": "stream",
          "name": "stdout",
          "text": [
            "{'model name': 'ConvolutionalNeuralNetwork', 'model_loss': 0.3323083817958832, 'model_accuracy': 87.8494381904602}\n"
          ]
        }
      ]
    },
    {
      "cell_type": "code",
      "source": [
        "# combine results of all three models\n",
        "import pandas as pd\n",
        "# create combined data frame\n",
        "results = pd.DataFrame([model_1_results, model_2_results, model_3_results])\n",
        "print(results)\n",
        "\n",
        "# compare the accuracy of each model\n",
        "results.set_index(['model name'])['model_accuracy'].plot(kind='barh')\n",
        "plt.xlabel('Accuracy (%)')\n",
        "plt.ylabel('Model')"
      ],
      "metadata": {
        "id": "LSrIQ8FUIJwk",
        "colab": {
          "base_uri": "https://localhost:8080/",
          "height": 366
        },
        "outputId": "af6324ff-b5a1-409c-af30-5c3cb2d5878d"
      },
      "execution_count": 29,
      "outputs": [
        {
          "output_type": "stream",
          "name": "stdout",
          "text": [
            "                   model name  model_loss  model_accuracy\n",
            "0           SimpleLinearModel    0.468694       83.266771\n",
            "1        SimpleNonLinearModel    0.894764       66.463655\n",
            "2  ConvolutionalNeuralNetwork    0.332308       87.849438\n"
          ]
        },
        {
          "output_type": "execute_result",
          "data": {
            "text/plain": [
              "Text(0, 0.5, 'Model')"
            ]
          },
          "metadata": {},
          "execution_count": 29
        },
        {
          "output_type": "display_data",
          "data": {
            "text/plain": [
              "<Figure size 432x288 with 1 Axes>"
            ],
            "image/png": "[encoded data removed]"
          },
          "metadata": {
            "needs_background": "light"
          }
        }
      ]
    },
    {
      "cell_type": "markdown",
      "source": [
        "### Evaluate random predictions made by a model"
      ],
      "metadata": {
        "id": "J8EE8205L5Ey"
      }
    },
    {
      "cell_type": "code",
      "source": [
        "def make_predictions(model: torch.nn.Module, data: list, device: torch.device = device):\n",
        "  pred_probabilities = [] # store the softmax probabilities for each sample\n",
        "  model.eval()\n",
        "  with torch.inference_mode():\n",
        "    for sample in data:\n",
        "      # return tesnor with single a batch dimension using the sample and allocate to the device\n",
        "      sample = torch.unsqueeze(sample, dim=0).to(device)\n",
        "\n",
        "      # prediction logits\n",
        "      pred_logits = model(sample)\n",
        "\n",
        "      # calculate probabilites of each class for the sample using softmax\n",
        "      pred_prob = torch.softmax(pred_logits.squeeze(), dim=0) # unsqueeze to remove batch dimension\n",
        "\n",
        "      # store probabilites\n",
        "      pred_probabilities.append(pred_prob.cpu()) # allocate to cpu for numpy and/or matplotlib\n",
        "  \n",
        "  # stack probabilities into vector tensor\n",
        "  return torch.stack(pred_probabilities)"
      ],
      "metadata": {
        "id": "0K8_CsFSL9Wu"
      },
      "execution_count": 30,
      "outputs": []
    },
    {
      "cell_type": "code",
      "source": [
        "import random\n",
        "\n",
        "random.seed(42)\n",
        "\n",
        "test_samples = []\n",
        "test_labels = []\n",
        "\n",
        "# choose 9 random sample and label pairs from the test dataset\n",
        "for sample, label in random.sample(list(test_data), k=9):\n",
        "  test_samples.append(sample)\n",
        "  test_labels.append(label)"
      ],
      "metadata": {
        "id": "t6U-U4_sOJSi"
      },
      "execution_count": 31,
      "outputs": []
    },
    {
      "cell_type": "code",
      "source": [
        "# make predictions on random data using a specific model\n",
        "pred_probabilities = make_predictions(model_3, test_samples, device)\n",
        "print(pred_probabilities)"
      ],
      "metadata": {
        "colab": {
          "base_uri": "https://localhost:8080/"
        },
        "id": "VIUJD8sxPFUa",
        "outputId": "97c6df05-14ec-4fd8-c74f-a9ccf0dd27a7"
      },
      "execution_count": 32,
      "outputs": [
        {
          "output_type": "stream",
          "name": "stdout",
          "text": [
            "tensor([[5.7862e-08, 1.2982e-09, 7.8743e-09, 1.2540e-08, 1.6788e-09, 9.9999e-01,\n",
            "         1.3115e-07, 1.9509e-08, 1.4620e-06, 1.0484e-05],\n",
            "        [5.9128e-02, 6.9506e-01, 3.0499e-03, 4.6097e-02, 1.6648e-01, 7.8357e-05,\n",
            "         2.8398e-02, 7.3174e-05, 1.6132e-03, 1.6774e-05],\n",
            "        [2.6756e-04, 1.3817e-06, 1.0090e-04, 3.7630e-05, 3.6892e-06, 3.1875e-03,\n",
            "         1.1949e-04, 8.3499e-01, 6.9090e-03, 1.5439e-01],\n",
            "        [6.0840e-04, 3.3146e-04, 1.5143e-01, 2.3443e-04, 8.4677e-01, 9.6704e-08,\n",
            "         5.6158e-04, 1.6681e-07, 6.3142e-05, 6.7773e-07],\n",
            "        [2.1056e-02, 1.0570e-05, 1.5394e-04, 9.7209e-01, 9.7773e-05, 3.5029e-07,\n",
            "         6.5234e-03, 2.9468e-06, 5.9722e-05, 2.9791e-06],\n",
            "        [5.1932e-01, 1.0845e-05, 2.1818e-03, 2.0001e-03, 2.7259e-03, 2.8020e-07,\n",
            "         4.7325e-01, 5.2760e-07, 5.1354e-04, 4.9466e-08],\n",
            "        [8.6792e-05, 2.2355e-05, 2.5709e-02, 2.0932e-06, 9.0552e-01, 6.2912e-08,\n",
            "         6.7777e-02, 1.9759e-09, 8.8261e-04, 4.0862e-07],\n",
            "        [8.3569e-06, 2.3748e-07, 4.0756e-06, 2.0027e-06, 2.5435e-07, 9.9905e-04,\n",
            "         5.5120e-07, 9.9760e-01, 1.3317e-03, 5.7078e-05],\n",
            "        [5.0644e-05, 9.9937e-01, 2.3399e-06, 5.4564e-04, 3.1791e-05, 1.5712e-07,\n",
            "         1.5579e-06, 4.9062e-07, 8.7191e-07, 7.4903e-08]])\n"
          ]
        }
      ]
    },
    {
      "cell_type": "code",
      "source": [
        "# convert predictions probabilities into predicted labels\n",
        "pred_classes = pred_probabilities.argmax(dim=1)\n",
        "print(pred_classes)"
      ],
      "metadata": {
        "colab": {
          "base_uri": "https://localhost:8080/"
        },
        "id": "7Xr7R8S4Ucw3",
        "outputId": "740fc726-10aa-4a30-f1aa-2394f90ef13a"
      },
      "execution_count": 33,
      "outputs": [
        {
          "output_type": "stream",
          "name": "stdout",
          "text": [
            "tensor([5, 1, 7, 4, 3, 0, 4, 7, 1])\n"
          ]
        }
      ]
    },
    {
      "cell_type": "code",
      "source": [
        "# print the actual labels for the test samples\n",
        "print(test_labels)"
      ],
      "metadata": {
        "colab": {
          "base_uri": "https://localhost:8080/"
        },
        "id": "cHYnmYkmUuIl",
        "outputId": "f846dee6-44f3-4d9e-a0fb-0ddf1611ccb6"
      },
      "execution_count": 34,
      "outputs": [
        {
          "output_type": "stream",
          "name": "stdout",
          "text": [
            "[5, 1, 7, 4, 3, 0, 4, 7, 1]\n"
          ]
        }
      ]
    },
    {
      "cell_type": "code",
      "source": [
        "# plot test predicitions against real targets\n",
        "plt.figure(figsize=(9,9))\n",
        "nrows = 3\n",
        "ncols = 3\n",
        "\n",
        "for i, sample in enumerate(test_samples): # return index and value of elements within a list\n",
        "  # create subplot\n",
        "  plt.subplot(nrows, ncols, i+1)\n",
        "  # plot the sample image as greyscale\n",
        "  plt.imshow(sample.squeeze(), cmap='gray')\n",
        "  \n",
        "  # text for predicted label\n",
        "  pred_label = test_data.classes[pred_classes[i]]\n",
        "  # text for true label\n",
        "  true_label = test_data.classes[test_labels[i]]\n",
        "\n",
        "  subplot_title = f\"Pred: {pred_label} | True: {true_label}\"\n",
        "  # change the colour of the subplot title if predicted label is the same as the true label\n",
        "  if pred_label == true_label:\n",
        "    plt.title(subplot_title, fontsize=10, c='g')\n",
        "  else:\n",
        "    plt.title(subplot_title, fontsize=10, c='r')\n",
        "  plt.axis(False)\n"
      ],
      "metadata": {
        "colab": {
          "base_uri": "https://localhost:8080/",
          "height": 534
        },
        "id": "WN-VCeIQXLiE",
        "outputId": "409a4537-4cba-4cce-ebe8-90ff91897c91"
      },
      "execution_count": 35,
      "outputs": [
        {
          "output_type": "display_data",
          "data": {
            "text/plain": [
              "<Figure size 648x648 with 9 Axes>"
            ],
            "image/png": "[encoded data removed]"
          },
          "metadata": {
            "needs_background": "light"
          }
        }
      ]
    },
    {
      "cell_type": "markdown",
      "source": [
        "### Creating a confusion matrix"
      ],
      "metadata": {
        "id": "x9u2tWSz5SOG"
      }
    },
    {
      "cell_type": "code",
      "source": [
        "# import progress bar\n",
        "from tqdm.auto import tqdm\n",
        "\n",
        "# making predictions with the convolutional neural network model\n",
        "y_preds = []\n",
        "model_3.eval()\n",
        "with torch.inference_mode():\n",
        "  for X, y in tqdm(test_loader, desc='predictions'):\n",
        "    X, y = X.to(device), y.to(device) # allocate data to GPU\n",
        "\n",
        "    # logit output\n",
        "    y_logits = model_3(X)\n",
        "    # label output\n",
        "    y_labels = torch.argmax(torch.softmax(y_logits, dim=1), dim=1)\n",
        "\n",
        "    y_preds.append(y_labels.cpu())\n",
        "  \n",
        "# concatenate list of predictions into one single tensor\n",
        "y_pred_tensor = torch.cat(y_preds)"
      ],
      "metadata": {
        "colab": {
          "base_uri": "https://localhost:8080/",
          "height": 49,
          "referenced_widgets": [
            "e0a96545e127429cbe9ae92bafca9342",
            "36bd8252b8914f279e28efdb6070ff41",
            "89e855b704644594b11e177998c4c74d",
            "589b07ba5c8e4567b84887db16a69206",
            "7f188ad94b47499b8010c585d5aa8cc9",
            "45a16b5a56dd4131970cca65a6e89090",
            "f42987516ee34ef7b629e74eb3974840",
            "68e7cb4f9ee043adb88ef3f18d4cc1b2",
            "5474807d9e684b22b555b5a43720872e",
            "492f7a14114a410ba745bea1bd2b3b1c",
            "66184697f4d44ba4b411575555126894"
          ]
        },
        "id": "_20nTkXk5VTp",
        "outputId": "cdae0de6-5cdc-460d-fcdf-9eda1946e6af"
      },
      "execution_count": 36,
      "outputs": [
        {
          "output_type": "display_data",
          "data": {
            "text/plain": [
              "predictions:   0%|          | 0/313 [00:00<?, ?it/s]"
            ],
            "application/vnd.jupyter.widget-view+json": {
              "version_major": 2,
              "version_minor": 0,
              "model_id": "e0a96545e127429cbe9ae92bafca9342"
            }
          },
          "metadata": {}
        }
      ]
    },
    {
      "cell_type": "code",
      "source": [
        "# check if torchmetrics is installed\n",
        "try:\n",
        "  import torchmetrics, mlxtend\n",
        "  print(f\"mlxtend version: {mlxtend.__version__}\")\n",
        "  # mlztend version should be 0.19.0 or higher\n",
        "  assert int(mlxtend.__version__.split('.')[1]) >= 19\n",
        "except:\n",
        "  !pip install torchmetrics -U mlxtend # runtime restart required\n",
        "  import torchmetrics, mlxtend\n",
        "  print(f\"mlxtend version: {mlxtend.__version__}\") # mlxtend version 19 or higher"
      ],
      "metadata": {
        "colab": {
          "base_uri": "https://localhost:8080/"
        },
        "id": "ov0j02ll7eEA",
        "outputId": "b308dde2-b528-4935-8e3b-180864f87540"
      },
      "execution_count": 37,
      "outputs": [
        {
          "output_type": "stream",
          "name": "stdout",
          "text": [
            "mlxtend version: 0.21.0\n"
          ]
        }
      ]
    },
    {
      "cell_type": "code",
      "source": [
        "from torchmetrics import ConfusionMatrix\n",
        "from mlxtend.plotting import plot_confusion_matrix\n",
        "\n",
        "# instantiate confusion matrix\n",
        "confusion_matrix = ConfusionMatrix(num_classes=len(train_data.classes))\n",
        "# compare predictions to targets\n",
        "confusion_matrix_tensor = confusion_matrix(preds=y_pred_tensor, target=test_data.targets)\n",
        "\n",
        "# plot confusion matrix\n",
        "fig, ax = plot_confusion_matrix(confusion_matrix_tensor.numpy(), class_names=train_data.classes, figsize=(10,7))"
      ],
      "metadata": {
        "colab": {
          "base_uri": "https://localhost:8080/",
          "height": 477
        },
        "id": "vMIhQGtG9dQa",
        "outputId": "84c7eb14-368c-4314-9869-3b20d8cccc21"
      },
      "execution_count": 38,
      "outputs": [
        {
          "output_type": "display_data",
          "data": {
            "text/plain": [
              "<Figure size 720x504 with 1 Axes>"
            ],
            "image/png": "[encoded data removed]"
          },
          "metadata": {
            "needs_background": "light"
          }
        }
      ]
    },
    {
      "cell_type": "markdown",
      "source": [
        "A confusion matrix shows good classification accuracy of a model, if the number in the diagonals are large, and all other cells are zero.\n",
        "\n",
        "The convolutional neural network model shows poorer performance distinguishing between t-shirts and shirts as well as t-shirts and pullovers."
      ],
      "metadata": {
        "id": "nuOrn8B__nZG"
      }
    },
    {
      "cell_type": "code",
      "source": [
        "import random\n",
        "\n",
        "random.seed(10)\n",
        "test_samples = []\n",
        "test_labels = []\n",
        "\n",
        "# choose 50 random sample and label pairs from the test dataset\n",
        "for sample, label in random.sample(list(test_data), k=50):\n",
        "  test_samples.append(sample)\n",
        "  test_labels.append(label)\n",
        "\n",
        "# make predictions on random data using a specific model\n",
        "pred_probabilities = make_predictions(model_3, test_samples, device)\n",
        "\n",
        "# convert predictions probabilities into predicted labels\n",
        "pred_classes = pred_probabilities.argmax(dim=1)\n",
        "\n",
        "# plot up to 9 incorrect test predicitions against real targets\n",
        "plt.figure(figsize=(9,9))\n",
        "nrows = 3\n",
        "ncols = 3\n",
        "j = 1\n",
        "\n",
        "for i, sample in enumerate(test_samples): # return index and value of elements within a list\n",
        "  # text for predicted label\n",
        "  pred_label = test_data.classes[pred_classes[i]]\n",
        "  # text for true label\n",
        "  true_label = test_data.classes[test_labels[i]]\n",
        "\n",
        "  if (pred_label != true_label):\n",
        "    # create subplot\n",
        "    plt.subplot(nrows, ncols, j)\n",
        "    # plot the sample image as greyscale\n",
        "    plt.imshow(sample.squeeze(), cmap='gray')\n",
        "  \n",
        "    subplot_title = f\"Pred: {pred_label} | True: {true_label}\"\n",
        "    plt.title(subplot_title, fontsize=10, c='r')\n",
        "    plt.axis(False)\n",
        "    # update subplot index\n",
        "    j = j+1\n"
      ],
      "metadata": {
        "id": "5H_-zZQoEZvt",
        "outputId": "525c6b45-cd1a-41de-eb2c-63396c226f44",
        "colab": {
          "base_uri": "https://localhost:8080/",
          "height": 534
        }
      },
      "execution_count": 39,
      "outputs": [
        {
          "output_type": "display_data",
          "data": {
            "text/plain": [
              "<Figure size 648x648 with 7 Axes>"
            ],
            "image/png": "[encoded data removed]"
          },
          "metadata": {
            "needs_background": "light"
          }
        }
      ]
    },
    {
      "cell_type": "markdown",
      "source": [
        "The model struggles to classifier fashion items that look similar (e.g. pullovers with t-shirts/tops and sneakers with sandals)\n",
        "\n",
        "This is evidence of data error leading to poorer accuracy, as these items are very closely related. The model performance is very good for items that are different. The model could therefore be improved if samples and labels were further from each other, rtaher than there being a problem with the CNN itself."
      ],
      "metadata": {
        "id": "alom10A9F3qu"
      }
    },
    {
      "cell_type": "markdown",
      "source": [
        "### Save and load a model"
      ],
      "metadata": {
        "id": "87Gt27RpHAlq"
      }
    },
    {
      "cell_type": "code",
      "source": [
        "# save model\n",
        "\n",
        "from pathlib import Path\n",
        "\n",
        "# create models directory if it does not exist\n",
        "MODEL_PATH = Path('Models')\n",
        "MODEL_PATH.mkdir(parents=True, exist_ok=True)\n",
        "\n",
        "# create the model save path\n",
        "MODEL_NAME = 'convolutional_neural_network.pth'\n",
        "MODEL_SAVE_PATH = MODEL_PATH / MODEL_NAME\n",
        "\n",
        "print(f\"Model saved to {MODEL_SAVE_PATH}\")\n",
        "# save model state dict\n",
        "torch.save(obj=model_3.state_dict(), f=MODEL_SAVE_PATH)"
      ],
      "metadata": {
        "id": "nKjhTvn1GyrO",
        "outputId": "9e642b4c-d84b-44b0-b17a-2e12b9dfe76d",
        "colab": {
          "base_uri": "https://localhost:8080/"
        }
      },
      "execution_count": 40,
      "outputs": [
        {
          "output_type": "stream",
          "name": "stdout",
          "text": [
            "Model saved to Models/convolutional_neural_network.pth\n"
          ]
        }
      ]
    },
    {
      "cell_type": "code",
      "source": [
        "# load model\n",
        "\n",
        "# create new instance of convolutional neural network\n",
        "model_4 = ConvolutionalNeuralNetwork()\n",
        "\n",
        "# load state dict of previously saved model\n",
        "model_4.load_state_dict(torch.load(f=MODEL_SAVE_PATH))\n",
        "# allocate to GPU\n",
        "model_4 = model_4.to(device)"
      ],
      "metadata": {
        "id": "_avMm6IPH5im"
      },
      "execution_count": 41,
      "outputs": []
    },
    {
      "cell_type": "code",
      "source": [
        "# evaluate and compare both convolutional neural networks\n",
        "torch.manual_seed(42)\n",
        "\n",
        "model_4_results = evaluate_model(model_4, test_loader, loss_func, accuracy_func, device)\n",
        "print(model_4_results)"
      ],
      "metadata": {
        "id": "g4xnQGDQIY8v",
        "outputId": "f53ea165-c2f0-437d-fe83-c51fbb22ed98",
        "colab": {
          "base_uri": "https://localhost:8080/"
        }
      },
      "execution_count": 42,
      "outputs": [
        {
          "output_type": "stream",
          "name": "stdout",
          "text": [
            "{'model name': 'ConvolutionalNeuralNetwork', 'model_loss': 0.3323083817958832, 'model_accuracy': 87.8494381904602}\n"
          ]
        }
      ]
    },
    {
      "cell_type": "code",
      "source": [
        "# using torch.isclose() to compare the similarity of the results for both models within some tolerance\n",
        "torch.isclose(torch.tensor(model_4_results['model_accuracy']), torch.tensor(model_3_results['model_accuracy']), atol=1e-08)"
      ],
      "metadata": {
        "id": "3NfKvxGZI4Yd",
        "outputId": "b823dd63-92c9-407d-d8fe-b0c52f8aab03",
        "colab": {
          "base_uri": "https://localhost:8080/"
        }
      },
      "execution_count": 43,
      "outputs": [
        {
          "output_type": "execute_result",
          "data": {
            "text/plain": [
              "tensor(True)"
            ]
          },
          "metadata": {},
          "execution_count": 43
        }
      ]
    }
  ]
}