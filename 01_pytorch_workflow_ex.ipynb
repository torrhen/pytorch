{
  "nbformat": 4,
  "nbformat_minor": 0,
  "metadata": {
    "colab": {
      "provenance": []
    },
    "kernelspec": {
      "name": "python3",
      "display_name": "Python 3"
    },
    "language_info": {
      "name": "python"
    },
    "gpuClass": "standard"
  },
  "cells": [
    {
      "cell_type": "markdown",
      "source": [
        "# 01. PyTorch Workflow Exercise Template\n",
        "\n",
        "The following is a template for the PyTorch workflow exercises.\n",
        "\n",
        "It's only starter code and it's your job to fill in the blanks.\n",
        "\n",
        "Because of the flexibility of PyTorch, there may be more than one way to answer the question.\n",
        "\n",
        "Don't worry about trying to be *right* just try writing code that suffices the question.\n",
        "\n",
        "You can see one form of [solutions on GitHub](https://github.com/mrdbourke/pytorch-deep-learning/tree/main/extras/solutions) (but try the exercises below yourself first!)."
      ],
      "metadata": {
        "id": "N8LsPXZti9Sw"
      }
    },
    {
      "cell_type": "code",
      "source": [
        "# Import necessary libraries\n",
        "import torch\n",
        "from torch import nn\n",
        "\n",
        "print(torch.__version__)"
      ],
      "metadata": {
        "id": "Glu2fM4dkNlx",
        "colab": {
          "base_uri": "https://localhost:8080/"
        },
        "outputId": "7404dfd3-73a6-427d-9986-028ff859631c"
      },
      "execution_count": null,
      "outputs": [
        {
          "output_type": "stream",
          "name": "stdout",
          "text": [
            "1.12.1+cu113\n"
          ]
        }
      ]
    },
    {
      "cell_type": "code",
      "source": [
        "# Setup device-agnostic code\n",
        "device = 'cuda' if torch.cuda.is_available() else 'cpu'"
      ],
      "metadata": {
        "id": "LqKhXY26m31s"
      },
      "execution_count": null,
      "outputs": []
    },
    {
      "cell_type": "markdown",
      "source": [
        "## 1. Create a straight line dataset using the linear regression formula (`weight * X + bias`).\n",
        "  * Set `weight=0.3` and `bias=0.9` there should be at least 100 datapoints total. \n",
        "  * Split the data into 80% training, 20% testing.\n",
        "  * Plot the training and testing data so it becomes visual.\n",
        "\n",
        "Your output of the below cell should look something like:\n",
        "```\n",
        "Number of X samples: 100\n",
        "Number of y samples: 100\n",
        "First 10 X & y samples:\n",
        "X: tensor([0.0000, 0.0100, 0.0200, 0.0300, 0.0400, 0.0500, 0.0600, 0.0700, 0.0800,\n",
        "        0.0900])\n",
        "y: tensor([0.9000, 0.9030, 0.9060, 0.9090, 0.9120, 0.9150, 0.9180, 0.9210, 0.9240,\n",
        "        0.9270])\n",
        "```\n",
        "\n",
        "Of course the numbers in `X` and `y` may be different but ideally they're created using the linear regression formula."
      ],
      "metadata": {
        "id": "g7HUhxCxjeBx"
      }
    },
    {
      "cell_type": "code",
      "source": [
        "# Create the data parameters\n",
        "weight = 0.3\n",
        "bias = 0.9\n",
        "\n",
        "# Make X and y using linear regression feature\n",
        "X = torch.arange(0, 1, 0.01).unsqueeze(dim=1)\n",
        "y = weight * X + bias\n",
        "\n",
        "print(f\"Number of X samples: {len(X)}\")\n",
        "print(f\"Number of y samples: {len(y)}\")\n",
        "print(f\"First 10 X & y samples:\\nX: {X[:10]}\\ny: {y[:10]}\")"
      ],
      "metadata": {
        "id": "KbDG5MV7jhvE",
        "colab": {
          "base_uri": "https://localhost:8080/"
        },
        "outputId": "1f5d51cc-b0ef-41ba-96c5-fc76675ba65b"
      },
      "execution_count": null,
      "outputs": [
        {
          "output_type": "stream",
          "name": "stdout",
          "text": [
            "Number of X samples: 100\n",
            "Number of y samples: 100\n",
            "First 10 X & y samples:\n",
            "X: tensor([[0.0000],\n",
            "        [0.0100],\n",
            "        [0.0200],\n",
            "        [0.0300],\n",
            "        [0.0400],\n",
            "        [0.0500],\n",
            "        [0.0600],\n",
            "        [0.0700],\n",
            "        [0.0800],\n",
            "        [0.0900]])\n",
            "y: tensor([[0.9000],\n",
            "        [0.9030],\n",
            "        [0.9060],\n",
            "        [0.9090],\n",
            "        [0.9120],\n",
            "        [0.9150],\n",
            "        [0.9180],\n",
            "        [0.9210],\n",
            "        [0.9240],\n",
            "        [0.9270]])\n"
          ]
        }
      ]
    },
    {
      "cell_type": "code",
      "source": [
        "# Split the data into training and testing\n",
        "training_split = int(0.8 * len(X))\n",
        "train_X = X[:training_split]\n",
        "train_y = y[:training_split]\n",
        "\n",
        "test_X = X[training_split:]\n",
        "test_y = y[training_split:]"
      ],
      "metadata": {
        "id": "GlwtT1djkmLw"
      },
      "execution_count": null,
      "outputs": []
    },
    {
      "cell_type": "code",
      "source": [
        "# Plot the training and testing data \n",
        "import matplotlib.pyplot as plt\n",
        "\n",
        "plt.scatter(train_X, train_y, color='b', label='Training Data', s=4)\n",
        "plt.scatter(test_X, test_y, color='g', label='Test Data', s=4)\n",
        "plt.xlabel('X')\n",
        "plt.ylabel('Y')\n",
        "plt.legend()\n",
        "plt.show()"
      ],
      "metadata": {
        "id": "29iQZFNhlYJ-",
        "colab": {
          "base_uri": "https://localhost:8080/",
          "height": 279
        },
        "outputId": "bff1ea10-278c-4566-92c0-c1226862226b"
      },
      "execution_count": null,
      "outputs": [
        {
          "output_type": "display_data",
          "data": {
            "text/plain": [
              "<Figure size 432x288 with 1 Axes>"
            ],
            "image/png": "[encoded data removed]"
          },
          "metadata": {
            "needs_background": "light"
          }
        }
      ]
    },
    {
      "cell_type": "markdown",
      "source": [
        "## 2. Build a PyTorch model by subclassing `nn.Module`. \n",
        "  * Inside should be a randomly initialized `nn.Parameter()` with `requires_grad=True`, one for `weights` and one for `bias`. \n",
        "  * Implement the `forward()` method to compute the linear regression function you used to create the dataset in 1. \n",
        "  * Once you've constructed the model, make an instance of it and check its `state_dict()`.\n",
        "  * **Note:** If you'd like to use `nn.Linear()` instead of `nn.Parameter()` you can."
      ],
      "metadata": {
        "id": "ImZoe3v8jif8"
      }
    },
    {
      "cell_type": "code",
      "source": [
        "# Create PyTorch linear regression model by subclassing nn.Module\n",
        "class LinearRegressionExercise(nn.Module):\n",
        "  def __init__(self):\n",
        "    super().__init__()\n",
        "    self.linear = nn.Linear(in_features=1, out_features=1)\n",
        "\n",
        "  def forward(self, x):\n",
        "    return self.linear(x)"
      ],
      "metadata": {
        "id": "qzd__Y5rjtB8"
      },
      "execution_count": null,
      "outputs": []
    },
    {
      "cell_type": "code",
      "source": [
        "# Instantiate the model and put it to the target device\n",
        "model_ex = LinearRegressionExercise()\n",
        "print(model_ex.state_dict())\n",
        "\n",
        "model_ex.to(device)"
      ],
      "metadata": {
        "id": "5LdcDnmOmyQ2",
        "colab": {
          "base_uri": "https://localhost:8080/"
        },
        "outputId": "4268f165-c863-49a7-dbc8-cd68eb5a4df2"
      },
      "execution_count": null,
      "outputs": [
        {
          "output_type": "stream",
          "name": "stdout",
          "text": [
            "OrderedDict([('linear.weight', tensor([[0.4133]])), ('linear.bias', tensor([0.5812]))])\n"
          ]
        },
        {
          "output_type": "execute_result",
          "data": {
            "text/plain": [
              "LinearRegressionExercise(\n",
              "  (linear): Linear(in_features=1, out_features=1, bias=True)\n",
              ")"
            ]
          },
          "metadata": {},
          "execution_count": 7
        }
      ]
    },
    {
      "cell_type": "markdown",
      "source": [
        "## 3. Create a loss function and optimizer using `nn.L1Loss()` and `torch.optim.SGD(params, lr)` respectively. \n",
        "  * Set the learning rate of the optimizer to be 0.01 and the parameters to optimize should be the model parameters from the model you created in 2.\n",
        "  * Write a training loop to perform the appropriate training steps for 300 epochs.\n",
        "  * The training loop should test the model on the test dataset every 20 epochs."
      ],
      "metadata": {
        "id": "G6nYOrJhjtfu"
      }
    },
    {
      "cell_type": "code",
      "source": [
        "# Create the loss function and optimizer\n",
        "loss_func = nn.L1Loss() # MAE\n",
        "print(loss_func)\n",
        "\n",
        "optimizer = torch.optim.SGD(params=model_ex.parameters(), lr=0.01)\n",
        "print(optimizer)"
      ],
      "metadata": {
        "id": "ltvoZ-FWjv1j",
        "colab": {
          "base_uri": "https://localhost:8080/"
        },
        "outputId": "dd666a1a-6c77-4e90-d6e7-b7f8a1cd915d"
      },
      "execution_count": null,
      "outputs": [
        {
          "output_type": "stream",
          "name": "stdout",
          "text": [
            "L1Loss()\n",
            "SGD (\n",
            "Parameter Group 0\n",
            "    dampening: 0\n",
            "    foreach: None\n",
            "    lr: 0.01\n",
            "    maximize: False\n",
            "    momentum: 0\n",
            "    nesterov: False\n",
            "    weight_decay: 0\n",
            ")\n"
          ]
        }
      ]
    },
    {
      "cell_type": "code",
      "source": [
        "# Training loop\n",
        "\n",
        "# allocate data to GPU (if available)\n",
        "\n",
        "# Train model for 300 epochs\n",
        "epochs = 300\n",
        "\n",
        "# Send data to target device\n",
        "train_X = train_X.to(device)\n",
        "train_y = train_y.to(device)\n",
        "test_X = test_X.to(device)\n",
        "test_y = test_y.to(device)\n",
        "\n",
        "for epoch in range(epochs):\n",
        "  ### Training\n",
        "\n",
        "  # Put model in train mode\n",
        "  model_ex.train()\n",
        "\n",
        "  # 1. Forward pass\n",
        "  y_preds = model_ex(train_X)\n",
        "\n",
        "  # 2. Calculate loss\n",
        "  loss = loss_func(y_preds, train_y)\n",
        "\n",
        "  # 3. Zero gradients\n",
        "  optimizer.zero_grad()\n",
        "\n",
        "  # 4. Backpropagation\n",
        "  loss.backward()\n",
        "\n",
        "  # 5. Step the optimizer\n",
        "  optimizer.step()\n",
        "\n",
        "  ### Perform testing every 20 epochs\n",
        "  if epoch % 20 == 0:\n",
        "\n",
        "    # Put model in evaluation mode and setup inference context \n",
        "    model_ex.eval()\n",
        "    with torch.inference_mode():\n",
        "\n",
        "      # 1. Forward pass\n",
        "      y_test_pred = model_ex(test_X)\n",
        "      # 2. Calculate test loss\n",
        "      test_loss = loss_func(y_test_pred, test_y)\n",
        "\n",
        "      # Print out what's happening\n",
        "      print(f\"Epoch: {epoch} | Train loss: {loss:.3f} | Test loss: {test_loss:.3f}\")"
      ],
      "metadata": {
        "id": "xpE83NvNnkdV",
        "colab": {
          "base_uri": "https://localhost:8080/"
        },
        "outputId": "108180bc-baaf-4420-84a6-63132a9d9a64"
      },
      "execution_count": null,
      "outputs": [
        {
          "output_type": "stream",
          "name": "stdout",
          "text": [
            "Epoch: 0 | Train loss: 0.274 | Test loss: 0.204\n",
            "Epoch: 20 | Train loss: 0.053 | Test loss: 0.055\n",
            "Epoch: 40 | Train loss: 0.035 | Test loss: 0.079\n",
            "Epoch: 60 | Train loss: 0.028 | Test loss: 0.064\n",
            "Epoch: 80 | Train loss: 0.021 | Test loss: 0.048\n",
            "Epoch: 100 | Train loss: 0.014 | Test loss: 0.033\n",
            "Epoch: 120 | Train loss: 0.007 | Test loss: 0.016\n",
            "Epoch: 140 | Train loss: 0.009 | Test loss: 0.005\n",
            "Epoch: 160 | Train loss: 0.009 | Test loss: 0.005\n",
            "Epoch: 180 | Train loss: 0.009 | Test loss: 0.005\n",
            "Epoch: 200 | Train loss: 0.009 | Test loss: 0.005\n",
            "Epoch: 220 | Train loss: 0.009 | Test loss: 0.005\n",
            "Epoch: 240 | Train loss: 0.009 | Test loss: 0.005\n",
            "Epoch: 260 | Train loss: 0.009 | Test loss: 0.005\n",
            "Epoch: 280 | Train loss: 0.009 | Test loss: 0.005\n"
          ]
        }
      ]
    },
    {
      "cell_type": "markdown",
      "source": [
        "## 4. Make predictions with the trained model on the test data.\n",
        "  * Visualize these predictions against the original training and testing data (**note:** you may need to make sure the predictions are *not* on the GPU if you want to use non-CUDA-enabled libraries such as matplotlib to plot)."
      ],
      "metadata": {
        "id": "x4j4TM18jwa7"
      }
    },
    {
      "cell_type": "code",
      "source": [
        "# Make predictions with the model\n",
        "\n",
        "model_ex.eval() # important to set model to eval mode otherwise predictions will be requires_grad = true\n",
        "with torch.inference_mode():\n",
        "  predictions = model_ex(test_X)\n",
        "\n",
        "print(predictions)"
      ],
      "metadata": {
        "id": "bbMPK5Qjjyx_",
        "colab": {
          "base_uri": "https://localhost:8080/"
        },
        "outputId": "f06d3a8b-0774-4ac1-f62d-fcc9ffc1ce9f"
      },
      "execution_count": null,
      "outputs": [
        {
          "output_type": "stream",
          "name": "stdout",
          "text": [
            "tensor([[1.1317],\n",
            "        [1.1347],\n",
            "        [1.1377],\n",
            "        [1.1407],\n",
            "        [1.1438],\n",
            "        [1.1468],\n",
            "        [1.1498],\n",
            "        [1.1528],\n",
            "        [1.1558],\n",
            "        [1.1588],\n",
            "        [1.1618],\n",
            "        [1.1648],\n",
            "        [1.1678],\n",
            "        [1.1708],\n",
            "        [1.1739],\n",
            "        [1.1769],\n",
            "        [1.1799],\n",
            "        [1.1829],\n",
            "        [1.1859],\n",
            "        [1.1889]])\n"
          ]
        }
      ]
    },
    {
      "cell_type": "code",
      "source": [
        "# Plot the predictions (these may need to be on a specific device)\n",
        "plt.scatter(train_X.cpu(), train_y.cpu(), color='b', label='Training Data', s=4)\n",
        "plt.scatter(test_X.cpu(), test_y.cpu(), color='g', label='Test Data', s=4)\n",
        "plt.scatter(test_X.cpu(), predictions.cpu(), color='r', label='Test Data', s=4)\n",
        "\n",
        "plt.xlabel('X')\n",
        "plt.ylabel('Y')\n",
        "plt.legend()\n",
        "plt.show()"
      ],
      "metadata": {
        "id": "K3BdmQaDpFo8",
        "colab": {
          "base_uri": "https://localhost:8080/",
          "height": 279
        },
        "outputId": "9ae6c76f-1319-4692-bbdf-f64e6c4dcb66"
      },
      "execution_count": null,
      "outputs": [
        {
          "output_type": "display_data",
          "data": {
            "text/plain": [
              "<Figure size 432x288 with 1 Axes>"
            ],
            "image/png": "[encoded data removed]"
          },
          "metadata": {
            "needs_background": "light"
          }
        }
      ]
    },
    {
      "cell_type": "markdown",
      "source": [
        "## 5. Save your trained model's `state_dict()` to file.\n",
        "  * Create a new instance of your model class you made in 2. and load in the `state_dict()` you just saved to it.\n",
        "  * Perform predictions on your test data with the loaded model and confirm they match the original model predictions from 4."
      ],
      "metadata": {
        "id": "s2OnlMWKjzX8"
      }
    },
    {
      "cell_type": "code",
      "source": [
        "from pathlib import Path\n",
        "\n",
        "# 1. Create models directory \n",
        "MODEL_FOLDER = Path(\"Models\")\n",
        "MODEL_FOLDER.mkdir(parents=True, exist_ok=True)\n",
        "\n",
        "# 2. Create model save path \n",
        "MODEL_FILE_NAME = Path(\"LinearRegressionExercise01.pth\")\n",
        "MODEL_SAVE_PATH = MODEL_FOLDER / MODEL_FILE_NAME\n",
        "\n",
        "# 3. Save the model state dict\n",
        "torch.save(model_ex.state_dict(), MODEL_SAVE_PATH)"
      ],
      "metadata": {
        "id": "hgxhgD14qr-i"
      },
      "execution_count": null,
      "outputs": []
    },
    {
      "cell_type": "code",
      "source": [
        "# Create new instance of model and load saved state dict (make sure to put it on the target device)\n",
        "new_model = LinearRegressionExercise()\n",
        "\n",
        "new_model.load_state_dict(torch.load(MODEL_SAVE_PATH))\n",
        "\n",
        "new_model = new_model.to(device)"
      ],
      "metadata": {
        "id": "P9vTgiLRrJ7T"
      },
      "execution_count": null,
      "outputs": []
    },
    {
      "cell_type": "code",
      "source": [
        "# Make predictions with loaded model and compare them to the previous\n",
        "new_model.eval()\n",
        "\n",
        "with torch.inference_mode():\n",
        "  new_predictions = new_model(test_X)\n",
        "\n",
        "print(new_predictions)\n",
        "\n",
        "# Plot the predictions (these may need to be on a specific device)\n",
        "plt.scatter(train_X.cpu(), train_y.cpu(), color='b', label='Training Data', s=4)\n",
        "plt.scatter(test_X.cpu(), test_y.cpu(), color='g', label='Test Data', s=4)\n",
        "plt.scatter(test_X.cpu(), new_predictions.cpu(), color='r', label='Test Data', s=4)\n",
        "\n",
        "plt.xlabel('X')\n",
        "plt.ylabel('Y')\n",
        "plt.legend()\n",
        "plt.show()"
      ],
      "metadata": {
        "id": "8UGX3VebrVtI",
        "colab": {
          "base_uri": "https://localhost:8080/",
          "height": 626
        },
        "outputId": "122a204b-041b-408c-f894-e191f052e7a6"
      },
      "execution_count": null,
      "outputs": [
        {
          "output_type": "stream",
          "name": "stdout",
          "text": [
            "tensor([[1.1317],\n",
            "        [1.1347],\n",
            "        [1.1377],\n",
            "        [1.1407],\n",
            "        [1.1438],\n",
            "        [1.1468],\n",
            "        [1.1498],\n",
            "        [1.1528],\n",
            "        [1.1558],\n",
            "        [1.1588],\n",
            "        [1.1618],\n",
            "        [1.1648],\n",
            "        [1.1678],\n",
            "        [1.1708],\n",
            "        [1.1739],\n",
            "        [1.1769],\n",
            "        [1.1799],\n",
            "        [1.1829],\n",
            "        [1.1859],\n",
            "        [1.1889]])\n"
          ]
        },
        {
          "output_type": "display_data",
          "data": {
            "text/plain": [
              "<Figure size 432x288 with 1 Axes>"
            ],
            "image/png": "[encoded data removed]"
          },
          "metadata": {
            "needs_background": "light"
          }
        }
      ]
    }
  ]
}
