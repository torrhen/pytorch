{
  "nbformat": 4,
  "nbformat_minor": 0,
  "metadata": {
    "colab": {
      "provenance": [],
      "include_colab_link": true
    },
    "kernelspec": {
      "name": "python3",
      "display_name": "Python 3"
    },
    "language_info": {
      "name": "python"
    },
    "accelerator": "GPU",
    "widgets": {
      "application/vnd.jupyter.widget-state+json": {
        "7f7a43e9927b487e8282ea7e0ca7306e": {
          "model_module": "@jupyter-widgets/controls",
          "model_name": "HBoxModel",
          "model_module_version": "1.5.0",
          "state": {
            "_dom_classes": [],
            "_model_module": "@jupyter-widgets/controls",
            "_model_module_version": "1.5.0",
            "_model_name": "HBoxModel",
            "_view_count": null,
            "_view_module": "@jupyter-widgets/controls",
            "_view_module_version": "1.5.0",
            "_view_name": "HBoxView",
            "box_style": "",
            "children": [
              "IPY_MODEL_2d946d04f45945a992b76972a62434e0",
              "IPY_MODEL_a2492a0308314ea4a874a2dfc9c301e8",
              "IPY_MODEL_97a64381eb2b41a0995a78d571a55d53"
            ],
            "layout": "IPY_MODEL_d2eeaf9aa5c44b1a90009a65799fd4de"
          }
        },
        "2d946d04f45945a992b76972a62434e0": {
          "model_module": "@jupyter-widgets/controls",
          "model_name": "HTMLModel",
          "model_module_version": "1.5.0",
          "state": {
            "_dom_classes": [],
            "_model_module": "@jupyter-widgets/controls",
            "_model_module_version": "1.5.0",
            "_model_name": "HTMLModel",
            "_view_count": null,
            "_view_module": "@jupyter-widgets/controls",
            "_view_module_version": "1.5.0",
            "_view_name": "HTMLView",
            "description": "",
            "description_tooltip": null,
            "layout": "IPY_MODEL_bdd7696703ba4f57b6c3b187ae81292f",
            "placeholder": "​",
            "style": "IPY_MODEL_20abe5552ec240ccaa10cf765cef0b2f",
            "value": "100%"
          }
        },
        "a2492a0308314ea4a874a2dfc9c301e8": {
          "model_module": "@jupyter-widgets/controls",
          "model_name": "FloatProgressModel",
          "model_module_version": "1.5.0",
          "state": {
            "_dom_classes": [],
            "_model_module": "@jupyter-widgets/controls",
            "_model_module_version": "1.5.0",
            "_model_name": "FloatProgressModel",
            "_view_count": null,
            "_view_module": "@jupyter-widgets/controls",
            "_view_module_version": "1.5.0",
            "_view_name": "ProgressView",
            "bar_style": "success",
            "description": "",
            "description_tooltip": null,
            "layout": "IPY_MODEL_a2c15aadb97e43a7bdd31c8bb74531a5",
            "max": 21444401,
            "min": 0,
            "orientation": "horizontal",
            "style": "IPY_MODEL_a3d9ae3e6f5643c1992149fa86ef263c",
            "value": 21444401
          }
        },
        "97a64381eb2b41a0995a78d571a55d53": {
          "model_module": "@jupyter-widgets/controls",
          "model_name": "HTMLModel",
          "model_module_version": "1.5.0",
          "state": {
            "_dom_classes": [],
            "_model_module": "@jupyter-widgets/controls",
            "_model_module_version": "1.5.0",
            "_model_name": "HTMLModel",
            "_view_count": null,
            "_view_module": "@jupyter-widgets/controls",
            "_view_module_version": "1.5.0",
            "_view_name": "HTMLView",
            "description": "",
            "description_tooltip": null,
            "layout": "IPY_MODEL_0431d00f79e7445d8ac290e306b256d7",
            "placeholder": "​",
            "style": "IPY_MODEL_db2418e80d2c4935ba0742b370012686",
            "value": " 20.5M/20.5M [00:00&lt;00:00, 95.1MB/s]"
          }
        },
        "d2eeaf9aa5c44b1a90009a65799fd4de": {
          "model_module": "@jupyter-widgets/base",
          "model_name": "LayoutModel",
          "model_module_version": "1.2.0",
          "state": {
            "_model_module": "@jupyter-widgets/base",
            "_model_module_version": "1.2.0",
            "_model_name": "LayoutModel",
            "_view_count": null,
            "_view_module": "@jupyter-widgets/base",
            "_view_module_version": "1.2.0",
            "_view_name": "LayoutView",
            "align_content": null,
            "align_items": null,
            "align_self": null,
            "border": null,
            "bottom": null,
            "display": null,
            "flex": null,
            "flex_flow": null,
            "grid_area": null,
            "grid_auto_columns": null,
            "grid_auto_flow": null,
            "grid_auto_rows": null,
            "grid_column": null,
            "grid_gap": null,
            "grid_row": null,
            "grid_template_areas": null,
            "grid_template_columns": null,
            "grid_template_rows": null,
            "height": null,
            "justify_content": null,
            "justify_items": null,
            "left": null,
            "margin": null,
            "max_height": null,
            "max_width": null,
            "min_height": null,
            "min_width": null,
            "object_fit": null,
            "object_position": null,
            "order": null,
            "overflow": null,
            "overflow_x": null,
            "overflow_y": null,
            "padding": null,
            "right": null,
            "top": null,
            "visibility": null,
            "width": null
          }
        },
        "bdd7696703ba4f57b6c3b187ae81292f": {
          "model_module": "@jupyter-widgets/base",
          "model_name": "LayoutModel",
          "model_module_version": "1.2.0",
          "state": {
            "_model_module": "@jupyter-widgets/base",
            "_model_module_version": "1.2.0",
            "_model_name": "LayoutModel",
            "_view_count": null,
            "_view_module": "@jupyter-widgets/base",
            "_view_module_version": "1.2.0",
            "_view_name": "LayoutView",
            "align_content": null,
            "align_items": null,
            "align_self": null,
            "border": null,
            "bottom": null,
            "display": null,
            "flex": null,
            "flex_flow": null,
            "grid_area": null,
            "grid_auto_columns": null,
            "grid_auto_flow": null,
            "grid_auto_rows": null,
            "grid_column": null,
            "grid_gap": null,
            "grid_row": null,
            "grid_template_areas": null,
            "grid_template_columns": null,
            "grid_template_rows": null,
            "height": null,
            "justify_content": null,
            "justify_items": null,
            "left": null,
            "margin": null,
            "max_height": null,
            "max_width": null,
            "min_height": null,
            "min_width": null,
            "object_fit": null,
            "object_position": null,
            "order": null,
            "overflow": null,
            "overflow_x": null,
            "overflow_y": null,
            "padding": null,
            "right": null,
            "top": null,
            "visibility": null,
            "width": null
          }
        },
        "20abe5552ec240ccaa10cf765cef0b2f": {
          "model_module": "@jupyter-widgets/controls",
          "model_name": "DescriptionStyleModel",
          "model_module_version": "1.5.0",
          "state": {
            "_model_module": "@jupyter-widgets/controls",
            "_model_module_version": "1.5.0",
            "_model_name": "DescriptionStyleModel",
            "_view_count": null,
            "_view_module": "@jupyter-widgets/base",
            "_view_module_version": "1.2.0",
            "_view_name": "StyleView",
            "description_width": ""
          }
        },
        "a2c15aadb97e43a7bdd31c8bb74531a5": {
          "model_module": "@jupyter-widgets/base",
          "model_name": "LayoutModel",
          "model_module_version": "1.2.0",
          "state": {
            "_model_module": "@jupyter-widgets/base",
            "_model_module_version": "1.2.0",
            "_model_name": "LayoutModel",
            "_view_count": null,
            "_view_module": "@jupyter-widgets/base",
            "_view_module_version": "1.2.0",
            "_view_name": "LayoutView",
            "align_content": null,
            "align_items": null,
            "align_self": null,
            "border": null,
            "bottom": null,
            "display": null,
            "flex": null,
            "flex_flow": null,
            "grid_area": null,
            "grid_auto_columns": null,
            "grid_auto_flow": null,
            "grid_auto_rows": null,
            "grid_column": null,
            "grid_gap": null,
            "grid_row": null,
            "grid_template_areas": null,
            "grid_template_columns": null,
            "grid_template_rows": null,
            "height": null,
            "justify_content": null,
            "justify_items": null,
            "left": null,
            "margin": null,
            "max_height": null,
            "max_width": null,
            "min_height": null,
            "min_width": null,
            "object_fit": null,
            "object_position": null,
            "order": null,
            "overflow": null,
            "overflow_x": null,
            "overflow_y": null,
            "padding": null,
            "right": null,
            "top": null,
            "visibility": null,
            "width": null
          }
        },
        "a3d9ae3e6f5643c1992149fa86ef263c": {
          "model_module": "@jupyter-widgets/controls",
          "model_name": "ProgressStyleModel",
          "model_module_version": "1.5.0",
          "state": {
            "_model_module": "@jupyter-widgets/controls",
            "_model_module_version": "1.5.0",
            "_model_name": "ProgressStyleModel",
            "_view_count": null,
            "_view_module": "@jupyter-widgets/base",
            "_view_module_version": "1.2.0",
            "_view_name": "StyleView",
            "bar_color": null,
            "description_width": ""
          }
        },
        "0431d00f79e7445d8ac290e306b256d7": {
          "model_module": "@jupyter-widgets/base",
          "model_name": "LayoutModel",
          "model_module_version": "1.2.0",
          "state": {
            "_model_module": "@jupyter-widgets/base",
            "_model_module_version": "1.2.0",
            "_model_name": "LayoutModel",
            "_view_count": null,
            "_view_module": "@jupyter-widgets/base",
            "_view_module_version": "1.2.0",
            "_view_name": "LayoutView",
            "align_content": null,
            "align_items": null,
            "align_self": null,
            "border": null,
            "bottom": null,
            "display": null,
            "flex": null,
            "flex_flow": null,
            "grid_area": null,
            "grid_auto_columns": null,
            "grid_auto_flow": null,
            "grid_auto_rows": null,
            "grid_column": null,
            "grid_gap": null,
            "grid_row": null,
            "grid_template_areas": null,
            "grid_template_columns": null,
            "grid_template_rows": null,
            "height": null,
            "justify_content": null,
            "justify_items": null,
            "left": null,
            "margin": null,
            "max_height": null,
            "max_width": null,
            "min_height": null,
            "min_width": null,
            "object_fit": null,
            "object_position": null,
            "order": null,
            "overflow": null,
            "overflow_x": null,
            "overflow_y": null,
            "padding": null,
            "right": null,
            "top": null,
            "visibility": null,
            "width": null
          }
        },
        "db2418e80d2c4935ba0742b370012686": {
          "model_module": "@jupyter-widgets/controls",
          "model_name": "DescriptionStyleModel",
          "model_module_version": "1.5.0",
          "state": {
            "_model_module": "@jupyter-widgets/controls",
            "_model_module_version": "1.5.0",
            "_model_name": "DescriptionStyleModel",
            "_view_count": null,
            "_view_module": "@jupyter-widgets/base",
            "_view_module_version": "1.2.0",
            "_view_name": "StyleView",
            "description_width": ""
          }
        },
        "9a0c223d48d04f958515bef95ebec7eb": {
          "model_module": "@jupyter-widgets/controls",
          "model_name": "HBoxModel",
          "model_module_version": "1.5.0",
          "state": {
            "_dom_classes": [],
            "_model_module": "@jupyter-widgets/controls",
            "_model_module_version": "1.5.0",
            "_model_name": "HBoxModel",
            "_view_count": null,
            "_view_module": "@jupyter-widgets/controls",
            "_view_module_version": "1.5.0",
            "_view_name": "HBoxView",
            "box_style": "",
            "children": [
              "IPY_MODEL_b7d83564fd0f4d61aaa6bf6b8cd5d6c6",
              "IPY_MODEL_6cbb4e5f2e4b460b98ad715068536f2d",
              "IPY_MODEL_3489f56fd10348c99f4102caac437d16"
            ],
            "layout": "IPY_MODEL_57cd08c0fcd8473eb13e460b2d427330"
          }
        },
        "b7d83564fd0f4d61aaa6bf6b8cd5d6c6": {
          "model_module": "@jupyter-widgets/controls",
          "model_name": "HTMLModel",
          "model_module_version": "1.5.0",
          "state": {
            "_dom_classes": [],
            "_model_module": "@jupyter-widgets/controls",
            "_model_module_version": "1.5.0",
            "_model_name": "HTMLModel",
            "_view_count": null,
            "_view_module": "@jupyter-widgets/controls",
            "_view_module_version": "1.5.0",
            "_view_name": "HTMLView",
            "description": "",
            "description_tooltip": null,
            "layout": "IPY_MODEL_2b1e5cd0355040c0baa866cc391e4e18",
            "placeholder": "​",
            "style": "IPY_MODEL_1ed438ccabd342e9a27888f3839da17d",
            "value": "100%"
          }
        },
        "6cbb4e5f2e4b460b98ad715068536f2d": {
          "model_module": "@jupyter-widgets/controls",
          "model_name": "FloatProgressModel",
          "model_module_version": "1.5.0",
          "state": {
            "_dom_classes": [],
            "_model_module": "@jupyter-widgets/controls",
            "_model_module_version": "1.5.0",
            "_model_name": "FloatProgressModel",
            "_view_count": null,
            "_view_module": "@jupyter-widgets/controls",
            "_view_module_version": "1.5.0",
            "_view_name": "ProgressView",
            "bar_style": "success",
            "description": "",
            "description_tooltip": null,
            "layout": "IPY_MODEL_87a0702e2c7a4cac9568b0699a36afc0",
            "max": 5,
            "min": 0,
            "orientation": "horizontal",
            "style": "IPY_MODEL_145da07b451843338b406a8917f4817c",
            "value": 5
          }
        },
        "3489f56fd10348c99f4102caac437d16": {
          "model_module": "@jupyter-widgets/controls",
          "model_name": "HTMLModel",
          "model_module_version": "1.5.0",
          "state": {
            "_dom_classes": [],
            "_model_module": "@jupyter-widgets/controls",
            "_model_module_version": "1.5.0",
            "_model_name": "HTMLModel",
            "_view_count": null,
            "_view_module": "@jupyter-widgets/controls",
            "_view_module_version": "1.5.0",
            "_view_name": "HTMLView",
            "description": "",
            "description_tooltip": null,
            "layout": "IPY_MODEL_78ca8d900b704f239eddd241fd20b5dd",
            "placeholder": "​",
            "style": "IPY_MODEL_ba6186dcba72472aa317de44f31b493a",
            "value": " 5/5 [00:21&lt;00:00,  3.06s/it]"
          }
        },
        "57cd08c0fcd8473eb13e460b2d427330": {
          "model_module": "@jupyter-widgets/base",
          "model_name": "LayoutModel",
          "model_module_version": "1.2.0",
          "state": {
            "_model_module": "@jupyter-widgets/base",
            "_model_module_version": "1.2.0",
            "_model_name": "LayoutModel",
            "_view_count": null,
            "_view_module": "@jupyter-widgets/base",
            "_view_module_version": "1.2.0",
            "_view_name": "LayoutView",
            "align_content": null,
            "align_items": null,
            "align_self": null,
            "border": null,
            "bottom": null,
            "display": null,
            "flex": null,
            "flex_flow": null,
            "grid_area": null,
            "grid_auto_columns": null,
            "grid_auto_flow": null,
            "grid_auto_rows": null,
            "grid_column": null,
            "grid_gap": null,
            "grid_row": null,
            "grid_template_areas": null,
            "grid_template_columns": null,
            "grid_template_rows": null,
            "height": null,
            "justify_content": null,
            "justify_items": null,
            "left": null,
            "margin": null,
            "max_height": null,
            "max_width": null,
            "min_height": null,
            "min_width": null,
            "object_fit": null,
            "object_position": null,
            "order": null,
            "overflow": null,
            "overflow_x": null,
            "overflow_y": null,
            "padding": null,
            "right": null,
            "top": null,
            "visibility": null,
            "width": null
          }
        },
        "2b1e5cd0355040c0baa866cc391e4e18": {
          "model_module": "@jupyter-widgets/base",
          "model_name": "LayoutModel",
          "model_module_version": "1.2.0",
          "state": {
            "_model_module": "@jupyter-widgets/base",
            "_model_module_version": "1.2.0",
            "_model_name": "LayoutModel",
            "_view_count": null,
            "_view_module": "@jupyter-widgets/base",
            "_view_module_version": "1.2.0",
            "_view_name": "LayoutView",
            "align_content": null,
            "align_items": null,
            "align_self": null,
            "border": null,
            "bottom": null,
            "display": null,
            "flex": null,
            "flex_flow": null,
            "grid_area": null,
            "grid_auto_columns": null,
            "grid_auto_flow": null,
            "grid_auto_rows": null,
            "grid_column": null,
            "grid_gap": null,
            "grid_row": null,
            "grid_template_areas": null,
            "grid_template_columns": null,
            "grid_template_rows": null,
            "height": null,
            "justify_content": null,
            "justify_items": null,
            "left": null,
            "margin": null,
            "max_height": null,
            "max_width": null,
            "min_height": null,
            "min_width": null,
            "object_fit": null,
            "object_position": null,
            "order": null,
            "overflow": null,
            "overflow_x": null,
            "overflow_y": null,
            "padding": null,
            "right": null,
            "top": null,
            "visibility": null,
            "width": null
          }
        },
        "1ed438ccabd342e9a27888f3839da17d": {
          "model_module": "@jupyter-widgets/controls",
          "model_name": "DescriptionStyleModel",
          "model_module_version": "1.5.0",
          "state": {
            "_model_module": "@jupyter-widgets/controls",
            "_model_module_version": "1.5.0",
            "_model_name": "DescriptionStyleModel",
            "_view_count": null,
            "_view_module": "@jupyter-widgets/base",
            "_view_module_version": "1.2.0",
            "_view_name": "StyleView",
            "description_width": ""
          }
        },
        "87a0702e2c7a4cac9568b0699a36afc0": {
          "model_module": "@jupyter-widgets/base",
          "model_name": "LayoutModel",
          "model_module_version": "1.2.0",
          "state": {
            "_model_module": "@jupyter-widgets/base",
            "_model_module_version": "1.2.0",
            "_model_name": "LayoutModel",
            "_view_count": null,
            "_view_module": "@jupyter-widgets/base",
            "_view_module_version": "1.2.0",
            "_view_name": "LayoutView",
            "align_content": null,
            "align_items": null,
            "align_self": null,
            "border": null,
            "bottom": null,
            "display": null,
            "flex": null,
            "flex_flow": null,
            "grid_area": null,
            "grid_auto_columns": null,
            "grid_auto_flow": null,
            "grid_auto_rows": null,
            "grid_column": null,
            "grid_gap": null,
            "grid_row": null,
            "grid_template_areas": null,
            "grid_template_columns": null,
            "grid_template_rows": null,
            "height": null,
            "justify_content": null,
            "justify_items": null,
            "left": null,
            "margin": null,
            "max_height": null,
            "max_width": null,
            "min_height": null,
            "min_width": null,
            "object_fit": null,
            "object_position": null,
            "order": null,
            "overflow": null,
            "overflow_x": null,
            "overflow_y": null,
            "padding": null,
            "right": null,
            "top": null,
            "visibility": null,
            "width": null
          }
        },
        "145da07b451843338b406a8917f4817c": {
          "model_module": "@jupyter-widgets/controls",
          "model_name": "ProgressStyleModel",
          "model_module_version": "1.5.0",
          "state": {
            "_model_module": "@jupyter-widgets/controls",
            "_model_module_version": "1.5.0",
            "_model_name": "ProgressStyleModel",
            "_view_count": null,
            "_view_module": "@jupyter-widgets/base",
            "_view_module_version": "1.2.0",
            "_view_name": "StyleView",
            "bar_color": null,
            "description_width": ""
          }
        },
        "78ca8d900b704f239eddd241fd20b5dd": {
          "model_module": "@jupyter-widgets/base",
          "model_name": "LayoutModel",
          "model_module_version": "1.2.0",
          "state": {
            "_model_module": "@jupyter-widgets/base",
            "_model_module_version": "1.2.0",
            "_model_name": "LayoutModel",
            "_view_count": null,
            "_view_module": "@jupyter-widgets/base",
            "_view_module_version": "1.2.0",
            "_view_name": "LayoutView",
            "align_content": null,
            "align_items": null,
            "align_self": null,
            "border": null,
            "bottom": null,
            "display": null,
            "flex": null,
            "flex_flow": null,
            "grid_area": null,
            "grid_auto_columns": null,
            "grid_auto_flow": null,
            "grid_auto_rows": null,
            "grid_column": null,
            "grid_gap": null,
            "grid_row": null,
            "grid_template_areas": null,
            "grid_template_columns": null,
            "grid_template_rows": null,
            "height": null,
            "justify_content": null,
            "justify_items": null,
            "left": null,
            "margin": null,
            "max_height": null,
            "max_width": null,
            "min_height": null,
            "min_width": null,
            "object_fit": null,
            "object_position": null,
            "order": null,
            "overflow": null,
            "overflow_x": null,
            "overflow_y": null,
            "padding": null,
            "right": null,
            "top": null,
            "visibility": null,
            "width": null
          }
        },
        "ba6186dcba72472aa317de44f31b493a": {
          "model_module": "@jupyter-widgets/controls",
          "model_name": "DescriptionStyleModel",
          "model_module_version": "1.5.0",
          "state": {
            "_model_module": "@jupyter-widgets/controls",
            "_model_module_version": "1.5.0",
            "_model_name": "DescriptionStyleModel",
            "_view_count": null,
            "_view_module": "@jupyter-widgets/base",
            "_view_module_version": "1.2.0",
            "_view_name": "StyleView",
            "description_width": ""
          }
        },
        "f08facb66323443480f3dc2812337f40": {
          "model_module": "@jupyter-widgets/controls",
          "model_name": "HBoxModel",
          "model_module_version": "1.5.0",
          "state": {
            "_dom_classes": [],
            "_model_module": "@jupyter-widgets/controls",
            "_model_module_version": "1.5.0",
            "_model_name": "HBoxModel",
            "_view_count": null,
            "_view_module": "@jupyter-widgets/controls",
            "_view_module_version": "1.5.0",
            "_view_name": "HBoxView",
            "box_style": "",
            "children": [
              "IPY_MODEL_94ec098891bf4a169591e47068587dde",
              "IPY_MODEL_cf073d824a0443a39208c59d77738de9",
              "IPY_MODEL_e605f0a341f9443d99951cd42741304c"
            ],
            "layout": "IPY_MODEL_90c9e06660c94536ada400daddd34bf8"
          }
        },
        "94ec098891bf4a169591e47068587dde": {
          "model_module": "@jupyter-widgets/controls",
          "model_name": "HTMLModel",
          "model_module_version": "1.5.0",
          "state": {
            "_dom_classes": [],
            "_model_module": "@jupyter-widgets/controls",
            "_model_module_version": "1.5.0",
            "_model_name": "HTMLModel",
            "_view_count": null,
            "_view_module": "@jupyter-widgets/controls",
            "_view_module_version": "1.5.0",
            "_view_name": "HTMLView",
            "description": "",
            "description_tooltip": null,
            "layout": "IPY_MODEL_7ec2ffb9c73641488648efa8cb8225d1",
            "placeholder": "​",
            "style": "IPY_MODEL_c9b8853fda68427fa963fe1fd259d48e",
            "value": "100%"
          }
        },
        "cf073d824a0443a39208c59d77738de9": {
          "model_module": "@jupyter-widgets/controls",
          "model_name": "FloatProgressModel",
          "model_module_version": "1.5.0",
          "state": {
            "_dom_classes": [],
            "_model_module": "@jupyter-widgets/controls",
            "_model_module_version": "1.5.0",
            "_model_name": "FloatProgressModel",
            "_view_count": null,
            "_view_module": "@jupyter-widgets/controls",
            "_view_module_version": "1.5.0",
            "_view_name": "ProgressView",
            "bar_style": "success",
            "description": "",
            "description_tooltip": null,
            "layout": "IPY_MODEL_0b4216606f7448b4818b53b6f1d08539",
            "max": 10,
            "min": 0,
            "orientation": "horizontal",
            "style": "IPY_MODEL_c419aa130dc34103a0411538c6e3ff5f",
            "value": 10
          }
        },
        "e605f0a341f9443d99951cd42741304c": {
          "model_module": "@jupyter-widgets/controls",
          "model_name": "HTMLModel",
          "model_module_version": "1.5.0",
          "state": {
            "_dom_classes": [],
            "_model_module": "@jupyter-widgets/controls",
            "_model_module_version": "1.5.0",
            "_model_name": "HTMLModel",
            "_view_count": null,
            "_view_module": "@jupyter-widgets/controls",
            "_view_module_version": "1.5.0",
            "_view_name": "HTMLView",
            "description": "",
            "description_tooltip": null,
            "layout": "IPY_MODEL_10650269ae354bd1995d8c7aaacaf422",
            "placeholder": "​",
            "style": "IPY_MODEL_62dc54ca4bc94aebaf0cbb34bd6b7875",
            "value": " 10/10 [00:30&lt;00:00,  2.65s/it]"
          }
        },
        "90c9e06660c94536ada400daddd34bf8": {
          "model_module": "@jupyter-widgets/base",
          "model_name": "LayoutModel",
          "model_module_version": "1.2.0",
          "state": {
            "_model_module": "@jupyter-widgets/base",
            "_model_module_version": "1.2.0",
            "_model_name": "LayoutModel",
            "_view_count": null,
            "_view_module": "@jupyter-widgets/base",
            "_view_module_version": "1.2.0",
            "_view_name": "LayoutView",
            "align_content": null,
            "align_items": null,
            "align_self": null,
            "border": null,
            "bottom": null,
            "display": null,
            "flex": null,
            "flex_flow": null,
            "grid_area": null,
            "grid_auto_columns": null,
            "grid_auto_flow": null,
            "grid_auto_rows": null,
            "grid_column": null,
            "grid_gap": null,
            "grid_row": null,
            "grid_template_areas": null,
            "grid_template_columns": null,
            "grid_template_rows": null,
            "height": null,
            "justify_content": null,
            "justify_items": null,
            "left": null,
            "margin": null,
            "max_height": null,
            "max_width": null,
            "min_height": null,
            "min_width": null,
            "object_fit": null,
            "object_position": null,
            "order": null,
            "overflow": null,
            "overflow_x": null,
            "overflow_y": null,
            "padding": null,
            "right": null,
            "top": null,
            "visibility": null,
            "width": null
          }
        },
        "7ec2ffb9c73641488648efa8cb8225d1": {
          "model_module": "@jupyter-widgets/base",
          "model_name": "LayoutModel",
          "model_module_version": "1.2.0",
          "state": {
            "_model_module": "@jupyter-widgets/base",
            "_model_module_version": "1.2.0",
            "_model_name": "LayoutModel",
            "_view_count": null,
            "_view_module": "@jupyter-widgets/base",
            "_view_module_version": "1.2.0",
            "_view_name": "LayoutView",
            "align_content": null,
            "align_items": null,
            "align_self": null,
            "border": null,
            "bottom": null,
            "display": null,
            "flex": null,
            "flex_flow": null,
            "grid_area": null,
            "grid_auto_columns": null,
            "grid_auto_flow": null,
            "grid_auto_rows": null,
            "grid_column": null,
            "grid_gap": null,
            "grid_row": null,
            "grid_template_areas": null,
            "grid_template_columns": null,
            "grid_template_rows": null,
            "height": null,
            "justify_content": null,
            "justify_items": null,
            "left": null,
            "margin": null,
            "max_height": null,
            "max_width": null,
            "min_height": null,
            "min_width": null,
            "object_fit": null,
            "object_position": null,
            "order": null,
            "overflow": null,
            "overflow_x": null,
            "overflow_y": null,
            "padding": null,
            "right": null,
            "top": null,
            "visibility": null,
            "width": null
          }
        },
        "c9b8853fda68427fa963fe1fd259d48e": {
          "model_module": "@jupyter-widgets/controls",
          "model_name": "DescriptionStyleModel",
          "model_module_version": "1.5.0",
          "state": {
            "_model_module": "@jupyter-widgets/controls",
            "_model_module_version": "1.5.0",
            "_model_name": "DescriptionStyleModel",
            "_view_count": null,
            "_view_module": "@jupyter-widgets/base",
            "_view_module_version": "1.2.0",
            "_view_name": "StyleView",
            "description_width": ""
          }
        },
        "0b4216606f7448b4818b53b6f1d08539": {
          "model_module": "@jupyter-widgets/base",
          "model_name": "LayoutModel",
          "model_module_version": "1.2.0",
          "state": {
            "_model_module": "@jupyter-widgets/base",
            "_model_module_version": "1.2.0",
            "_model_name": "LayoutModel",
            "_view_count": null,
            "_view_module": "@jupyter-widgets/base",
            "_view_module_version": "1.2.0",
            "_view_name": "LayoutView",
            "align_content": null,
            "align_items": null,
            "align_self": null,
            "border": null,
            "bottom": null,
            "display": null,
            "flex": null,
            "flex_flow": null,
            "grid_area": null,
            "grid_auto_columns": null,
            "grid_auto_flow": null,
            "grid_auto_rows": null,
            "grid_column": null,
            "grid_gap": null,
            "grid_row": null,
            "grid_template_areas": null,
            "grid_template_columns": null,
            "grid_template_rows": null,
            "height": null,
            "justify_content": null,
            "justify_items": null,
            "left": null,
            "margin": null,
            "max_height": null,
            "max_width": null,
            "min_height": null,
            "min_width": null,
            "object_fit": null,
            "object_position": null,
            "order": null,
            "overflow": null,
            "overflow_x": null,
            "overflow_y": null,
            "padding": null,
            "right": null,
            "top": null,
            "visibility": null,
            "width": null
          }
        },
        "c419aa130dc34103a0411538c6e3ff5f": {
          "model_module": "@jupyter-widgets/controls",
          "model_name": "ProgressStyleModel",
          "model_module_version": "1.5.0",
          "state": {
            "_model_module": "@jupyter-widgets/controls",
            "_model_module_version": "1.5.0",
            "_model_name": "ProgressStyleModel",
            "_view_count": null,
            "_view_module": "@jupyter-widgets/base",
            "_view_module_version": "1.2.0",
            "_view_name": "StyleView",
            "bar_color": null,
            "description_width": ""
          }
        },
        "10650269ae354bd1995d8c7aaacaf422": {
          "model_module": "@jupyter-widgets/base",
          "model_name": "LayoutModel",
          "model_module_version": "1.2.0",
          "state": {
            "_model_module": "@jupyter-widgets/base",
            "_model_module_version": "1.2.0",
            "_model_name": "LayoutModel",
            "_view_count": null,
            "_view_module": "@jupyter-widgets/base",
            "_view_module_version": "1.2.0",
            "_view_name": "LayoutView",
            "align_content": null,
            "align_items": null,
            "align_self": null,
            "border": null,
            "bottom": null,
            "display": null,
            "flex": null,
            "flex_flow": null,
            "grid_area": null,
            "grid_auto_columns": null,
            "grid_auto_flow": null,
            "grid_auto_rows": null,
            "grid_column": null,
            "grid_gap": null,
            "grid_row": null,
            "grid_template_areas": null,
            "grid_template_columns": null,
            "grid_template_rows": null,
            "height": null,
            "justify_content": null,
            "justify_items": null,
            "left": null,
            "margin": null,
            "max_height": null,
            "max_width": null,
            "min_height": null,
            "min_width": null,
            "object_fit": null,
            "object_position": null,
            "order": null,
            "overflow": null,
            "overflow_x": null,
            "overflow_y": null,
            "padding": null,
            "right": null,
            "top": null,
            "visibility": null,
            "width": null
          }
        },
        "62dc54ca4bc94aebaf0cbb34bd6b7875": {
          "model_module": "@jupyter-widgets/controls",
          "model_name": "DescriptionStyleModel",
          "model_module_version": "1.5.0",
          "state": {
            "_model_module": "@jupyter-widgets/controls",
            "_model_module_version": "1.5.0",
            "_model_name": "DescriptionStyleModel",
            "_view_count": null,
            "_view_module": "@jupyter-widgets/base",
            "_view_module_version": "1.2.0",
            "_view_name": "StyleView",
            "description_width": ""
          }
        },
        "6e38e88d06b043c3bdc28861faa90e1e": {
          "model_module": "@jupyter-widgets/controls",
          "model_name": "HBoxModel",
          "model_module_version": "1.5.0",
          "state": {
            "_dom_classes": [],
            "_model_module": "@jupyter-widgets/controls",
            "_model_module_version": "1.5.0",
            "_model_name": "HBoxModel",
            "_view_count": null,
            "_view_module": "@jupyter-widgets/controls",
            "_view_module_version": "1.5.0",
            "_view_name": "HBoxView",
            "box_style": "",
            "children": [
              "IPY_MODEL_0696d8f11099476998eb879297aa0d97",
              "IPY_MODEL_f47884a86ee440949ab875eaf47e51d9",
              "IPY_MODEL_db7360dc6c6d4e25bd90b56cd5768eaa"
            ],
            "layout": "IPY_MODEL_6ff070a9607b414abdc186204898a568"
          }
        },
        "0696d8f11099476998eb879297aa0d97": {
          "model_module": "@jupyter-widgets/controls",
          "model_name": "HTMLModel",
          "model_module_version": "1.5.0",
          "state": {
            "_dom_classes": [],
            "_model_module": "@jupyter-widgets/controls",
            "_model_module_version": "1.5.0",
            "_model_name": "HTMLModel",
            "_view_count": null,
            "_view_module": "@jupyter-widgets/controls",
            "_view_module_version": "1.5.0",
            "_view_name": "HTMLView",
            "description": "",
            "description_tooltip": null,
            "layout": "IPY_MODEL_608cf0c39da542998bff92ae56a3a8f5",
            "placeholder": "​",
            "style": "IPY_MODEL_f1b61222934b484ca468c90f162de655",
            "value": "100%"
          }
        },
        "f47884a86ee440949ab875eaf47e51d9": {
          "model_module": "@jupyter-widgets/controls",
          "model_name": "FloatProgressModel",
          "model_module_version": "1.5.0",
          "state": {
            "_dom_classes": [],
            "_model_module": "@jupyter-widgets/controls",
            "_model_module_version": "1.5.0",
            "_model_name": "FloatProgressModel",
            "_view_count": null,
            "_view_module": "@jupyter-widgets/controls",
            "_view_module_version": "1.5.0",
            "_view_name": "ProgressView",
            "bar_style": "success",
            "description": "",
            "description_tooltip": null,
            "layout": "IPY_MODEL_352c8d8e45f74d229b9d8a7ee988b752",
            "max": 10,
            "min": 0,
            "orientation": "horizontal",
            "style": "IPY_MODEL_ec468c3dff3c436893fbd10edfb9cdac",
            "value": 10
          }
        },
        "db7360dc6c6d4e25bd90b56cd5768eaa": {
          "model_module": "@jupyter-widgets/controls",
          "model_name": "HTMLModel",
          "model_module_version": "1.5.0",
          "state": {
            "_dom_classes": [],
            "_model_module": "@jupyter-widgets/controls",
            "_model_module_version": "1.5.0",
            "_model_name": "HTMLModel",
            "_view_count": null,
            "_view_module": "@jupyter-widgets/controls",
            "_view_module_version": "1.5.0",
            "_view_name": "HTMLView",
            "description": "",
            "description_tooltip": null,
            "layout": "IPY_MODEL_168ad814214d40a294621a41534d9d79",
            "placeholder": "​",
            "style": "IPY_MODEL_76066d07975b481f93feea295516bf57",
            "value": " 10/10 [00:21&lt;00:00,  2.16s/it]"
          }
        },
        "6ff070a9607b414abdc186204898a568": {
          "model_module": "@jupyter-widgets/base",
          "model_name": "LayoutModel",
          "model_module_version": "1.2.0",
          "state": {
            "_model_module": "@jupyter-widgets/base",
            "_model_module_version": "1.2.0",
            "_model_name": "LayoutModel",
            "_view_count": null,
            "_view_module": "@jupyter-widgets/base",
            "_view_module_version": "1.2.0",
            "_view_name": "LayoutView",
            "align_content": null,
            "align_items": null,
            "align_self": null,
            "border": null,
            "bottom": null,
            "display": null,
            "flex": null,
            "flex_flow": null,
            "grid_area": null,
            "grid_auto_columns": null,
            "grid_auto_flow": null,
            "grid_auto_rows": null,
            "grid_column": null,
            "grid_gap": null,
            "grid_row": null,
            "grid_template_areas": null,
            "grid_template_columns": null,
            "grid_template_rows": null,
            "height": null,
            "justify_content": null,
            "justify_items": null,
            "left": null,
            "margin": null,
            "max_height": null,
            "max_width": null,
            "min_height": null,
            "min_width": null,
            "object_fit": null,
            "object_position": null,
            "order": null,
            "overflow": null,
            "overflow_x": null,
            "overflow_y": null,
            "padding": null,
            "right": null,
            "top": null,
            "visibility": null,
            "width": null
          }
        },
        "608cf0c39da542998bff92ae56a3a8f5": {
          "model_module": "@jupyter-widgets/base",
          "model_name": "LayoutModel",
          "model_module_version": "1.2.0",
          "state": {
            "_model_module": "@jupyter-widgets/base",
            "_model_module_version": "1.2.0",
            "_model_name": "LayoutModel",
            "_view_count": null,
            "_view_module": "@jupyter-widgets/base",
            "_view_module_version": "1.2.0",
            "_view_name": "LayoutView",
            "align_content": null,
            "align_items": null,
            "align_self": null,
            "border": null,
            "bottom": null,
            "display": null,
            "flex": null,
            "flex_flow": null,
            "grid_area": null,
            "grid_auto_columns": null,
            "grid_auto_flow": null,
            "grid_auto_rows": null,
            "grid_column": null,
            "grid_gap": null,
            "grid_row": null,
            "grid_template_areas": null,
            "grid_template_columns": null,
            "grid_template_rows": null,
            "height": null,
            "justify_content": null,
            "justify_items": null,
            "left": null,
            "margin": null,
            "max_height": null,
            "max_width": null,
            "min_height": null,
            "min_width": null,
            "object_fit": null,
            "object_position": null,
            "order": null,
            "overflow": null,
            "overflow_x": null,
            "overflow_y": null,
            "padding": null,
            "right": null,
            "top": null,
            "visibility": null,
            "width": null
          }
        },
        "f1b61222934b484ca468c90f162de655": {
          "model_module": "@jupyter-widgets/controls",
          "model_name": "DescriptionStyleModel",
          "model_module_version": "1.5.0",
          "state": {
            "_model_module": "@jupyter-widgets/controls",
            "_model_module_version": "1.5.0",
            "_model_name": "DescriptionStyleModel",
            "_view_count": null,
            "_view_module": "@jupyter-widgets/base",
            "_view_module_version": "1.2.0",
            "_view_name": "StyleView",
            "description_width": ""
          }
        },
        "352c8d8e45f74d229b9d8a7ee988b752": {
          "model_module": "@jupyter-widgets/base",
          "model_name": "LayoutModel",
          "model_module_version": "1.2.0",
          "state": {
            "_model_module": "@jupyter-widgets/base",
            "_model_module_version": "1.2.0",
            "_model_name": "LayoutModel",
            "_view_count": null,
            "_view_module": "@jupyter-widgets/base",
            "_view_module_version": "1.2.0",
            "_view_name": "LayoutView",
            "align_content": null,
            "align_items": null,
            "align_self": null,
            "border": null,
            "bottom": null,
            "display": null,
            "flex": null,
            "flex_flow": null,
            "grid_area": null,
            "grid_auto_columns": null,
            "grid_auto_flow": null,
            "grid_auto_rows": null,
            "grid_column": null,
            "grid_gap": null,
            "grid_row": null,
            "grid_template_areas": null,
            "grid_template_columns": null,
            "grid_template_rows": null,
            "height": null,
            "justify_content": null,
            "justify_items": null,
            "left": null,
            "margin": null,
            "max_height": null,
            "max_width": null,
            "min_height": null,
            "min_width": null,
            "object_fit": null,
            "object_position": null,
            "order": null,
            "overflow": null,
            "overflow_x": null,
            "overflow_y": null,
            "padding": null,
            "right": null,
            "top": null,
            "visibility": null,
            "width": null
          }
        },
        "ec468c3dff3c436893fbd10edfb9cdac": {
          "model_module": "@jupyter-widgets/controls",
          "model_name": "ProgressStyleModel",
          "model_module_version": "1.5.0",
          "state": {
            "_model_module": "@jupyter-widgets/controls",
            "_model_module_version": "1.5.0",
            "_model_name": "ProgressStyleModel",
            "_view_count": null,
            "_view_module": "@jupyter-widgets/base",
            "_view_module_version": "1.2.0",
            "_view_name": "StyleView",
            "bar_color": null,
            "description_width": ""
          }
        },
        "168ad814214d40a294621a41534d9d79": {
          "model_module": "@jupyter-widgets/base",
          "model_name": "LayoutModel",
          "model_module_version": "1.2.0",
          "state": {
            "_model_module": "@jupyter-widgets/base",
            "_model_module_version": "1.2.0",
            "_model_name": "LayoutModel",
            "_view_count": null,
            "_view_module": "@jupyter-widgets/base",
            "_view_module_version": "1.2.0",
            "_view_name": "LayoutView",
            "align_content": null,
            "align_items": null,
            "align_self": null,
            "border": null,
            "bottom": null,
            "display": null,
            "flex": null,
            "flex_flow": null,
            "grid_area": null,
            "grid_auto_columns": null,
            "grid_auto_flow": null,
            "grid_auto_rows": null,
            "grid_column": null,
            "grid_gap": null,
            "grid_row": null,
            "grid_template_areas": null,
            "grid_template_columns": null,
            "grid_template_rows": null,
            "height": null,
            "justify_content": null,
            "justify_items": null,
            "left": null,
            "margin": null,
            "max_height": null,
            "max_width": null,
            "min_height": null,
            "min_width": null,
            "object_fit": null,
            "object_position": null,
            "order": null,
            "overflow": null,
            "overflow_x": null,
            "overflow_y": null,
            "padding": null,
            "right": null,
            "top": null,
            "visibility": null,
            "width": null
          }
        },
        "76066d07975b481f93feea295516bf57": {
          "model_module": "@jupyter-widgets/controls",
          "model_name": "DescriptionStyleModel",
          "model_module_version": "1.5.0",
          "state": {
            "_model_module": "@jupyter-widgets/controls",
            "_model_module_version": "1.5.0",
            "_model_name": "DescriptionStyleModel",
            "_view_count": null,
            "_view_module": "@jupyter-widgets/base",
            "_view_module_version": "1.2.0",
            "_view_name": "StyleView",
            "description_width": ""
          }
        },
        "dcbcc7a69435405eb37c2dfa0ca18778": {
          "model_module": "@jupyter-widgets/controls",
          "model_name": "HBoxModel",
          "model_module_version": "1.5.0",
          "state": {
            "_dom_classes": [],
            "_model_module": "@jupyter-widgets/controls",
            "_model_module_version": "1.5.0",
            "_model_name": "HBoxModel",
            "_view_count": null,
            "_view_module": "@jupyter-widgets/controls",
            "_view_module_version": "1.5.0",
            "_view_name": "HBoxView",
            "box_style": "",
            "children": [
              "IPY_MODEL_0d9d5913c4204f6f9610d559c50f8a2c",
              "IPY_MODEL_b3d2d92d498e4d869940026b61e56dad",
              "IPY_MODEL_d106c0faddcd4ca3904dc58634295ed0"
            ],
            "layout": "IPY_MODEL_4690d27077c14b42a7768588ff331a52"
          }
        },
        "0d9d5913c4204f6f9610d559c50f8a2c": {
          "model_module": "@jupyter-widgets/controls",
          "model_name": "HTMLModel",
          "model_module_version": "1.5.0",
          "state": {
            "_dom_classes": [],
            "_model_module": "@jupyter-widgets/controls",
            "_model_module_version": "1.5.0",
            "_model_name": "HTMLModel",
            "_view_count": null,
            "_view_module": "@jupyter-widgets/controls",
            "_view_module_version": "1.5.0",
            "_view_name": "HTMLView",
            "description": "",
            "description_tooltip": null,
            "layout": "IPY_MODEL_60855b27fd4946bb966d1bb6ba93b99a",
            "placeholder": "​",
            "style": "IPY_MODEL_634b25349a0044a48ef46082fa0e0473",
            "value": "100%"
          }
        },
        "b3d2d92d498e4d869940026b61e56dad": {
          "model_module": "@jupyter-widgets/controls",
          "model_name": "FloatProgressModel",
          "model_module_version": "1.5.0",
          "state": {
            "_dom_classes": [],
            "_model_module": "@jupyter-widgets/controls",
            "_model_module_version": "1.5.0",
            "_model_name": "FloatProgressModel",
            "_view_count": null,
            "_view_module": "@jupyter-widgets/controls",
            "_view_module_version": "1.5.0",
            "_view_name": "ProgressView",
            "bar_style": "success",
            "description": "",
            "description_tooltip": null,
            "layout": "IPY_MODEL_ce5b30f9d26b4af09da0b3f47cd1e615",
            "max": 36882185,
            "min": 0,
            "orientation": "horizontal",
            "style": "IPY_MODEL_89dd3bd683d34898878584152c0b1754",
            "value": 36882185
          }
        },
        "d106c0faddcd4ca3904dc58634295ed0": {
          "model_module": "@jupyter-widgets/controls",
          "model_name": "HTMLModel",
          "model_module_version": "1.5.0",
          "state": {
            "_dom_classes": [],
            "_model_module": "@jupyter-widgets/controls",
            "_model_module_version": "1.5.0",
            "_model_name": "HTMLModel",
            "_view_count": null,
            "_view_module": "@jupyter-widgets/controls",
            "_view_module_version": "1.5.0",
            "_view_name": "HTMLView",
            "description": "",
            "description_tooltip": null,
            "layout": "IPY_MODEL_18ed58c1152c486ca1a578412c47534f",
            "placeholder": "​",
            "style": "IPY_MODEL_3b9cc606b6e540a5bed46967362523d6",
            "value": " 35.2M/35.2M [00:00&lt;00:00, 97.1MB/s]"
          }
        },
        "4690d27077c14b42a7768588ff331a52": {
          "model_module": "@jupyter-widgets/base",
          "model_name": "LayoutModel",
          "model_module_version": "1.2.0",
          "state": {
            "_model_module": "@jupyter-widgets/base",
            "_model_module_version": "1.2.0",
            "_model_name": "LayoutModel",
            "_view_count": null,
            "_view_module": "@jupyter-widgets/base",
            "_view_module_version": "1.2.0",
            "_view_name": "LayoutView",
            "align_content": null,
            "align_items": null,
            "align_self": null,
            "border": null,
            "bottom": null,
            "display": null,
            "flex": null,
            "flex_flow": null,
            "grid_area": null,
            "grid_auto_columns": null,
            "grid_auto_flow": null,
            "grid_auto_rows": null,
            "grid_column": null,
            "grid_gap": null,
            "grid_row": null,
            "grid_template_areas": null,
            "grid_template_columns": null,
            "grid_template_rows": null,
            "height": null,
            "justify_content": null,
            "justify_items": null,
            "left": null,
            "margin": null,
            "max_height": null,
            "max_width": null,
            "min_height": null,
            "min_width": null,
            "object_fit": null,
            "object_position": null,
            "order": null,
            "overflow": null,
            "overflow_x": null,
            "overflow_y": null,
            "padding": null,
            "right": null,
            "top": null,
            "visibility": null,
            "width": null
          }
        },
        "60855b27fd4946bb966d1bb6ba93b99a": {
          "model_module": "@jupyter-widgets/base",
          "model_name": "LayoutModel",
          "model_module_version": "1.2.0",
          "state": {
            "_model_module": "@jupyter-widgets/base",
            "_model_module_version": "1.2.0",
            "_model_name": "LayoutModel",
            "_view_count": null,
            "_view_module": "@jupyter-widgets/base",
            "_view_module_version": "1.2.0",
            "_view_name": "LayoutView",
            "align_content": null,
            "align_items": null,
            "align_self": null,
            "border": null,
            "bottom": null,
            "display": null,
            "flex": null,
            "flex_flow": null,
            "grid_area": null,
            "grid_auto_columns": null,
            "grid_auto_flow": null,
            "grid_auto_rows": null,
            "grid_column": null,
            "grid_gap": null,
            "grid_row": null,
            "grid_template_areas": null,
            "grid_template_columns": null,
            "grid_template_rows": null,
            "height": null,
            "justify_content": null,
            "justify_items": null,
            "left": null,
            "margin": null,
            "max_height": null,
            "max_width": null,
            "min_height": null,
            "min_width": null,
            "object_fit": null,
            "object_position": null,
            "order": null,
            "overflow": null,
            "overflow_x": null,
            "overflow_y": null,
            "padding": null,
            "right": null,
            "top": null,
            "visibility": null,
            "width": null
          }
        },
        "634b25349a0044a48ef46082fa0e0473": {
          "model_module": "@jupyter-widgets/controls",
          "model_name": "DescriptionStyleModel",
          "model_module_version": "1.5.0",
          "state": {
            "_model_module": "@jupyter-widgets/controls",
            "_model_module_version": "1.5.0",
            "_model_name": "DescriptionStyleModel",
            "_view_count": null,
            "_view_module": "@jupyter-widgets/base",
            "_view_module_version": "1.2.0",
            "_view_name": "StyleView",
            "description_width": ""
          }
        },
        "ce5b30f9d26b4af09da0b3f47cd1e615": {
          "model_module": "@jupyter-widgets/base",
          "model_name": "LayoutModel",
          "model_module_version": "1.2.0",
          "state": {
            "_model_module": "@jupyter-widgets/base",
            "_model_module_version": "1.2.0",
            "_model_name": "LayoutModel",
            "_view_count": null,
            "_view_module": "@jupyter-widgets/base",
            "_view_module_version": "1.2.0",
            "_view_name": "LayoutView",
            "align_content": null,
            "align_items": null,
            "align_self": null,
            "border": null,
            "bottom": null,
            "display": null,
            "flex": null,
            "flex_flow": null,
            "grid_area": null,
            "grid_auto_columns": null,
            "grid_auto_flow": null,
            "grid_auto_rows": null,
            "grid_column": null,
            "grid_gap": null,
            "grid_row": null,
            "grid_template_areas": null,
            "grid_template_columns": null,
            "grid_template_rows": null,
            "height": null,
            "justify_content": null,
            "justify_items": null,
            "left": null,
            "margin": null,
            "max_height": null,
            "max_width": null,
            "min_height": null,
            "min_width": null,
            "object_fit": null,
            "object_position": null,
            "order": null,
            "overflow": null,
            "overflow_x": null,
            "overflow_y": null,
            "padding": null,
            "right": null,
            "top": null,
            "visibility": null,
            "width": null
          }
        },
        "89dd3bd683d34898878584152c0b1754": {
          "model_module": "@jupyter-widgets/controls",
          "model_name": "ProgressStyleModel",
          "model_module_version": "1.5.0",
          "state": {
            "_model_module": "@jupyter-widgets/controls",
            "_model_module_version": "1.5.0",
            "_model_name": "ProgressStyleModel",
            "_view_count": null,
            "_view_module": "@jupyter-widgets/base",
            "_view_module_version": "1.2.0",
            "_view_name": "StyleView",
            "bar_color": null,
            "description_width": ""
          }
        },
        "18ed58c1152c486ca1a578412c47534f": {
          "model_module": "@jupyter-widgets/base",
          "model_name": "LayoutModel",
          "model_module_version": "1.2.0",
          "state": {
            "_model_module": "@jupyter-widgets/base",
            "_model_module_version": "1.2.0",
            "_model_name": "LayoutModel",
            "_view_count": null,
            "_view_module": "@jupyter-widgets/base",
            "_view_module_version": "1.2.0",
            "_view_name": "LayoutView",
            "align_content": null,
            "align_items": null,
            "align_self": null,
            "border": null,
            "bottom": null,
            "display": null,
            "flex": null,
            "flex_flow": null,
            "grid_area": null,
            "grid_auto_columns": null,
            "grid_auto_flow": null,
            "grid_auto_rows": null,
            "grid_column": null,
            "grid_gap": null,
            "grid_row": null,
            "grid_template_areas": null,
            "grid_template_columns": null,
            "grid_template_rows": null,
            "height": null,
            "justify_content": null,
            "justify_items": null,
            "left": null,
            "margin": null,
            "max_height": null,
            "max_width": null,
            "min_height": null,
            "min_width": null,
            "object_fit": null,
            "object_position": null,
            "order": null,
            "overflow": null,
            "overflow_x": null,
            "overflow_y": null,
            "padding": null,
            "right": null,
            "top": null,
            "visibility": null,
            "width": null
          }
        },
        "3b9cc606b6e540a5bed46967362523d6": {
          "model_module": "@jupyter-widgets/controls",
          "model_name": "DescriptionStyleModel",
          "model_module_version": "1.5.0",
          "state": {
            "_model_module": "@jupyter-widgets/controls",
            "_model_module_version": "1.5.0",
            "_model_name": "DescriptionStyleModel",
            "_view_count": null,
            "_view_module": "@jupyter-widgets/base",
            "_view_module_version": "1.2.0",
            "_view_name": "StyleView",
            "description_width": ""
          }
        },
        "148bda3d807c44c086bd3bddccef0ab0": {
          "model_module": "@jupyter-widgets/controls",
          "model_name": "HBoxModel",
          "model_module_version": "1.5.0",
          "state": {
            "_dom_classes": [],
            "_model_module": "@jupyter-widgets/controls",
            "_model_module_version": "1.5.0",
            "_model_name": "HBoxModel",
            "_view_count": null,
            "_view_module": "@jupyter-widgets/controls",
            "_view_module_version": "1.5.0",
            "_view_name": "HBoxView",
            "box_style": "",
            "children": [
              "IPY_MODEL_d28c3cb34752431596f2c95a6849a6f1",
              "IPY_MODEL_6e5e639f2e77463c90c40b8e1bfa0ca5",
              "IPY_MODEL_98a00d6e84564e9ea2d90183301001f1"
            ],
            "layout": "IPY_MODEL_c4b1e662460b406fbb384d97d0472213"
          }
        },
        "d28c3cb34752431596f2c95a6849a6f1": {
          "model_module": "@jupyter-widgets/controls",
          "model_name": "HTMLModel",
          "model_module_version": "1.5.0",
          "state": {
            "_dom_classes": [],
            "_model_module": "@jupyter-widgets/controls",
            "_model_module_version": "1.5.0",
            "_model_name": "HTMLModel",
            "_view_count": null,
            "_view_module": "@jupyter-widgets/controls",
            "_view_module_version": "1.5.0",
            "_view_name": "HTMLView",
            "description": "",
            "description_tooltip": null,
            "layout": "IPY_MODEL_65e82ae79d7c46a7842147adcd063adf",
            "placeholder": "​",
            "style": "IPY_MODEL_ea7feb7d314c4ddaa8194872f738a4ad",
            "value": "100%"
          }
        },
        "6e5e639f2e77463c90c40b8e1bfa0ca5": {
          "model_module": "@jupyter-widgets/controls",
          "model_name": "FloatProgressModel",
          "model_module_version": "1.5.0",
          "state": {
            "_dom_classes": [],
            "_model_module": "@jupyter-widgets/controls",
            "_model_module_version": "1.5.0",
            "_model_name": "FloatProgressModel",
            "_view_count": null,
            "_view_module": "@jupyter-widgets/controls",
            "_view_module_version": "1.5.0",
            "_view_name": "ProgressView",
            "bar_style": "success",
            "description": "",
            "description_tooltip": null,
            "layout": "IPY_MODEL_2950785a36b642e981d1bb1025b23784",
            "max": 10,
            "min": 0,
            "orientation": "horizontal",
            "style": "IPY_MODEL_2a15bd8f416c4a2589cc18f7b3f5f9fd",
            "value": 10
          }
        },
        "98a00d6e84564e9ea2d90183301001f1": {
          "model_module": "@jupyter-widgets/controls",
          "model_name": "HTMLModel",
          "model_module_version": "1.5.0",
          "state": {
            "_dom_classes": [],
            "_model_module": "@jupyter-widgets/controls",
            "_model_module_version": "1.5.0",
            "_model_name": "HTMLModel",
            "_view_count": null,
            "_view_module": "@jupyter-widgets/controls",
            "_view_module_version": "1.5.0",
            "_view_name": "HTMLView",
            "description": "",
            "description_tooltip": null,
            "layout": "IPY_MODEL_3a78d18416154cb9b42d3cf559c45afc",
            "placeholder": "​",
            "style": "IPY_MODEL_f1ef62ed626449ea9a3f32125810e5bb",
            "value": " 10/10 [01:03&lt;00:00,  6.41s/it]"
          }
        },
        "c4b1e662460b406fbb384d97d0472213": {
          "model_module": "@jupyter-widgets/base",
          "model_name": "LayoutModel",
          "model_module_version": "1.2.0",
          "state": {
            "_model_module": "@jupyter-widgets/base",
            "_model_module_version": "1.2.0",
            "_model_name": "LayoutModel",
            "_view_count": null,
            "_view_module": "@jupyter-widgets/base",
            "_view_module_version": "1.2.0",
            "_view_name": "LayoutView",
            "align_content": null,
            "align_items": null,
            "align_self": null,
            "border": null,
            "bottom": null,
            "display": null,
            "flex": null,
            "flex_flow": null,
            "grid_area": null,
            "grid_auto_columns": null,
            "grid_auto_flow": null,
            "grid_auto_rows": null,
            "grid_column": null,
            "grid_gap": null,
            "grid_row": null,
            "grid_template_areas": null,
            "grid_template_columns": null,
            "grid_template_rows": null,
            "height": null,
            "justify_content": null,
            "justify_items": null,
            "left": null,
            "margin": null,
            "max_height": null,
            "max_width": null,
            "min_height": null,
            "min_width": null,
            "object_fit": null,
            "object_position": null,
            "order": null,
            "overflow": null,
            "overflow_x": null,
            "overflow_y": null,
            "padding": null,
            "right": null,
            "top": null,
            "visibility": null,
            "width": null
          }
        },
        "65e82ae79d7c46a7842147adcd063adf": {
          "model_module": "@jupyter-widgets/base",
          "model_name": "LayoutModel",
          "model_module_version": "1.2.0",
          "state": {
            "_model_module": "@jupyter-widgets/base",
            "_model_module_version": "1.2.0",
            "_model_name": "LayoutModel",
            "_view_count": null,
            "_view_module": "@jupyter-widgets/base",
            "_view_module_version": "1.2.0",
            "_view_name": "LayoutView",
            "align_content": null,
            "align_items": null,
            "align_self": null,
            "border": null,
            "bottom": null,
            "display": null,
            "flex": null,
            "flex_flow": null,
            "grid_area": null,
            "grid_auto_columns": null,
            "grid_auto_flow": null,
            "grid_auto_rows": null,
            "grid_column": null,
            "grid_gap": null,
            "grid_row": null,
            "grid_template_areas": null,
            "grid_template_columns": null,
            "grid_template_rows": null,
            "height": null,
            "justify_content": null,
            "justify_items": null,
            "left": null,
            "margin": null,
            "max_height": null,
            "max_width": null,
            "min_height": null,
            "min_width": null,
            "object_fit": null,
            "object_position": null,
            "order": null,
            "overflow": null,
            "overflow_x": null,
            "overflow_y": null,
            "padding": null,
            "right": null,
            "top": null,
            "visibility": null,
            "width": null
          }
        },
        "ea7feb7d314c4ddaa8194872f738a4ad": {
          "model_module": "@jupyter-widgets/controls",
          "model_name": "DescriptionStyleModel",
          "model_module_version": "1.5.0",
          "state": {
            "_model_module": "@jupyter-widgets/controls",
            "_model_module_version": "1.5.0",
            "_model_name": "DescriptionStyleModel",
            "_view_count": null,
            "_view_module": "@jupyter-widgets/base",
            "_view_module_version": "1.2.0",
            "_view_name": "StyleView",
            "description_width": ""
          }
        },
        "2950785a36b642e981d1bb1025b23784": {
          "model_module": "@jupyter-widgets/base",
          "model_name": "LayoutModel",
          "model_module_version": "1.2.0",
          "state": {
            "_model_module": "@jupyter-widgets/base",
            "_model_module_version": "1.2.0",
            "_model_name": "LayoutModel",
            "_view_count": null,
            "_view_module": "@jupyter-widgets/base",
            "_view_module_version": "1.2.0",
            "_view_name": "LayoutView",
            "align_content": null,
            "align_items": null,
            "align_self": null,
            "border": null,
            "bottom": null,
            "display": null,
            "flex": null,
            "flex_flow": null,
            "grid_area": null,
            "grid_auto_columns": null,
            "grid_auto_flow": null,
            "grid_auto_rows": null,
            "grid_column": null,
            "grid_gap": null,
            "grid_row": null,
            "grid_template_areas": null,
            "grid_template_columns": null,
            "grid_template_rows": null,
            "height": null,
            "justify_content": null,
            "justify_items": null,
            "left": null,
            "margin": null,
            "max_height": null,
            "max_width": null,
            "min_height": null,
            "min_width": null,
            "object_fit": null,
            "object_position": null,
            "order": null,
            "overflow": null,
            "overflow_x": null,
            "overflow_y": null,
            "padding": null,
            "right": null,
            "top": null,
            "visibility": null,
            "width": null
          }
        },
        "2a15bd8f416c4a2589cc18f7b3f5f9fd": {
          "model_module": "@jupyter-widgets/controls",
          "model_name": "ProgressStyleModel",
          "model_module_version": "1.5.0",
          "state": {
            "_model_module": "@jupyter-widgets/controls",
            "_model_module_version": "1.5.0",
            "_model_name": "ProgressStyleModel",
            "_view_count": null,
            "_view_module": "@jupyter-widgets/base",
            "_view_module_version": "1.2.0",
            "_view_name": "StyleView",
            "bar_color": null,
            "description_width": ""
          }
        },
        "3a78d18416154cb9b42d3cf559c45afc": {
          "model_module": "@jupyter-widgets/base",
          "model_name": "LayoutModel",
          "model_module_version": "1.2.0",
          "state": {
            "_model_module": "@jupyter-widgets/base",
            "_model_module_version": "1.2.0",
            "_model_name": "LayoutModel",
            "_view_count": null,
            "_view_module": "@jupyter-widgets/base",
            "_view_module_version": "1.2.0",
            "_view_name": "LayoutView",
            "align_content": null,
            "align_items": null,
            "align_self": null,
            "border": null,
            "bottom": null,
            "display": null,
            "flex": null,
            "flex_flow": null,
            "grid_area": null,
            "grid_auto_columns": null,
            "grid_auto_flow": null,
            "grid_auto_rows": null,
            "grid_column": null,
            "grid_gap": null,
            "grid_row": null,
            "grid_template_areas": null,
            "grid_template_columns": null,
            "grid_template_rows": null,
            "height": null,
            "justify_content": null,
            "justify_items": null,
            "left": null,
            "margin": null,
            "max_height": null,
            "max_width": null,
            "min_height": null,
            "min_width": null,
            "object_fit": null,
            "object_position": null,
            "order": null,
            "overflow": null,
            "overflow_x": null,
            "overflow_y": null,
            "padding": null,
            "right": null,
            "top": null,
            "visibility": null,
            "width": null
          }
        },
        "f1ef62ed626449ea9a3f32125810e5bb": {
          "model_module": "@jupyter-widgets/controls",
          "model_name": "DescriptionStyleModel",
          "model_module_version": "1.5.0",
          "state": {
            "_model_module": "@jupyter-widgets/controls",
            "_model_module_version": "1.5.0",
            "_model_name": "DescriptionStyleModel",
            "_view_count": null,
            "_view_module": "@jupyter-widgets/base",
            "_view_module_version": "1.2.0",
            "_view_name": "StyleView",
            "description_width": ""
          }
        }
      }
    },
    "gpuClass": "standard"
  },
  "cells": [
    {
      "cell_type": "markdown",
      "metadata": {
        "id": "view-in-github",
        "colab_type": "text"
      },
      "source": [
        "<a href=\"https://colab.research.google.com/github/torrhen/pytorch/blob/main/06_pytorch_transfer_learning_ex.ipynb\" target=\"_parent\"><img src=\"https://colab.research.google.com/assets/colab-badge.svg\" alt=\"Open In Colab\"/></a>"
      ]
    },
    {
      "cell_type": "markdown",
      "source": [
        "# 06. PyTorch Transfer Learning Exercises\n",
        "\n",
        "Welcome to the 06. PyTorch Transfer Learning exercise template notebook.\n",
        "\n",
        "There are several questions in this notebook and it's your goal to answer them by writing Python and PyTorch code.\n",
        "\n",
        "> **Note:** There may be more than one solution to each of the exercises, don't worry too much about the *exact* right answer. Try to write some code that works first and then improve it if you can.\n",
        "\n",
        "## Resources and solutions\n",
        "\n",
        "* These exercises/solutions are based on [section 06. PyTorch Transfer Learning](https://www.learnpytorch.io/06_pytorch_transfer_learning/) of the Learn PyTorch for Deep Learning course by Zero to Mastery.\n",
        "\n",
        "**Solutions:** \n",
        "\n",
        "Try to complete the code below *before* looking at these.\n",
        "\n",
        "* See a live [walkthrough of the solutions (errors and all) on YouTube](https://youtu.be/ueLolShyFqs).\n",
        "* See an example [solutions notebook for these exercises on GitHub](https://github.com/mrdbourke/pytorch-deep-learning/blob/main/extras/solutions/06_pytorch_transfer_learning_exercise_solutions.ipynb)."
      ],
      "metadata": {
        "id": "zNqPNlYylluR"
      }
    },
    {
      "cell_type": "markdown",
      "source": [
        "## 1. Make predictions on the entire test dataset and plot a confusion matrix for the results of our model compared to the truth labels. \n",
        "* **Note:** You will need to get the dataset and the trained model/retrain the model from notebook 06 to perform predictions.\n",
        "* Check out [03. PyTorch Computer Vision section 10](https://www.learnpytorch.io/03_pytorch_computer_vision/#10-making-a-confusion-matrix-for-further-prediction-evaluation) for ideas."
      ],
      "metadata": {
        "id": "nwmoMhW8IqSu"
      }
    },
    {
      "cell_type": "code",
      "source": [
        "# Import required libraries/code\n",
        "import torch\n",
        "import torchvision\n",
        "import numpy as np\n",
        "import matplotlib.pyplot as plt\n",
        "\n",
        "from torch import nn\n",
        "from torchvision import transforms, datasets\n",
        "\n",
        "# Try to get torchinfo, install it if it doesn't work\n",
        "try:\n",
        "    from torchinfo import summary\n",
        "except:\n",
        "    print(\"[INFO] Couldn't find torchinfo... installing it.\")\n",
        "    !pip install -q torchinfo\n",
        "    from torchinfo import summary\n",
        "\n",
        "# Try to import the going_modular directory, download it from GitHub if it doesn't work\n",
        "try:\n",
        "    from going_modular.going_modular import data_setup, engine\n",
        "except:\n",
        "    # Get the going_modular scripts\n",
        "    print(\"[INFO] Couldn't find going_modular scripts... downloading them from GitHub.\")\n",
        "    !git clone https://github.com/mrdbourke/pytorch-deep-learning\n",
        "    !mv pytorch-deep-learning/going_modular .\n",
        "    !rm -rf pytorch-deep-learning\n",
        "    from going_modular.going_modular import data_setup, engine"
      ],
      "metadata": {
        "id": "nqtAWBUJgaF1",
        "colab": {
          "base_uri": "https://localhost:8080/"
        },
        "outputId": "896c6570-eb6b-4ccd-f63e-d32ce8256d10"
      },
      "execution_count": 1,
      "outputs": [
        {
          "output_type": "stream",
          "name": "stdout",
          "text": [
            "[INFO] Couldn't find torchinfo... installing it.\n",
            "[INFO] Couldn't find going_modular scripts... downloading them from GitHub.\n",
            "Cloning into 'pytorch-deep-learning'...\n",
            "remote: Enumerating objects: 3350, done.\u001b[K\n",
            "remote: Total 3350 (delta 0), reused 0 (delta 0), pack-reused 3350\u001b[K\n",
            "Receiving objects: 100% (3350/3350), 640.93 MiB | 8.84 MiB/s, done.\n",
            "Resolving deltas: 100% (1921/1921), done.\n",
            "Checking out files: 100% (221/221), done.\n"
          ]
        }
      ]
    },
    {
      "cell_type": "code",
      "source": [
        "# Setup device agnostic code\n",
        "device = \"cuda\" if torch.cuda.is_available() else \"cpu\"\n",
        "device"
      ],
      "metadata": {
        "colab": {
          "base_uri": "https://localhost:8080/",
          "height": 35
        },
        "id": "O10_T_xSKJlf",
        "outputId": "53c62393-f363-4af3-b9f9-51933f3d87de"
      },
      "execution_count": 2,
      "outputs": [
        {
          "output_type": "execute_result",
          "data": {
            "text/plain": [
              "'cuda'"
            ],
            "application/vnd.google.colaboratory.intrinsic+json": {
              "type": "string"
            }
          },
          "metadata": {},
          "execution_count": 2
        }
      ]
    },
    {
      "cell_type": "markdown",
      "source": [
        "### Get data "
      ],
      "metadata": {
        "id": "nrzg3TaSKLAh"
      }
    },
    {
      "cell_type": "code",
      "source": [
        "import os\n",
        "import requests\n",
        "import zipfile\n",
        "\n",
        "from pathlib import Path\n",
        "\n",
        "# Setup path to data folder\n",
        "data_path = Path(\"data/\")\n",
        "image_path = data_path / \"pizza_steak_sushi\"\n",
        "\n",
        "# If the image folder doesn't exist, download it and prepare it... \n",
        "if image_path.is_dir():\n",
        "    print(f\"{image_path} directory exists.\")\n",
        "else:\n",
        "    print(f\"Did not find {image_path} directory, creating one...\")\n",
        "    image_path.mkdir(parents=True, exist_ok=True)\n",
        "    \n",
        "    # Download pizza, steak, sushi data\n",
        "    with open(data_path / \"pizza_steak_sushi.zip\", \"wb\") as f:\n",
        "        request = requests.get(\"https://github.com/mrdbourke/pytorch-deep-learning/raw/main/data/pizza_steak_sushi.zip\")\n",
        "        print(\"Downloading pizza, steak, sushi data...\")\n",
        "        f.write(request.content)\n",
        "\n",
        "    # Unzip pizza, steak, sushi data\n",
        "    with zipfile.ZipFile(data_path / \"pizza_steak_sushi.zip\", \"r\") as zip_ref:\n",
        "        print(\"Unzipping pizza, steak, sushi data...\") \n",
        "        zip_ref.extractall(image_path)\n",
        "\n",
        "    # Remove .zip file\n",
        "    os.remove(data_path / \"pizza_steak_sushi.zip\")\n",
        "\n",
        "# Setup Dirs\n",
        "train_dir = image_path / \"train\"\n",
        "test_dir = image_path / \"test\""
      ],
      "metadata": {
        "colab": {
          "base_uri": "https://localhost:8080/"
        },
        "id": "Lt_CNQ4rKPmg",
        "outputId": "ab83ad74-4936-4a55-f296-f70814d74e12"
      },
      "execution_count": 3,
      "outputs": [
        {
          "output_type": "stream",
          "name": "stdout",
          "text": [
            "Did not find data/pizza_steak_sushi directory, creating one...\n",
            "Downloading pizza, steak, sushi data...\n",
            "Unzipping pizza, steak, sushi data...\n"
          ]
        }
      ]
    },
    {
      "cell_type": "markdown",
      "source": [
        "### Prepare data"
      ],
      "metadata": {
        "id": "PGaMWWaoKQlM"
      }
    },
    {
      "cell_type": "code",
      "source": [
        "# Create a transforms pipeline\n",
        "simple_transform = transforms.Compose([\n",
        "    transforms.Resize((224, 224)), # 1. Reshape all images to 224x224 (though some models may require different sizes)\n",
        "    transforms.ToTensor(), # 2. Turn image values to between 0 & 1 \n",
        "    transforms.Normalize(mean=[0.485, 0.456, 0.406], # 3. A mean of [0.485, 0.456, 0.406] (across each colour channel)\n",
        "                         std=[0.229, 0.224, 0.225]) # 4. A standard deviation of [0.229, 0.224, 0.225] (across each colour channel),\n",
        "])"
      ],
      "metadata": {
        "id": "VNIQNEQVKVXu"
      },
      "execution_count": 4,
      "outputs": []
    },
    {
      "cell_type": "code",
      "source": [
        "# Create training and testing DataLoader's as well as get a list of class names\n",
        "train_dataloader, test_dataloader, class_names = data_setup.create_dataloaders(train_dir=train_dir,\n",
        "                                                                               test_dir=test_dir,\n",
        "                                                                               transform=simple_transform, # resize, convert images to between 0 & 1 and normalize them\n",
        "                                                                               batch_size=32) # set mini-batch size to 32\n",
        "\n",
        "train_dataloader, test_dataloader, class_names"
      ],
      "metadata": {
        "colab": {
          "base_uri": "https://localhost:8080/"
        },
        "id": "Njd5lHTcKW23",
        "outputId": "9aaeaa3b-8878-4224-ee09-322a515e4754"
      },
      "execution_count": 5,
      "outputs": [
        {
          "output_type": "execute_result",
          "data": {
            "text/plain": [
              "(<torch.utils.data.dataloader.DataLoader at 0x7f628bfee220>,\n",
              " <torch.utils.data.dataloader.DataLoader at 0x7f6210d779d0>,\n",
              " ['pizza', 'steak', 'sushi'])"
            ]
          },
          "metadata": {},
          "execution_count": 5
        }
      ]
    },
    {
      "cell_type": "markdown",
      "source": [
        "### Get and prepare a pretrained model"
      ],
      "metadata": {
        "id": "Ciw2DiRHKaSE"
      }
    },
    {
      "cell_type": "code",
      "source": [
        "# Setup the model with pretrained weights and send it to the target device \n",
        "model_0 = torchvision.models.efficientnet_b0(pretrained=True).to(device)\n",
        "#model_0 # uncomment to output (it's very long)"
      ],
      "metadata": {
        "colab": {
          "base_uri": "https://localhost:8080/",
          "height": 156,
          "referenced_widgets": [
            "7f7a43e9927b487e8282ea7e0ca7306e",
            "2d946d04f45945a992b76972a62434e0",
            "a2492a0308314ea4a874a2dfc9c301e8",
            "97a64381eb2b41a0995a78d571a55d53",
            "d2eeaf9aa5c44b1a90009a65799fd4de",
            "bdd7696703ba4f57b6c3b187ae81292f",
            "20abe5552ec240ccaa10cf765cef0b2f",
            "a2c15aadb97e43a7bdd31c8bb74531a5",
            "a3d9ae3e6f5643c1992149fa86ef263c",
            "0431d00f79e7445d8ac290e306b256d7",
            "db2418e80d2c4935ba0742b370012686"
          ]
        },
        "id": "snUuRXd8Kdk5",
        "outputId": "aa38ab93-5189-4849-f4f7-5d78717b775b"
      },
      "execution_count": 6,
      "outputs": [
        {
          "output_type": "stream",
          "name": "stderr",
          "text": [
            "/usr/local/lib/python3.8/dist-packages/torchvision/models/_utils.py:208: UserWarning: The parameter 'pretrained' is deprecated since 0.13 and may be removed in the future, please use 'weights' instead.\n",
            "  warnings.warn(\n",
            "/usr/local/lib/python3.8/dist-packages/torchvision/models/_utils.py:223: UserWarning: Arguments other than a weight enum or `None` for 'weights' are deprecated since 0.13 and may be removed in the future. The current behavior is equivalent to passing `weights=EfficientNet_B0_Weights.IMAGENET1K_V1`. You can also use `weights=EfficientNet_B0_Weights.DEFAULT` to get the most up-to-date weights.\n",
            "  warnings.warn(msg)\n",
            "Downloading: \"https://download.pytorch.org/models/efficientnet_b0_rwightman-3dd342df.pth\" to /root/.cache/torch/hub/checkpoints/efficientnet_b0_rwightman-3dd342df.pth\n"
          ]
        },
        {
          "output_type": "display_data",
          "data": {
            "text/plain": [
              "  0%|          | 0.00/20.5M [00:00<?, ?B/s]"
            ],
            "application/vnd.jupyter.widget-view+json": {
              "version_major": 2,
              "version_minor": 0,
              "model_id": "7f7a43e9927b487e8282ea7e0ca7306e"
            }
          },
          "metadata": {}
        }
      ]
    },
    {
      "cell_type": "code",
      "source": [
        "# Freeze all base layers in the \"features\" section of the model (the feature extractor) by setting requires_grad=False\n",
        "for param in model_0.features.parameters():\n",
        "    param.requires_grad = False"
      ],
      "metadata": {
        "id": "IbRhGvy_KeVL"
      },
      "execution_count": 7,
      "outputs": []
    },
    {
      "cell_type": "code",
      "source": [
        "# Set the manual seeds\n",
        "torch.manual_seed(42)\n",
        "torch.cuda.manual_seed(42)\n",
        "\n",
        "# Get the length of class_names (one output unit for each class)\n",
        "output_shape = len(class_names)\n",
        "\n",
        "# Recreate the classifier layer and seed it to the target device\n",
        "model_0.classifier = torch.nn.Sequential(\n",
        "    torch.nn.Dropout(p=0.2, inplace=True), \n",
        "    torch.nn.Linear(in_features=1280, \n",
        "                    out_features=output_shape, # same number of output units as our number of classes\n",
        "                    bias=True)).to(device)"
      ],
      "metadata": {
        "id": "G1-6xV3ZKeSX"
      },
      "execution_count": 8,
      "outputs": []
    },
    {
      "cell_type": "markdown",
      "source": [
        "### Train model"
      ],
      "metadata": {
        "id": "XQFaXX8CKePi"
      }
    },
    {
      "cell_type": "code",
      "source": [
        "# Define loss and optimizer\n",
        "loss_fn = nn.CrossEntropyLoss()\n",
        "optimizer = torch.optim.Adam(model_0.parameters(), lr=0.001)"
      ],
      "metadata": {
        "id": "exxU79eaKeM6"
      },
      "execution_count": 9,
      "outputs": []
    },
    {
      "cell_type": "code",
      "source": [
        "# Set the random seeds\n",
        "torch.manual_seed(42)\n",
        "torch.cuda.manual_seed(42)\n",
        "\n",
        "# Start the timer\n",
        "from timeit import default_timer as timer \n",
        "start_time = timer()\n",
        "\n",
        "# Setup training and save the results\n",
        "model_0_results = engine.train(model=model_0,\n",
        "                       train_dataloader=train_dataloader,\n",
        "                       test_dataloader=test_dataloader,\n",
        "                       optimizer=optimizer,\n",
        "                       loss_fn=loss_fn,\n",
        "                       epochs=5,\n",
        "                       device=device)\n",
        "\n",
        "# End the timer and print out how long it took\n",
        "end_time = timer()\n",
        "print(f\"[INFO] Total training time: {end_time-start_time:.3f} seconds\")"
      ],
      "metadata": {
        "colab": {
          "base_uri": "https://localhost:8080/",
          "height": 153,
          "referenced_widgets": [
            "9a0c223d48d04f958515bef95ebec7eb",
            "b7d83564fd0f4d61aaa6bf6b8cd5d6c6",
            "6cbb4e5f2e4b460b98ad715068536f2d",
            "3489f56fd10348c99f4102caac437d16",
            "57cd08c0fcd8473eb13e460b2d427330",
            "2b1e5cd0355040c0baa866cc391e4e18",
            "1ed438ccabd342e9a27888f3839da17d",
            "87a0702e2c7a4cac9568b0699a36afc0",
            "145da07b451843338b406a8917f4817c",
            "78ca8d900b704f239eddd241fd20b5dd",
            "ba6186dcba72472aa317de44f31b493a"
          ]
        },
        "id": "ComVkVtuKeKG",
        "outputId": "c0425b11-030c-47f8-a53f-365674048cb3"
      },
      "execution_count": 10,
      "outputs": [
        {
          "output_type": "display_data",
          "data": {
            "text/plain": [
              "  0%|          | 0/5 [00:00<?, ?it/s]"
            ],
            "application/vnd.jupyter.widget-view+json": {
              "version_major": 2,
              "version_minor": 0,
              "model_id": "9a0c223d48d04f958515bef95ebec7eb"
            }
          },
          "metadata": {}
        },
        {
          "output_type": "stream",
          "name": "stdout",
          "text": [
            "Epoch: 1 | train_loss: 1.0894 | train_acc: 0.4492 | test_loss: 0.9214 | test_acc: 0.5085\n",
            "Epoch: 2 | train_loss: 0.8697 | train_acc: 0.7734 | test_loss: 0.8036 | test_acc: 0.7434\n",
            "Epoch: 3 | train_loss: 0.7769 | train_acc: 0.7734 | test_loss: 0.7404 | test_acc: 0.7737\n",
            "Epoch: 4 | train_loss: 0.7244 | train_acc: 0.7422 | test_loss: 0.6488 | test_acc: 0.8864\n",
            "Epoch: 5 | train_loss: 0.6426 | train_acc: 0.7812 | test_loss: 0.6254 | test_acc: 0.8968\n",
            "[INFO] Total training time: 21.188 seconds\n"
          ]
        }
      ]
    },
    {
      "cell_type": "markdown",
      "source": [
        "### Make predictions on the entire test dataset with the model"
      ],
      "metadata": {
        "id": "xFS4lE_IKyE_"
      }
    },
    {
      "cell_type": "code",
      "source": [
        "predictions = []\n",
        "targets = []\n",
        "\n",
        "# turn off training setting\n",
        "model_0.eval()\n",
        "with torch.inference_mode():\n",
        "  for X, y in test_dataloader:\n",
        "    # allocate to device\n",
        "    X, y = X.to(device), y.to(device)\n",
        "    # calculate logits\n",
        "    y_logits = model_0(X)\n",
        "    # calculate numerical class labels\n",
        "    y_labels = torch.argmax(torch.softmax(y_logits, dim=1), dim=1)\n",
        "\n",
        "    # store prediction and corresponding target label\n",
        "    predictions.append(y_labels.cpu())\n",
        "    targets.append(y.cpu())\n",
        "\n",
        "# turn sequence of output tensors into single tensor\n",
        "predictions_tensor = torch.cat(predictions)\n",
        "targets_tensor = torch.cat(targets)"
      ],
      "metadata": {
        "id": "DwZuCluFu375"
      },
      "execution_count": 11,
      "outputs": []
    },
    {
      "cell_type": "markdown",
      "source": [
        "### Make a confusion matrix with the test preds and the truth labels"
      ],
      "metadata": {
        "id": "Mb2bQ1b5K2WP"
      }
    },
    {
      "cell_type": "markdown",
      "source": [
        "Need the following libraries to make a confusion matrix:\n",
        "* torchmetrics - https://torchmetrics.readthedocs.io/en/stable/\n",
        "* mlxtend - http://rasbt.github.io/mlxtend/"
      ],
      "metadata": {
        "id": "5I2jpYAcM07s"
      }
    },
    {
      "cell_type": "code",
      "source": [
        "# See if torchmetrics exists, if not, install it\n",
        "try:\n",
        "    import torchmetrics, mlxtend\n",
        "    print(f\"mlxtend version: {mlxtend.__version__}\")\n",
        "    assert int(mlxtend.__version__.split(\".\")[1]) >= 19, \"mlxtend verison should be 0.19.0 or higher\"\n",
        "except:\n",
        "    !pip install -q torchmetrics -U mlxtend # <- Note: If you're using Google Colab, this may require restarting the runtime\n",
        "    import torchmetrics, mlxtend\n",
        "    print(f\"mlxtend version: {mlxtend.__version__}\")"
      ],
      "metadata": {
        "colab": {
          "base_uri": "https://localhost:8080/"
        },
        "id": "qcKYZGWuK2P8",
        "outputId": "6ba187e2-6954-4626-d330-931411cba296"
      },
      "execution_count": 12,
      "outputs": [
        {
          "output_type": "stream",
          "name": "stdout",
          "text": [
            "\u001b[K     |████████████████████████████████| 512 kB 12.7 MB/s \n",
            "\u001b[K     |████████████████████████████████| 1.3 MB 72.6 MB/s \n",
            "\u001b[?25hmlxtend version: 0.21.0\n"
          ]
        }
      ]
    },
    {
      "cell_type": "code",
      "source": [
        "# Import mlxtend upgraded version\n",
        "import mlxtend \n",
        "print(mlxtend.__version__)\n",
        "assert int(mlxtend.__version__.split(\".\")[1]) >= 19 # should be version 0.19.0 or higher"
      ],
      "metadata": {
        "colab": {
          "base_uri": "https://localhost:8080/"
        },
        "id": "QOYVew4xMxgI",
        "outputId": "58431e11-cdce-40ef-c8e0-17a96fe1a9aa"
      },
      "execution_count": 13,
      "outputs": [
        {
          "output_type": "stream",
          "name": "stdout",
          "text": [
            "0.21.0\n"
          ]
        }
      ]
    },
    {
      "cell_type": "code",
      "source": [
        "from torchmetrics import ConfusionMatrix\n",
        "from mlxtend.plotting import plot_confusion_matrix\n",
        "\n",
        "# create confusion matrix on test data\n",
        "confusion_matrix = ConfusionMatrix(num_classes=len(class_names), task='multiclass')\n",
        "confusion_matrix_tensor = confusion_matrix(preds=predictions_tensor, target=targets_tensor)\n",
        "\n",
        "fig, ax = plot_confusion_matrix(confusion_matrix_tensor.numpy(), class_names=class_names, figsize=(4,4))"
      ],
      "metadata": {
        "id": "_5LU9-5Xu7dP",
        "colab": {
          "base_uri": "https://localhost:8080/",
          "height": 296
        },
        "outputId": "a70b8c4c-1fa9-4e68-a5e0-c2e13f0b86d8"
      },
      "execution_count": 14,
      "outputs": [
        {
          "output_type": "display_data",
          "data": {
            "text/plain": [
              "<Figure size 288x288 with 1 Axes>"
            ],
            "image/png": "[encoded data removed]"
          },
          "metadata": {
            "needs_background": "light"
          }
        }
      ]
    },
    {
      "cell_type": "markdown",
      "source": [
        "## 2. Get the \"most wrong\" of the predictions on the test dataset and plot the 5 \"most wrong\" images. You can do this by:\n",
        "* Predicting across all of the test dataset, storing the labels and predicted probabilities.\n",
        "* Sort the predictions by *wrong prediction* and then *descending predicted probabilities*, this will give you the wrong predictions with the *highest* prediction probabilities, in other words, the \"most wrong\".\n",
        "* Plot the top 5 \"most wrong\" images, why do you think the model got these wrong?\n",
        "\n",
        "You'll want to:\n",
        "* Create a DataFrame with sample, label, prediction, pred prob\n",
        "* Sort DataFrame by correct (does label == prediction)\n",
        "* Sort DataFrame by pred prob (descending)\n",
        "* Plot the top 5 \"most wrong\" image predictions"
      ],
      "metadata": {
        "id": "YqlStPo-gbrF"
      }
    },
    {
      "cell_type": "code",
      "source": [
        "model_0_predictions = {'label':torch.Tensor,\n",
        "                       'prediction':torch.Tensor,\n",
        "                       'probability':torch.Tensor}\n",
        "\n",
        "samples = []\n",
        "true_labels = []\n",
        "pred_labels = []\n",
        "probabilities = []\n",
        "\n",
        "model_0.eval()\n",
        "with torch.inference_mode():\n",
        "  for X, y in test_dataloader:\n",
        "    X, y = X.to(device), y.to(device)\n",
        "\n",
        "    logit = model_0(X)\n",
        "    probs_names, probs_values = torch.max(torch.softmax(logit, dim=1), dim=1)\n",
        "    pred_label = torch.argmax(torch.softmax(logit, dim=1), dim=1)\n",
        "\n",
        "    samples.append(X.cpu())\n",
        "    true_labels.append(y.cpu())\n",
        "    pred_labels.append(pred_label.cpu())\n",
        "    probabilities.append(probs_names.cpu())\n",
        "\n",
        "samples_tensor = torch.cat(samples)\n",
        "pred_labels_tensor = torch.cat(pred_labels)\n",
        "true_labels_tensor = torch.cat(true_labels)\n",
        "\n",
        "model_0_predictions['label'] = torch.cat(true_labels).numpy()\n",
        "model_0_predictions['prediction'] = torch.cat(pred_labels).numpy()\n",
        "model_0_predictions['probability'] = torch.cat(probabilities).numpy()\n",
        "\n",
        "print(len(samples_tensor))"
      ],
      "metadata": {
        "id": "cHtMeYHuvDwy",
        "colab": {
          "base_uri": "https://localhost:8080/"
        },
        "outputId": "8d6c03e1-6102-4134-a5aa-f3f36ea831b8"
      },
      "execution_count": 15,
      "outputs": [
        {
          "output_type": "stream",
          "name": "stdout",
          "text": [
            "75\n"
          ]
        }
      ]
    },
    {
      "cell_type": "code",
      "source": [
        "import pandas as pd\n",
        "\n",
        "# create dataframe\n",
        "model_0_df = pd.DataFrame(model_0_predictions)\n",
        "model_0_df"
      ],
      "metadata": {
        "colab": {
          "base_uri": "https://localhost:8080/",
          "height": 424
        },
        "id": "mfRNQevdwnXD",
        "outputId": "22781eeb-8f26-43c1-9f2b-9c684941653c"
      },
      "execution_count": 16,
      "outputs": [
        {
          "output_type": "execute_result",
          "data": {
            "text/plain": [
              "    label  prediction  probability\n",
              "0       0           0     0.733631\n",
              "1       0           0     0.603645\n",
              "2       0           0     0.469453\n",
              "3       0           0     0.793406\n",
              "4       0           0     0.404444\n",
              "..    ...         ...          ...\n",
              "70      2           1     0.547931\n",
              "71      2           2     0.545429\n",
              "72      2           2     0.526835\n",
              "73      2           2     0.443750\n",
              "74      2           2     0.752383\n",
              "\n",
              "[75 rows x 3 columns]"
            ],
            "text/html": [
              "\n",
              "  <div id=\"df-33f161f5-ee24-48e2-ae10-7722de4eb3f8\">\n",
              "    <div class=\"colab-df-container\">\n",
              "      <div>\n",
              "<style scoped>\n",
              "    .dataframe tbody tr th:only-of-type {\n",
              "        vertical-align: middle;\n",
              "    }\n",
              "\n",
              "    .dataframe tbody tr th {\n",
              "        vertical-align: top;\n",
              "    }\n",
              "\n",
              "    .dataframe thead th {\n",
              "        text-align: right;\n",
              "    }\n",
              "</style>\n",
              "<table border=\"1\" class=\"dataframe\">\n",
              "  <thead>\n",
              "    <tr style=\"text-align: right;\">\n",
              "      <th></th>\n",
              "      <th>label</th>\n",
              "      <th>prediction</th>\n",
              "      <th>probability</th>\n",
              "    </tr>\n",
              "  </thead>\n",
              "  <tbody>\n",
              "    <tr>\n",
              "      <th>0</th>\n",
              "      <td>0</td>\n",
              "      <td>0</td>\n",
              "      <td>0.733631</td>\n",
              "    </tr>\n",
              "    <tr>\n",
              "      <th>1</th>\n",
              "      <td>0</td>\n",
              "      <td>0</td>\n",
              "      <td>0.603645</td>\n",
              "    </tr>\n",
              "    <tr>\n",
              "      <th>2</th>\n",
              "      <td>0</td>\n",
              "      <td>0</td>\n",
              "      <td>0.469453</td>\n",
              "    </tr>\n",
              "    <tr>\n",
              "      <th>3</th>\n",
              "      <td>0</td>\n",
              "      <td>0</td>\n",
              "      <td>0.793406</td>\n",
              "    </tr>\n",
              "    <tr>\n",
              "      <th>4</th>\n",
              "      <td>0</td>\n",
              "      <td>0</td>\n",
              "      <td>0.404444</td>\n",
              "    </tr>\n",
              "    <tr>\n",
              "      <th>...</th>\n",
              "      <td>...</td>\n",
              "      <td>...</td>\n",
              "      <td>...</td>\n",
              "    </tr>\n",
              "    <tr>\n",
              "      <th>70</th>\n",
              "      <td>2</td>\n",
              "      <td>1</td>\n",
              "      <td>0.547931</td>\n",
              "    </tr>\n",
              "    <tr>\n",
              "      <th>71</th>\n",
              "      <td>2</td>\n",
              "      <td>2</td>\n",
              "      <td>0.545429</td>\n",
              "    </tr>\n",
              "    <tr>\n",
              "      <th>72</th>\n",
              "      <td>2</td>\n",
              "      <td>2</td>\n",
              "      <td>0.526835</td>\n",
              "    </tr>\n",
              "    <tr>\n",
              "      <th>73</th>\n",
              "      <td>2</td>\n",
              "      <td>2</td>\n",
              "      <td>0.443750</td>\n",
              "    </tr>\n",
              "    <tr>\n",
              "      <th>74</th>\n",
              "      <td>2</td>\n",
              "      <td>2</td>\n",
              "      <td>0.752383</td>\n",
              "    </tr>\n",
              "  </tbody>\n",
              "</table>\n",
              "<p>75 rows × 3 columns</p>\n",
              "</div>\n",
              "      <button class=\"colab-df-convert\" onclick=\"convertToInteractive('df-33f161f5-ee24-48e2-ae10-7722de4eb3f8')\"\n",
              "              title=\"Convert this dataframe to an interactive table.\"\n",
              "              style=\"display:none;\">\n",
              "        \n",
              "  <svg xmlns=\"http://www.w3.org/2000/svg\" height=\"24px\"viewBox=\"0 0 24 24\"\n",
              "       width=\"24px\">\n",
              "    <path d=\"M0 0h24v24H0V0z\" fill=\"none\"/>\n",
              "    <path d=\"M18.56 5.44l.94 2.06.94-2.06 2.06-.94-2.06-.94-.94-2.06-.94 2.06-2.06.94zm-11 1L8.5 8.5l.94-2.06 2.06-.94-2.06-.94L8.5 2.5l-.94 2.06-2.06.94zm10 10l.94 2.06.94-2.06 2.06-.94-2.06-.94-.94-2.06-.94 2.06-2.06.94z\"/><path d=\"M17.41 7.96l-1.37-1.37c-.4-.4-.92-.59-1.43-.59-.52 0-1.04.2-1.43.59L10.3 9.45l-7.72 7.72c-.78.78-.78 2.05 0 2.83L4 21.41c.39.39.9.59 1.41.59.51 0 1.02-.2 1.41-.59l7.78-7.78 2.81-2.81c.8-.78.8-2.07 0-2.86zM5.41 20L4 18.59l7.72-7.72 1.47 1.35L5.41 20z\"/>\n",
              "  </svg>\n",
              "      </button>\n",
              "      \n",
              "  <style>\n",
              "    .colab-df-container {\n",
              "      display:flex;\n",
              "      flex-wrap:wrap;\n",
              "      gap: 12px;\n",
              "    }\n",
              "\n",
              "    .colab-df-convert {\n",
              "      background-color: #E8F0FE;\n",
              "      border: none;\n",
              "      border-radius: 50%;\n",
              "      cursor: pointer;\n",
              "      display: none;\n",
              "      fill: #1967D2;\n",
              "      height: 32px;\n",
              "      padding: 0 0 0 0;\n",
              "      width: 32px;\n",
              "    }\n",
              "\n",
              "    .colab-df-convert:hover {\n",
              "      background-color: #E2EBFA;\n",
              "      box-shadow: 0px 1px 2px rgba(60, 64, 67, 0.3), 0px 1px 3px 1px rgba(60, 64, 67, 0.15);\n",
              "      fill: #174EA6;\n",
              "    }\n",
              "\n",
              "    [theme=dark] .colab-df-convert {\n",
              "      background-color: #3B4455;\n",
              "      fill: #D2E3FC;\n",
              "    }\n",
              "\n",
              "    [theme=dark] .colab-df-convert:hover {\n",
              "      background-color: #434B5C;\n",
              "      box-shadow: 0px 1px 3px 1px rgba(0, 0, 0, 0.15);\n",
              "      filter: drop-shadow(0px 1px 2px rgba(0, 0, 0, 0.3));\n",
              "      fill: #FFFFFF;\n",
              "    }\n",
              "  </style>\n",
              "\n",
              "      <script>\n",
              "        const buttonEl =\n",
              "          document.querySelector('#df-33f161f5-ee24-48e2-ae10-7722de4eb3f8 button.colab-df-convert');\n",
              "        buttonEl.style.display =\n",
              "          google.colab.kernel.accessAllowed ? 'block' : 'none';\n",
              "\n",
              "        async function convertToInteractive(key) {\n",
              "          const element = document.querySelector('#df-33f161f5-ee24-48e2-ae10-7722de4eb3f8');\n",
              "          const dataTable =\n",
              "            await google.colab.kernel.invokeFunction('convertToInteractive',\n",
              "                                                     [key], {});\n",
              "          if (!dataTable) return;\n",
              "\n",
              "          const docLinkHtml = 'Like what you see? Visit the ' +\n",
              "            '<a target=\"_blank\" href=https://colab.research.google.com/notebooks/data_table.ipynb>data table notebook</a>'\n",
              "            + ' to learn more about interactive tables.';\n",
              "          element.innerHTML = '';\n",
              "          dataTable['output_type'] = 'display_data';\n",
              "          await google.colab.output.renderOutput(dataTable, element);\n",
              "          const docLink = document.createElement('div');\n",
              "          docLink.innerHTML = docLinkHtml;\n",
              "          element.appendChild(docLink);\n",
              "        }\n",
              "      </script>\n",
              "    </div>\n",
              "  </div>\n",
              "  "
            ]
          },
          "metadata": {},
          "execution_count": 16
        }
      ]
    },
    {
      "cell_type": "code",
      "source": [
        "# return rows of dataframe where prediction was incorrect\n",
        "incorrect_predictions = model_0_df.loc[model_0_df['label'] != model_0_df['prediction']]\n",
        "incorrect_predictions"
      ],
      "metadata": {
        "colab": {
          "base_uri": "https://localhost:8080/",
          "height": 300
        },
        "id": "YK1iPSi0-3BY",
        "outputId": "048559b4-cd7e-4067-a1fa-b64bde65dab3"
      },
      "execution_count": 17,
      "outputs": [
        {
          "output_type": "execute_result",
          "data": {
            "text/plain": [
              "    label  prediction  probability\n",
              "10      0           1     0.391755\n",
              "12      0           2     0.428751\n",
              "13      0           1     0.424841\n",
              "15      0           2     0.423885\n",
              "24      0           2     0.454041\n",
              "44      2           1     0.448240\n",
              "55      2           1     0.399066\n",
              "70      2           1     0.547931"
            ],
            "text/html": [
              "\n",
              "  <div id=\"df-24c8d30c-6e43-4662-a430-a41f9fb354fe\">\n",
              "    <div class=\"colab-df-container\">\n",
              "      <div>\n",
              "<style scoped>\n",
              "    .dataframe tbody tr th:only-of-type {\n",
              "        vertical-align: middle;\n",
              "    }\n",
              "\n",
              "    .dataframe tbody tr th {\n",
              "        vertical-align: top;\n",
              "    }\n",
              "\n",
              "    .dataframe thead th {\n",
              "        text-align: right;\n",
              "    }\n",
              "</style>\n",
              "<table border=\"1\" class=\"dataframe\">\n",
              "  <thead>\n",
              "    <tr style=\"text-align: right;\">\n",
              "      <th></th>\n",
              "      <th>label</th>\n",
              "      <th>prediction</th>\n",
              "      <th>probability</th>\n",
              "    </tr>\n",
              "  </thead>\n",
              "  <tbody>\n",
              "    <tr>\n",
              "      <th>10</th>\n",
              "      <td>0</td>\n",
              "      <td>1</td>\n",
              "      <td>0.391755</td>\n",
              "    </tr>\n",
              "    <tr>\n",
              "      <th>12</th>\n",
              "      <td>0</td>\n",
              "      <td>2</td>\n",
              "      <td>0.428751</td>\n",
              "    </tr>\n",
              "    <tr>\n",
              "      <th>13</th>\n",
              "      <td>0</td>\n",
              "      <td>1</td>\n",
              "      <td>0.424841</td>\n",
              "    </tr>\n",
              "    <tr>\n",
              "      <th>15</th>\n",
              "      <td>0</td>\n",
              "      <td>2</td>\n",
              "      <td>0.423885</td>\n",
              "    </tr>\n",
              "    <tr>\n",
              "      <th>24</th>\n",
              "      <td>0</td>\n",
              "      <td>2</td>\n",
              "      <td>0.454041</td>\n",
              "    </tr>\n",
              "    <tr>\n",
              "      <th>44</th>\n",
              "      <td>2</td>\n",
              "      <td>1</td>\n",
              "      <td>0.448240</td>\n",
              "    </tr>\n",
              "    <tr>\n",
              "      <th>55</th>\n",
              "      <td>2</td>\n",
              "      <td>1</td>\n",
              "      <td>0.399066</td>\n",
              "    </tr>\n",
              "    <tr>\n",
              "      <th>70</th>\n",
              "      <td>2</td>\n",
              "      <td>1</td>\n",
              "      <td>0.547931</td>\n",
              "    </tr>\n",
              "  </tbody>\n",
              "</table>\n",
              "</div>\n",
              "      <button class=\"colab-df-convert\" onclick=\"convertToInteractive('df-24c8d30c-6e43-4662-a430-a41f9fb354fe')\"\n",
              "              title=\"Convert this dataframe to an interactive table.\"\n",
              "              style=\"display:none;\">\n",
              "        \n",
              "  <svg xmlns=\"http://www.w3.org/2000/svg\" height=\"24px\"viewBox=\"0 0 24 24\"\n",
              "       width=\"24px\">\n",
              "    <path d=\"M0 0h24v24H0V0z\" fill=\"none\"/>\n",
              "    <path d=\"M18.56 5.44l.94 2.06.94-2.06 2.06-.94-2.06-.94-.94-2.06-.94 2.06-2.06.94zm-11 1L8.5 8.5l.94-2.06 2.06-.94-2.06-.94L8.5 2.5l-.94 2.06-2.06.94zm10 10l.94 2.06.94-2.06 2.06-.94-2.06-.94-.94-2.06-.94 2.06-2.06.94z\"/><path d=\"M17.41 7.96l-1.37-1.37c-.4-.4-.92-.59-1.43-.59-.52 0-1.04.2-1.43.59L10.3 9.45l-7.72 7.72c-.78.78-.78 2.05 0 2.83L4 21.41c.39.39.9.59 1.41.59.51 0 1.02-.2 1.41-.59l7.78-7.78 2.81-2.81c.8-.78.8-2.07 0-2.86zM5.41 20L4 18.59l7.72-7.72 1.47 1.35L5.41 20z\"/>\n",
              "  </svg>\n",
              "      </button>\n",
              "      \n",
              "  <style>\n",
              "    .colab-df-container {\n",
              "      display:flex;\n",
              "      flex-wrap:wrap;\n",
              "      gap: 12px;\n",
              "    }\n",
              "\n",
              "    .colab-df-convert {\n",
              "      background-color: #E8F0FE;\n",
              "      border: none;\n",
              "      border-radius: 50%;\n",
              "      cursor: pointer;\n",
              "      display: none;\n",
              "      fill: #1967D2;\n",
              "      height: 32px;\n",
              "      padding: 0 0 0 0;\n",
              "      width: 32px;\n",
              "    }\n",
              "\n",
              "    .colab-df-convert:hover {\n",
              "      background-color: #E2EBFA;\n",
              "      box-shadow: 0px 1px 2px rgba(60, 64, 67, 0.3), 0px 1px 3px 1px rgba(60, 64, 67, 0.15);\n",
              "      fill: #174EA6;\n",
              "    }\n",
              "\n",
              "    [theme=dark] .colab-df-convert {\n",
              "      background-color: #3B4455;\n",
              "      fill: #D2E3FC;\n",
              "    }\n",
              "\n",
              "    [theme=dark] .colab-df-convert:hover {\n",
              "      background-color: #434B5C;\n",
              "      box-shadow: 0px 1px 3px 1px rgba(0, 0, 0, 0.15);\n",
              "      filter: drop-shadow(0px 1px 2px rgba(0, 0, 0, 0.3));\n",
              "      fill: #FFFFFF;\n",
              "    }\n",
              "  </style>\n",
              "\n",
              "      <script>\n",
              "        const buttonEl =\n",
              "          document.querySelector('#df-24c8d30c-6e43-4662-a430-a41f9fb354fe button.colab-df-convert');\n",
              "        buttonEl.style.display =\n",
              "          google.colab.kernel.accessAllowed ? 'block' : 'none';\n",
              "\n",
              "        async function convertToInteractive(key) {\n",
              "          const element = document.querySelector('#df-24c8d30c-6e43-4662-a430-a41f9fb354fe');\n",
              "          const dataTable =\n",
              "            await google.colab.kernel.invokeFunction('convertToInteractive',\n",
              "                                                     [key], {});\n",
              "          if (!dataTable) return;\n",
              "\n",
              "          const docLinkHtml = 'Like what you see? Visit the ' +\n",
              "            '<a target=\"_blank\" href=https://colab.research.google.com/notebooks/data_table.ipynb>data table notebook</a>'\n",
              "            + ' to learn more about interactive tables.';\n",
              "          element.innerHTML = '';\n",
              "          dataTable['output_type'] = 'display_data';\n",
              "          await google.colab.output.renderOutput(dataTable, element);\n",
              "          const docLink = document.createElement('div');\n",
              "          docLink.innerHTML = docLinkHtml;\n",
              "          element.appendChild(docLink);\n",
              "        }\n",
              "      </script>\n",
              "    </div>\n",
              "  </div>\n",
              "  "
            ]
          },
          "metadata": {},
          "execution_count": 17
        }
      ]
    },
    {
      "cell_type": "code",
      "source": [
        "# filter and sort for the incorrect predictions with the highest certainty\n",
        "five_worst_predictions = incorrect_predictions.sort_values('probability', ascending=False)[0:5]\n",
        "five_worst_predictions"
      ],
      "metadata": {
        "colab": {
          "base_uri": "https://localhost:8080/",
          "height": 206
        },
        "id": "Efbvz_Qj_8ye",
        "outputId": "86184ebc-c845-4e1e-e7be-aed1197ed3a6"
      },
      "execution_count": 18,
      "outputs": [
        {
          "output_type": "execute_result",
          "data": {
            "text/plain": [
              "    label  prediction  probability\n",
              "70      2           1     0.547931\n",
              "24      0           2     0.454041\n",
              "44      2           1     0.448240\n",
              "12      0           2     0.428751\n",
              "13      0           1     0.424841"
            ],
            "text/html": [
              "\n",
              "  <div id=\"df-7d82ddca-e5b3-4fb6-924c-1e1e03cc1d30\">\n",
              "    <div class=\"colab-df-container\">\n",
              "      <div>\n",
              "<style scoped>\n",
              "    .dataframe tbody tr th:only-of-type {\n",
              "        vertical-align: middle;\n",
              "    }\n",
              "\n",
              "    .dataframe tbody tr th {\n",
              "        vertical-align: top;\n",
              "    }\n",
              "\n",
              "    .dataframe thead th {\n",
              "        text-align: right;\n",
              "    }\n",
              "</style>\n",
              "<table border=\"1\" class=\"dataframe\">\n",
              "  <thead>\n",
              "    <tr style=\"text-align: right;\">\n",
              "      <th></th>\n",
              "      <th>label</th>\n",
              "      <th>prediction</th>\n",
              "      <th>probability</th>\n",
              "    </tr>\n",
              "  </thead>\n",
              "  <tbody>\n",
              "    <tr>\n",
              "      <th>70</th>\n",
              "      <td>2</td>\n",
              "      <td>1</td>\n",
              "      <td>0.547931</td>\n",
              "    </tr>\n",
              "    <tr>\n",
              "      <th>24</th>\n",
              "      <td>0</td>\n",
              "      <td>2</td>\n",
              "      <td>0.454041</td>\n",
              "    </tr>\n",
              "    <tr>\n",
              "      <th>44</th>\n",
              "      <td>2</td>\n",
              "      <td>1</td>\n",
              "      <td>0.448240</td>\n",
              "    </tr>\n",
              "    <tr>\n",
              "      <th>12</th>\n",
              "      <td>0</td>\n",
              "      <td>2</td>\n",
              "      <td>0.428751</td>\n",
              "    </tr>\n",
              "    <tr>\n",
              "      <th>13</th>\n",
              "      <td>0</td>\n",
              "      <td>1</td>\n",
              "      <td>0.424841</td>\n",
              "    </tr>\n",
              "  </tbody>\n",
              "</table>\n",
              "</div>\n",
              "      <button class=\"colab-df-convert\" onclick=\"convertToInteractive('df-7d82ddca-e5b3-4fb6-924c-1e1e03cc1d30')\"\n",
              "              title=\"Convert this dataframe to an interactive table.\"\n",
              "              style=\"display:none;\">\n",
              "        \n",
              "  <svg xmlns=\"http://www.w3.org/2000/svg\" height=\"24px\"viewBox=\"0 0 24 24\"\n",
              "       width=\"24px\">\n",
              "    <path d=\"M0 0h24v24H0V0z\" fill=\"none\"/>\n",
              "    <path d=\"M18.56 5.44l.94 2.06.94-2.06 2.06-.94-2.06-.94-.94-2.06-.94 2.06-2.06.94zm-11 1L8.5 8.5l.94-2.06 2.06-.94-2.06-.94L8.5 2.5l-.94 2.06-2.06.94zm10 10l.94 2.06.94-2.06 2.06-.94-2.06-.94-.94-2.06-.94 2.06-2.06.94z\"/><path d=\"M17.41 7.96l-1.37-1.37c-.4-.4-.92-.59-1.43-.59-.52 0-1.04.2-1.43.59L10.3 9.45l-7.72 7.72c-.78.78-.78 2.05 0 2.83L4 21.41c.39.39.9.59 1.41.59.51 0 1.02-.2 1.41-.59l7.78-7.78 2.81-2.81c.8-.78.8-2.07 0-2.86zM5.41 20L4 18.59l7.72-7.72 1.47 1.35L5.41 20z\"/>\n",
              "  </svg>\n",
              "      </button>\n",
              "      \n",
              "  <style>\n",
              "    .colab-df-container {\n",
              "      display:flex;\n",
              "      flex-wrap:wrap;\n",
              "      gap: 12px;\n",
              "    }\n",
              "\n",
              "    .colab-df-convert {\n",
              "      background-color: #E8F0FE;\n",
              "      border: none;\n",
              "      border-radius: 50%;\n",
              "      cursor: pointer;\n",
              "      display: none;\n",
              "      fill: #1967D2;\n",
              "      height: 32px;\n",
              "      padding: 0 0 0 0;\n",
              "      width: 32px;\n",
              "    }\n",
              "\n",
              "    .colab-df-convert:hover {\n",
              "      background-color: #E2EBFA;\n",
              "      box-shadow: 0px 1px 2px rgba(60, 64, 67, 0.3), 0px 1px 3px 1px rgba(60, 64, 67, 0.15);\n",
              "      fill: #174EA6;\n",
              "    }\n",
              "\n",
              "    [theme=dark] .colab-df-convert {\n",
              "      background-color: #3B4455;\n",
              "      fill: #D2E3FC;\n",
              "    }\n",
              "\n",
              "    [theme=dark] .colab-df-convert:hover {\n",
              "      background-color: #434B5C;\n",
              "      box-shadow: 0px 1px 3px 1px rgba(0, 0, 0, 0.15);\n",
              "      filter: drop-shadow(0px 1px 2px rgba(0, 0, 0, 0.3));\n",
              "      fill: #FFFFFF;\n",
              "    }\n",
              "  </style>\n",
              "\n",
              "      <script>\n",
              "        const buttonEl =\n",
              "          document.querySelector('#df-7d82ddca-e5b3-4fb6-924c-1e1e03cc1d30 button.colab-df-convert');\n",
              "        buttonEl.style.display =\n",
              "          google.colab.kernel.accessAllowed ? 'block' : 'none';\n",
              "\n",
              "        async function convertToInteractive(key) {\n",
              "          const element = document.querySelector('#df-7d82ddca-e5b3-4fb6-924c-1e1e03cc1d30');\n",
              "          const dataTable =\n",
              "            await google.colab.kernel.invokeFunction('convertToInteractive',\n",
              "                                                     [key], {});\n",
              "          if (!dataTable) return;\n",
              "\n",
              "          const docLinkHtml = 'Like what you see? Visit the ' +\n",
              "            '<a target=\"_blank\" href=https://colab.research.google.com/notebooks/data_table.ipynb>data table notebook</a>'\n",
              "            + ' to learn more about interactive tables.';\n",
              "          element.innerHTML = '';\n",
              "          dataTable['output_type'] = 'display_data';\n",
              "          await google.colab.output.renderOutput(dataTable, element);\n",
              "          const docLink = document.createElement('div');\n",
              "          docLink.innerHTML = docLinkHtml;\n",
              "          element.appendChild(docLink);\n",
              "        }\n",
              "      </script>\n",
              "    </div>\n",
              "  </div>\n",
              "  "
            ]
          },
          "metadata": {},
          "execution_count": 18
        }
      ]
    },
    {
      "cell_type": "code",
      "source": [
        "incorrect_index_list = list(five_worst_predictions.index.values)\n",
        "print(incorrect_index_list)"
      ],
      "metadata": {
        "id": "0ClSJdbWAo45",
        "colab": {
          "base_uri": "https://localhost:8080/"
        },
        "outputId": "6de7cbf3-b049-4128-f534-aa38a814c967"
      },
      "execution_count": 19,
      "outputs": [
        {
          "output_type": "stream",
          "name": "stdout",
          "text": [
            "[70, 24, 44, 12, 13]\n"
          ]
        }
      ]
    },
    {
      "cell_type": "code",
      "source": [
        "import matplotlib.pyplot as plt\n",
        "\n",
        "# display the five worst performing samples along with their predicted class labels\n",
        "n=5\n",
        "plt.figure(figsize=(5, 25))\n",
        "for i, idx in enumerate(incorrect_index_list):\n",
        "  sample = samples_tensor[idx]\n",
        "  true_label = true_labels_tensor[idx]\n",
        "  pred_label = pred_labels_tensor[idx]\n",
        "  # move the color channel dimension for matplotlib\n",
        "  sample = sample.permute(1, 2, 0).numpy()\n",
        "  # plot image within subplot\n",
        "  plt.subplot(n, 1, i+1)\n",
        "  plt.imshow(sample)\n",
        "  subtitle = f\"Predicted class: {class_names[pred_label]} True class: {class_names[true_label]}\"\n",
        "  plt.title(subtitle)\n",
        "  plt.axis(False)\n"
      ],
      "metadata": {
        "colab": {
          "base_uri": "https://localhost:8080/",
          "height": 1000
        },
        "id": "ww0nQ2ag6dw_",
        "outputId": "d7c23580-114e-4cda-cebb-91f9ecfcc29a"
      },
      "execution_count": 20,
      "outputs": [
        {
          "output_type": "stream",
          "name": "stderr",
          "text": [
            "WARNING:matplotlib.image:Clipping input data to the valid range for imshow with RGB data ([0..1] for floats or [0..255] for integers).\n",
            "WARNING:matplotlib.image:Clipping input data to the valid range for imshow with RGB data ([0..1] for floats or [0..255] for integers).\n",
            "WARNING:matplotlib.image:Clipping input data to the valid range for imshow with RGB data ([0..1] for floats or [0..255] for integers).\n",
            "WARNING:matplotlib.image:Clipping input data to the valid range for imshow with RGB data ([0..1] for floats or [0..255] for integers).\n",
            "WARNING:matplotlib.image:Clipping input data to the valid range for imshow with RGB data ([0..1] for floats or [0..255] for integers).\n"
          ]
        },
        {
          "output_type": "display_data",
          "data": {
            "text/plain": [
              "<Figure size 360x1800 with 5 Axes>"
            ],
            "image/png": "[encoded data removed]"
          },
          "metadata": {
            "needs_background": "light"
          }
        }
      ]
    },
    {
      "cell_type": "markdown",
      "source": [
        "The worse performing predictions occur on test images with a very high contrast/saturation. Much of the image is obscured by darkness as a result and makes indentifying the food difficult."
      ],
      "metadata": {
        "id": "fv5Te0lrSWEP"
      }
    },
    {
      "cell_type": "markdown",
      "source": [
        "## 3. Predict on your own image of pizza/steak/sushi - how does the model go? What happens if you predict on an image that isn't pizza/steak/sushi?\n",
        "* Here you can get an image from a website like http://www.unsplash.com to try it out or you can upload your own."
      ],
      "metadata": {
        "id": "1IvuTskxgjaw"
      }
    },
    {
      "cell_type": "code",
      "source": [
        "import requests\n",
        "from PIL import Image\n",
        "\n",
        "# download custom image of a steak\n",
        "custom_steak_path = data_path / \"custom_steak.jpeg\"\n",
        "if not custom_steak_path.is_file():\n",
        "  with open(custom_steak_path, \"wb\") as f:\n",
        "    response = requests.get(\"https://images.unsplash.com/photo-1600891964092-4316c288032e?ixlib=rb-4.0.3&ixid=MnwxMjA3fDB8MHxzZWFyY2h8M3x8c3RlYWt8ZW58MHx8MHx8&auto=format&fit=crop&w=500&q=60\")\n",
        "    f.write(response.content)\n",
        "else:\n",
        "  print(f\"{custom_steak_path} already exists\")\n",
        "\n",
        "# store image using Python Image Library\n",
        "custom_steak_image = Image.open(custom_steak_path)\n",
        "# apply the same transforms used to train the model and add single batch dimension\n",
        "custom_steak_tensor = simple_transform(custom_steak_image).unsqueeze(dim=0)\n",
        "# allocate to device\n",
        "custom_steak_tensor = custom_steak_tensor.to(device)\n",
        "\n",
        "# predict the class label for custom steak image\n",
        "model_0.eval()\n",
        "with torch.inference_mode():\n",
        "  steak_logit = model_0(custom_steak_tensor)\n",
        "  steak_label = torch.argmax(torch.softmax(steak_logit, dim=1), dim=1)\n",
        "\n",
        "print(f\"True class: steak\")\n",
        "print(f\"Predicted class: {class_names[steak_label]}\")\n"
      ],
      "metadata": {
        "colab": {
          "base_uri": "https://localhost:8080/"
        },
        "id": "vx3mA39sP4I9",
        "outputId": "b9a119bb-a1a0-415c-a46d-e13661bd706a"
      },
      "execution_count": 21,
      "outputs": [
        {
          "output_type": "stream",
          "name": "stdout",
          "text": [
            "True class: steak\n",
            "Predicted class: steak\n"
          ]
        }
      ]
    },
    {
      "cell_type": "code",
      "source": [
        "import requests\n",
        "from PIL import Image\n",
        "\n",
        "# download custom image of a pizza\n",
        "custom_pizza_path = data_path / \"custom_pizza.jpeg\"\n",
        "if not custom_pizza_path.is_file():\n",
        "  with open(custom_pizza_path, \"wb\") as f:\n",
        "    response = requests.get(\"https://media.istockphoto.com/id/888274908/photo/pizza-with-ingredients.jpg?s=612x612&w=0&k=20&c=TbOExzC7cnG70pkV2YUGF45woNKTG_vyGDC8IEaQAb0=\")\n",
        "    f.write(response.content)\n",
        "else:\n",
        "  print(f\"{custom_pizza_path} already exists\")\n",
        "\n",
        "# create tensor image from steak image path\n",
        "custom_pizza_image = Image.open(custom_pizza_path)\n",
        "# apply the same transform used for training and add single batch dimension\n",
        "custom_pizza_tensor = simple_transform(custom_pizza_image).unsqueeze(dim=0)\n",
        "# allocate to device\n",
        "custom_pizza_tensor = custom_pizza_tensor.to(device)\n",
        "\n",
        "# predict the class label for custom pizza image\n",
        "model_0.eval()\n",
        "with torch.inference_mode():\n",
        "  pizza_logit = model_0(custom_pizza_tensor)\n",
        "  pizza_label = torch.argmax(torch.softmax(pizza_logit, dim=1), dim=1)\n",
        "\n",
        "print(f\"True class: pizza\")\n",
        "print(f\"Predicted class: {class_names[pizza_label]}\")"
      ],
      "metadata": {
        "id": "clA_KmihVYyA",
        "colab": {
          "base_uri": "https://localhost:8080/"
        },
        "outputId": "a25ba174-59ae-4b1b-9adb-5fcf095c6d4f"
      },
      "execution_count": 22,
      "outputs": [
        {
          "output_type": "stream",
          "name": "stdout",
          "text": [
            "True class: pizza\n",
            "Predicted class: pizza\n"
          ]
        }
      ]
    },
    {
      "cell_type": "markdown",
      "source": [
        "## 4. Train the model from section 4  in notebook 06 part 3 for longer (10 epochs should do), what happens to the performance?\n",
        "\n",
        "* See the model in notebook 06 part 3 for reference: https://www.learnpytorch.io/06_pytorch_transfer_learning/#3-getting-a-pretrained-model"
      ],
      "metadata": {
        "id": "Vzvi8GprgmJ0"
      }
    },
    {
      "cell_type": "code",
      "source": [
        "# import torchinfo or install if required\n",
        "try:\n",
        "  from torchinfo import summary\n",
        "except:\n",
        "  # install torchinfo\n",
        "  !pip install torchinfo\n",
        "  from torchinfo import summary"
      ],
      "metadata": {
        "id": "kIKg53Jna-Rt"
      },
      "execution_count": 23,
      "outputs": []
    },
    {
      "cell_type": "code",
      "source": [
        "# store the best available weights from the model\n",
        "weights = torchvision.models.EfficientNet_B0_Weights.DEFAULT\n",
        "# create new model initialized with these weights\n",
        "model_1 = torchvision.models.efficientnet_b0(weights=weights).to(device)\n",
        "\n",
        "# freeze all weights in the features component of the model\n",
        "for param in model_1.features.parameters():\n",
        "  param.requires_grad = False\n",
        "\n",
        "torch.manual_seed(42)\n",
        "torch.cuda.manual_seed(42)\n",
        "\n",
        "# modify the output layer of the model to accomodate the number of classes in the data\n",
        "model_1.classifier = torch.nn.Sequential(\n",
        "    torch.nn.Dropout(p=0.2, inplace=True),\n",
        "    torch.nn.Linear(in_features=1280, out_features=len(class_names), bias=True)\n",
        ").to(device)\n",
        "\n",
        "# display a summary of the model architecture\n",
        "summary(model_1, input_size=(32, 3, 224, 244), col_names=['input_size', 'output_size', 'trainable'])"
      ],
      "metadata": {
        "colab": {
          "base_uri": "https://localhost:8080/"
        },
        "id": "4w4DT_UBc9SZ",
        "outputId": "c35e0bd3-2a4f-482b-e958-4676b69e8d6b"
      },
      "execution_count": 24,
      "outputs": [
        {
          "output_type": "execute_result",
          "data": {
            "text/plain": [
              "==================================================================================================================================\n",
              "Layer (type:depth-idx)                                  Input Shape               Output Shape              Trainable\n",
              "==================================================================================================================================\n",
              "EfficientNet                                            [32, 3, 224, 244]         [32, 3]                   Partial\n",
              "├─Sequential: 1-1                                       [32, 3, 224, 244]         [32, 1280, 7, 8]          False\n",
              "│    └─Conv2dNormActivation: 2-1                        [32, 3, 224, 244]         [32, 32, 112, 122]        False\n",
              "│    │    └─Conv2d: 3-1                                 [32, 3, 224, 244]         [32, 32, 112, 122]        False\n",
              "│    │    └─BatchNorm2d: 3-2                            [32, 32, 112, 122]        [32, 32, 112, 122]        False\n",
              "│    │    └─SiLU: 3-3                                   [32, 32, 112, 122]        [32, 32, 112, 122]        --\n",
              "│    └─Sequential: 2-2                                  [32, 32, 112, 122]        [32, 16, 112, 122]        False\n",
              "│    │    └─MBConv: 3-4                                 [32, 32, 112, 122]        [32, 16, 112, 122]        False\n",
              "│    └─Sequential: 2-3                                  [32, 16, 112, 122]        [32, 24, 56, 61]          False\n",
              "│    │    └─MBConv: 3-5                                 [32, 16, 112, 122]        [32, 24, 56, 61]          False\n",
              "│    │    └─MBConv: 3-6                                 [32, 24, 56, 61]          [32, 24, 56, 61]          False\n",
              "│    └─Sequential: 2-4                                  [32, 24, 56, 61]          [32, 40, 28, 31]          False\n",
              "│    │    └─MBConv: 3-7                                 [32, 24, 56, 61]          [32, 40, 28, 31]          False\n",
              "│    │    └─MBConv: 3-8                                 [32, 40, 28, 31]          [32, 40, 28, 31]          False\n",
              "│    └─Sequential: 2-5                                  [32, 40, 28, 31]          [32, 80, 14, 16]          False\n",
              "│    │    └─MBConv: 3-9                                 [32, 40, 28, 31]          [32, 80, 14, 16]          False\n",
              "│    │    └─MBConv: 3-10                                [32, 80, 14, 16]          [32, 80, 14, 16]          False\n",
              "│    │    └─MBConv: 3-11                                [32, 80, 14, 16]          [32, 80, 14, 16]          False\n",
              "│    └─Sequential: 2-6                                  [32, 80, 14, 16]          [32, 112, 14, 16]         False\n",
              "│    │    └─MBConv: 3-12                                [32, 80, 14, 16]          [32, 112, 14, 16]         False\n",
              "│    │    └─MBConv: 3-13                                [32, 112, 14, 16]         [32, 112, 14, 16]         False\n",
              "│    │    └─MBConv: 3-14                                [32, 112, 14, 16]         [32, 112, 14, 16]         False\n",
              "│    └─Sequential: 2-7                                  [32, 112, 14, 16]         [32, 192, 7, 8]           False\n",
              "│    │    └─MBConv: 3-15                                [32, 112, 14, 16]         [32, 192, 7, 8]           False\n",
              "│    │    └─MBConv: 3-16                                [32, 192, 7, 8]           [32, 192, 7, 8]           False\n",
              "│    │    └─MBConv: 3-17                                [32, 192, 7, 8]           [32, 192, 7, 8]           False\n",
              "│    │    └─MBConv: 3-18                                [32, 192, 7, 8]           [32, 192, 7, 8]           False\n",
              "│    └─Sequential: 2-8                                  [32, 192, 7, 8]           [32, 320, 7, 8]           False\n",
              "│    │    └─MBConv: 3-19                                [32, 192, 7, 8]           [32, 320, 7, 8]           False\n",
              "│    └─Conv2dNormActivation: 2-9                        [32, 320, 7, 8]           [32, 1280, 7, 8]          False\n",
              "│    │    └─Conv2d: 3-20                                [32, 320, 7, 8]           [32, 1280, 7, 8]          False\n",
              "│    │    └─BatchNorm2d: 3-21                           [32, 1280, 7, 8]          [32, 1280, 7, 8]          False\n",
              "│    │    └─SiLU: 3-22                                  [32, 1280, 7, 8]          [32, 1280, 7, 8]          --\n",
              "├─AdaptiveAvgPool2d: 1-2                                [32, 1280, 7, 8]          [32, 1280, 1, 1]          --\n",
              "├─Sequential: 1-3                                       [32, 1280]                [32, 3]                   True\n",
              "│    └─Dropout: 2-10                                    [32, 1280]                [32, 1280]                --\n",
              "│    └─Linear: 2-11                                     [32, 1280]                [32, 3]                   True\n",
              "==================================================================================================================================\n",
              "Total params: 4,011,391\n",
              "Trainable params: 3,843\n",
              "Non-trainable params: 4,007,548\n",
              "Total mult-adds (G): 13.87\n",
              "==================================================================================================================================\n",
              "Input size (MB): 20.99\n",
              "Forward/backward pass size (MB): 3821.27\n",
              "Params size (MB): 16.05\n",
              "Estimated Total Size (MB): 3858.31\n",
              "=================================================================================================================================="
            ]
          },
          "metadata": {},
          "execution_count": 24
        }
      ]
    },
    {
      "cell_type": "code",
      "source": [
        "loss_fn = torch.nn.CrossEntropyLoss()\n",
        "optimizer = torch.optim.Adam(params=model_1.parameters(), lr=0.001)"
      ],
      "metadata": {
        "id": "3XmAFb8WfrjK"
      },
      "execution_count": 25,
      "outputs": []
    },
    {
      "cell_type": "code",
      "source": [
        "# train the new model for 10 epochs\n",
        "model_1_results = engine.train(model=model_1,\n",
        "                       train_dataloader=train_dataloader,\n",
        "                       test_dataloader=test_dataloader,\n",
        "                       optimizer=optimizer,\n",
        "                       loss_fn=loss_fn,\n",
        "                       epochs=10,\n",
        "                       device=device)"
      ],
      "metadata": {
        "id": "JhGT9igPgoF5",
        "colab": {
          "base_uri": "https://localhost:8080/",
          "height": 223,
          "referenced_widgets": [
            "f08facb66323443480f3dc2812337f40",
            "94ec098891bf4a169591e47068587dde",
            "cf073d824a0443a39208c59d77738de9",
            "e605f0a341f9443d99951cd42741304c",
            "90c9e06660c94536ada400daddd34bf8",
            "7ec2ffb9c73641488648efa8cb8225d1",
            "c9b8853fda68427fa963fe1fd259d48e",
            "0b4216606f7448b4818b53b6f1d08539",
            "c419aa130dc34103a0411538c6e3ff5f",
            "10650269ae354bd1995d8c7aaacaf422",
            "62dc54ca4bc94aebaf0cbb34bd6b7875"
          ]
        },
        "outputId": "0c14717b-7064-43d1-aaf3-3eea509dc051"
      },
      "execution_count": 26,
      "outputs": [
        {
          "output_type": "display_data",
          "data": {
            "text/plain": [
              "  0%|          | 0/10 [00:00<?, ?it/s]"
            ],
            "application/vnd.jupyter.widget-view+json": {
              "version_major": 2,
              "version_minor": 0,
              "model_id": "f08facb66323443480f3dc2812337f40"
            }
          },
          "metadata": {}
        },
        {
          "output_type": "stream",
          "name": "stdout",
          "text": [
            "Epoch: 1 | train_loss: 1.0225 | train_acc: 0.5430 | test_loss: 0.9111 | test_acc: 0.5814\n",
            "Epoch: 2 | train_loss: 0.8502 | train_acc: 0.6836 | test_loss: 0.8354 | test_acc: 0.5701\n",
            "Epoch: 3 | train_loss: 0.7397 | train_acc: 0.7422 | test_loss: 0.7622 | test_acc: 0.6619\n",
            "Epoch: 4 | train_loss: 0.6568 | train_acc: 0.8047 | test_loss: 0.6409 | test_acc: 0.8561\n",
            "Epoch: 5 | train_loss: 0.5890 | train_acc: 0.8945 | test_loss: 0.5888 | test_acc: 0.8665\n",
            "Epoch: 6 | train_loss: 0.6127 | train_acc: 0.7656 | test_loss: 0.5632 | test_acc: 0.8665\n",
            "Epoch: 7 | train_loss: 0.5747 | train_acc: 0.7852 | test_loss: 0.5282 | test_acc: 0.8561\n",
            "Epoch: 8 | train_loss: 0.5278 | train_acc: 0.7891 | test_loss: 0.4743 | test_acc: 0.9072\n",
            "Epoch: 9 | train_loss: 0.5221 | train_acc: 0.8008 | test_loss: 0.4742 | test_acc: 0.9072\n",
            "Epoch: 10 | train_loss: 0.4896 | train_acc: 0.8086 | test_loss: 0.5126 | test_acc: 0.8665\n"
          ]
        }
      ]
    },
    {
      "cell_type": "markdown",
      "source": [
        "## 5. Train the model from section 4 above with more data, say 20% of the images from Food101 of Pizza, Steak and Sushi images.\n",
        "* You can find the [20% Pizza, Steak, Sushi dataset](https://github.com/mrdbourke/pytorch-deep-learning/blob/main/data/pizza_steak_sushi_20_percent.zip) on the course GitHub. It was created with the notebook [`extras/04_custom_data_creation.ipynb`](https://github.com/mrdbourke/pytorch-deep-learning/blob/main/extras/04_custom_data_creation.ipynb). \n"
      ],
      "metadata": {
        "id": "_oRrWPZTgoqL"
      }
    },
    {
      "cell_type": "markdown",
      "source": [
        "### Get 20% data"
      ],
      "metadata": {
        "id": "VxyMMnUbgvw2"
      }
    },
    {
      "cell_type": "code",
      "source": [
        "import os\n",
        "import requests\n",
        "import zipfile\n",
        "\n",
        "from pathlib import Path\n",
        "\n",
        "# Setup path to data folder\n",
        "data_path = Path(\"data/\")\n",
        "image_path = data_path / \"pizza_steak_sushi_20_percent\"\n",
        "image_data_zip_path = \"pizza_steak_sushi_20_percent.zip\"\n",
        "\n",
        "# If the image folder doesn't exist, download it and prepare it... \n",
        "if image_path.is_dir():\n",
        "    print(f\"{image_path} directory exists.\")\n",
        "else:\n",
        "    print(f\"Did not find {image_path} directory, creating one...\")\n",
        "    image_path.mkdir(parents=True, exist_ok=True)\n",
        "    \n",
        "    # Download pizza, steak, sushi data\n",
        "    with open(data_path / image_data_zip_path, \"wb\") as f:\n",
        "        request = requests.get(\"https://github.com/mrdbourke/pytorch-deep-learning/raw/main/data/pizza_steak_sushi_20_percent.zip\")\n",
        "        print(\"Downloading pizza, steak, sushi data...\")\n",
        "        f.write(request.content)\n",
        "\n",
        "    # Unzip pizza, steak, sushi data\n",
        "    with zipfile.ZipFile(data_path / image_data_zip_path, \"r\") as zip_ref:\n",
        "        print(\"Unzipping pizza, steak, sushi 20% data...\") \n",
        "        zip_ref.extractall(image_path)\n",
        "\n",
        "    # Remove .zip file\n",
        "    os.remove(data_path / image_data_zip_path)\n",
        "\n",
        "# Setup Dirs\n",
        "train_dir_20_percent = image_path / \"train\"\n",
        "test_dir_20_percent = image_path / \"test\"\n",
        "\n",
        "train_dir_20_percent, test_dir_20_percent"
      ],
      "metadata": {
        "id": "U_fdu5m2eKT9",
        "colab": {
          "base_uri": "https://localhost:8080/"
        },
        "outputId": "c23144a1-11b1-4fd2-e21b-6f396e3777f7"
      },
      "execution_count": 27,
      "outputs": [
        {
          "output_type": "stream",
          "name": "stdout",
          "text": [
            "Did not find data/pizza_steak_sushi_20_percent directory, creating one...\n",
            "Downloading pizza, steak, sushi data...\n",
            "Unzipping pizza, steak, sushi 20% data...\n"
          ]
        },
        {
          "output_type": "execute_result",
          "data": {
            "text/plain": [
              "(PosixPath('data/pizza_steak_sushi_20_percent/train'),\n",
              " PosixPath('data/pizza_steak_sushi_20_percent/test'))"
            ]
          },
          "metadata": {},
          "execution_count": 27
        }
      ]
    },
    {
      "cell_type": "markdown",
      "source": [
        "### Create DataLoaders"
      ],
      "metadata": {
        "id": "SQj7eFdSe4Fv"
      }
    },
    {
      "cell_type": "code",
      "source": [
        "# Create a transforms pipeline\n",
        "simple_transform = transforms.Compose([\n",
        "    transforms.Resize((224, 224)), # 1. Reshape all images to 224x224 (though some models may require different sizes)\n",
        "    transforms.ToTensor(), # 2. Turn image values to between 0 & 1 \n",
        "    transforms.Normalize(mean=[0.485, 0.456, 0.406], # 3. A mean of [0.485, 0.456, 0.406] (across each colour channel)\n",
        "                         std=[0.229, 0.224, 0.225]) # 4. A standard deviation of [0.229, 0.224, 0.225] (across each colour channel),\n",
        "])"
      ],
      "metadata": {
        "id": "TEG_k785e7Jw"
      },
      "execution_count": 28,
      "outputs": []
    },
    {
      "cell_type": "code",
      "source": [
        "# Create training and testing DataLoader's as well as get a list of class names\n",
        "train_dataloader_20_percent, test_dataloader_20_percent, class_names = data_setup.create_dataloaders(train_dir=train_dir_20_percent,\n",
        "                                                                                                     test_dir=test_dir_20_percent,\n",
        "                                                                                                     transform=simple_transform, # resize, convert images to between 0 & 1 and normalize them\n",
        "                                                                                                     batch_size=32) # set mini-batch size to 32\n",
        "\n",
        "train_dataloader_20_percent, test_dataloader_20_percent, class_names"
      ],
      "metadata": {
        "id": "82x7LnQJe7H5",
        "colab": {
          "base_uri": "https://localhost:8080/"
        },
        "outputId": "ec80fd62-19c1-443c-d85e-7ae14a63bab2"
      },
      "execution_count": 29,
      "outputs": [
        {
          "output_type": "execute_result",
          "data": {
            "text/plain": [
              "(<torch.utils.data.dataloader.DataLoader at 0x7f613befe910>,\n",
              " <torch.utils.data.dataloader.DataLoader at 0x7f6209ea2040>,\n",
              " ['pizza', 'steak', 'sushi'])"
            ]
          },
          "metadata": {},
          "execution_count": 29
        }
      ]
    },
    {
      "cell_type": "markdown",
      "source": [
        "### Get a pretrained model"
      ],
      "metadata": {
        "id": "qROl77sKfIOd"
      }
    },
    {
      "cell_type": "code",
      "source": [
        "# store the best available weights of the pretrained model\n",
        "weights = torchvision.models.EfficientNet_B0_Weights.DEFAULT\n",
        "# initialize new model using these weights\n",
        "model_2 = torchvision.models.efficientnet_b0(weights=weights).to(device)\n",
        "\n",
        "# turn off training and tracking gradients for weights within the features component of the model\n",
        "for param in model_2.features.parameters():\n",
        "  param.requires_grad = False\n",
        "\n",
        "torch.manual_seed(42)\n",
        "torch.cuda.manual_seed(42)\n",
        "\n",
        "# modify the classifier component to accomodate the number of classes for the problem\n",
        "model_2.classifier = nn.Sequential(\n",
        "    nn.Dropout(p=0.2, inplace=True),\n",
        "    nn.Linear(in_features=1280, out_features=len(class_names), bias=True)\n",
        ").to(device)\n",
        "\n",
        "# display a summary of the model architecture\n",
        "summary(model_2, input_size=(32, 3, 224, 244), col_names=['input_size', 'output_size', 'trainable'])"
      ],
      "metadata": {
        "id": "PHWNZ6yDvpR8",
        "colab": {
          "base_uri": "https://localhost:8080/"
        },
        "outputId": "fa08cabc-64cc-4ba6-c9d3-ab63280032df"
      },
      "execution_count": 30,
      "outputs": [
        {
          "output_type": "execute_result",
          "data": {
            "text/plain": [
              "==================================================================================================================================\n",
              "Layer (type:depth-idx)                                  Input Shape               Output Shape              Trainable\n",
              "==================================================================================================================================\n",
              "EfficientNet                                            [32, 3, 224, 244]         [32, 3]                   Partial\n",
              "├─Sequential: 1-1                                       [32, 3, 224, 244]         [32, 1280, 7, 8]          False\n",
              "│    └─Conv2dNormActivation: 2-1                        [32, 3, 224, 244]         [32, 32, 112, 122]        False\n",
              "│    │    └─Conv2d: 3-1                                 [32, 3, 224, 244]         [32, 32, 112, 122]        False\n",
              "│    │    └─BatchNorm2d: 3-2                            [32, 32, 112, 122]        [32, 32, 112, 122]        False\n",
              "│    │    └─SiLU: 3-3                                   [32, 32, 112, 122]        [32, 32, 112, 122]        --\n",
              "│    └─Sequential: 2-2                                  [32, 32, 112, 122]        [32, 16, 112, 122]        False\n",
              "│    │    └─MBConv: 3-4                                 [32, 32, 112, 122]        [32, 16, 112, 122]        False\n",
              "│    └─Sequential: 2-3                                  [32, 16, 112, 122]        [32, 24, 56, 61]          False\n",
              "│    │    └─MBConv: 3-5                                 [32, 16, 112, 122]        [32, 24, 56, 61]          False\n",
              "│    │    └─MBConv: 3-6                                 [32, 24, 56, 61]          [32, 24, 56, 61]          False\n",
              "│    └─Sequential: 2-4                                  [32, 24, 56, 61]          [32, 40, 28, 31]          False\n",
              "│    │    └─MBConv: 3-7                                 [32, 24, 56, 61]          [32, 40, 28, 31]          False\n",
              "│    │    └─MBConv: 3-8                                 [32, 40, 28, 31]          [32, 40, 28, 31]          False\n",
              "│    └─Sequential: 2-5                                  [32, 40, 28, 31]          [32, 80, 14, 16]          False\n",
              "│    │    └─MBConv: 3-9                                 [32, 40, 28, 31]          [32, 80, 14, 16]          False\n",
              "│    │    └─MBConv: 3-10                                [32, 80, 14, 16]          [32, 80, 14, 16]          False\n",
              "│    │    └─MBConv: 3-11                                [32, 80, 14, 16]          [32, 80, 14, 16]          False\n",
              "│    └─Sequential: 2-6                                  [32, 80, 14, 16]          [32, 112, 14, 16]         False\n",
              "│    │    └─MBConv: 3-12                                [32, 80, 14, 16]          [32, 112, 14, 16]         False\n",
              "│    │    └─MBConv: 3-13                                [32, 112, 14, 16]         [32, 112, 14, 16]         False\n",
              "│    │    └─MBConv: 3-14                                [32, 112, 14, 16]         [32, 112, 14, 16]         False\n",
              "│    └─Sequential: 2-7                                  [32, 112, 14, 16]         [32, 192, 7, 8]           False\n",
              "│    │    └─MBConv: 3-15                                [32, 112, 14, 16]         [32, 192, 7, 8]           False\n",
              "│    │    └─MBConv: 3-16                                [32, 192, 7, 8]           [32, 192, 7, 8]           False\n",
              "│    │    └─MBConv: 3-17                                [32, 192, 7, 8]           [32, 192, 7, 8]           False\n",
              "│    │    └─MBConv: 3-18                                [32, 192, 7, 8]           [32, 192, 7, 8]           False\n",
              "│    └─Sequential: 2-8                                  [32, 192, 7, 8]           [32, 320, 7, 8]           False\n",
              "│    │    └─MBConv: 3-19                                [32, 192, 7, 8]           [32, 320, 7, 8]           False\n",
              "│    └─Conv2dNormActivation: 2-9                        [32, 320, 7, 8]           [32, 1280, 7, 8]          False\n",
              "│    │    └─Conv2d: 3-20                                [32, 320, 7, 8]           [32, 1280, 7, 8]          False\n",
              "│    │    └─BatchNorm2d: 3-21                           [32, 1280, 7, 8]          [32, 1280, 7, 8]          False\n",
              "│    │    └─SiLU: 3-22                                  [32, 1280, 7, 8]          [32, 1280, 7, 8]          --\n",
              "├─AdaptiveAvgPool2d: 1-2                                [32, 1280, 7, 8]          [32, 1280, 1, 1]          --\n",
              "├─Sequential: 1-3                                       [32, 1280]                [32, 3]                   True\n",
              "│    └─Dropout: 2-10                                    [32, 1280]                [32, 1280]                --\n",
              "│    └─Linear: 2-11                                     [32, 1280]                [32, 3]                   True\n",
              "==================================================================================================================================\n",
              "Total params: 4,011,391\n",
              "Trainable params: 3,843\n",
              "Non-trainable params: 4,007,548\n",
              "Total mult-adds (G): 13.87\n",
              "==================================================================================================================================\n",
              "Input size (MB): 20.99\n",
              "Forward/backward pass size (MB): 3821.27\n",
              "Params size (MB): 16.05\n",
              "Estimated Total Size (MB): 3858.31\n",
              "=================================================================================================================================="
            ]
          },
          "metadata": {},
          "execution_count": 30
        }
      ]
    },
    {
      "cell_type": "code",
      "source": [
        "loss_fn = torch.nn.CrossEntropyLoss()\n",
        "optimizer = torch.optim.Adam(params=model_2.parameters(), lr=0.001)"
      ],
      "metadata": {
        "id": "5O6Nme7phVwj"
      },
      "execution_count": 31,
      "outputs": []
    },
    {
      "cell_type": "markdown",
      "source": [
        "### Train a model with 20% of the data"
      ],
      "metadata": {
        "id": "UqffJfOIfp3T"
      }
    },
    {
      "cell_type": "code",
      "source": [
        "# train the new model for 10 epochs using 20% extra data\n",
        "model_2_results = engine.train(model=model_2,\n",
        "                               train_dataloader=train_dataloader,\n",
        "                               test_dataloader=test_dataloader,\n",
        "                               optimizer=optimizer,\n",
        "                               loss_fn=loss_fn,\n",
        "                               epochs=10,\n",
        "                               device=device)"
      ],
      "metadata": {
        "id": "wXpYOYeTvp7a",
        "colab": {
          "base_uri": "https://localhost:8080/",
          "height": 223,
          "referenced_widgets": [
            "6e38e88d06b043c3bdc28861faa90e1e",
            "0696d8f11099476998eb879297aa0d97",
            "f47884a86ee440949ab875eaf47e51d9",
            "db7360dc6c6d4e25bd90b56cd5768eaa",
            "6ff070a9607b414abdc186204898a568",
            "608cf0c39da542998bff92ae56a3a8f5",
            "f1b61222934b484ca468c90f162de655",
            "352c8d8e45f74d229b9d8a7ee988b752",
            "ec468c3dff3c436893fbd10edfb9cdac",
            "168ad814214d40a294621a41534d9d79",
            "76066d07975b481f93feea295516bf57"
          ]
        },
        "outputId": "f58a4dec-b6a4-4ae9-e9df-09229d8f095f"
      },
      "execution_count": 32,
      "outputs": [
        {
          "output_type": "display_data",
          "data": {
            "text/plain": [
              "  0%|          | 0/10 [00:00<?, ?it/s]"
            ],
            "application/vnd.jupyter.widget-view+json": {
              "version_major": 2,
              "version_minor": 0,
              "model_id": "6e38e88d06b043c3bdc28861faa90e1e"
            }
          },
          "metadata": {}
        },
        {
          "output_type": "stream",
          "name": "stdout",
          "text": [
            "Epoch: 1 | train_loss: 1.0225 | train_acc: 0.5430 | test_loss: 0.9111 | test_acc: 0.5814\n",
            "Epoch: 2 | train_loss: 0.8502 | train_acc: 0.6836 | test_loss: 0.8354 | test_acc: 0.5701\n",
            "Epoch: 3 | train_loss: 0.7397 | train_acc: 0.7422 | test_loss: 0.7622 | test_acc: 0.6619\n",
            "Epoch: 4 | train_loss: 0.6568 | train_acc: 0.8047 | test_loss: 0.6409 | test_acc: 0.8561\n",
            "Epoch: 5 | train_loss: 0.5890 | train_acc: 0.8945 | test_loss: 0.5888 | test_acc: 0.8665\n",
            "Epoch: 6 | train_loss: 0.6127 | train_acc: 0.7656 | test_loss: 0.5632 | test_acc: 0.8665\n",
            "Epoch: 7 | train_loss: 0.5747 | train_acc: 0.7852 | test_loss: 0.5282 | test_acc: 0.8561\n",
            "Epoch: 8 | train_loss: 0.5278 | train_acc: 0.7891 | test_loss: 0.4743 | test_acc: 0.9072\n",
            "Epoch: 9 | train_loss: 0.5221 | train_acc: 0.8008 | test_loss: 0.4742 | test_acc: 0.9072\n",
            "Epoch: 10 | train_loss: 0.4896 | train_acc: 0.8086 | test_loss: 0.5126 | test_acc: 0.8665\n"
          ]
        }
      ]
    },
    {
      "cell_type": "markdown",
      "source": [
        "## 6. Try a different model from [`torchvision.models`](https://pytorch.org/vision/stable/models.html) on the Pizza, Steak, Sushi data, how does this model perform?\n",
        "* You'll have to change the size of the classifier layer to suit our problem.\n",
        "* You may want to try an EfficientNet with a higher number than our B0, perhaps `torchvision.models.efficientnet_b2()`?\n",
        "  * **Note:** Depending on the model you use you will have to prepare/transform the data in a certain way."
      ],
      "metadata": {
        "id": "Ibj4UPjRgvly"
      }
    },
    {
      "cell_type": "code",
      "source": [
        "# store best available weights from pretrained EfficientNetB2 model\n",
        "weights = torchvision.models.EfficientNet_B2_Weights.DEFAULT\n",
        "\n",
        "# store the transform used to preprocess the data used to train the pretrained model\n",
        "transform = weights.transforms()\n",
        "\n",
        "# create data loaders and apply transform to data batches\n",
        "train_dataloader, test_dataloader, class_names = data_setup.create_dataloaders(train_dir=train_dir_20_percent,\n",
        "                                                                              test_dir=test_dir_20_percent,\n",
        "                                                                              transform=transform,\n",
        "                                                                              batch_size=32)\n",
        "\n",
        "# initialize new pretrained model\n",
        "model_3 = torchvision.models.efficientnet_b2(weights=weights).to(device)\n",
        "\n",
        "# display architecture of the pretrained model BEFORE modifications to architecture\n",
        "summary(model_3, input_size=(32, 3, 288, 288), col_names=['input_size', 'output_size', 'trainable'])\n"
      ],
      "metadata": {
        "id": "3FQ8tL7El7eO",
        "colab": {
          "base_uri": "https://localhost:8080/",
          "height": 1000,
          "referenced_widgets": [
            "dcbcc7a69435405eb37c2dfa0ca18778",
            "0d9d5913c4204f6f9610d559c50f8a2c",
            "b3d2d92d498e4d869940026b61e56dad",
            "d106c0faddcd4ca3904dc58634295ed0",
            "4690d27077c14b42a7768588ff331a52",
            "60855b27fd4946bb966d1bb6ba93b99a",
            "634b25349a0044a48ef46082fa0e0473",
            "ce5b30f9d26b4af09da0b3f47cd1e615",
            "89dd3bd683d34898878584152c0b1754",
            "18ed58c1152c486ca1a578412c47534f",
            "3b9cc606b6e540a5bed46967362523d6"
          ]
        },
        "outputId": "651476d9-b6a3-4d27-83c8-da033b1e7f68"
      },
      "execution_count": 34,
      "outputs": [
        {
          "output_type": "stream",
          "name": "stderr",
          "text": [
            "Downloading: \"https://download.pytorch.org/models/efficientnet_b2_rwightman-bcdf34b7.pth\" to /root/.cache/torch/hub/checkpoints/efficientnet_b2_rwightman-bcdf34b7.pth\n"
          ]
        },
        {
          "output_type": "display_data",
          "data": {
            "text/plain": [
              "  0%|          | 0.00/35.2M [00:00<?, ?B/s]"
            ],
            "application/vnd.jupyter.widget-view+json": {
              "version_major": 2,
              "version_minor": 0,
              "model_id": "dcbcc7a69435405eb37c2dfa0ca18778"
            }
          },
          "metadata": {}
        },
        {
          "output_type": "execute_result",
          "data": {
            "text/plain": [
              "==================================================================================================================================\n",
              "Layer (type:depth-idx)                                  Input Shape               Output Shape              Trainable\n",
              "==================================================================================================================================\n",
              "EfficientNet                                            [32, 3, 288, 288]         [32, 1000]                True\n",
              "├─Sequential: 1-1                                       [32, 3, 288, 288]         [32, 1408, 9, 9]          True\n",
              "│    └─Conv2dNormActivation: 2-1                        [32, 3, 288, 288]         [32, 32, 144, 144]        True\n",
              "│    │    └─Conv2d: 3-1                                 [32, 3, 288, 288]         [32, 32, 144, 144]        True\n",
              "│    │    └─BatchNorm2d: 3-2                            [32, 32, 144, 144]        [32, 32, 144, 144]        True\n",
              "│    │    └─SiLU: 3-3                                   [32, 32, 144, 144]        [32, 32, 144, 144]        --\n",
              "│    └─Sequential: 2-2                                  [32, 32, 144, 144]        [32, 16, 144, 144]        True\n",
              "│    │    └─MBConv: 3-4                                 [32, 32, 144, 144]        [32, 16, 144, 144]        True\n",
              "│    │    └─MBConv: 3-5                                 [32, 16, 144, 144]        [32, 16, 144, 144]        True\n",
              "│    └─Sequential: 2-3                                  [32, 16, 144, 144]        [32, 24, 72, 72]          True\n",
              "│    │    └─MBConv: 3-6                                 [32, 16, 144, 144]        [32, 24, 72, 72]          True\n",
              "│    │    └─MBConv: 3-7                                 [32, 24, 72, 72]          [32, 24, 72, 72]          True\n",
              "│    │    └─MBConv: 3-8                                 [32, 24, 72, 72]          [32, 24, 72, 72]          True\n",
              "│    └─Sequential: 2-4                                  [32, 24, 72, 72]          [32, 48, 36, 36]          True\n",
              "│    │    └─MBConv: 3-9                                 [32, 24, 72, 72]          [32, 48, 36, 36]          True\n",
              "│    │    └─MBConv: 3-10                                [32, 48, 36, 36]          [32, 48, 36, 36]          True\n",
              "│    │    └─MBConv: 3-11                                [32, 48, 36, 36]          [32, 48, 36, 36]          True\n",
              "│    └─Sequential: 2-5                                  [32, 48, 36, 36]          [32, 88, 18, 18]          True\n",
              "│    │    └─MBConv: 3-12                                [32, 48, 36, 36]          [32, 88, 18, 18]          True\n",
              "│    │    └─MBConv: 3-13                                [32, 88, 18, 18]          [32, 88, 18, 18]          True\n",
              "│    │    └─MBConv: 3-14                                [32, 88, 18, 18]          [32, 88, 18, 18]          True\n",
              "│    │    └─MBConv: 3-15                                [32, 88, 18, 18]          [32, 88, 18, 18]          True\n",
              "│    └─Sequential: 2-6                                  [32, 88, 18, 18]          [32, 120, 18, 18]         True\n",
              "│    │    └─MBConv: 3-16                                [32, 88, 18, 18]          [32, 120, 18, 18]         True\n",
              "│    │    └─MBConv: 3-17                                [32, 120, 18, 18]         [32, 120, 18, 18]         True\n",
              "│    │    └─MBConv: 3-18                                [32, 120, 18, 18]         [32, 120, 18, 18]         True\n",
              "│    │    └─MBConv: 3-19                                [32, 120, 18, 18]         [32, 120, 18, 18]         True\n",
              "│    └─Sequential: 2-7                                  [32, 120, 18, 18]         [32, 208, 9, 9]           True\n",
              "│    │    └─MBConv: 3-20                                [32, 120, 18, 18]         [32, 208, 9, 9]           True\n",
              "│    │    └─MBConv: 3-21                                [32, 208, 9, 9]           [32, 208, 9, 9]           True\n",
              "│    │    └─MBConv: 3-22                                [32, 208, 9, 9]           [32, 208, 9, 9]           True\n",
              "│    │    └─MBConv: 3-23                                [32, 208, 9, 9]           [32, 208, 9, 9]           True\n",
              "│    │    └─MBConv: 3-24                                [32, 208, 9, 9]           [32, 208, 9, 9]           True\n",
              "│    └─Sequential: 2-8                                  [32, 208, 9, 9]           [32, 352, 9, 9]           True\n",
              "│    │    └─MBConv: 3-25                                [32, 208, 9, 9]           [32, 352, 9, 9]           True\n",
              "│    │    └─MBConv: 3-26                                [32, 352, 9, 9]           [32, 352, 9, 9]           True\n",
              "│    └─Conv2dNormActivation: 2-9                        [32, 352, 9, 9]           [32, 1408, 9, 9]          True\n",
              "│    │    └─Conv2d: 3-27                                [32, 352, 9, 9]           [32, 1408, 9, 9]          True\n",
              "│    │    └─BatchNorm2d: 3-28                           [32, 1408, 9, 9]          [32, 1408, 9, 9]          True\n",
              "│    │    └─SiLU: 3-29                                  [32, 1408, 9, 9]          [32, 1408, 9, 9]          --\n",
              "├─AdaptiveAvgPool2d: 1-2                                [32, 1408, 9, 9]          [32, 1408, 1, 1]          --\n",
              "├─Sequential: 1-3                                       [32, 1408]                [32, 1000]                True\n",
              "│    └─Dropout: 2-10                                    [32, 1408]                [32, 1408]                --\n",
              "│    └─Linear: 2-11                                     [32, 1408]                [32, 1000]                True\n",
              "==================================================================================================================================\n",
              "Total params: 9,109,994\n",
              "Trainable params: 9,109,994\n",
              "Non-trainable params: 0\n",
              "Total mult-adds (G): 34.80\n",
              "==================================================================================================================================\n",
              "Input size (MB): 31.85\n",
              "Forward/backward pass size (MB): 8291.97\n",
              "Params size (MB): 36.44\n",
              "Estimated Total Size (MB): 8360.26\n",
              "=================================================================================================================================="
            ]
          },
          "metadata": {},
          "execution_count": 34
        }
      ]
    },
    {
      "cell_type": "code",
      "source": [
        "# freeze feature component training parameters\n",
        "for param in model_3.features.parameters():\n",
        "  param.requires_grad = False\n",
        "\n",
        "# modify classifier component to accomodate the number of classes used in the problem\n",
        "model_3.classifier = nn.Sequential(\n",
        "    nn.Dropout(p=0.2, inplace=True),\n",
        "    nn.Linear(in_features=1408, out_features=3, bias=True)\n",
        ").to(device)\n",
        "\n",
        "# display the architecture of the modified pretrained model\n",
        "# only weights in the classfier are now trainable and the model output size has been reduced from 1000 to 3\n",
        "summary(model_3, input_size=(32, 3, 288, 288), col_names=['input_size', 'output_size', 'trainable'])\n"
      ],
      "metadata": {
        "colab": {
          "base_uri": "https://localhost:8080/"
        },
        "id": "LFhCpwCK5U9g",
        "outputId": "a017b1cb-9eec-4a62-f728-7f0c862806d5"
      },
      "execution_count": 38,
      "outputs": [
        {
          "output_type": "execute_result",
          "data": {
            "text/plain": [
              "==================================================================================================================================\n",
              "Layer (type:depth-idx)                                  Input Shape               Output Shape              Trainable\n",
              "==================================================================================================================================\n",
              "EfficientNet                                            [32, 3, 288, 288]         [32, 3]                   Partial\n",
              "├─Sequential: 1-1                                       [32, 3, 288, 288]         [32, 1408, 9, 9]          False\n",
              "│    └─Conv2dNormActivation: 2-1                        [32, 3, 288, 288]         [32, 32, 144, 144]        False\n",
              "│    │    └─Conv2d: 3-1                                 [32, 3, 288, 288]         [32, 32, 144, 144]        False\n",
              "│    │    └─BatchNorm2d: 3-2                            [32, 32, 144, 144]        [32, 32, 144, 144]        False\n",
              "│    │    └─SiLU: 3-3                                   [32, 32, 144, 144]        [32, 32, 144, 144]        --\n",
              "│    └─Sequential: 2-2                                  [32, 32, 144, 144]        [32, 16, 144, 144]        False\n",
              "│    │    └─MBConv: 3-4                                 [32, 32, 144, 144]        [32, 16, 144, 144]        False\n",
              "│    │    └─MBConv: 3-5                                 [32, 16, 144, 144]        [32, 16, 144, 144]        False\n",
              "│    └─Sequential: 2-3                                  [32, 16, 144, 144]        [32, 24, 72, 72]          False\n",
              "│    │    └─MBConv: 3-6                                 [32, 16, 144, 144]        [32, 24, 72, 72]          False\n",
              "│    │    └─MBConv: 3-7                                 [32, 24, 72, 72]          [32, 24, 72, 72]          False\n",
              "│    │    └─MBConv: 3-8                                 [32, 24, 72, 72]          [32, 24, 72, 72]          False\n",
              "│    └─Sequential: 2-4                                  [32, 24, 72, 72]          [32, 48, 36, 36]          False\n",
              "│    │    └─MBConv: 3-9                                 [32, 24, 72, 72]          [32, 48, 36, 36]          False\n",
              "│    │    └─MBConv: 3-10                                [32, 48, 36, 36]          [32, 48, 36, 36]          False\n",
              "│    │    └─MBConv: 3-11                                [32, 48, 36, 36]          [32, 48, 36, 36]          False\n",
              "│    └─Sequential: 2-5                                  [32, 48, 36, 36]          [32, 88, 18, 18]          False\n",
              "│    │    └─MBConv: 3-12                                [32, 48, 36, 36]          [32, 88, 18, 18]          False\n",
              "│    │    └─MBConv: 3-13                                [32, 88, 18, 18]          [32, 88, 18, 18]          False\n",
              "│    │    └─MBConv: 3-14                                [32, 88, 18, 18]          [32, 88, 18, 18]          False\n",
              "│    │    └─MBConv: 3-15                                [32, 88, 18, 18]          [32, 88, 18, 18]          False\n",
              "│    └─Sequential: 2-6                                  [32, 88, 18, 18]          [32, 120, 18, 18]         False\n",
              "│    │    └─MBConv: 3-16                                [32, 88, 18, 18]          [32, 120, 18, 18]         False\n",
              "│    │    └─MBConv: 3-17                                [32, 120, 18, 18]         [32, 120, 18, 18]         False\n",
              "│    │    └─MBConv: 3-18                                [32, 120, 18, 18]         [32, 120, 18, 18]         False\n",
              "│    │    └─MBConv: 3-19                                [32, 120, 18, 18]         [32, 120, 18, 18]         False\n",
              "│    └─Sequential: 2-7                                  [32, 120, 18, 18]         [32, 208, 9, 9]           False\n",
              "│    │    └─MBConv: 3-20                                [32, 120, 18, 18]         [32, 208, 9, 9]           False\n",
              "│    │    └─MBConv: 3-21                                [32, 208, 9, 9]           [32, 208, 9, 9]           False\n",
              "│    │    └─MBConv: 3-22                                [32, 208, 9, 9]           [32, 208, 9, 9]           False\n",
              "│    │    └─MBConv: 3-23                                [32, 208, 9, 9]           [32, 208, 9, 9]           False\n",
              "│    │    └─MBConv: 3-24                                [32, 208, 9, 9]           [32, 208, 9, 9]           False\n",
              "│    └─Sequential: 2-8                                  [32, 208, 9, 9]           [32, 352, 9, 9]           False\n",
              "│    │    └─MBConv: 3-25                                [32, 208, 9, 9]           [32, 352, 9, 9]           False\n",
              "│    │    └─MBConv: 3-26                                [32, 352, 9, 9]           [32, 352, 9, 9]           False\n",
              "│    └─Conv2dNormActivation: 2-9                        [32, 352, 9, 9]           [32, 1408, 9, 9]          False\n",
              "│    │    └─Conv2d: 3-27                                [32, 352, 9, 9]           [32, 1408, 9, 9]          False\n",
              "│    │    └─BatchNorm2d: 3-28                           [32, 1408, 9, 9]          [32, 1408, 9, 9]          False\n",
              "│    │    └─SiLU: 3-29                                  [32, 1408, 9, 9]          [32, 1408, 9, 9]          --\n",
              "├─AdaptiveAvgPool2d: 1-2                                [32, 1408, 9, 9]          [32, 1408, 1, 1]          --\n",
              "├─Sequential: 1-3                                       [32, 1408]                [32, 3]                   True\n",
              "│    └─Dropout: 2-10                                    [32, 1408]                [32, 1408]                --\n",
              "│    └─Linear: 2-11                                     [32, 1408]                [32, 3]                   True\n",
              "==================================================================================================================================\n",
              "Total params: 7,705,221\n",
              "Trainable params: 4,227\n",
              "Non-trainable params: 7,700,994\n",
              "Total mult-adds (G): 34.76\n",
              "==================================================================================================================================\n",
              "Input size (MB): 31.85\n",
              "Forward/backward pass size (MB): 8291.71\n",
              "Params size (MB): 30.82\n",
              "Estimated Total Size (MB): 8354.38\n",
              "=================================================================================================================================="
            ]
          },
          "metadata": {},
          "execution_count": 38
        }
      ]
    },
    {
      "cell_type": "code",
      "source": [
        "# loss function\n",
        "loss_fn = nn.CrossEntropyLoss()\n",
        "# Adam optimizer\n",
        "optimizer = torch.optim.Adam(params=model_3.parameters(), lr=0.001)"
      ],
      "metadata": {
        "id": "PZk1aIx67GhQ"
      },
      "execution_count": 39,
      "outputs": []
    },
    {
      "cell_type": "code",
      "source": [
        "torch.manual_seed(42)\n",
        "torch.cuda.manual_seed(42)\n",
        "\n",
        "# train model\n",
        "model_3_results = engine.train(model=model_3,\n",
        "                               train_dataloader=train_dataloader,\n",
        "                               test_dataloader=test_dataloader,\n",
        "                               optimizer=optimizer,\n",
        "                               loss_fn=loss_fn,\n",
        "                               epochs=10,\n",
        "                               device=device)"
      ],
      "metadata": {
        "colab": {
          "base_uri": "https://localhost:8080/",
          "height": 223,
          "referenced_widgets": [
            "148bda3d807c44c086bd3bddccef0ab0",
            "d28c3cb34752431596f2c95a6849a6f1",
            "6e5e639f2e77463c90c40b8e1bfa0ca5",
            "98a00d6e84564e9ea2d90183301001f1",
            "c4b1e662460b406fbb384d97d0472213",
            "65e82ae79d7c46a7842147adcd063adf",
            "ea7feb7d314c4ddaa8194872f738a4ad",
            "2950785a36b642e981d1bb1025b23784",
            "2a15bd8f416c4a2589cc18f7b3f5f9fd",
            "3a78d18416154cb9b42d3cf559c45afc",
            "f1ef62ed626449ea9a3f32125810e5bb"
          ]
        },
        "id": "9K35LLGa7R-x",
        "outputId": "d625fada-e817-4705-826c-c9fba8af4297"
      },
      "execution_count": 40,
      "outputs": [
        {
          "output_type": "display_data",
          "data": {
            "text/plain": [
              "  0%|          | 0/10 [00:00<?, ?it/s]"
            ],
            "application/vnd.jupyter.widget-view+json": {
              "version_major": 2,
              "version_minor": 0,
              "model_id": "148bda3d807c44c086bd3bddccef0ab0"
            }
          },
          "metadata": {}
        },
        {
          "output_type": "stream",
          "name": "stdout",
          "text": [
            "Epoch: 1 | train_loss: 0.9593 | train_acc: 0.5979 | test_loss: 0.7202 | test_acc: 0.9227\n",
            "Epoch: 2 | train_loss: 0.6817 | train_acc: 0.8708 | test_loss: 0.5842 | test_acc: 0.9290\n",
            "Epoch: 3 | train_loss: 0.5672 | train_acc: 0.8646 | test_loss: 0.4858 | test_acc: 0.9597\n",
            "Epoch: 4 | train_loss: 0.4349 | train_acc: 0.9083 | test_loss: 0.4298 | test_acc: 0.9256\n",
            "Epoch: 5 | train_loss: 0.4075 | train_acc: 0.9104 | test_loss: 0.3911 | test_acc: 0.9290\n",
            "Epoch: 6 | train_loss: 0.4187 | train_acc: 0.8833 | test_loss: 0.3469 | test_acc: 0.9506\n",
            "Epoch: 7 | train_loss: 0.4153 | train_acc: 0.8438 | test_loss: 0.3257 | test_acc: 0.9506\n",
            "Epoch: 8 | train_loss: 0.3820 | train_acc: 0.9000 | test_loss: 0.3467 | test_acc: 0.9261\n",
            "Epoch: 9 | train_loss: 0.3631 | train_acc: 0.8938 | test_loss: 0.3126 | test_acc: 0.9131\n",
            "Epoch: 10 | train_loss: 0.3481 | train_acc: 0.8646 | test_loss: 0.2796 | test_acc: 0.9750\n"
          ]
        }
      ]
    },
    {
      "cell_type": "code",
      "source": [
        "# check the accuracy of predictions over the entire test data\n",
        "pred_y = []\n",
        "true_y = []\n",
        "\n",
        "model_3.eval()\n",
        "with torch.inference_mode():\n",
        "  for X, y in test_dataloader:\n",
        "    # allocate data to device\n",
        "    X, y = X.to(device), y.to(device)\n",
        "\n",
        "    logit = model_3(X)\n",
        "    label = torch.argmax(torch.softmax(logit, dim=1), dim=1)\n",
        "    # store prediction and real target\n",
        "    pred_y.append(label.cpu())\n",
        "    true_y.append(y.cpu())\n",
        "\n",
        "# create a tensor of all data from list of batches\n",
        "pred_y_tensor = torch.cat(pred_y)\n",
        "true_y_tensor = torch.cat(true_y)"
      ],
      "metadata": {
        "id": "bPebMZG18ZSr"
      },
      "execution_count": 41,
      "outputs": []
    },
    {
      "cell_type": "code",
      "source": [
        "# plot a confusion matrix to show model accuracy\n",
        "confusion_matrix = ConfusionMatrix(num_classes=len(class_names), task='multiclass')\n",
        "confusion_marix_tensor = confusion_matrix(preds=pred_y_tensor, target=true_y_tensor)\n",
        "\n",
        "plot_confusion_matrix(confusion_matrix_tensor.numpy(), class_names=class_names, figsize=(4, 4))"
      ],
      "metadata": {
        "colab": {
          "base_uri": "https://localhost:8080/",
          "height": 331
        },
        "id": "zkjfRXW99TP8",
        "outputId": "8ace2e3a-3aa2-4e1d-d1f3-68ae61981223"
      },
      "execution_count": 42,
      "outputs": [
        {
          "output_type": "execute_result",
          "data": {
            "text/plain": [
              "(<Figure size 288x288 with 1 Axes>,\n",
              " <matplotlib.axes._subplots.AxesSubplot at 0x7f60ff6e9b80>)"
            ]
          },
          "metadata": {},
          "execution_count": 42
        },
        {
          "output_type": "display_data",
          "data": {
            "text/plain": [
              "<Figure size 288x288 with 1 Axes>"
            ],
            "image/png": "[encoded data removed]"
          },
          "metadata": {
            "needs_background": "light"
          }
        }
      ]
    }
  ]
}