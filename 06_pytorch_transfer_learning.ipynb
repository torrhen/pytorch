{
  "nbformat": 4,
  "nbformat_minor": 0,
  "metadata": {
    "colab": {
      "provenance": [],
      "authorship_tag": "ABX9TyOX8fns23k/FATZbPpb4bkk",
      "include_colab_link": true
    },
    "kernelspec": {
      "name": "python3",
      "display_name": "Python 3"
    },
    "language_info": {
      "name": "python"
    },
    "widgets": {
      "application/vnd.jupyter.widget-state+json": {
        "30504d78b1e14cf18a89b2cba820dcc1": {
          "model_module": "@jupyter-widgets/controls",
          "model_name": "HBoxModel",
          "model_module_version": "1.5.0",
          "state": {
            "_dom_classes": [],
            "_model_module": "@jupyter-widgets/controls",
            "_model_module_version": "1.5.0",
            "_model_name": "HBoxModel",
            "_view_count": null,
            "_view_module": "@jupyter-widgets/controls",
            "_view_module_version": "1.5.0",
            "_view_name": "HBoxView",
            "box_style": "",
            "children": [
              "IPY_MODEL_ac33880a778a4cb6b89e787815f7acb4",
              "IPY_MODEL_003e8ca0939642ad92a328b667e88f5d",
              "IPY_MODEL_b193082372fd41c8824512165397426c"
            ],
            "layout": "IPY_MODEL_326fb703ad2c425da0bf725077010c8f"
          }
        },
        "ac33880a778a4cb6b89e787815f7acb4": {
          "model_module": "@jupyter-widgets/controls",
          "model_name": "HTMLModel",
          "model_module_version": "1.5.0",
          "state": {
            "_dom_classes": [],
            "_model_module": "@jupyter-widgets/controls",
            "_model_module_version": "1.5.0",
            "_model_name": "HTMLModel",
            "_view_count": null,
            "_view_module": "@jupyter-widgets/controls",
            "_view_module_version": "1.5.0",
            "_view_name": "HTMLView",
            "description": "",
            "description_tooltip": null,
            "layout": "IPY_MODEL_197325d9b59944a8a6fa4c0ed7fbf4b1",
            "placeholder": "​",
            "style": "IPY_MODEL_4b44300dbf5e4129850194e190bc0a8a",
            "value": "100%"
          }
        },
        "003e8ca0939642ad92a328b667e88f5d": {
          "model_module": "@jupyter-widgets/controls",
          "model_name": "FloatProgressModel",
          "model_module_version": "1.5.0",
          "state": {
            "_dom_classes": [],
            "_model_module": "@jupyter-widgets/controls",
            "_model_module_version": "1.5.0",
            "_model_name": "FloatProgressModel",
            "_view_count": null,
            "_view_module": "@jupyter-widgets/controls",
            "_view_module_version": "1.5.0",
            "_view_name": "ProgressView",
            "bar_style": "success",
            "description": "",
            "description_tooltip": null,
            "layout": "IPY_MODEL_6d443c11b5f34ceba0461c18fb1e9db2",
            "max": 21444401,
            "min": 0,
            "orientation": "horizontal",
            "style": "IPY_MODEL_ab2a1349718d489ca4507e48ffa597e3",
            "value": 21444401
          }
        },
        "b193082372fd41c8824512165397426c": {
          "model_module": "@jupyter-widgets/controls",
          "model_name": "HTMLModel",
          "model_module_version": "1.5.0",
          "state": {
            "_dom_classes": [],
            "_model_module": "@jupyter-widgets/controls",
            "_model_module_version": "1.5.0",
            "_model_name": "HTMLModel",
            "_view_count": null,
            "_view_module": "@jupyter-widgets/controls",
            "_view_module_version": "1.5.0",
            "_view_name": "HTMLView",
            "description": "",
            "description_tooltip": null,
            "layout": "IPY_MODEL_88b200b5a65c4ec09b1c7d142fb1d85d",
            "placeholder": "​",
            "style": "IPY_MODEL_43b9eab4aad34d16a01bf930df56b9ad",
            "value": " 20.5M/20.5M [00:00&lt;00:00, 44.4MB/s]"
          }
        },
        "326fb703ad2c425da0bf725077010c8f": {
          "model_module": "@jupyter-widgets/base",
          "model_name": "LayoutModel",
          "model_module_version": "1.2.0",
          "state": {
            "_model_module": "@jupyter-widgets/base",
            "_model_module_version": "1.2.0",
            "_model_name": "LayoutModel",
            "_view_count": null,
            "_view_module": "@jupyter-widgets/base",
            "_view_module_version": "1.2.0",
            "_view_name": "LayoutView",
            "align_content": null,
            "align_items": null,
            "align_self": null,
            "border": null,
            "bottom": null,
            "display": null,
            "flex": null,
            "flex_flow": null,
            "grid_area": null,
            "grid_auto_columns": null,
            "grid_auto_flow": null,
            "grid_auto_rows": null,
            "grid_column": null,
            "grid_gap": null,
            "grid_row": null,
            "grid_template_areas": null,
            "grid_template_columns": null,
            "grid_template_rows": null,
            "height": null,
            "justify_content": null,
            "justify_items": null,
            "left": null,
            "margin": null,
            "max_height": null,
            "max_width": null,
            "min_height": null,
            "min_width": null,
            "object_fit": null,
            "object_position": null,
            "order": null,
            "overflow": null,
            "overflow_x": null,
            "overflow_y": null,
            "padding": null,
            "right": null,
            "top": null,
            "visibility": null,
            "width": null
          }
        },
        "197325d9b59944a8a6fa4c0ed7fbf4b1": {
          "model_module": "@jupyter-widgets/base",
          "model_name": "LayoutModel",
          "model_module_version": "1.2.0",
          "state": {
            "_model_module": "@jupyter-widgets/base",
            "_model_module_version": "1.2.0",
            "_model_name": "LayoutModel",
            "_view_count": null,
            "_view_module": "@jupyter-widgets/base",
            "_view_module_version": "1.2.0",
            "_view_name": "LayoutView",
            "align_content": null,
            "align_items": null,
            "align_self": null,
            "border": null,
            "bottom": null,
            "display": null,
            "flex": null,
            "flex_flow": null,
            "grid_area": null,
            "grid_auto_columns": null,
            "grid_auto_flow": null,
            "grid_auto_rows": null,
            "grid_column": null,
            "grid_gap": null,
            "grid_row": null,
            "grid_template_areas": null,
            "grid_template_columns": null,
            "grid_template_rows": null,
            "height": null,
            "justify_content": null,
            "justify_items": null,
            "left": null,
            "margin": null,
            "max_height": null,
            "max_width": null,
            "min_height": null,
            "min_width": null,
            "object_fit": null,
            "object_position": null,
            "order": null,
            "overflow": null,
            "overflow_x": null,
            "overflow_y": null,
            "padding": null,
            "right": null,
            "top": null,
            "visibility": null,
            "width": null
          }
        },
        "4b44300dbf5e4129850194e190bc0a8a": {
          "model_module": "@jupyter-widgets/controls",
          "model_name": "DescriptionStyleModel",
          "model_module_version": "1.5.0",
          "state": {
            "_model_module": "@jupyter-widgets/controls",
            "_model_module_version": "1.5.0",
            "_model_name": "DescriptionStyleModel",
            "_view_count": null,
            "_view_module": "@jupyter-widgets/base",
            "_view_module_version": "1.2.0",
            "_view_name": "StyleView",
            "description_width": ""
          }
        },
        "6d443c11b5f34ceba0461c18fb1e9db2": {
          "model_module": "@jupyter-widgets/base",
          "model_name": "LayoutModel",
          "model_module_version": "1.2.0",
          "state": {
            "_model_module": "@jupyter-widgets/base",
            "_model_module_version": "1.2.0",
            "_model_name": "LayoutModel",
            "_view_count": null,
            "_view_module": "@jupyter-widgets/base",
            "_view_module_version": "1.2.0",
            "_view_name": "LayoutView",
            "align_content": null,
            "align_items": null,
            "align_self": null,
            "border": null,
            "bottom": null,
            "display": null,
            "flex": null,
            "flex_flow": null,
            "grid_area": null,
            "grid_auto_columns": null,
            "grid_auto_flow": null,
            "grid_auto_rows": null,
            "grid_column": null,
            "grid_gap": null,
            "grid_row": null,
            "grid_template_areas": null,
            "grid_template_columns": null,
            "grid_template_rows": null,
            "height": null,
            "justify_content": null,
            "justify_items": null,
            "left": null,
            "margin": null,
            "max_height": null,
            "max_width": null,
            "min_height": null,
            "min_width": null,
            "object_fit": null,
            "object_position": null,
            "order": null,
            "overflow": null,
            "overflow_x": null,
            "overflow_y": null,
            "padding": null,
            "right": null,
            "top": null,
            "visibility": null,
            "width": null
          }
        },
        "ab2a1349718d489ca4507e48ffa597e3": {
          "model_module": "@jupyter-widgets/controls",
          "model_name": "ProgressStyleModel",
          "model_module_version": "1.5.0",
          "state": {
            "_model_module": "@jupyter-widgets/controls",
            "_model_module_version": "1.5.0",
            "_model_name": "ProgressStyleModel",
            "_view_count": null,
            "_view_module": "@jupyter-widgets/base",
            "_view_module_version": "1.2.0",
            "_view_name": "StyleView",
            "bar_color": null,
            "description_width": ""
          }
        },
        "88b200b5a65c4ec09b1c7d142fb1d85d": {
          "model_module": "@jupyter-widgets/base",
          "model_name": "LayoutModel",
          "model_module_version": "1.2.0",
          "state": {
            "_model_module": "@jupyter-widgets/base",
            "_model_module_version": "1.2.0",
            "_model_name": "LayoutModel",
            "_view_count": null,
            "_view_module": "@jupyter-widgets/base",
            "_view_module_version": "1.2.0",
            "_view_name": "LayoutView",
            "align_content": null,
            "align_items": null,
            "align_self": null,
            "border": null,
            "bottom": null,
            "display": null,
            "flex": null,
            "flex_flow": null,
            "grid_area": null,
            "grid_auto_columns": null,
            "grid_auto_flow": null,
            "grid_auto_rows": null,
            "grid_column": null,
            "grid_gap": null,
            "grid_row": null,
            "grid_template_areas": null,
            "grid_template_columns": null,
            "grid_template_rows": null,
            "height": null,
            "justify_content": null,
            "justify_items": null,
            "left": null,
            "margin": null,
            "max_height": null,
            "max_width": null,
            "min_height": null,
            "min_width": null,
            "object_fit": null,
            "object_position": null,
            "order": null,
            "overflow": null,
            "overflow_x": null,
            "overflow_y": null,
            "padding": null,
            "right": null,
            "top": null,
            "visibility": null,
            "width": null
          }
        },
        "43b9eab4aad34d16a01bf930df56b9ad": {
          "model_module": "@jupyter-widgets/controls",
          "model_name": "DescriptionStyleModel",
          "model_module_version": "1.5.0",
          "state": {
            "_model_module": "@jupyter-widgets/controls",
            "_model_module_version": "1.5.0",
            "_model_name": "DescriptionStyleModel",
            "_view_count": null,
            "_view_module": "@jupyter-widgets/base",
            "_view_module_version": "1.2.0",
            "_view_name": "StyleView",
            "description_width": ""
          }
        },
        "40cb5c60658e4e8f8c0e5901d80f6e9b": {
          "model_module": "@jupyter-widgets/controls",
          "model_name": "HBoxModel",
          "model_module_version": "1.5.0",
          "state": {
            "_dom_classes": [],
            "_model_module": "@jupyter-widgets/controls",
            "_model_module_version": "1.5.0",
            "_model_name": "HBoxModel",
            "_view_count": null,
            "_view_module": "@jupyter-widgets/controls",
            "_view_module_version": "1.5.0",
            "_view_name": "HBoxView",
            "box_style": "",
            "children": [
              "IPY_MODEL_7212e11ba9b44c05860be67c84fe21e5",
              "IPY_MODEL_d4856effa6c14e2eb056a863c191f25c",
              "IPY_MODEL_cd5401dfff9f4b468d36d4274a7bb221"
            ],
            "layout": "IPY_MODEL_0d92ad43b4fd49f69d078708d699038c"
          }
        },
        "7212e11ba9b44c05860be67c84fe21e5": {
          "model_module": "@jupyter-widgets/controls",
          "model_name": "HTMLModel",
          "model_module_version": "1.5.0",
          "state": {
            "_dom_classes": [],
            "_model_module": "@jupyter-widgets/controls",
            "_model_module_version": "1.5.0",
            "_model_name": "HTMLModel",
            "_view_count": null,
            "_view_module": "@jupyter-widgets/controls",
            "_view_module_version": "1.5.0",
            "_view_name": "HTMLView",
            "description": "",
            "description_tooltip": null,
            "layout": "IPY_MODEL_9265410cb8ac4427b99e0493ce41dc54",
            "placeholder": "​",
            "style": "IPY_MODEL_57c494f0c25a4fff8f9b8170bdab9ef9",
            "value": "100%"
          }
        },
        "d4856effa6c14e2eb056a863c191f25c": {
          "model_module": "@jupyter-widgets/controls",
          "model_name": "FloatProgressModel",
          "model_module_version": "1.5.0",
          "state": {
            "_dom_classes": [],
            "_model_module": "@jupyter-widgets/controls",
            "_model_module_version": "1.5.0",
            "_model_name": "FloatProgressModel",
            "_view_count": null,
            "_view_module": "@jupyter-widgets/controls",
            "_view_module_version": "1.5.0",
            "_view_name": "ProgressView",
            "bar_style": "success",
            "description": "",
            "description_tooltip": null,
            "layout": "IPY_MODEL_079990751dc542199313de111541b514",
            "max": 5,
            "min": 0,
            "orientation": "horizontal",
            "style": "IPY_MODEL_47b7b9983e61450cbaad17e3ebad3bab",
            "value": 5
          }
        },
        "cd5401dfff9f4b468d36d4274a7bb221": {
          "model_module": "@jupyter-widgets/controls",
          "model_name": "HTMLModel",
          "model_module_version": "1.5.0",
          "state": {
            "_dom_classes": [],
            "_model_module": "@jupyter-widgets/controls",
            "_model_module_version": "1.5.0",
            "_model_name": "HTMLModel",
            "_view_count": null,
            "_view_module": "@jupyter-widgets/controls",
            "_view_module_version": "1.5.0",
            "_view_name": "HTMLView",
            "description": "",
            "description_tooltip": null,
            "layout": "IPY_MODEL_b58c3268b97a44c8834520fa039f9d3f",
            "placeholder": "​",
            "style": "IPY_MODEL_b9ddbcf9182247dfa884200d0067b920",
            "value": " 5/5 [01:29&lt;00:00, 17.70s/it]"
          }
        },
        "0d92ad43b4fd49f69d078708d699038c": {
          "model_module": "@jupyter-widgets/base",
          "model_name": "LayoutModel",
          "model_module_version": "1.2.0",
          "state": {
            "_model_module": "@jupyter-widgets/base",
            "_model_module_version": "1.2.0",
            "_model_name": "LayoutModel",
            "_view_count": null,
            "_view_module": "@jupyter-widgets/base",
            "_view_module_version": "1.2.0",
            "_view_name": "LayoutView",
            "align_content": null,
            "align_items": null,
            "align_self": null,
            "border": null,
            "bottom": null,
            "display": null,
            "flex": null,
            "flex_flow": null,
            "grid_area": null,
            "grid_auto_columns": null,
            "grid_auto_flow": null,
            "grid_auto_rows": null,
            "grid_column": null,
            "grid_gap": null,
            "grid_row": null,
            "grid_template_areas": null,
            "grid_template_columns": null,
            "grid_template_rows": null,
            "height": null,
            "justify_content": null,
            "justify_items": null,
            "left": null,
            "margin": null,
            "max_height": null,
            "max_width": null,
            "min_height": null,
            "min_width": null,
            "object_fit": null,
            "object_position": null,
            "order": null,
            "overflow": null,
            "overflow_x": null,
            "overflow_y": null,
            "padding": null,
            "right": null,
            "top": null,
            "visibility": null,
            "width": null
          }
        },
        "9265410cb8ac4427b99e0493ce41dc54": {
          "model_module": "@jupyter-widgets/base",
          "model_name": "LayoutModel",
          "model_module_version": "1.2.0",
          "state": {
            "_model_module": "@jupyter-widgets/base",
            "_model_module_version": "1.2.0",
            "_model_name": "LayoutModel",
            "_view_count": null,
            "_view_module": "@jupyter-widgets/base",
            "_view_module_version": "1.2.0",
            "_view_name": "LayoutView",
            "align_content": null,
            "align_items": null,
            "align_self": null,
            "border": null,
            "bottom": null,
            "display": null,
            "flex": null,
            "flex_flow": null,
            "grid_area": null,
            "grid_auto_columns": null,
            "grid_auto_flow": null,
            "grid_auto_rows": null,
            "grid_column": null,
            "grid_gap": null,
            "grid_row": null,
            "grid_template_areas": null,
            "grid_template_columns": null,
            "grid_template_rows": null,
            "height": null,
            "justify_content": null,
            "justify_items": null,
            "left": null,
            "margin": null,
            "max_height": null,
            "max_width": null,
            "min_height": null,
            "min_width": null,
            "object_fit": null,
            "object_position": null,
            "order": null,
            "overflow": null,
            "overflow_x": null,
            "overflow_y": null,
            "padding": null,
            "right": null,
            "top": null,
            "visibility": null,
            "width": null
          }
        },
        "57c494f0c25a4fff8f9b8170bdab9ef9": {
          "model_module": "@jupyter-widgets/controls",
          "model_name": "DescriptionStyleModel",
          "model_module_version": "1.5.0",
          "state": {
            "_model_module": "@jupyter-widgets/controls",
            "_model_module_version": "1.5.0",
            "_model_name": "DescriptionStyleModel",
            "_view_count": null,
            "_view_module": "@jupyter-widgets/base",
            "_view_module_version": "1.2.0",
            "_view_name": "StyleView",
            "description_width": ""
          }
        },
        "079990751dc542199313de111541b514": {
          "model_module": "@jupyter-widgets/base",
          "model_name": "LayoutModel",
          "model_module_version": "1.2.0",
          "state": {
            "_model_module": "@jupyter-widgets/base",
            "_model_module_version": "1.2.0",
            "_model_name": "LayoutModel",
            "_view_count": null,
            "_view_module": "@jupyter-widgets/base",
            "_view_module_version": "1.2.0",
            "_view_name": "LayoutView",
            "align_content": null,
            "align_items": null,
            "align_self": null,
            "border": null,
            "bottom": null,
            "display": null,
            "flex": null,
            "flex_flow": null,
            "grid_area": null,
            "grid_auto_columns": null,
            "grid_auto_flow": null,
            "grid_auto_rows": null,
            "grid_column": null,
            "grid_gap": null,
            "grid_row": null,
            "grid_template_areas": null,
            "grid_template_columns": null,
            "grid_template_rows": null,
            "height": null,
            "justify_content": null,
            "justify_items": null,
            "left": null,
            "margin": null,
            "max_height": null,
            "max_width": null,
            "min_height": null,
            "min_width": null,
            "object_fit": null,
            "object_position": null,
            "order": null,
            "overflow": null,
            "overflow_x": null,
            "overflow_y": null,
            "padding": null,
            "right": null,
            "top": null,
            "visibility": null,
            "width": null
          }
        },
        "47b7b9983e61450cbaad17e3ebad3bab": {
          "model_module": "@jupyter-widgets/controls",
          "model_name": "ProgressStyleModel",
          "model_module_version": "1.5.0",
          "state": {
            "_model_module": "@jupyter-widgets/controls",
            "_model_module_version": "1.5.0",
            "_model_name": "ProgressStyleModel",
            "_view_count": null,
            "_view_module": "@jupyter-widgets/base",
            "_view_module_version": "1.2.0",
            "_view_name": "StyleView",
            "bar_color": null,
            "description_width": ""
          }
        },
        "b58c3268b97a44c8834520fa039f9d3f": {
          "model_module": "@jupyter-widgets/base",
          "model_name": "LayoutModel",
          "model_module_version": "1.2.0",
          "state": {
            "_model_module": "@jupyter-widgets/base",
            "_model_module_version": "1.2.0",
            "_model_name": "LayoutModel",
            "_view_count": null,
            "_view_module": "@jupyter-widgets/base",
            "_view_module_version": "1.2.0",
            "_view_name": "LayoutView",
            "align_content": null,
            "align_items": null,
            "align_self": null,
            "border": null,
            "bottom": null,
            "display": null,
            "flex": null,
            "flex_flow": null,
            "grid_area": null,
            "grid_auto_columns": null,
            "grid_auto_flow": null,
            "grid_auto_rows": null,
            "grid_column": null,
            "grid_gap": null,
            "grid_row": null,
            "grid_template_areas": null,
            "grid_template_columns": null,
            "grid_template_rows": null,
            "height": null,
            "justify_content": null,
            "justify_items": null,
            "left": null,
            "margin": null,
            "max_height": null,
            "max_width": null,
            "min_height": null,
            "min_width": null,
            "object_fit": null,
            "object_position": null,
            "order": null,
            "overflow": null,
            "overflow_x": null,
            "overflow_y": null,
            "padding": null,
            "right": null,
            "top": null,
            "visibility": null,
            "width": null
          }
        },
        "b9ddbcf9182247dfa884200d0067b920": {
          "model_module": "@jupyter-widgets/controls",
          "model_name": "DescriptionStyleModel",
          "model_module_version": "1.5.0",
          "state": {
            "_model_module": "@jupyter-widgets/controls",
            "_model_module_version": "1.5.0",
            "_model_name": "DescriptionStyleModel",
            "_view_count": null,
            "_view_module": "@jupyter-widgets/base",
            "_view_module_version": "1.2.0",
            "_view_name": "StyleView",
            "description_width": ""
          }
        }
      }
    }
  },
  "cells": [
    {
      "cell_type": "markdown",
      "metadata": {
        "id": "view-in-github",
        "colab_type": "text"
      },
      "source": [
        "<a href=\"https://colab.research.google.com/github/torrhen/pytorch/blob/main/06_pytorch_transfer_learning.ipynb\" target=\"_parent\"><img src=\"https://colab.research.google.com/assets/colab-badge.svg\" alt=\"Open In Colab\"/></a>"
      ]
    },
    {
      "cell_type": "code",
      "execution_count": 1,
      "metadata": {
        "colab": {
          "base_uri": "https://localhost:8080/"
        },
        "id": "l-06XcICvMga",
        "outputId": "61f5b250-3508-478f-caf5-1488b456ddec"
      },
      "outputs": [
        {
          "output_type": "stream",
          "name": "stdout",
          "text": [
            "torch version: 1.13.0+cu116\n",
            "torchvision version: 0.14.0+cu116\n"
          ]
        }
      ],
      "source": [
        "# For this notebook to run with updated APIs, we need torch 1.12+ and torchvision 0.13+\n",
        "try:\n",
        "    import torch\n",
        "    import torchvision\n",
        "    assert int(torch.__version__.split(\".\")[1]) >= 12, \"torch version should be 1.12+\"\n",
        "    assert int(torchvision.__version__.split(\".\")[1]) >= 13, \"torchvision version should be 0.13+\"\n",
        "    print(f\"torch version: {torch.__version__}\")\n",
        "    print(f\"torchvision version: {torchvision.__version__}\")\n",
        "except:\n",
        "    print(f\"[INFO] torch/torchvision versions not as required, installing nightly versions.\")\n",
        "    !pip3 install -U torch torchvision torchaudio --extra-index-url https://download.pytorch.org/whl/cu113\n",
        "    import torch\n",
        "    import torchvision\n",
        "    print(f\"torch version: {torch.__version__}\")\n",
        "    print(f\"torchvision version: {torchvision.__version__}\")"
      ]
    },
    {
      "cell_type": "code",
      "source": [
        "import matplotlib.pyplot as plt\n",
        "import torch\n",
        "import torchvision\n",
        "\n",
        "from torch import nn\n",
        "from torchvision import transforms\n",
        "\n",
        "# import torchinfo or install if required\n",
        "try:\n",
        "  from torchinfo import summary\n",
        "except:\n",
        "  # install torchinfo\n",
        "  !pip install torchinfo\n",
        "  from torchinfo import summary\n",
        "\n",
        "# download going_modular repository and import required scripts\n",
        "try:\n",
        "  from going_modular import data_setup, engine\n",
        "except:\n",
        "  !git clone https://github.com/mrdbourke/pytorch-deep-learning\n",
        "  !mv pytorch-deep-learning/going_modular .\n",
        "  !rm -rf pytorch-deep-learning\n",
        "  from going_modular.going_modular import data_setup, engine\n"
      ],
      "metadata": {
        "colab": {
          "base_uri": "https://localhost:8080/"
        },
        "id": "I5fbwZNcvk12",
        "outputId": "ff8bdb3b-c3a3-4712-fe0a-a69af7954c57"
      },
      "execution_count": 2,
      "outputs": [
        {
          "output_type": "stream",
          "name": "stdout",
          "text": [
            "Cloning into 'pytorch-deep-learning'...\n",
            "remote: Enumerating objects: 3350, done.\u001b[K\n",
            "remote: Total 3350 (delta 0), reused 0 (delta 0), pack-reused 3350\u001b[K\n",
            "Receiving objects: 100% (3350/3350), 640.93 MiB | 46.34 MiB/s, done.\n",
            "Resolving deltas: 100% (1921/1921), done.\n",
            "Checking out files: 100% (221/221), done.\n",
            "mv: cannot move 'pytorch-deep-learning/going_modular' to './going_modular': Directory not empty\n"
          ]
        }
      ]
    },
    {
      "cell_type": "code",
      "source": [
        "device = 'cuda' if torch.cuda.is_available() else 'cpu'"
      ],
      "metadata": {
        "id": "Vtut7vOk1zz2"
      },
      "execution_count": 3,
      "outputs": []
    },
    {
      "cell_type": "code",
      "source": [
        "import os\n",
        "import zipfile\n",
        "\n",
        "from pathlib import Path\n",
        "\n",
        "import requests\n",
        "\n",
        "data_path = Path('data/')\n",
        "image_path = data_path / 'pizza_steak_sushi'\n",
        "\n",
        "if image_path.is_dir():\n",
        "  print(f\"{image_path} already exists.\")\n",
        "else:\n",
        "  image_path.mkdir(parents=True, exist_ok=True)\n",
        "  with open(data_path / \"pizza_steak_sushi.zip\", 'wb') as f:\n",
        "    response = requests.get(\"https://github.com/mrdbourke/pytorch-deep-learning/raw/main/data/pizza_steak_sushi.zip\")\n",
        "    f.write(response.content)\n",
        "\n",
        "  with zipfile.ZipFile(data_path / \"pizza_steak_sushi.zip\", 'r') as z:\n",
        "    z.extractall(image_path)\n",
        "\n",
        "  os.remove(data_path / 'pizza_steak_sushi.zip')\n",
        "  "
      ],
      "metadata": {
        "id": "Ws3GIAgT45xI"
      },
      "execution_count": 4,
      "outputs": []
    },
    {
      "cell_type": "code",
      "source": [
        "train_folder = image_path / 'train'\n",
        "test_folder = image_path / 'test'"
      ],
      "metadata": {
        "id": "pFmmXFRt6UH4"
      },
      "execution_count": 5,
      "outputs": []
    },
    {
      "cell_type": "markdown",
      "source": [
        "### 1. Manual transforms for transfer learning"
      ],
      "metadata": {
        "id": "E2eYUEqcO1l3"
      }
    },
    {
      "cell_type": "code",
      "source": [
        "'''\n",
        "your custom data going into the model is prepared in the same way as the original training data that went into the model.\n",
        "'''\n",
        "manual_transform =  transforms.Compose(\n",
        "    [\n",
        "        transforms.Resize((244, 244)),\n",
        "        transforms.ToTensor(),\n",
        "        transforms.Normalize(mean=[0.485, 0.456, 0.406],\n",
        "                             std=[0.229, 0.224, 0.225])\n",
        "    ]\n",
        ")"
      ],
      "metadata": {
        "id": "fBWZzC3EMUgw"
      },
      "execution_count": 7,
      "outputs": []
    },
    {
      "cell_type": "code",
      "source": [
        "# create train and test data loaders and batches using manual transforms\n",
        "BATCH_SIZE = 32\n",
        "train_loader, test_loader, class_names = data_setup.create_dataloaders(train_folder,\n",
        "                                                                       test_folder,\n",
        "                                                                       manual_transform,\n",
        "                                                                       BATCH_SIZE)"
      ],
      "metadata": {
        "id": "KAGKrieMM9PC"
      },
      "execution_count": 8,
      "outputs": []
    },
    {
      "cell_type": "markdown",
      "source": [
        "### 2. Automatic transforms for transfer learning (available with torchvision v0.13+)"
      ],
      "metadata": {
        "id": "C8r7CEPHO70V"
      }
    },
    {
      "cell_type": "code",
      "source": [
        "# set of best available weights from pretrained ImageNet model\n",
        "weights = torchvision.models.EfficientNet_B0_Weights.DEFAULT\n",
        "# get the transforms used to train the EfficientNet_B0_Weights on ImageNet\n",
        "auto_transforms = weights.transforms()\n",
        "print(auto_transforms)"
      ],
      "metadata": {
        "colab": {
          "base_uri": "https://localhost:8080/"
        },
        "id": "x9HGT5baO_eX",
        "outputId": "0d7600d5-c87a-46a1-d2ea-ecd83436eff7"
      },
      "execution_count": 9,
      "outputs": [
        {
          "output_type": "stream",
          "name": "stdout",
          "text": [
            "ImageClassification(\n",
            "    crop_size=[224]\n",
            "    resize_size=[256]\n",
            "    mean=[0.485, 0.456, 0.406]\n",
            "    std=[0.229, 0.224, 0.225]\n",
            "    interpolation=InterpolationMode.BICUBIC\n",
            ")\n"
          ]
        }
      ]
    },
    {
      "cell_type": "code",
      "source": [
        "# create train and test data loaders and batches using the automatic transforms used on ImageNet\n",
        "BATCH_SIZE = 32\n",
        "train_loader, test_loader, class_names = data_setup.create_dataloaders(train_folder,\n",
        "                                                                       test_folder,\n",
        "                                                                       auto_transforms,\n",
        "                                                                       BATCH_SIZE)"
      ],
      "metadata": {
        "id": "mNyoMwnBRn54"
      },
      "execution_count": 10,
      "outputs": []
    },
    {
      "cell_type": "code",
      "source": [
        "# setup efficient net pretrained model with best available learned weights and allocate to device\n",
        "model = torchvision.models.efficientnet_b0(weights=weights).to(device)"
      ],
      "metadata": {
        "colab": {
          "base_uri": "https://localhost:8080/",
          "height": 86,
          "referenced_widgets": [
            "30504d78b1e14cf18a89b2cba820dcc1",
            "ac33880a778a4cb6b89e787815f7acb4",
            "003e8ca0939642ad92a328b667e88f5d",
            "b193082372fd41c8824512165397426c",
            "326fb703ad2c425da0bf725077010c8f",
            "197325d9b59944a8a6fa4c0ed7fbf4b1",
            "4b44300dbf5e4129850194e190bc0a8a",
            "6d443c11b5f34ceba0461c18fb1e9db2",
            "ab2a1349718d489ca4507e48ffa597e3",
            "88b200b5a65c4ec09b1c7d142fb1d85d",
            "43b9eab4aad34d16a01bf930df56b9ad"
          ]
        },
        "id": "G4B9pd_TTEH4",
        "outputId": "c77a25df-2901-4680-ad35-05d8282078fb"
      },
      "execution_count": 12,
      "outputs": [
        {
          "output_type": "stream",
          "name": "stderr",
          "text": [
            "Downloading: \"https://download.pytorch.org/models/efficientnet_b0_rwightman-3dd342df.pth\" to /root/.cache/torch/hub/checkpoints/efficientnet_b0_rwightman-3dd342df.pth\n"
          ]
        },
        {
          "output_type": "display_data",
          "data": {
            "text/plain": [
              "  0%|          | 0.00/20.5M [00:00<?, ?B/s]"
            ],
            "application/vnd.jupyter.widget-view+json": {
              "version_major": 2,
              "version_minor": 0,
              "model_id": "30504d78b1e14cf18a89b2cba820dcc1"
            }
          },
          "metadata": {}
        }
      ]
    },
    {
      "cell_type": "code",
      "source": [
        "# display a summary of the model using torchinfo\n",
        "summary(model=model,\n",
        "        col_names=['input_size', 'output_size', 'trainable'],\n",
        "        input_size=[BATCH_SIZE, 3, 224, 244],\n",
        "        col_width=20,\n",
        "        row_settings=['var_names'])"
      ],
      "metadata": {
        "colab": {
          "base_uri": "https://localhost:8080/"
        },
        "id": "wV_St_V1Vh0l",
        "outputId": "10ac6279-4153-4faf-a04e-b88e46bde067"
      },
      "execution_count": 15,
      "outputs": [
        {
          "output_type": "execute_result",
          "data": {
            "text/plain": [
              "========================================================================================================================\n",
              "Layer (type (var_name))                                      Input Shape          Output Shape         Trainable\n",
              "========================================================================================================================\n",
              "EfficientNet (EfficientNet)                                  [32, 3, 224, 244]    [32, 1000]           True\n",
              "├─Sequential (features)                                      [32, 3, 224, 244]    [32, 1280, 7, 8]     True\n",
              "│    └─Conv2dNormActivation (0)                              [32, 3, 224, 244]    [32, 32, 112, 122]   True\n",
              "│    │    └─Conv2d (0)                                       [32, 3, 224, 244]    [32, 32, 112, 122]   True\n",
              "│    │    └─BatchNorm2d (1)                                  [32, 32, 112, 122]   [32, 32, 112, 122]   True\n",
              "│    │    └─SiLU (2)                                         [32, 32, 112, 122]   [32, 32, 112, 122]   --\n",
              "│    └─Sequential (1)                                        [32, 32, 112, 122]   [32, 16, 112, 122]   True\n",
              "│    │    └─MBConv (0)                                       [32, 32, 112, 122]   [32, 16, 112, 122]   True\n",
              "│    └─Sequential (2)                                        [32, 16, 112, 122]   [32, 24, 56, 61]     True\n",
              "│    │    └─MBConv (0)                                       [32, 16, 112, 122]   [32, 24, 56, 61]     True\n",
              "│    │    └─MBConv (1)                                       [32, 24, 56, 61]     [32, 24, 56, 61]     True\n",
              "│    └─Sequential (3)                                        [32, 24, 56, 61]     [32, 40, 28, 31]     True\n",
              "│    │    └─MBConv (0)                                       [32, 24, 56, 61]     [32, 40, 28, 31]     True\n",
              "│    │    └─MBConv (1)                                       [32, 40, 28, 31]     [32, 40, 28, 31]     True\n",
              "│    └─Sequential (4)                                        [32, 40, 28, 31]     [32, 80, 14, 16]     True\n",
              "│    │    └─MBConv (0)                                       [32, 40, 28, 31]     [32, 80, 14, 16]     True\n",
              "│    │    └─MBConv (1)                                       [32, 80, 14, 16]     [32, 80, 14, 16]     True\n",
              "│    │    └─MBConv (2)                                       [32, 80, 14, 16]     [32, 80, 14, 16]     True\n",
              "│    └─Sequential (5)                                        [32, 80, 14, 16]     [32, 112, 14, 16]    True\n",
              "│    │    └─MBConv (0)                                       [32, 80, 14, 16]     [32, 112, 14, 16]    True\n",
              "│    │    └─MBConv (1)                                       [32, 112, 14, 16]    [32, 112, 14, 16]    True\n",
              "│    │    └─MBConv (2)                                       [32, 112, 14, 16]    [32, 112, 14, 16]    True\n",
              "│    └─Sequential (6)                                        [32, 112, 14, 16]    [32, 192, 7, 8]      True\n",
              "│    │    └─MBConv (0)                                       [32, 112, 14, 16]    [32, 192, 7, 8]      True\n",
              "│    │    └─MBConv (1)                                       [32, 192, 7, 8]      [32, 192, 7, 8]      True\n",
              "│    │    └─MBConv (2)                                       [32, 192, 7, 8]      [32, 192, 7, 8]      True\n",
              "│    │    └─MBConv (3)                                       [32, 192, 7, 8]      [32, 192, 7, 8]      True\n",
              "│    └─Sequential (7)                                        [32, 192, 7, 8]      [32, 320, 7, 8]      True\n",
              "│    │    └─MBConv (0)                                       [32, 192, 7, 8]      [32, 320, 7, 8]      True\n",
              "│    └─Conv2dNormActivation (8)                              [32, 320, 7, 8]      [32, 1280, 7, 8]     True\n",
              "│    │    └─Conv2d (0)                                       [32, 320, 7, 8]      [32, 1280, 7, 8]     True\n",
              "│    │    └─BatchNorm2d (1)                                  [32, 1280, 7, 8]     [32, 1280, 7, 8]     True\n",
              "│    │    └─SiLU (2)                                         [32, 1280, 7, 8]     [32, 1280, 7, 8]     --\n",
              "├─AdaptiveAvgPool2d (avgpool)                                [32, 1280, 7, 8]     [32, 1280, 1, 1]     --\n",
              "├─Sequential (classifier)                                    [32, 1280]           [32, 1000]           True\n",
              "│    └─Dropout (0)                                           [32, 1280]           [32, 1280]           --\n",
              "│    └─Linear (1)                                            [32, 1280]           [32, 1000]           True\n",
              "========================================================================================================================\n",
              "Total params: 5,288,548\n",
              "Trainable params: 5,288,548\n",
              "Non-trainable params: 0\n",
              "Total mult-adds (G): 13.91\n",
              "========================================================================================================================\n",
              "Input size (MB): 20.99\n",
              "Forward/backward pass size (MB): 3821.53\n",
              "Params size (MB): 21.15\n",
              "Estimated Total Size (MB): 3863.67\n",
              "========================================================================================================================"
            ]
          },
          "metadata": {},
          "execution_count": 15
        }
      ]
    },
    {
      "cell_type": "markdown",
      "source": [
        "The pretrained model has an output size of 1000 features since it was trained using ImageNet which has 1000 classes. The size of this output must be changed for the smaller dataset containing 3 classes.\n",
        "\n",
        "The features layers (convolutions and other activations) can be kept the same (frozen) as they learn the representation of each image.\n",
        "\n",
        "However the classifier component should be modified to be suitable to the problem."
      ],
      "metadata": {
        "id": "iZ3HKgAlWrQa"
      }
    },
    {
      "cell_type": "code",
      "source": [
        "# freeze all layers/parameters in the features component of the pretrained model\n",
        "for param in  model.features.parameters():\n",
        "  param.requires_grad = False # prevents pytorch tracking the gradients of parameters within this part of the models architecture\n"
      ],
      "metadata": {
        "id": "Y14ixhpDXTee"
      },
      "execution_count": 16,
      "outputs": []
    },
    {
      "cell_type": "code",
      "source": [
        "torch.manual_seed(42)\n",
        "torch.cuda.manual_seed(42)\n",
        "\n",
        "# modify the classifier component of the pretrained model to suit our output size\n",
        "model.classifier = nn.Sequential(\n",
        "    nn.Dropout(p=0.2, inplace=True), # identical to previous architecture\n",
        "    nn.Linear(in_features=1280, # identical to previous architecture\n",
        "              out_features=len(class_names), # modified\n",
        "              bias=True)).to(device) # allocate to device"
      ],
      "metadata": {
        "id": "zapKXf_1Xyyl"
      },
      "execution_count": 17,
      "outputs": []
    },
    {
      "cell_type": "code",
      "source": [
        "# display changes to architecture - output vector dimension should have changed\n",
        "# parameters in the features layers should be frozen (no longer trainable)\n",
        "summary(model=model,\n",
        "        col_names=['input_size', 'output_size', 'trainable'],\n",
        "        input_size=[BATCH_SIZE, 3, 224, 244],\n",
        "        col_width=20,\n",
        "        row_settings=['var_names'])"
      ],
      "metadata": {
        "colab": {
          "base_uri": "https://localhost:8080/"
        },
        "id": "6s1a_st6YkT2",
        "outputId": "3ae14cf9-5e6e-4ebb-dc7d-86f67888925e"
      },
      "execution_count": 18,
      "outputs": [
        {
          "output_type": "execute_result",
          "data": {
            "text/plain": [
              "========================================================================================================================\n",
              "Layer (type (var_name))                                      Input Shape          Output Shape         Trainable\n",
              "========================================================================================================================\n",
              "EfficientNet (EfficientNet)                                  [32, 3, 224, 244]    [32, 3]              Partial\n",
              "├─Sequential (features)                                      [32, 3, 224, 244]    [32, 1280, 7, 8]     False\n",
              "│    └─Conv2dNormActivation (0)                              [32, 3, 224, 244]    [32, 32, 112, 122]   False\n",
              "│    │    └─Conv2d (0)                                       [32, 3, 224, 244]    [32, 32, 112, 122]   False\n",
              "│    │    └─BatchNorm2d (1)                                  [32, 32, 112, 122]   [32, 32, 112, 122]   False\n",
              "│    │    └─SiLU (2)                                         [32, 32, 112, 122]   [32, 32, 112, 122]   --\n",
              "│    └─Sequential (1)                                        [32, 32, 112, 122]   [32, 16, 112, 122]   False\n",
              "│    │    └─MBConv (0)                                       [32, 32, 112, 122]   [32, 16, 112, 122]   False\n",
              "│    └─Sequential (2)                                        [32, 16, 112, 122]   [32, 24, 56, 61]     False\n",
              "│    │    └─MBConv (0)                                       [32, 16, 112, 122]   [32, 24, 56, 61]     False\n",
              "│    │    └─MBConv (1)                                       [32, 24, 56, 61]     [32, 24, 56, 61]     False\n",
              "│    └─Sequential (3)                                        [32, 24, 56, 61]     [32, 40, 28, 31]     False\n",
              "│    │    └─MBConv (0)                                       [32, 24, 56, 61]     [32, 40, 28, 31]     False\n",
              "│    │    └─MBConv (1)                                       [32, 40, 28, 31]     [32, 40, 28, 31]     False\n",
              "│    └─Sequential (4)                                        [32, 40, 28, 31]     [32, 80, 14, 16]     False\n",
              "│    │    └─MBConv (0)                                       [32, 40, 28, 31]     [32, 80, 14, 16]     False\n",
              "│    │    └─MBConv (1)                                       [32, 80, 14, 16]     [32, 80, 14, 16]     False\n",
              "│    │    └─MBConv (2)                                       [32, 80, 14, 16]     [32, 80, 14, 16]     False\n",
              "│    └─Sequential (5)                                        [32, 80, 14, 16]     [32, 112, 14, 16]    False\n",
              "│    │    └─MBConv (0)                                       [32, 80, 14, 16]     [32, 112, 14, 16]    False\n",
              "│    │    └─MBConv (1)                                       [32, 112, 14, 16]    [32, 112, 14, 16]    False\n",
              "│    │    └─MBConv (2)                                       [32, 112, 14, 16]    [32, 112, 14, 16]    False\n",
              "│    └─Sequential (6)                                        [32, 112, 14, 16]    [32, 192, 7, 8]      False\n",
              "│    │    └─MBConv (0)                                       [32, 112, 14, 16]    [32, 192, 7, 8]      False\n",
              "│    │    └─MBConv (1)                                       [32, 192, 7, 8]      [32, 192, 7, 8]      False\n",
              "│    │    └─MBConv (2)                                       [32, 192, 7, 8]      [32, 192, 7, 8]      False\n",
              "│    │    └─MBConv (3)                                       [32, 192, 7, 8]      [32, 192, 7, 8]      False\n",
              "│    └─Sequential (7)                                        [32, 192, 7, 8]      [32, 320, 7, 8]      False\n",
              "│    │    └─MBConv (0)                                       [32, 192, 7, 8]      [32, 320, 7, 8]      False\n",
              "│    └─Conv2dNormActivation (8)                              [32, 320, 7, 8]      [32, 1280, 7, 8]     False\n",
              "│    │    └─Conv2d (0)                                       [32, 320, 7, 8]      [32, 1280, 7, 8]     False\n",
              "│    │    └─BatchNorm2d (1)                                  [32, 1280, 7, 8]     [32, 1280, 7, 8]     False\n",
              "│    │    └─SiLU (2)                                         [32, 1280, 7, 8]     [32, 1280, 7, 8]     --\n",
              "├─AdaptiveAvgPool2d (avgpool)                                [32, 1280, 7, 8]     [32, 1280, 1, 1]     --\n",
              "├─Sequential (classifier)                                    [32, 1280]           [32, 3]              True\n",
              "│    └─Dropout (0)                                           [32, 1280]           [32, 1280]           --\n",
              "│    └─Linear (1)                                            [32, 1280]           [32, 3]              True\n",
              "========================================================================================================================\n",
              "Total params: 4,011,391\n",
              "Trainable params: 3,843\n",
              "Non-trainable params: 4,007,548\n",
              "Total mult-adds (G): 13.87\n",
              "========================================================================================================================\n",
              "Input size (MB): 20.99\n",
              "Forward/backward pass size (MB): 3821.27\n",
              "Params size (MB): 16.05\n",
              "Estimated Total Size (MB): 3858.31\n",
              "========================================================================================================================"
            ]
          },
          "metadata": {},
          "execution_count": 18
        }
      ]
    },
    {
      "cell_type": "markdown",
      "source": [
        "The number of trainable parameters has decreased from 5.2 million to 4,000. Less computational power is needed to train this model than TinyVGG and the weights of larger model can still be exploited.\n",
        "\n",
        "Transfer learning allows us to used reliable, large models with only small tweaks to the output layers to suit our needs and use less resources than would be required to train the model from scratch."
      ],
      "metadata": {
        "id": "VB0sbKtMY_0V"
      }
    },
    {
      "cell_type": "markdown",
      "source": [
        "### Train model"
      ],
      "metadata": {
        "id": "lfUgOllFZnfk"
      }
    },
    {
      "cell_type": "code",
      "source": [
        "# set up loss function\n",
        "loss_fn = nn.CrossEntropyLoss()\n",
        "# set up optimizer\n",
        "optimizer = torch.optim.Adam(params=model.parameters(), lr=0.001)"
      ],
      "metadata": {
        "id": "nckuTLKeY3r0"
      },
      "execution_count": 19,
      "outputs": []
    },
    {
      "cell_type": "code",
      "source": [
        "torch.manual_seed(42)\n",
        "torch.cuda.manual_seed(42)\n",
        "\n",
        "# train the model and store the results for every epoch\n",
        "results = engine.train(model,\n",
        "                       train_loader,\n",
        "                       test_loader,\n",
        "                       optimizer,\n",
        "                       loss_fn,\n",
        "                       epochs=5,\n",
        "                       device=device)"
      ],
      "metadata": {
        "colab": {
          "base_uri": "https://localhost:8080/",
          "height": 136,
          "referenced_widgets": [
            "40cb5c60658e4e8f8c0e5901d80f6e9b",
            "7212e11ba9b44c05860be67c84fe21e5",
            "d4856effa6c14e2eb056a863c191f25c",
            "cd5401dfff9f4b468d36d4274a7bb221",
            "0d92ad43b4fd49f69d078708d699038c",
            "9265410cb8ac4427b99e0493ce41dc54",
            "57c494f0c25a4fff8f9b8170bdab9ef9",
            "079990751dc542199313de111541b514",
            "47b7b9983e61450cbaad17e3ebad3bab",
            "b58c3268b97a44c8834520fa039f9d3f",
            "b9ddbcf9182247dfa884200d0067b920"
          ]
        },
        "id": "VjgjsKHYZ3Rp",
        "outputId": "3c69b0ae-ba97-4600-f800-3dbe0295e825"
      },
      "execution_count": 20,
      "outputs": [
        {
          "output_type": "display_data",
          "data": {
            "text/plain": [
              "  0%|          | 0/5 [00:00<?, ?it/s]"
            ],
            "application/vnd.jupyter.widget-view+json": {
              "version_major": 2,
              "version_minor": 0,
              "model_id": "40cb5c60658e4e8f8c0e5901d80f6e9b"
            }
          },
          "metadata": {}
        },
        {
          "output_type": "stream",
          "name": "stdout",
          "text": [
            "Epoch: 1 | train_loss: 1.0901 | train_acc: 0.4102 | test_loss: 0.8925 | test_acc: 0.6714\n",
            "Epoch: 2 | train_loss: 0.9162 | train_acc: 0.6367 | test_loss: 0.8032 | test_acc: 0.7746\n",
            "Epoch: 3 | train_loss: 0.8170 | train_acc: 0.7070 | test_loss: 0.6780 | test_acc: 0.9072\n",
            "Epoch: 4 | train_loss: 0.7456 | train_acc: 0.7266 | test_loss: 0.6718 | test_acc: 0.8248\n",
            "Epoch: 5 | train_loss: 0.6219 | train_acc: 0.7656 | test_loss: 0.6246 | test_acc: 0.8561\n"
          ]
        }
      ]
    }
  ]
}