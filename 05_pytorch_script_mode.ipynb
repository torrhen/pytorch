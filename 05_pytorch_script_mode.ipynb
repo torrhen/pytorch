{
  "nbformat": 4,
  "nbformat_minor": 0,
  "metadata": {
    "colab": {
      "provenance": [],
      "authorship_tag": "ABX9TyMvzInnqnstMeyV75jcVCw2",
      "include_colab_link": true
    },
    "kernelspec": {
      "name": "python3",
      "display_name": "Python 3"
    },
    "language_info": {
      "name": "python"
    }
  },
  "cells": [
    {
      "cell_type": "markdown",
      "metadata": {
        "id": "view-in-github",
        "colab_type": "text"
      },
      "source": [
        "<a href=\"https://colab.research.google.com/github/torrhen/pytorch/blob/main/05_pytorch_script_mode.ipynb\" target=\"_parent\"><img src=\"https://colab.research.google.com/assets/colab-badge.svg\" alt=\"Open In Colab\"/></a>"
      ]
    },
    {
      "cell_type": "code",
      "source": [
        "import torch\n",
        "device = 'cuda' if torch.cuda.is_available() else 'cpu'"
      ],
      "metadata": {
        "id": "TnhOxqwiVg3F"
      },
      "execution_count": 10,
      "outputs": []
    },
    {
      "cell_type": "code",
      "execution_count": 11,
      "metadata": {
        "id": "bhFq16J57VR8"
      },
      "outputs": [],
      "source": [
        "import os\n",
        "os.makedirs('script_mode', exist_ok=True)"
      ]
    },
    {
      "cell_type": "code",
      "source": [
        "import os\n",
        "import zipfile # file extracting\n",
        "from pathlib import Path # file management\n",
        "import requests # HTTP requests\n",
        "\n",
        "# store file paths\n",
        "data_path = Path('data/')\n",
        "image_path = data_path / 'pizza_steak_sushi'\n",
        "\n",
        "# create the image pth folder if it does not exist\n",
        "if image_path.is_dir():\n",
        "  print(f\"{image_path} already exists.\")\n",
        "else:\n",
        "  image_path.mkdir(parents=True, exist_ok=True)\n",
        "\n",
        "# download image zip file from GitHub\n",
        "with open(data_path / \"pizza_steak_sushi.zip\", 'wb') as f:\n",
        "  response = requests.get(\"https://github.com/mrdbourke/pytorch-deep-learning/raw/main/data/pizza_steak_sushi.zip\")\n",
        "  f.write(response.content)\n",
        "\n",
        "# extract images from image zip file\n",
        "with zipfile.ZipFile(data_path / \"pizza_steak_sushi.zip\", 'r') as z:\n",
        "  z.extractall(image_path)\n",
        "\n",
        "# delete download image zip file - no longer required\n",
        "os.remove(data_path / \"pizza_steak_sushi.zip\")"
      ],
      "metadata": {
        "colab": {
          "base_uri": "https://localhost:8080/"
        },
        "id": "MLr1Uy6NDxpq",
        "outputId": "d5224d46-c2ea-49f9-f595-ddd181ca82fb"
      },
      "execution_count": 12,
      "outputs": [
        {
          "output_type": "stream",
          "name": "stdout",
          "text": [
            "data/pizza_steak_sushi already exists.\n"
          ]
        }
      ]
    },
    {
      "cell_type": "code",
      "source": [
        "# training and test folders\n",
        "train_folder = image_path / 'train'\n",
        "test_folder = image_path / 'test'"
      ],
      "metadata": {
        "id": "qlnQxHhPJx5A"
      },
      "execution_count": 13,
      "outputs": []
    },
    {
      "cell_type": "code",
      "source": [
        "# write the following code to a new file data.py\n",
        "%%writefile script_mode/data.py\n",
        "\n",
        "import os\n",
        "from torch.utils.data import DataLoader\n",
        "from torchvision import transforms, datasets\n",
        "\n",
        "def create_dataloaders(train_dir: str, test_dir: str, transform: transforms.Compose, batch_size: int, num_workers: int = os.cpu_count()):\n",
        "  # create datasets from image file folder and apply transform\n",
        "  train_data = datasets.ImageFolder(root=train_dir, transform=transform, target_transform=None)\n",
        "  test_data = datasets.ImageFolder(root=test_dir, transform=transform, target_transform=None)\n",
        "\n",
        "  # divide the datasets into batches and shuffle if applicable\n",
        "  train_loader = DataLoader(dataset=train_data, batch_size=batch_size, shuffle=True, num_workers=num_workers)\n",
        "  test_loader = DataLoader(dataset=test_data, batch_size=batch_size, shuffle=False, num_workers=num_workers)\n",
        "\n",
        "  return train_loader, test_loader, train_data.classes"
      ],
      "metadata": {
        "colab": {
          "base_uri": "https://localhost:8080/"
        },
        "id": "Bukpix2bJ77G",
        "outputId": "e56c5eed-b1fb-40ba-e03d-f27e4a6e65ec"
      },
      "execution_count": 14,
      "outputs": [
        {
          "output_type": "stream",
          "name": "stdout",
          "text": [
            "Overwriting script_mode/data.py\n"
          ]
        }
      ]
    },
    {
      "cell_type": "code",
      "source": [
        "# write the following code to a new file model.py\n",
        "%%writefile script_mode/model.py\n",
        "import torch\n",
        "import torch.nn as nn\n",
        "\n",
        "class TinyVGG(nn.Module):\n",
        "  def __init__(self, input_size, hidden_units, output_size):\n",
        "    super().__init__()\n",
        "    self.block1 = nn.Sequential(\n",
        "        nn.Conv2d(in_channels=input_size, out_channels=hidden_units, kernel_size=3, stride=1, padding=0),\n",
        "        nn.ReLU(),\n",
        "        nn.Conv2d(in_channels=hidden_units, out_channels=hidden_units, kernel_size=3, stride=1, padding=0),\n",
        "        nn.ReLU(),\n",
        "        nn.MaxPool2d(kernel_size=2, stride=2)\n",
        "    )\n",
        "    self.block2 = nn.Sequential(\n",
        "        nn.Conv2d(in_channels=input_size, out_channels=hidden_units, kernel_size=3, padding=0),\n",
        "        nn.ReLU(),\n",
        "        nn.Conv2d(in_channels=hidden_units, out_channels=hidden_units, kernel_size=3, padding=0),\n",
        "        nn.ReLU(),\n",
        "        nn.MaxPool2d(kernel_size=2, stride=2)\n",
        "    )\n",
        "    self.fc = nn.Sequential(\n",
        "        nn.Flatten(),\n",
        "        nn.Linear(in_features=hidden_units*13*13, out_features=output_size)\n",
        "    )\n",
        "\n",
        "  def foward(self, x):\n",
        "    return self.fc(self.block2(self.block1(x)))\n",
        "\n",
        "\n"
      ],
      "metadata": {
        "colab": {
          "base_uri": "https://localhost:8080/"
        },
        "id": "L8LW9xF3TxT8",
        "outputId": "a333125b-d78d-4ffa-f111-2d312423b787"
      },
      "execution_count": 15,
      "outputs": [
        {
          "output_type": "stream",
          "name": "stdout",
          "text": [
            "Overwriting script_mode/model.py\n"
          ]
        }
      ]
    },
    {
      "cell_type": "code",
      "source": [
        "import torch\n",
        "from script_mode import model\n",
        "\n",
        "torch.manual_seed(42)\n",
        "model1 = model.TinyVGG(3, 10, 3).to(device)"
      ],
      "metadata": {
        "id": "qxO8k_BCVUxk"
      },
      "execution_count": 16,
      "outputs": []
    }
  ]
}