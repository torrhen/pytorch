{
  "nbformat": 4,
  "nbformat_minor": 0,
  "metadata": {
    "colab": {
      "provenance": [],
      "authorship_tag": "ABX9TyOt5yPIRL16lCEHkFNhryT0"
    },
    "kernelspec": {
      "name": "python3",
      "display_name": "Python 3"
    },
    "language_info": {
      "name": "python"
    },
    "gpuClass": "standard"
  },
  "cells": [
    {
      "cell_type": "code",
      "execution_count": null,
      "metadata": {
        "colab": {
          "base_uri": "https://localhost:8080/"
        },
        "id": "L9sM_RHS1_Ds",
        "outputId": "a41c6e99-f25c-49eb-ce09-9f14a5198c0e"
      },
      "outputs": [
        {
          "output_type": "stream",
          "name": "stdout",
          "text": [
            "cpu\n",
            "cpu\n"
          ]
        }
      ],
      "source": [
        "import torch\n",
        "\n",
        "# device agnostic code setup\n",
        "device = 'cuda' if torch.cuda.is_available() else 'cpu'\n",
        "\n",
        "weight = 0.7\n",
        "bias = 0.3\n",
        "\n",
        "x = torch.arange(0, 1, 0.02).unsqueeze(dim=1) # add a batch dimension, new shape is (50, 1)\n",
        "x = x.to(device) # allocate tensor to device\n",
        "print(x.device)\n",
        "\n",
        "y = weight * x + bias # generate true labels using the known weight and bias\n",
        "y = y.to(device)\n",
        "print(y.device)\n"
      ]
    },
    {
      "cell_type": "code",
      "source": [
        "training_split = int(0.8 * len(x))\n",
        "train_x, train_y = x[:training_split], y[:training_split]\n",
        "test_x, test_y = x[training_split:], y[training_split:]\n",
        "\n",
        "print(len(train_x))\n",
        "print(len(train_y))\n",
        "print(len(test_x))\n",
        "print(len(test_y))"
      ],
      "metadata": {
        "colab": {
          "base_uri": "https://localhost:8080/"
        },
        "id": "wgFhdiuMOYwK",
        "outputId": "a61f564b-4d5a-49a3-975c-30b023512778"
      },
      "execution_count": null,
      "outputs": [
        {
          "output_type": "stream",
          "name": "stdout",
          "text": [
            "40\n",
            "40\n",
            "10\n",
            "10\n"
          ]
        }
      ]
    },
    {
      "cell_type": "code",
      "source": [
        "import matplotlib.pyplot as plt\n",
        "\n",
        "plt.scatter(train_x.cpu().numpy(), train_y.cpu().numpy(), color='b', label='Training Data')\n",
        "plt.scatter(test_x.cpu().numpy(), test_y.cpu().numpy(), color='g', label='Test Data')\n",
        "plt.show()"
      ],
      "metadata": {
        "colab": {
          "base_uri": "https://localhost:8080/",
          "height": 265
        },
        "id": "QOWVhLEVOKBF",
        "outputId": "cf7d6b7c-d36c-4111-b58e-0ba46ad2c41d"
      },
      "execution_count": null,
      "outputs": [
        {
          "output_type": "display_data",
          "data": {
            "text/plain": [
              "<Figure size 432x288 with 1 Axes>"
            ],
            "image/png": "[encoded data removed]"
          },
          "metadata": {
            "needs_background": "light"
          }
        }
      ]
    },
    {
      "cell_type": "code",
      "source": [
        "import torch\n",
        "from torch import nn # neural network modules\n",
        "\n",
        "# build linear regression module\n",
        "class LinearRegression(nn.Module): # every custom module is submodule of nn.Module\n",
        "  def __init__(self):\n",
        "    super().__init__() # always the first line\n",
        "    # initialize parameters from standard normal distribution\n",
        "    self.weight = nn.Parameter(torch.randn(1, dtype=torch.float32)) # requires_grad = true\n",
        "    self.bias = nn.Parameter(torch.randn(1, dtype=torch.float32)) # requires_grad = true\n",
        "\n",
        "    # nn.Parameter are tensor subclasses automatically stored in module parameter list\n",
        "\n",
        "  # forward pass computation, should always be overwritten for nn.Module subclasses\n",
        "  def forward(self, x):\n",
        "    return self.weight * x + self.bias"
      ],
      "metadata": {
        "id": "7zOZPyd1lG5z"
      },
      "execution_count": null,
      "outputs": []
    },
    {
      "cell_type": "code",
      "source": [
        "torch.manual_seed(42)\n",
        "# Instantiate model\n",
        "model = LinearRegression()\n",
        "\n",
        "model = model.to(device)\n",
        "# List the named parameters of the model\n",
        "print(model.state_dict())"
      ],
      "metadata": {
        "colab": {
          "base_uri": "https://localhost:8080/"
        },
        "id": "jKXBUJfosYnH",
        "outputId": "e7922a7b-cb32-4963-f123-c74c73b98cac"
      },
      "execution_count": null,
      "outputs": [
        {
          "output_type": "stream",
          "name": "stdout",
          "text": [
            "OrderedDict([('weight', tensor([0.3367])), ('bias', tensor([0.1288]))])\n"
          ]
        }
      ]
    },
    {
      "cell_type": "code",
      "source": [
        "# loss function\n",
        "loss_func = nn.L1Loss() # MAE\n",
        "print(loss_func)"
      ],
      "metadata": {
        "id": "JvzeYs2dv0Lw",
        "colab": {
          "base_uri": "https://localhost:8080/"
        },
        "outputId": "57425e50-9fd7-40f7-dee7-ae8c1371a7f4"
      },
      "execution_count": null,
      "outputs": [
        {
          "output_type": "stream",
          "name": "stdout",
          "text": [
            "L1Loss()\n"
          ]
        }
      ]
    },
    {
      "cell_type": "code",
      "source": [
        "# gradient descent optimizer\n",
        "optimizer = torch.optim.SGD(params=model.parameters(), lr=0.01) # parameters defined in the module subclass that will be optimized\n",
        "print(optimizer)"
      ],
      "metadata": {
        "colab": {
          "base_uri": "https://localhost:8080/"
        },
        "id": "XnkKGLbVcOCy",
        "outputId": "1725e942-33a9-456c-9518-fcf790f027ca"
      },
      "execution_count": null,
      "outputs": [
        {
          "output_type": "stream",
          "name": "stdout",
          "text": [
            "SGD (\n",
            "Parameter Group 0\n",
            "    dampening: 0\n",
            "    foreach: None\n",
            "    lr: 0.01\n",
            "    maximize: False\n",
            "    momentum: 0\n",
            "    nesterov: False\n",
            "    weight_decay: 0\n",
            ")\n"
          ]
        }
      ]
    },
    {
      "cell_type": "code",
      "source": [
        "# training loop\n",
        "max_epochs = 200 # number of iterations to train the model\n",
        "\n",
        "for epoch in range(max_epochs):\n",
        "  model.train() # set the model in training mode and track gradients of parameters, default\n",
        "\n",
        "  # 1. forward pass\n",
        "  y_pred = model(train_x)\n",
        "  \n",
        "  # 2. calculate loss\n",
        "  loss = loss_func(y_pred, train_y)\n",
        "\n",
        "  # 3. prevent the optimizer accumulating past gradients, gradient update should only use the most recently calculated gradient (the one to be calculated in the next step)\n",
        "  optimizer.zero_grad()\n",
        "\n",
        "  # 4. backpropagation, calculate gradient of the loss with respect to the parameters marked with requires_grad = true\n",
        "  loss.backward()\n",
        "\n",
        "  # gradient descent update\n",
        "  optimizer.step()\n",
        "\n",
        "  # testing\n",
        "  model.eval() # switch off certain settings for the model\n",
        "  with torch.inference_mode(): # turns off gradient tracking and other things not needed for testing. allow for faster optimization of computation\n",
        "    # calculate predictions using the unseen test data\n",
        "    y_test_pred = model(test_x)\n",
        "\n",
        "    # calculate MAE loss between predictions and testing labels\n",
        "    test_loss = loss_func(y_test_pred, test_y)\n",
        "\n",
        "    print(test_loss)\n",
        "    print(model.state_dict())\n",
        "\n"
      ],
      "metadata": {
        "colab": {
          "base_uri": "https://localhost:8080/"
        },
        "id": "LX2tih3menm4",
        "outputId": "b2196b54-b3e9-4ca1-bf4a-e1f20e686381"
      },
      "execution_count": null,
      "outputs": [
        {
          "output_type": "stream",
          "name": "stdout",
          "text": [
            "tensor(0.4811)\n",
            "OrderedDict([('weight', tensor([0.3406])), ('bias', tensor([0.1388]))])\n",
            "tensor(0.4676)\n",
            "OrderedDict([('weight', tensor([0.3445])), ('bias', tensor([0.1488]))])\n",
            "tensor(0.4541)\n",
            "OrderedDict([('weight', tensor([0.3484])), ('bias', tensor([0.1588]))])\n",
            "tensor(0.4407)\n",
            "OrderedDict([('weight', tensor([0.3523])), ('bias', tensor([0.1688]))])\n",
            "tensor(0.4272)\n",
            "OrderedDict([('weight', tensor([0.3562])), ('bias', tensor([0.1788]))])\n",
            "tensor(0.4137)\n",
            "OrderedDict([('weight', tensor([0.3601])), ('bias', tensor([0.1888]))])\n",
            "tensor(0.4002)\n",
            "OrderedDict([('weight', tensor([0.3640])), ('bias', tensor([0.1988]))])\n",
            "tensor(0.3868)\n",
            "OrderedDict([('weight', tensor([0.3679])), ('bias', tensor([0.2088]))])\n",
            "tensor(0.3733)\n",
            "OrderedDict([('weight', tensor([0.3718])), ('bias', tensor([0.2188]))])\n",
            "tensor(0.3598)\n",
            "OrderedDict([('weight', tensor([0.3757])), ('bias', tensor([0.2288]))])\n",
            "tensor(0.3464)\n",
            "OrderedDict([('weight', tensor([0.3796])), ('bias', tensor([0.2388]))])\n",
            "tensor(0.3329)\n",
            "OrderedDict([('weight', tensor([0.3835])), ('bias', tensor([0.2488]))])\n",
            "tensor(0.3194)\n",
            "OrderedDict([('weight', tensor([0.3874])), ('bias', tensor([0.2588]))])\n",
            "tensor(0.3059)\n",
            "OrderedDict([('weight', tensor([0.3913])), ('bias', tensor([0.2688]))])\n",
            "tensor(0.2925)\n",
            "OrderedDict([('weight', tensor([0.3952])), ('bias', tensor([0.2788]))])\n",
            "tensor(0.2790)\n",
            "OrderedDict([('weight', tensor([0.3991])), ('bias', tensor([0.2888]))])\n",
            "tensor(0.2655)\n",
            "OrderedDict([('weight', tensor([0.4030])), ('bias', tensor([0.2988]))])\n",
            "tensor(0.2521)\n",
            "OrderedDict([('weight', tensor([0.4069])), ('bias', tensor([0.3088]))])\n",
            "tensor(0.2396)\n",
            "OrderedDict([('weight', tensor([0.4108])), ('bias', tensor([0.3178]))])\n",
            "tensor(0.2282)\n",
            "OrderedDict([('weight', tensor([0.4146])), ('bias', tensor([0.3258]))])\n",
            "tensor(0.2173)\n",
            "OrderedDict([('weight', tensor([0.4184])), ('bias', tensor([0.3333]))])\n",
            "tensor(0.2070)\n",
            "OrderedDict([('weight', tensor([0.4222])), ('bias', tensor([0.3403]))])\n",
            "tensor(0.1977)\n",
            "OrderedDict([('weight', tensor([0.4258])), ('bias', tensor([0.3463]))])\n",
            "tensor(0.1891)\n",
            "OrderedDict([('weight', tensor([0.4293])), ('bias', tensor([0.3518]))])\n",
            "tensor(0.1810)\n",
            "OrderedDict([('weight', tensor([0.4328])), ('bias', tensor([0.3568]))])\n",
            "tensor(0.1735)\n",
            "OrderedDict([('weight', tensor([0.4361])), ('bias', tensor([0.3613]))])\n",
            "tensor(0.1667)\n",
            "OrderedDict([('weight', tensor([0.4394])), ('bias', tensor([0.3653]))])\n",
            "tensor(0.1604)\n",
            "OrderedDict([('weight', tensor([0.4425])), ('bias', tensor([0.3688]))])\n",
            "tensor(0.1547)\n",
            "OrderedDict([('weight', tensor([0.4455])), ('bias', tensor([0.3718]))])\n",
            "tensor(0.1497)\n",
            "OrderedDict([('weight', tensor([0.4483])), ('bias', tensor([0.3743]))])\n",
            "tensor(0.1446)\n",
            "OrderedDict([('weight', tensor([0.4512])), ('bias', tensor([0.3768]))])\n",
            "tensor(0.1402)\n",
            "OrderedDict([('weight', tensor([0.4539])), ('bias', tensor([0.3788]))])\n",
            "tensor(0.1365)\n",
            "OrderedDict([('weight', tensor([0.4564])), ('bias', tensor([0.3803]))])\n",
            "tensor(0.1327)\n",
            "OrderedDict([('weight', tensor([0.4590])), ('bias', tensor([0.3818]))])\n",
            "tensor(0.1290)\n",
            "OrderedDict([('weight', tensor([0.4615])), ('bias', tensor([0.3833]))])\n",
            "tensor(0.1258)\n",
            "OrderedDict([('weight', tensor([0.4639])), ('bias', tensor([0.3843]))])\n",
            "tensor(0.1227)\n",
            "OrderedDict([('weight', tensor([0.4662])), ('bias', tensor([0.3853]))])\n",
            "tensor(0.1203)\n",
            "OrderedDict([('weight', tensor([0.4684])), ('bias', tensor([0.3858]))])\n",
            "tensor(0.1178)\n",
            "OrderedDict([('weight', tensor([0.4706])), ('bias', tensor([0.3863]))])\n",
            "tensor(0.1154)\n",
            "OrderedDict([('weight', tensor([0.4728])), ('bias', tensor([0.3868]))])\n",
            "tensor(0.1136)\n",
            "OrderedDict([('weight', tensor([0.4748])), ('bias', tensor([0.3868]))])\n",
            "tensor(0.1118)\n",
            "OrderedDict([('weight', tensor([0.4768])), ('bias', tensor([0.3868]))])\n",
            "tensor(0.1100)\n",
            "OrderedDict([('weight', tensor([0.4788])), ('bias', tensor([0.3868]))])\n",
            "tensor(0.1083)\n",
            "OrderedDict([('weight', tensor([0.4808])), ('bias', tensor([0.3868]))])\n",
            "tensor(0.1065)\n",
            "OrderedDict([('weight', tensor([0.4828])), ('bias', tensor([0.3868]))])\n",
            "tensor(0.1047)\n",
            "OrderedDict([('weight', tensor([0.4848])), ('bias', tensor([0.3868]))])\n",
            "tensor(0.1036)\n",
            "OrderedDict([('weight', tensor([0.4866])), ('bias', tensor([0.3863]))])\n",
            "tensor(0.1025)\n",
            "OrderedDict([('weight', tensor([0.4884])), ('bias', tensor([0.3858]))])\n",
            "tensor(0.1014)\n",
            "OrderedDict([('weight', tensor([0.4902])), ('bias', tensor([0.3853]))])\n",
            "tensor(0.1003)\n",
            "OrderedDict([('weight', tensor([0.4920])), ('bias', tensor([0.3848]))])\n",
            "tensor(0.0992)\n",
            "OrderedDict([('weight', tensor([0.4938])), ('bias', tensor([0.3843]))])\n",
            "tensor(0.0981)\n",
            "OrderedDict([('weight', tensor([0.4956])), ('bias', tensor([0.3838]))])\n",
            "tensor(0.0970)\n",
            "OrderedDict([('weight', tensor([0.4974])), ('bias', tensor([0.3833]))])\n",
            "tensor(0.0959)\n",
            "OrderedDict([('weight', tensor([0.4992])), ('bias', tensor([0.3828]))])\n",
            "tensor(0.0948)\n",
            "OrderedDict([('weight', tensor([0.5010])), ('bias', tensor([0.3823]))])\n",
            "tensor(0.0937)\n",
            "OrderedDict([('weight', tensor([0.5028])), ('bias', tensor([0.3818]))])\n",
            "tensor(0.0926)\n",
            "OrderedDict([('weight', tensor([0.5046])), ('bias', tensor([0.3813]))])\n",
            "tensor(0.0915)\n",
            "OrderedDict([('weight', tensor([0.5064])), ('bias', tensor([0.3808]))])\n",
            "tensor(0.0904)\n",
            "OrderedDict([('weight', tensor([0.5082])), ('bias', tensor([0.3803]))])\n",
            "tensor(0.0893)\n",
            "OrderedDict([('weight', tensor([0.5100])), ('bias', tensor([0.3798]))])\n",
            "tensor(0.0889)\n",
            "OrderedDict([('weight', tensor([0.5116])), ('bias', tensor([0.3788]))])\n",
            "tensor(0.0878)\n",
            "OrderedDict([('weight', tensor([0.5134])), ('bias', tensor([0.3783]))])\n",
            "tensor(0.0867)\n",
            "OrderedDict([('weight', tensor([0.5152])), ('bias', tensor([0.3778]))])\n",
            "tensor(0.0862)\n",
            "OrderedDict([('weight', tensor([0.5168])), ('bias', tensor([0.3768]))])\n",
            "tensor(0.0851)\n",
            "OrderedDict([('weight', tensor([0.5186])), ('bias', tensor([0.3763]))])\n",
            "tensor(0.0847)\n",
            "OrderedDict([('weight', tensor([0.5202])), ('bias', tensor([0.3753]))])\n",
            "tensor(0.0836)\n",
            "OrderedDict([('weight', tensor([0.5220])), ('bias', tensor([0.3748]))])\n",
            "tensor(0.0832)\n",
            "OrderedDict([('weight', tensor([0.5236])), ('bias', tensor([0.3738]))])\n",
            "tensor(0.0821)\n",
            "OrderedDict([('weight', tensor([0.5254])), ('bias', tensor([0.3733]))])\n",
            "tensor(0.0810)\n",
            "OrderedDict([('weight', tensor([0.5272])), ('bias', tensor([0.3728]))])\n",
            "tensor(0.0806)\n",
            "OrderedDict([('weight', tensor([0.5288])), ('bias', tensor([0.3718]))])\n",
            "tensor(0.0795)\n",
            "OrderedDict([('weight', tensor([0.5306])), ('bias', tensor([0.3713]))])\n",
            "tensor(0.0791)\n",
            "OrderedDict([('weight', tensor([0.5322])), ('bias', tensor([0.3703]))])\n",
            "tensor(0.0780)\n",
            "OrderedDict([('weight', tensor([0.5340])), ('bias', tensor([0.3698]))])\n",
            "tensor(0.0776)\n",
            "OrderedDict([('weight', tensor([0.5355])), ('bias', tensor([0.3688]))])\n",
            "tensor(0.0765)\n",
            "OrderedDict([('weight', tensor([0.5373])), ('bias', tensor([0.3683]))])\n",
            "tensor(0.0754)\n",
            "OrderedDict([('weight', tensor([0.5391])), ('bias', tensor([0.3678]))])\n",
            "tensor(0.0749)\n",
            "OrderedDict([('weight', tensor([0.5407])), ('bias', tensor([0.3668]))])\n",
            "tensor(0.0738)\n",
            "OrderedDict([('weight', tensor([0.5425])), ('bias', tensor([0.3663]))])\n",
            "tensor(0.0734)\n",
            "OrderedDict([('weight', tensor([0.5441])), ('bias', tensor([0.3653]))])\n",
            "tensor(0.0723)\n",
            "OrderedDict([('weight', tensor([0.5459])), ('bias', tensor([0.3648]))])\n",
            "tensor(0.0719)\n",
            "OrderedDict([('weight', tensor([0.5475])), ('bias', tensor([0.3638]))])\n",
            "tensor(0.0708)\n",
            "OrderedDict([('weight', tensor([0.5493])), ('bias', tensor([0.3633]))])\n",
            "tensor(0.0704)\n",
            "OrderedDict([('weight', tensor([0.5509])), ('bias', tensor([0.3623]))])\n",
            "tensor(0.0693)\n",
            "OrderedDict([('weight', tensor([0.5527])), ('bias', tensor([0.3618]))])\n",
            "tensor(0.0682)\n",
            "OrderedDict([('weight', tensor([0.5545])), ('bias', tensor([0.3613]))])\n",
            "tensor(0.0678)\n",
            "OrderedDict([('weight', tensor([0.5561])), ('bias', tensor([0.3603]))])\n",
            "tensor(0.0667)\n",
            "OrderedDict([('weight', tensor([0.5579])), ('bias', tensor([0.3598]))])\n",
            "tensor(0.0663)\n",
            "OrderedDict([('weight', tensor([0.5595])), ('bias', tensor([0.3588]))])\n",
            "tensor(0.0652)\n",
            "OrderedDict([('weight', tensor([0.5613])), ('bias', tensor([0.3583]))])\n",
            "tensor(0.0647)\n",
            "OrderedDict([('weight', tensor([0.5629])), ('bias', tensor([0.3573]))])\n",
            "tensor(0.0636)\n",
            "OrderedDict([('weight', tensor([0.5647])), ('bias', tensor([0.3568]))])\n",
            "tensor(0.0625)\n",
            "OrderedDict([('weight', tensor([0.5665])), ('bias', tensor([0.3563]))])\n",
            "tensor(0.0621)\n",
            "OrderedDict([('weight', tensor([0.5681])), ('bias', tensor([0.3553]))])\n",
            "tensor(0.0610)\n",
            "OrderedDict([('weight', tensor([0.5699])), ('bias', tensor([0.3548]))])\n",
            "tensor(0.0606)\n",
            "OrderedDict([('weight', tensor([0.5715])), ('bias', tensor([0.3538]))])\n",
            "tensor(0.0595)\n",
            "OrderedDict([('weight', tensor([0.5733])), ('bias', tensor([0.3533]))])\n",
            "tensor(0.0591)\n",
            "OrderedDict([('weight', tensor([0.5748])), ('bias', tensor([0.3523]))])\n",
            "tensor(0.0580)\n",
            "OrderedDict([('weight', tensor([0.5766])), ('bias', tensor([0.3518]))])\n",
            "tensor(0.0569)\n",
            "OrderedDict([('weight', tensor([0.5784])), ('bias', tensor([0.3513]))])\n",
            "tensor(0.0565)\n",
            "OrderedDict([('weight', tensor([0.5800])), ('bias', tensor([0.3503]))])\n",
            "tensor(0.0554)\n",
            "OrderedDict([('weight', tensor([0.5818])), ('bias', tensor([0.3498]))])\n",
            "tensor(0.0549)\n",
            "OrderedDict([('weight', tensor([0.5834])), ('bias', tensor([0.3488]))])\n",
            "tensor(0.0538)\n",
            "OrderedDict([('weight', tensor([0.5852])), ('bias', tensor([0.3483]))])\n",
            "tensor(0.0534)\n",
            "OrderedDict([('weight', tensor([0.5868])), ('bias', tensor([0.3473]))])\n",
            "tensor(0.0523)\n",
            "OrderedDict([('weight', tensor([0.5886])), ('bias', tensor([0.3468]))])\n",
            "tensor(0.0519)\n",
            "OrderedDict([('weight', tensor([0.5902])), ('bias', tensor([0.3458]))])\n",
            "tensor(0.0508)\n",
            "OrderedDict([('weight', tensor([0.5920])), ('bias', tensor([0.3453]))])\n",
            "tensor(0.0497)\n",
            "OrderedDict([('weight', tensor([0.5938])), ('bias', tensor([0.3448]))])\n",
            "tensor(0.0493)\n",
            "OrderedDict([('weight', tensor([0.5954])), ('bias', tensor([0.3438]))])\n",
            "tensor(0.0482)\n",
            "OrderedDict([('weight', tensor([0.5972])), ('bias', tensor([0.3433]))])\n",
            "tensor(0.0478)\n",
            "OrderedDict([('weight', tensor([0.5988])), ('bias', tensor([0.3423]))])\n",
            "tensor(0.0467)\n",
            "OrderedDict([('weight', tensor([0.6006])), ('bias', tensor([0.3418]))])\n",
            "tensor(0.0463)\n",
            "OrderedDict([('weight', tensor([0.6022])), ('bias', tensor([0.3408]))])\n",
            "tensor(0.0452)\n",
            "OrderedDict([('weight', tensor([0.6040])), ('bias', tensor([0.3403]))])\n",
            "tensor(0.0441)\n",
            "OrderedDict([('weight', tensor([0.6058])), ('bias', tensor([0.3398]))])\n",
            "tensor(0.0436)\n",
            "OrderedDict([('weight', tensor([0.6074])), ('bias', tensor([0.3388]))])\n",
            "tensor(0.0425)\n",
            "OrderedDict([('weight', tensor([0.6092])), ('bias', tensor([0.3383]))])\n",
            "tensor(0.0421)\n",
            "OrderedDict([('weight', tensor([0.6108])), ('bias', tensor([0.3373]))])\n",
            "tensor(0.0410)\n",
            "OrderedDict([('weight', tensor([0.6126])), ('bias', tensor([0.3368]))])\n",
            "tensor(0.0406)\n",
            "OrderedDict([('weight', tensor([0.6141])), ('bias', tensor([0.3358]))])\n",
            "tensor(0.0395)\n",
            "OrderedDict([('weight', tensor([0.6159])), ('bias', tensor([0.3353]))])\n",
            "tensor(0.0391)\n",
            "OrderedDict([('weight', tensor([0.6175])), ('bias', tensor([0.3343]))])\n",
            "tensor(0.0380)\n",
            "OrderedDict([('weight', tensor([0.6193])), ('bias', tensor([0.3338]))])\n",
            "tensor(0.0369)\n",
            "OrderedDict([('weight', tensor([0.6211])), ('bias', tensor([0.3333]))])\n",
            "tensor(0.0365)\n",
            "OrderedDict([('weight', tensor([0.6227])), ('bias', tensor([0.3323]))])\n",
            "tensor(0.0354)\n",
            "OrderedDict([('weight', tensor([0.6245])), ('bias', tensor([0.3318]))])\n",
            "tensor(0.0350)\n",
            "OrderedDict([('weight', tensor([0.6261])), ('bias', tensor([0.3308]))])\n",
            "tensor(0.0338)\n",
            "OrderedDict([('weight', tensor([0.6279])), ('bias', tensor([0.3303]))])\n",
            "tensor(0.0334)\n",
            "OrderedDict([('weight', tensor([0.6295])), ('bias', tensor([0.3293]))])\n",
            "tensor(0.0323)\n",
            "OrderedDict([('weight', tensor([0.6313])), ('bias', tensor([0.3288]))])\n",
            "tensor(0.0312)\n",
            "OrderedDict([('weight', tensor([0.6331])), ('bias', tensor([0.3283]))])\n",
            "tensor(0.0308)\n",
            "OrderedDict([('weight', tensor([0.6347])), ('bias', tensor([0.3273]))])\n",
            "tensor(0.0297)\n",
            "OrderedDict([('weight', tensor([0.6365])), ('bias', tensor([0.3268]))])\n",
            "tensor(0.0293)\n",
            "OrderedDict([('weight', tensor([0.6381])), ('bias', tensor([0.3258]))])\n",
            "tensor(0.0282)\n",
            "OrderedDict([('weight', tensor([0.6399])), ('bias', tensor([0.3253]))])\n",
            "tensor(0.0278)\n",
            "OrderedDict([('weight', tensor([0.6415])), ('bias', tensor([0.3243]))])\n",
            "tensor(0.0267)\n",
            "OrderedDict([('weight', tensor([0.6433])), ('bias', tensor([0.3238]))])\n",
            "tensor(0.0256)\n",
            "OrderedDict([('weight', tensor([0.6451])), ('bias', tensor([0.3233]))])\n",
            "tensor(0.0252)\n",
            "OrderedDict([('weight', tensor([0.6467])), ('bias', tensor([0.3223]))])\n",
            "tensor(0.0241)\n",
            "OrderedDict([('weight', tensor([0.6485])), ('bias', tensor([0.3218]))])\n",
            "tensor(0.0236)\n",
            "OrderedDict([('weight', tensor([0.6501])), ('bias', tensor([0.3208]))])\n",
            "tensor(0.0225)\n",
            "OrderedDict([('weight', tensor([0.6519])), ('bias', tensor([0.3203]))])\n",
            "tensor(0.0221)\n",
            "OrderedDict([('weight', tensor([0.6534])), ('bias', tensor([0.3193]))])\n",
            "tensor(0.0210)\n",
            "OrderedDict([('weight', tensor([0.6552])), ('bias', tensor([0.3188]))])\n",
            "tensor(0.0206)\n",
            "OrderedDict([('weight', tensor([0.6568])), ('bias', tensor([0.3178]))])\n",
            "tensor(0.0195)\n",
            "OrderedDict([('weight', tensor([0.6586])), ('bias', tensor([0.3173]))])\n",
            "tensor(0.0184)\n",
            "OrderedDict([('weight', tensor([0.6604])), ('bias', tensor([0.3168]))])\n",
            "tensor(0.0180)\n",
            "OrderedDict([('weight', tensor([0.6620])), ('bias', tensor([0.3158]))])\n",
            "tensor(0.0169)\n",
            "OrderedDict([('weight', tensor([0.6638])), ('bias', tensor([0.3153]))])\n",
            "tensor(0.0165)\n",
            "OrderedDict([('weight', tensor([0.6654])), ('bias', tensor([0.3143]))])\n",
            "tensor(0.0154)\n",
            "OrderedDict([('weight', tensor([0.6672])), ('bias', tensor([0.3138]))])\n",
            "tensor(0.0150)\n",
            "OrderedDict([('weight', tensor([0.6688])), ('bias', tensor([0.3128]))])\n",
            "tensor(0.0139)\n",
            "OrderedDict([('weight', tensor([0.6706])), ('bias', tensor([0.3123]))])\n",
            "tensor(0.0128)\n",
            "OrderedDict([('weight', tensor([0.6724])), ('bias', tensor([0.3118]))])\n",
            "tensor(0.0123)\n",
            "OrderedDict([('weight', tensor([0.6740])), ('bias', tensor([0.3108]))])\n",
            "tensor(0.0112)\n",
            "OrderedDict([('weight', tensor([0.6758])), ('bias', tensor([0.3103]))])\n",
            "tensor(0.0108)\n",
            "OrderedDict([('weight', tensor([0.6774])), ('bias', tensor([0.3093]))])\n",
            "tensor(0.0097)\n",
            "OrderedDict([('weight', tensor([0.6792])), ('bias', tensor([0.3088]))])\n",
            "tensor(0.0093)\n",
            "OrderedDict([('weight', tensor([0.6808])), ('bias', tensor([0.3078]))])\n",
            "tensor(0.0082)\n",
            "OrderedDict([('weight', tensor([0.6826])), ('bias', tensor([0.3073]))])\n",
            "tensor(0.0071)\n",
            "OrderedDict([('weight', tensor([0.6844])), ('bias', tensor([0.3068]))])\n",
            "tensor(0.0067)\n",
            "OrderedDict([('weight', tensor([0.6860])), ('bias', tensor([0.3058]))])\n",
            "tensor(0.0056)\n",
            "OrderedDict([('weight', tensor([0.6878])), ('bias', tensor([0.3053]))])\n",
            "tensor(0.0052)\n",
            "OrderedDict([('weight', tensor([0.6894])), ('bias', tensor([0.3043]))])\n",
            "tensor(0.0041)\n",
            "OrderedDict([('weight', tensor([0.6912])), ('bias', tensor([0.3038]))])\n",
            "tensor(0.0037)\n",
            "OrderedDict([('weight', tensor([0.6927])), ('bias', tensor([0.3028]))])\n",
            "tensor(0.0019)\n",
            "OrderedDict([('weight', tensor([0.6947])), ('bias', tensor([0.3028]))])\n",
            "tensor(0.0050)\n",
            "OrderedDict([('weight', tensor([0.6951])), ('bias', tensor([0.2993]))])\n",
            "tensor(0.0084)\n",
            "OrderedDict([('weight', tensor([0.6990])), ('bias', tensor([0.3093]))])\n",
            "tensor(0.0050)\n",
            "OrderedDict([('weight', tensor([0.6951])), ('bias', tensor([0.2993]))])\n",
            "tensor(0.0084)\n",
            "OrderedDict([('weight', tensor([0.6990])), ('bias', tensor([0.3093]))])\n",
            "tensor(0.0050)\n",
            "OrderedDict([('weight', tensor([0.6951])), ('bias', tensor([0.2993]))])\n",
            "tensor(0.0084)\n",
            "OrderedDict([('weight', tensor([0.6990])), ('bias', tensor([0.3093]))])\n",
            "tensor(0.0050)\n",
            "OrderedDict([('weight', tensor([0.6951])), ('bias', tensor([0.2993]))])\n",
            "tensor(0.0084)\n",
            "OrderedDict([('weight', tensor([0.6990])), ('bias', tensor([0.3093]))])\n",
            "tensor(0.0050)\n",
            "OrderedDict([('weight', tensor([0.6951])), ('bias', tensor([0.2993]))])\n",
            "tensor(0.0084)\n",
            "OrderedDict([('weight', tensor([0.6990])), ('bias', tensor([0.3093]))])\n",
            "tensor(0.0050)\n",
            "OrderedDict([('weight', tensor([0.6951])), ('bias', tensor([0.2993]))])\n",
            "tensor(0.0084)\n",
            "OrderedDict([('weight', tensor([0.6990])), ('bias', tensor([0.3093]))])\n",
            "tensor(0.0050)\n",
            "OrderedDict([('weight', tensor([0.6951])), ('bias', tensor([0.2993]))])\n",
            "tensor(0.0084)\n",
            "OrderedDict([('weight', tensor([0.6990])), ('bias', tensor([0.3093]))])\n",
            "tensor(0.0050)\n",
            "OrderedDict([('weight', tensor([0.6951])), ('bias', tensor([0.2993]))])\n",
            "tensor(0.0084)\n",
            "OrderedDict([('weight', tensor([0.6990])), ('bias', tensor([0.3093]))])\n",
            "tensor(0.0050)\n",
            "OrderedDict([('weight', tensor([0.6951])), ('bias', tensor([0.2993]))])\n",
            "tensor(0.0084)\n",
            "OrderedDict([('weight', tensor([0.6990])), ('bias', tensor([0.3093]))])\n",
            "tensor(0.0050)\n",
            "OrderedDict([('weight', tensor([0.6951])), ('bias', tensor([0.2993]))])\n",
            "tensor(0.0084)\n",
            "OrderedDict([('weight', tensor([0.6990])), ('bias', tensor([0.3093]))])\n",
            "tensor(0.0050)\n",
            "OrderedDict([('weight', tensor([0.6951])), ('bias', tensor([0.2993]))])\n",
            "tensor(0.0084)\n",
            "OrderedDict([('weight', tensor([0.6990])), ('bias', tensor([0.3093]))])\n",
            "tensor(0.0050)\n",
            "OrderedDict([('weight', tensor([0.6951])), ('bias', tensor([0.2993]))])\n",
            "tensor(0.0084)\n",
            "OrderedDict([('weight', tensor([0.6990])), ('bias', tensor([0.3093]))])\n",
            "tensor(0.0050)\n",
            "OrderedDict([('weight', tensor([0.6951])), ('bias', tensor([0.2993]))])\n",
            "tensor(0.0084)\n",
            "OrderedDict([('weight', tensor([0.6990])), ('bias', tensor([0.3093]))])\n",
            "tensor(0.0050)\n",
            "OrderedDict([('weight', tensor([0.6951])), ('bias', tensor([0.2993]))])\n",
            "tensor(0.0084)\n",
            "OrderedDict([('weight', tensor([0.6990])), ('bias', tensor([0.3093]))])\n",
            "tensor(0.0050)\n",
            "OrderedDict([('weight', tensor([0.6951])), ('bias', tensor([0.2993]))])\n",
            "tensor(0.0084)\n",
            "OrderedDict([('weight', tensor([0.6990])), ('bias', tensor([0.3093]))])\n",
            "tensor(0.0050)\n",
            "OrderedDict([('weight', tensor([0.6951])), ('bias', tensor([0.2993]))])\n",
            "tensor(0.0084)\n",
            "OrderedDict([('weight', tensor([0.6990])), ('bias', tensor([0.3093]))])\n"
          ]
        }
      ]
    },
    {
      "cell_type": "code",
      "source": [
        "plt.scatter(train_x.cpu().numpy(), train_y.cpu().numpy(), color='b', label='Training Data')\n",
        "plt.scatter(test_x.cpu().numpy(), y_test_pred.cpu().numpy(), color='r', label='Test Data')\n",
        "plt.show() "
      ],
      "metadata": {
        "colab": {
          "base_uri": "https://localhost:8080/",
          "height": 265
        },
        "id": "Vv4SenI7orvQ",
        "outputId": "9ccafc3f-ec75-499b-b229-0c468f42f060"
      },
      "execution_count": null,
      "outputs": [
        {
          "output_type": "display_data",
          "data": {
            "text/plain": [
              "<Figure size 432x288 with 1 Axes>"
            ],
            "image/png": "[encoded data removed]"
          },
          "metadata": {
            "needs_background": "light"
          }
        }
      ]
    },
    {
      "cell_type": "code",
      "source": [
        "# saving a pytorch model\n",
        "\n",
        "from pathlib import Path\n",
        "\n",
        "save_folder = Path(\"Models\")\n",
        "save_folder.mkdir(parents=True, exist_ok=True)\n",
        "\n",
        "file_name = Path(\"01_linear_regression.pth\")\n",
        "file_path = save_folder / file_name\n",
        "torch.save(model.state_dict(), file_path)\n",
        "\n",
        "# loading a pytorch model\n",
        "\n",
        "model2 = LinearRegression() # create new instance of model class\n",
        "model2.load_state_dict(torch.load(file_path)) # load the saved state dict of the previous model\n",
        "\n",
        "print(model2.state_dict())"
      ],
      "metadata": {
        "id": "SuU624TbHcsN",
        "colab": {
          "base_uri": "https://localhost:8080/"
        },
        "outputId": "4333ebc3-c7a0-46f1-e239-a12767ad0f22"
      },
      "execution_count": null,
      "outputs": [
        {
          "output_type": "stream",
          "name": "stdout",
          "text": [
            "OrderedDict([('weight', tensor([0.6990])), ('bias', tensor([0.3093]))])\n"
          ]
        }
      ]
    }
  ]
}
